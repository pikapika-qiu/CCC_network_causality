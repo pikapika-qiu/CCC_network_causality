{
 "cells": [
  {
   "cell_type": "markdown",
   "metadata": {},
   "source": [
    "# Compare DEGs from EGAS000010040809 and GSE169246 "
   ]
  },
  {
   "cell_type": "code",
   "execution_count": null,
   "metadata": {},
   "outputs": [],
   "source": [
    "import numpy as np\n",
    "import matplotlib.pyplot as plt\n",
    "import pandas as pd\n",
    "import scanpy as sc\n",
    "import scipy.io as sio\n",
    "import anndata as ad\n",
    "import os as os\n",
    "import sys as sys\n",
    "import seaborn as sns\n",
    "from load_10X_matrices import load_10X_matrices\n",
    "from scipy import stats\n",
    "import argparse"
   ]
  },
  {
   "cell_type": "code",
   "execution_count": null,
   "metadata": {},
   "outputs": [],
   "source": [
    "import rpy2\n",
    "import rpy2.robjects as robjects\n",
    "from rpy2.robjects.packages import importr\n",
    "from rpy2.robjects import pandas2ri"
   ]
  },
  {
   "cell_type": "code",
   "execution_count": null,
   "metadata": {},
   "outputs": [],
   "source": [
    "# does not work\n",
    "\n",
    "import sys as sys\n",
    "sys.path.append('/home/xinghua/projects/PanCancer_scRNA_analysis/utils/scRNA_utils')\n",
    "from scRNA_utils import *"
   ]
  },
  {
   "cell_type": "markdown",
   "metadata": {},
   "source": [
    "1) Merge two datasets \n",
    "2) Perform cluster using merged data \n",
    "3) For T cell Isolate cells express PDCD1 (PD-1) from data.  Exclude this requirement for other types of cells, because they do not express PDCD1 \n",
    "4) Produce pseduobulk (scRNA2psuebulk) --> sample-by-gene matrix \n",
    "\n",
    "    a) Loop through each gene, extract list of 'pre' and 'on' sample \n",
    "\n",
    "    b) Do t-test for each cluster \n",
    "    \n",
    "    c)Save results as df "
   ]
  },
  {
   "cell_type": "markdown",
   "metadata": {},
   "source": [
    "### 1. Merge two datasets"
   ]
  },
  {
   "cell_type": "code",
   "execution_count": null,
   "metadata": {},
   "outputs": [],
   "source": [
    "# datasets\n",
    "adata_egas = sc.read('/home/data/ICI_exprs/ICI_T_cell_collection/1863-counts_cells_cohort1_T_cells.h5ad', cache = True)\n",
    "adata_gse = sc.read_h5ad('/data/ICI_exprs/GSE169246/GSE169246_TNBC_RNA.h5ad')"
   ]
  },
  {
   "cell_type": "code",
   "execution_count": null,
   "metadata": {},
   "outputs": [],
   "source": [
    "# egas\n",
    "adata_egas.obs['sample_id'] = ['_'.join(x.split('_')[:3]) for x in adata_egas.obs.index]"
   ]
  },
  {
   "cell_type": "code",
   "execution_count": null,
   "metadata": {},
   "outputs": [],
   "source": [
    "# gse metadata\n",
    "adata_gse.var_names = pd.read_csv('/data/ICI_exprs/GSE169246/GSE169246_TNBC_RNA_features.tsv.gz', header=None, sep='\\t')[0]"
   ]
  },
  {
   "cell_type": "code",
   "execution_count": null,
   "metadata": {},
   "outputs": [],
   "source": [
    "adata.var_names_make_unique()"
   ]
  },
  {
   "cell_type": "code",
   "execution_count": null,
   "metadata": {},
   "outputs": [],
   "source": [
    "# replace 'on' and 'prog' with 'On', and turn 'pre' into 'Pre'\n",
    "adata_gse.obs['timepoint'] = adata_gse.obs['timepoint'].replace({'pre': 'Pre', 'prog': 'On', 'on': 'On'})\n"
   ]
  },
  {
   "cell_type": "code",
   "execution_count": null,
   "metadata": {},
   "outputs": [],
   "source": [
    "adata_egas.obs"
   ]
  },
  {
   "cell_type": "code",
   "execution_count": null,
   "metadata": {},
   "outputs": [],
   "source": [
    "adata_gse.obs"
   ]
  },
  {
   "cell_type": "code",
   "execution_count": null,
   "metadata": {},
   "outputs": [],
   "source": [
    "# concatenate\n",
    "adata_merged = sc.concat([adata_egas, adata_gse], join=\"outer\")"
   ]
  },
  {
   "cell_type": "code",
   "execution_count": null,
   "metadata": {},
   "outputs": [],
   "source": [
    "adata_merged.obs"
   ]
  },
  {
   "cell_type": "markdown",
   "metadata": {},
   "source": [
    "## preprocessing"
   ]
  },
  {
   "cell_type": "code",
   "execution_count": null,
   "metadata": {},
   "outputs": [],
   "source": [
    "# removing genes expressing in <10 cells\n",
    "sc.pp.filter_genes(adata_merged, min_cells = 50)\n",
    "\n",
    "# removing cells with fewer than 400 genes or more than 8000 genes\n",
    "sc.pp.filter_cells(adata_merged, min_genes=400)\n",
    "sc.pp.filter_cells(adata_merged, max_genes=8000)"
   ]
  },
  {
   "cell_type": "code",
   "execution_count": null,
   "metadata": {},
   "outputs": [],
   "source": [
    "# removing cells containing <600 || >120000 UMIs\n",
    "sc.pp.filter_cells(adata_merged, min_counts = 600)\n",
    "sc.pp.filter_cells(adata_merged, max_counts = 120000)"
   ]
  },
  {
   "cell_type": "code",
   "execution_count": null,
   "metadata": {},
   "outputs": [],
   "source": [
    "# label genes as mt\n",
    "adata_merged.var['mt'] = adata_merged.var_names.str.startswith('MT-')  \n",
    "\n",
    "# annotate cells with the percent of genes assigned as mt\n",
    "sc.pp.calculate_qc_metrics(adata_merged, qc_vars=['mt'], percent_top=None, log1p=False, inplace=True)\n",
    "\n",
    "# Here we keep cells with < 20% mito ratio\n",
    "adata_merged = adata_merged[adata_merged.obs['pct_counts_mt'] < 10, :]\n",
    "adata_merged.shape"
   ]
  },
  {
   "cell_type": "code",
   "execution_count": null,
   "metadata": {},
   "outputs": [],
   "source": [
    "# Log normalization scaled up to 10000\n",
    "sc.pp.normalize_total(adata_merged, target_sum=1e4)"
   ]
  },
  {
   "cell_type": "code",
   "execution_count": null,
   "metadata": {},
   "outputs": [],
   "source": [
    "# Logarithmize adata\n",
    "sc.pp.log1p(adata_merged, base=2)"
   ]
  },
  {
   "cell_type": "markdown",
   "metadata": {},
   "source": [
    "### 2) Perform cluster using merged data "
   ]
  },
  {
   "cell_type": "code",
   "execution_count": null,
   "metadata": {},
   "outputs": [],
   "source": [
    "sc.pp.neighbors(adata_merged, n_neighbors=10, n_pcs=30)"
   ]
  },
  {
   "cell_type": "code",
   "execution_count": null,
   "metadata": {},
   "outputs": [],
   "source": [
    "# use the Leiden algorithm to find clusters\n",
    "sc.tl.leiden(adata_merged, resolution=0.5)"
   ]
  },
  {
   "cell_type": "markdown",
   "metadata": {},
   "source": [
    "adata_merged.raw does not exist-- create copy called adata that has adata.raw\n",
    "- use adata from now"
   ]
  },
  {
   "cell_type": "code",
   "execution_count": null,
   "metadata": {},
   "outputs": [],
   "source": [
    "# adata_merged is without raw data\n",
    "# create raw\n",
    "\n",
    "adata = adata_merged.copy()  # create copy \n",
    "\n",
    "# create raw layer from existing .X attribute\n",
    "adata.raw = adata  # This assigns the current .X as the raw layer\n",
    "\n",
    "# adata.raw.var = adata.var # issues with adata.var\n",
    "adata.raw.obs = adata.obs\n"
   ]
  },
  {
   "cell_type": "code",
   "execution_count": null,
   "metadata": {},
   "outputs": [],
   "source": [
    "def findDEGsFromClusters(adata, condition_col=None, condition_1=None, condition_2=None, top_n_degs=100):\n",
    "    '''\n",
    "    This function searches for clusters and then finds DEGs with each cluster conditioning on specified conditions.\n",
    "\n",
    "    Parameters\n",
    "    --------\n",
    "    adata: AnnData object\n",
    "        Annotated data matrix with rows for cells and columns for genes.\n",
    "    condition_col: the column name of the condition in the adata.obs\n",
    "    condition_1: the condition_1    \n",
    "    condition_2: the condition_2\n",
    "    top_n_degs: Number of top DEGs to consider for plotting\n",
    "\n",
    "    Returns:\n",
    "    --------\n",
    "    DEGs: A dataframe with DEGs and their logFC, pval, pval_adj, etc.\n",
    "    significant_genes_dict: A dictionary containing significant genes for each cluster.\n",
    "\n",
    "    pseudocode:\n",
    "    1. find clusters by call leiden or louvian by clustering_adata function\n",
    "    2. loop through each cluster:\n",
    "        2.1. extract cells belonging to the cluster (adata.copy())\n",
    "        2.2. Call paird_ttest funciton using the adata_cluster find DEGs conditioning on the condition_1 and condition_2\n",
    "        2.3. return the dataframe of DEGs\n",
    "        2.4. find significant genes using sc.tl.rank_genes_groups\n",
    "        2.5. plot UMAP for significant genes\n",
    "        2.6. save a dataframe of significant DEGs\n",
    "        2.7. plot volcano plot of DEGs\n",
    "\n",
    "    '''\n",
    "\n",
    "    # 1: find clusters using leiden or louvain by calling clustering_adata function\n",
    "    if condition_col is None or condition_1 is None or condition_2 is None:\n",
    "        print(\"Error: Missing condition information.\")\n",
    "        return None\n",
    "\n",
    "    adata_clusters = clustering_adata(adata) # call clustering_adata function\n",
    "\n",
    "    # 2: loop through each cluster, extract cells belonging to the cluster, and find DEGs\n",
    "    clusters = adata_clusters.obs['leiden'].unique()\n",
    "    result_dfs = []  # store DEG dataframes for each cluster\n",
    "    significant_genes_df = {} # store dataframe for significant DEGs\n",
    "\n",
    "    for cluster in clusters:\n",
    "        print(f\"Finding DEGs for cluster {cluster}\")\n",
    "\n",
    "        # 2.1. extrac cells belonging to the cluster (adata.copy())\n",
    "        adata_cluster = adata_clusters[adata_clusters.obs['leiden'] == cluster].copy()\n",
    "\n",
    "        # 2.2. Call paired_ttest function using the adata_cluster to find DEGs conditioning on condition_1 and condition_2\n",
    "        DEGs_cluster = paird_ttest(adata_cluster, condition_key=condition_col, sample_id_col='sample_id', patient_id_col='patient_id', pval_cutoff=0.05, log2fc_cutoff=1)\n",
    "\n",
    "        # 2.3. return the dataframe of DEGs\n",
    "        if DEGs_cluster is not None:\n",
    "            result_dfs.append(DEGs_cluster)\n",
    "        \n",
    "        # Create a copy of the original adata and apply log1p transformation to the adata_cluster\n",
    "        adata_copy = adata.copy()\n",
    "        sc.pp.log1p(adata_copy[adata_copy.obs.index.isin(adata_cluster.obs.index)])\n",
    "                \n",
    "        # 2.4. find significant genes using sc.tl.rank_genes_groups\n",
    "        print(f\"plotting significant genes for cluster {cluster}\")\n",
    "\n",
    "        # Set the 'base' value in adata.uns['log1p']\n",
    "        adata_cluster.uns['log1p'] = {'base': 2} # check if already logged\n",
    "        \n",
    "        sc.tl.rank_genes_groups(adata_cluster, groupby=condition_col, method='wilcoxon')\n",
    "        sc.pl.rank_genes_groups(adata_cluster, n_genes=25, sharey=False)\n",
    "\n",
    "\n",
    "        print(f\"DEGs: \\n{DEGs_cluster}\")\n",
    "\n",
    "        # 2.5 some UMAPs\n",
    "        sc.pp.neighbors(adata_cluster, n_neighbors=30, n_pcs=50)\n",
    "        sc.tl.umap(adata_cluster)\n",
    "        sc.pl.umap(adata_cluster, color=['cell_type', 'timepoint'], legend_loc='on data', title = f\"cluster {cluster}\")\n",
    "        \n",
    "        # UMAP for DEGs\n",
    "        if not DEGs_cluster.empty:\n",
    "            # Convert 'pval' column to numeric type\n",
    "            DEGs_cluster['pval'] = pd.to_numeric(DEGs_cluster['pval'])\n",
    "            \n",
    "            top_n_degs_cluster = DEGs_cluster.nsmallest(top_n_degs, 'pval')\n",
    "            sc.pl.umap(adata_cluster, color=top_n_degs_cluster.index.tolist(), use_raw=False, cmap='viridis', legend_loc='on data')\n",
    "\n",
    "\n",
    "        # 2.6. save a dataframe of significant DEGs\n",
    "        significant_genes_df = pd.DataFrame(columns=['pval', 'log2FC', 'mean_1', 'mean_2', 'qval'])\n",
    "        \n",
    "        if not DEGs_cluster.empty:\n",
    "            significant_genes = DEGs_cluster[(DEGs_cluster['pval'] < 0.05) & (DEGs_cluster['qval'] < 0.1)]\n",
    "            significant_genes_df = significant_genes_df.append(significant_genes, ignore_index=True)\n",
    "            # seperate clusters and save as csv\n",
    "            \n",
    "        # 2.7 volcano plot: (still a WIP)\n",
    "\n",
    "    # Combine all the DEG dataframes into a single DataFrame\n",
    "    DEGs = pd.concat(result_dfs)\n",
    "\n",
    "    return DEGs, significant_genes_df"
   ]
  },
  {
   "cell_type": "code",
   "execution_count": null,
   "metadata": {},
   "outputs": [],
   "source": [
    "def clustering_adata(adata, resolution = 0.5, n_top_genes = 5000):\n",
    "    '''\n",
    "    This function will cluster an AnnData object \n",
    "\n",
    "    Parameters:\n",
    "        adata: AnnData object\n",
    "\n",
    "    Returns:\n",
    "        adata: AnnData object with a new column in adata.obs called 'leiden' that contains the cluster label for each cell\n",
    "    '''\n",
    "\n",
    "    # check if adata is AnnData object\n",
    "    if not isinstance(adata, ad.AnnData):\n",
    "        print (\"Input adata is not an AnnData object\")\n",
    "        return None\n",
    "    \n",
    "    # check if adata has raw data\n",
    "    if adata.raw is None:\n",
    "        print (\"Input adata does not have raw data\")\n",
    "        return None\n",
    "    \n",
    "    # check if adata has more than 1000 cells\n",
    "    if adata.shape[0] < 1000:\n",
    "        print (\"Input adata has less than 1000 cells\")\n",
    "        return None\n",
    "    \n",
    "    # check if adata has more than 1000 genes\n",
    "    if adata.shape[1] < 1000:\n",
    "        print (\"Input adata has less than 1000 genes\")\n",
    "        return None \n",
    "    \n",
    "    # check if adata has already been through selection of high variance genes\n",
    "    if not 'highly_variable' in adata.var.columns:\n",
    "        print (\"Select \", n_top_genes, \" high variance genes\")\n",
    "        # select high veriable genes\n",
    "\n",
    "        sc.pp.highly_variable_genes(adata, n_top_genes=n_top_genes)\n",
    "        # filter adata\n",
    "        adata = adata[:, adata.var['highly_variable']]\n",
    "\n",
    "        # check if X is log transformed\n",
    "        if not 'log1p' in adata.layers:\n",
    "            sc.pp.normalize_total(adata, target_sum=1e4)\n",
    "            sc.pp.log1p(adata, base = 2)\n",
    "\n",
    "    # run PCA\n",
    "    sc.tl.pca(adata, svd_solver='arpack', n_comps=50)   \n",
    "    sc.pp.neighbors(adata, n_neighbors=50, n_pcs=50)\n",
    "    sc.tl.leiden(adata, resolution = resolution)\n",
    "\n",
    "    #plot UMAP\n",
    "    sc.tl.umap(adata)\n",
    "    sc.pl.umap(adata, color=['leiden'],  title='leiden')\n",
    "\n",
    "    return adata"
   ]
  },
  {
   "cell_type": "code",
   "execution_count": null,
   "metadata": {},
   "outputs": [],
   "source": [
    "findDEGsFromClusters(adata, condition_col = 'timepoint', condition_1 = 'Pre', condition_2 = 'On', top_n_degs = 12)            "
   ]
  },
  {
   "cell_type": "markdown",
   "metadata": {},
   "source": [
    "### 3) For T cell Isolate cells express PDCD1 (PD-1) from data.  Exclude this requirement for other types of cells, because they do not express PDCD1 "
   ]
  },
  {
   "cell_type": "code",
   "execution_count": null,
   "metadata": {},
   "outputs": [],
   "source": [
    "# Filter cells expressing PDCD1 above 0.7\n",
    "adata_T_PD1 = adata[adata.obs['PDCD1'] > 0.7]"
   ]
  },
  {
   "cell_type": "markdown",
   "metadata": {},
   "source": [
    "### 4) Produce pseduobulk (scRNA2psuebulk) --> sample-by-gene matrix "
   ]
  },
  {
   "cell_type": "code",
   "execution_count": null,
   "metadata": {},
   "outputs": [],
   "source": [
    "def scRNA2PseudoBulkAnnData(adata, sample_id_col = 'sample_id'): "
   ]
  }
 ],
 "metadata": {
  "kernelspec": {
   "display_name": "Python 3",
   "language": "python",
   "name": "python3"
  },
  "language_info": {
   "codemirror_mode": {
    "name": "ipython",
    "version": 3
   },
   "file_extension": ".py",
   "mimetype": "text/x-python",
   "name": "python",
   "nbconvert_exporter": "python",
   "pygments_lexer": "ipython3",
   "version": "3.10.9"
  }
 },
 "nbformat": 4,
 "nbformat_minor": 2
}
