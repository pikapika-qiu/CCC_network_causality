{
 "cells": [
  {
   "attachments": {},
   "cell_type": "markdown",
   "metadata": {},
   "source": [
    "# Preprocessing scRNA data from EGAS00001004809"
   ]
  },
  {
   "cell_type": "code",
   "execution_count": 2,
   "metadata": {},
   "outputs": [],
   "source": [
    "import scipy.sparse as sp\n",
    "import numpy as np\n",
    "import pandas as pd\n",
    "import matplotlib.pyplot as plt\n",
    "import scanpy as sc\n",
    "import anndata\n",
    "import os\n",
    "import pyreadr\n"
   ]
  },
  {
   "cell_type": "code",
   "execution_count": 6,
   "metadata": {},
   "outputs": [
    {
     "ename": "LibrdataError",
     "evalue": "The file contains an unrecognized object",
     "output_type": "error",
     "traceback": [
      "\u001b[0;31m---------------------------------------------------------------------------\u001b[0m",
      "\u001b[0;31mLibrdataError\u001b[0m                             Traceback (most recent call last)",
      "Cell \u001b[0;32mIn[6], line 3\u001b[0m\n\u001b[1;32m      1\u001b[0m \u001b[39m# read in the data 1863-counts_cells_cohort1.rds\u001b[39;00m\n\u001b[1;32m      2\u001b[0m \u001b[39m# Read the RDS file\u001b[39;00m\n\u001b[0;32m----> 3\u001b[0m rds_matrix \u001b[39m=\u001b[39m pyreadr\u001b[39m.\u001b[39;49mread_r(\u001b[39m'\u001b[39;49m\u001b[39m/data/ICI_exprs/EGAS00001004809/1863-counts_cells_cohort1.rds\u001b[39;49m\u001b[39m'\u001b[39;49m)\n\u001b[1;32m      4\u001b[0m \u001b[39m#rds_matrix = pyreadr.read_r('/data/ICI_exprs/EGAS00001004809/1863-counts_cells_cohort1.rds')\u001b[39;00m\n\u001b[1;32m      5\u001b[0m \n\u001b[1;32m      6\u001b[0m \u001b[39m# Access the dgCMatrix object\u001b[39;00m\n\u001b[1;32m      7\u001b[0m sparse_mat \u001b[39m=\u001b[39m rds_matrix[\u001b[39m'\u001b[39m\u001b[39mMatrix\u001b[39m\u001b[39m'\u001b[39m]\n",
      "File \u001b[0;32m~/anaconda3/lib/python3.9/site-packages/pyreadr/pyreadr.py:66\u001b[0m, in \u001b[0;36mread_r\u001b[0;34m(path, use_objects, timezone)\u001b[0m\n\u001b[1;32m     64\u001b[0m \u001b[39mif\u001b[39;00m \u001b[39mnot\u001b[39;00m os\u001b[39m.\u001b[39mpath\u001b[39m.\u001b[39misfile(filename_bytes):\n\u001b[1;32m     65\u001b[0m     \u001b[39mraise\u001b[39;00m PyreadrError(\u001b[39m\"\u001b[39m\u001b[39mFile \u001b[39m\u001b[39m{0}\u001b[39;00m\u001b[39m does not exist!\u001b[39m\u001b[39m\"\u001b[39m\u001b[39m.\u001b[39mformat(filename_bytes))\n\u001b[0;32m---> 66\u001b[0m parser\u001b[39m.\u001b[39;49mparse(filename_bytes)\n\u001b[1;32m     68\u001b[0m result \u001b[39m=\u001b[39m OrderedDict()\n\u001b[1;32m     69\u001b[0m \u001b[39mfor\u001b[39;00m table_index, table \u001b[39min\u001b[39;00m \u001b[39menumerate\u001b[39m(parser\u001b[39m.\u001b[39mtable_data):\n",
      "File \u001b[0;32m~/anaconda3/lib/python3.9/site-packages/pyreadr/librdata.pyx:148\u001b[0m, in \u001b[0;36mpyreadr.librdata.Parser.parse\u001b[0;34m()\u001b[0m\n",
      "File \u001b[0;32m~/anaconda3/lib/python3.9/site-packages/pyreadr/librdata.pyx:177\u001b[0m, in \u001b[0;36mpyreadr.librdata.Parser.parse\u001b[0;34m()\u001b[0m\n",
      "\u001b[0;31mLibrdataError\u001b[0m: The file contains an unrecognized object"
     ]
    }
   ],
   "source": [
    "# read in the data 1863-counts_cells_cohort1.rds\n",
    "# Read the RDS file\n",
    "rds_matrix = pyreadr.read_r('/data/ICI_exprs/EGAS00001004809/1863-counts_cells_cohort1.rds')\n",
    "#rds_matrix = pyreadr.read_r('/data/ICI_exprs/EGAS00001004809/1863-counts_cells_cohort1.rds')\n",
    "\n",
    "# Access the dgCMatrix object\n",
    "sparse_mat = rds_matrix['Matrix']"
   ]
  }
 ],
 "metadata": {
  "kernelspec": {
   "display_name": "base",
   "language": "python",
   "name": "python3"
  },
  "language_info": {
   "codemirror_mode": {
    "name": "ipython",
    "version": 3
   },
   "file_extension": ".py",
   "mimetype": "text/x-python",
   "name": "python",
   "nbconvert_exporter": "python",
   "pygments_lexer": "ipython3",
   "version": "3.9.16"
  },
  "orig_nbformat": 4
 },
 "nbformat": 4,
 "nbformat_minor": 2
}
