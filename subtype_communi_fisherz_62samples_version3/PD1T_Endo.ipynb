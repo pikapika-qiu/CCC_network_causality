{
 "cells": [
  {
   "cell_type": "code",
   "execution_count": 1,
   "metadata": {},
   "outputs": [],
   "source": [
    "import numpy as np\n",
    "import matplotlib.pyplot as plt\n",
    "import pandas as pd\n",
    "import scanpy as sc\n",
    "import scipy.io as sio\n",
    "import anndata as ad\n",
    "import seaborn as sns\n",
    "import os as os\n",
    "import sys as sys\n",
    "sys.path.append('/home/qiuaodon/Desktop/PanCancer_scRNA_analysis/utils/')\n",
    "from scRNA_utils import *\n",
    "import operator as op\n",
    "import matplotlib.colors as mcolors"
   ]
  },
  {
   "cell_type": "markdown",
   "metadata": {},
   "source": [
    "# load in sc data"
   ]
  },
  {
   "cell_type": "code",
   "execution_count": 2,
   "metadata": {},
   "outputs": [],
   "source": [
    "data_dir_NHDP = \"/home/qiuaodon/Desktop/project_data_new/\"\n",
    "adata_T = sc.read(data_dir_NHDP + '1863-counts_cells_cohort1_T_cells.h5ad')\n",
    "adata_1 = adata_T[adata_T[:,'PDCD1'].X > 0, :]\n",
    "adata_Endo = sc.read(data_dir_NHDP + '1863-counts_cells_cohort1_Endo_cells.h5ad')\n",
    "adata_2 = adata_Endo"
   ]
  },
  {
   "cell_type": "code",
   "execution_count": null,
   "metadata": {},
   "outputs": [],
   "source": [
    "sc.pl.violin(adata_1, 'PDCD1', size= 3)"
   ]
  },
  {
   "cell_type": "code",
   "execution_count": null,
   "metadata": {},
   "outputs": [],
   "source": [
    "adata_Endo"
   ]
  },
  {
   "cell_type": "code",
   "execution_count": 32,
   "metadata": {},
   "outputs": [],
   "source": [
    "colors = [\"grey\", \"blue\"]  # Start with grey and end with blue\n",
    "cmap = mcolors.LinearSegmentedColormap.from_list(\"grey_to_blue\", colors)\n"
   ]
  },
  {
   "cell_type": "code",
   "execution_count": null,
   "metadata": {},
   "outputs": [],
   "source": [
    "sc.pl.umap(adata_1, color='GEM_T_1', cmap='Blues',  size = 10)\n",
    "sc.pl.umap(adata_1, color='ANXA1', cmap='Blues',  size = 10)"
   ]
  },
  {
   "cell_type": "code",
   "execution_count": null,
   "metadata": {},
   "outputs": [],
   "source": [
    "adata_1_pseudo = scRNA2PseudoBulkAnnData(adata_1, sample_id_col='sample_id')\n",
    "adata_2_pseudo = scRNA2PseudoBulkAnnData(adata_2, sample_id_col='sample_id')"
   ]
  },
  {
   "cell_type": "markdown",
   "metadata": {},
   "source": [
    "# prepare data matrix for IVtest"
   ]
  },
  {
   "cell_type": "code",
   "execution_count": null,
   "metadata": {},
   "outputs": [],
   "source": [
    "DEG_1 = paird_ttest(adata_1, condition_key = 'timepoint', sample_id_col = 'sample_id', patient_id_col = 'patient_id')\n",
    "DEG_2 = paird_ttest(adata_2, condition_key = 'timepoint', sample_id_col = 'sample_id', patient_id_col = 'patient_id')"
   ]
  },
  {
   "cell_type": "code",
   "execution_count": 5,
   "metadata": {},
   "outputs": [],
   "source": [
    "DEG_1 = DEG_1[DEG_1['pval'] < 0.05]\n",
    "DEG_2 = DEG_2[DEG_2['pval'] < 0.05]\n",
    "gene_1 = DEG_1.index.tolist()\n",
    "gene_2 = DEG_2.index.tolist()\n",
    "\n",
    "# Filter out invalid gene names\n",
    "gene_1 = [gene for gene in gene_1 if gene in adata_1_pseudo.var_names]\n",
    "gene_2 = [gene for gene in gene_2 if gene in adata_2_pseudo.var_names]\n",
    "\n",
    "gene_1_matrix = adata_1_pseudo[:, gene_1].X\n",
    "gene_2_matrix = adata_2_pseudo[:, gene_2].X\n",
    "gene_1_df = pd.DataFrame(gene_1_matrix, columns=gene_1, index=adata_1_pseudo.obs['sample_id'])\n",
    "gene_2_df = pd.DataFrame(gene_2_matrix, columns=gene_2, index=adata_2_pseudo.obs['sample_id'])\n",
    "gene_1_df.columns = [i + '_T' for i in gene_1_df.columns]\n",
    "gene_2_df.columns = [i + '_Endo' for i in gene_2_df.columns]\n",
    "gene_df = gene_1_df\n",
    "gene_df = pd.merge(gene_df, gene_2_df, on='sample_id')"
   ]
  },
  {
   "cell_type": "code",
   "execution_count": null,
   "metadata": {},
   "outputs": [],
   "source": [
    "gene_df['treatment'] = gene_df.index.str.contains('On').astype(int)\n",
    "# get patient id from sample id remove the _On or _Pre\n",
    "gene_df['patient_id'] = gene_df.index.str.replace('_On', '').str.replace('_Pre', '')\n",
    "gene_df['treatment'].value_counts()"
   ]
  },
  {
   "cell_type": "code",
   "execution_count": 9,
   "metadata": {},
   "outputs": [],
   "source": [
    "# export the gene_df to csv\n",
    "gene_df.to_csv(data_dir_NHDP + 'gene_df_PD1_Endo.csv')\n",
    "# gene_df.to_csv(data_dir_NHDP + 'gene_df_CD4EX_Endo_filtered.csv')"
   ]
  },
  {
   "cell_type": "markdown",
   "metadata": {},
   "source": [
    "# load in IV result and perform CIT"
   ]
  },
  {
   "cell_type": "code",
   "execution_count": 7,
   "metadata": {},
   "outputs": [],
   "source": [
    "DEG_pairs = pd.read_excel('/home/qiuaodon/Desktop/project_data_new/IV_regression_results_PD1vsEndo.xlsx')\n",
    "# DEG_pairs = pd.read_excel('/home/qiuaodon/Desktop/project_data_new/IV_regression_results_CD4EXvsEndo_filtered.xlsx')\n",
    "# drop the p_value column and r_squared column\n",
    "DEG_pairs = DEG_pairs.drop(columns=['p_value', 'r_squared'])\n",
    "# set the first two columns as g1 and g2 in DEG_pairs\n",
    "DEG_pairs = DEG_pairs.rename(columns = {'gene_T':'g1', 'gene_cell':'g2'})"
   ]
  },
  {
   "cell_type": "code",
   "execution_count": null,
   "metadata": {},
   "outputs": [],
   "source": [
    "DEG_pairs"
   ]
  },
  {
   "cell_type": "code",
   "execution_count": null,
   "metadata": {},
   "outputs": [],
   "source": [
    "# because some samples are missing, we need to add them to the dataset\n",
    "# to make sure nosamplefiltered\n",
    "from scRNA_utils import add_missing_samples\n",
    "import anndata\n",
    "# Extract sample_ids\n",
    "sample_ids_1 = set(adata_1_pseudo.obs['sample_id'])\n",
    "sample_ids_2 = set(adata_2_pseudo.obs['sample_id'])\n",
    "\n",
    "# Identify missing sample_ids\n",
    "missing_sample_ids_1 = sample_ids_2 - sample_ids_1\n",
    "missing_sample_ids_2 = sample_ids_1 - sample_ids_2\n",
    "\n",
    "# Add missing sample_ids to each dataset\n",
    "adata_1_pseudo = add_missing_samples(adata_1_pseudo, missing_sample_ids_1)\n",
    "adata_2_pseudo = add_missing_samples(adata_2_pseudo, missing_sample_ids_2)\n",
    "# Sort the obs DataFrame by sample_id in both AnnData objects\n",
    "adata_1_pseudo = adata_1_pseudo[adata_1_pseudo.obs.sort_values('sample_id').index]\n",
    "adata_2_pseudo = adata_2_pseudo[adata_2_pseudo.obs.sort_values('sample_id').index]\n",
    "\n",
    "# Verify that both datasets have the same sample_ids and in the same order\n",
    "assert (adata_1_pseudo.obs['sample_id'].values == adata_2_pseudo.obs['sample_id'].values).all()\n",
    "\n",
    "# Now adata_T_pseudo and adata_Endo_pseudo have the same sample_ids in the same order"
   ]
  },
  {
   "cell_type": "code",
   "execution_count": null,
   "metadata": {},
   "outputs": [],
   "source": [
    "\n",
    "from scRNA_utils import calculate_gene_correlation, calculate_geneLR_correlation, calculate_residuals_correlation\n",
    "\n",
    "calculate_gene_correlation(DEG_pairs, adata_1_pseudo, adata_2_pseudo)"
   ]
  },
  {
   "cell_type": "code",
   "execution_count": null,
   "metadata": {},
   "outputs": [],
   "source": [
    "# Combine the two conditions using the logical OR operator\n",
    "DEG_pairs = DEG_pairs[(DEG_pairs['g1vsg2_correlation'] > 0.3) | (DEG_pairs['g1vsg2_correlation'] < -0.3)]\n",
    "\n",
    "# sort the DEG_pairs by g1vsg2_correlation\n",
    "DEG_pairs = DEG_pairs.sort_values(by='g1vsg2_correlation', ascending=False)\n",
    "DEG_pairs"
   ]
  },
  {
   "cell_type": "code",
   "execution_count": null,
   "metadata": {},
   "outputs": [],
   "source": [
    "g1 = list(DEG_pairs['g1']) \n",
    "g2 = list(DEG_pairs['g2']) \n",
    "g1_in_CD4EX = [i for i in gene_df.columns if np.sum(gene_df.loc[:, i] == 0) < 15] \n",
    "g2_in_Endo = [i for i in gene_df.columns if np.sum(gene_df.loc[:, i] == 0) < 15] \n",
    "DEG_pairs = DEG_pairs[DEG_pairs['g1'].isin(g1_in_CD4EX) & DEG_pairs['g2'].isin(g2_in_Endo)] \n",
    "DEG_pairs "
   ]
  },
  {
   "cell_type": "code",
   "execution_count": null,
   "metadata": {},
   "outputs": [],
   "source": [
    "lrpair = pd.read_csv('/home/qiuaodon/Desktop/project_data_new/lr_network_unique.tsv', sep='\\t')\n",
    "# get the lr pairs including ligand(from) and receptor(to) from the lrpair file with database as 'kegg'\n",
    "lrpair = lrpair[['from', 'to']]\n",
    "# change from as L and to as R\n",
    "lrpair.columns = ['L', 'R']\n",
    "lrpair"
   ]
  },
  {
   "cell_type": "code",
   "execution_count": null,
   "metadata": {},
   "outputs": [],
   "source": [
    "# check if the L and R in adata_CD4EX and adata_Mono separately and expression not all zero\n",
    "L = list(lrpair['L'])\n",
    "R = list(lrpair['R'])\n",
    "L_in_1 = list(set(L).intersection(adata_1.var_names))\n",
    "R_in_2 = list(set(R).intersection(adata_2.var_names))\n",
    "L_in_1 = [x for x in L_in_1 if np.sum(adata_1_pseudo[:, x].X == 0) < 0.75 * adata_1_pseudo.shape[0]]\n",
    "R_in_2 = [x for x in R_in_2 if np.sum(adata_2_pseudo[:, x].X == 0) < 0.75 * adata_2_pseudo.shape[0]]\n",
    "print('L_in_CD4EX:', len(L_in_1))\n",
    "print('R_in_2:', len(R_in_2))"
   ]
  },
  {
   "cell_type": "code",
   "execution_count": null,
   "metadata": {},
   "outputs": [],
   "source": [
    "# remove the LR pairs not in L_in_CD4EX and R_in_DC\n",
    "lrpair = lrpair[lrpair['L'].isin(L_in_1)]\n",
    "lrpair = lrpair[lrpair['R'].isin(R_in_2)]\n",
    "print('lrpair_kegg:', lrpair.shape)"
   ]
  },
  {
   "cell_type": "code",
   "execution_count": 15,
   "metadata": {},
   "outputs": [],
   "source": [
    "# check if CXCL13-ACKR1 in the LR_pairs\n",
    "lrpair[(lrpair['L'] == 'CXCL13') & (lrpair['R'] == 'ACKR1')]\n",
    "new_pair = pd.DataFrame({'L': ['CXCL13'], 'R': ['ACKR1']})\n",
    "lrpair = pd.concat([lrpair, new_pair], ignore_index=True)"
   ]
  },
  {
   "cell_type": "markdown",
   "metadata": {},
   "source": [
    "## CIT using fisher-z"
   ]
  },
  {
   "cell_type": "code",
   "execution_count": null,
   "metadata": {},
   "outputs": [],
   "source": [
    "lrpair"
   ]
  },
  {
   "cell_type": "code",
   "execution_count": null,
   "metadata": {},
   "outputs": [],
   "source": [
    "DEG_pairs"
   ]
  },
  {
   "cell_type": "code",
   "execution_count": 18,
   "metadata": {},
   "outputs": [],
   "source": [
    "results = CIT_test(DEG_pairs, lrpair, adata_1_pseudo, adata_2_pseudo, gene_df, method = 'fisherz', p_value_threshold=0.05)"
   ]
  },
  {
   "cell_type": "code",
   "execution_count": null,
   "metadata": {},
   "outputs": [],
   "source": [
    "#calculate the correlation between g1 and g2\n",
    "calculate_gene_correlation(results, adata_1_pseudo, adata_2_pseudo)\n",
    "#calculate the residuals correlation between g1, g2 and LR\n",
    "calculate_residuals_correlation(results, adata_1_pseudo, adata_2_pseudo)"
   ]
  },
  {
   "cell_type": "code",
   "execution_count": null,
   "metadata": {},
   "outputs": [],
   "source": [
    "results[\"R\"].unique()"
   ]
  },
  {
   "cell_type": "code",
   "execution_count": 20,
   "metadata": {},
   "outputs": [],
   "source": [
    "results.to_excel('/home/qiuaodon/Desktop/project_data_new/CIT_results_PD1vsEndo_fisherz_corr03.xlsx')"
   ]
  },
  {
   "cell_type": "code",
   "execution_count": null,
   "metadata": {},
   "outputs": [],
   "source": [
    "# results = pd.read_excel('/home/qiuaodon/Desktop/project_data_new/CIT_results_CD4EXvsEndo_fisherz_nosamplefiltered.xlsx')"
   ]
  },
  {
   "cell_type": "markdown",
   "metadata": {},
   "source": [
    "## CIT using KCI\n"
   ]
  },
  {
   "cell_type": "code",
   "execution_count": null,
   "metadata": {},
   "outputs": [],
   "source": [
    "DEG_pairs"
   ]
  },
  {
   "cell_type": "code",
   "execution_count": null,
   "metadata": {},
   "outputs": [],
   "source": [
    "lrpair"
   ]
  },
  {
   "cell_type": "code",
   "execution_count": null,
   "metadata": {},
   "outputs": [],
   "source": [
    "results = CIT_test(DEG_pairs, lrpair, adata_1_pseudo, adata_2_pseudo, gene_df, method = 'kci', p_value_threshold=0.05)"
   ]
  },
  {
   "cell_type": "code",
   "execution_count": null,
   "metadata": {},
   "outputs": [],
   "source": [
    "#calculate the correlation between g1 and g2\n",
    "calculate_gene_correlation(results, adata_1_pseudo, adata_2_pseudo)\n",
    "#calculate the residuals correlation between g1, g2 and LR\n",
    "calculate_residuals_correlation(results, adata_1_pseudo, adata_2_pseudo)"
   ]
  },
  {
   "cell_type": "code",
   "execution_count": null,
   "metadata": {},
   "outputs": [],
   "source": [
    "# save results\n",
    "results.to_excel('/home/qiuaodon/Desktop/project_data_new/CIT_results_CD4EXvsMyeloid_KCI_nosamplefiltered.xlsx')"
   ]
  },
  {
   "cell_type": "markdown",
   "metadata": {},
   "source": [
    "## group the DEGpairs together using L and R"
   ]
  },
  {
   "cell_type": "code",
   "execution_count": 21,
   "metadata": {},
   "outputs": [],
   "source": [
    "# results = pd.read_excel('/home/qiuaodon/Desktop/project_data_new/CIT_results_CD4EXvsDC_fisherz_nosamplefiltered.xlsx')\n",
    "# results = results.drop(columns=['Unnamed: 0'])\n",
    "# # Remove the suffix '_X' from g1 and g2\n",
    "results['g1'] = results['g1'].str.replace(r'_\\w+', '', regex=True)\n",
    "results['g2'] = results['g2'].str.replace(r'_\\w+', '', regex=True)"
   ]
  },
  {
   "cell_type": "code",
   "execution_count": 23,
   "metadata": {},
   "outputs": [],
   "source": [
    "# only keep the significant results with correlation > 0.3 or < -0.3\n",
    "results = results[(results['g1vsg2_correlation'] > 0.3)]"
   ]
  },
  {
   "cell_type": "code",
   "execution_count": 24,
   "metadata": {},
   "outputs": [],
   "source": [
    "def calculate_g1_L_correlation(results, adata_1_pseudo, method='pearson'):\n",
    "    if method not in ['pearson', 'spearman']:\n",
    "        raise ValueError(\"Method must be either 'pearson' or 'spearman'\")\n",
    "    \n",
    "    results['g1vsL_correlation'] = 0\n",
    "\n",
    "    for index, row in results.iterrows():\n",
    "        g1 = row['g1'].split('_')[0]\n",
    "        L = row['L']\n",
    "\n",
    "        if g1 not in adata_1_pseudo.var_names:\n",
    "            continue\n",
    "\n",
    "        g1_data = adata_1_pseudo[:, g1].X\n",
    "        g1_df = pd.DataFrame(g1_data, columns=[g1], index=adata_1_pseudo.obs['sample_id'])\n",
    "        g1_df = g1_df.dropna()\n",
    "\n",
    "        L_data = adata_1_pseudo[:, L].X\n",
    "        L_df = pd.DataFrame(L_data, columns=[L], index=adata_1_pseudo.obs['sample_id'])\n",
    "        L_df = L_df.dropna()\n",
    "\n",
    "        if method == 'pearson':\n",
    "            corr_g1_g2 = pearsonr(g1_df[g1], L_df[L])[0]\n",
    "        elif method == 'spearman':\n",
    "            corr_g1_g2 = spearmanr(g1_df[g1], L_df[L])[0]\n",
    "\n",
    "        results.loc[index, 'g1vsL_correlation'] = corr_g1_g2\n",
    "    \n",
    "    return results"
   ]
  },
  {
   "cell_type": "code",
   "execution_count": 25,
   "metadata": {},
   "outputs": [],
   "source": [
    "def calculate_g2_R_correlation(results, adata_2_pseudo, method='pearson'):\n",
    "    if method not in ['pearson', 'spearman']:\n",
    "        raise ValueError(\"Method must be either 'pearson' or 'spearman'\")\n",
    "    \n",
    "    results['g2vsR_correlation'] = 0\n",
    "\n",
    "    for index, row in results.iterrows():\n",
    "        g2 = row['g2'].split('_')[0]\n",
    "        R = row['R']\n",
    "\n",
    "        if g2 not in adata_2_pseudo.var_names:\n",
    "            continue\n",
    "\n",
    "        g2_data = adata_2_pseudo[:, g2].X\n",
    "        g2_df = pd.DataFrame(g2_data, columns=[g2], index=adata_2_pseudo.obs['sample_id'])\n",
    "        g2_df = g2_df.dropna()\n",
    "\n",
    "        R_data = adata_2_pseudo[:, R].X\n",
    "        R_df = pd.DataFrame(R_data, columns=[R], index=adata_2_pseudo.obs['sample_id'])\n",
    "        R_df = R_df.dropna()\n",
    "\n",
    "        if method == 'pearson':\n",
    "            corr = pearsonr(g2_df[g2], R_df[R])[0]\n",
    "        elif method == 'spearman':\n",
    "            corr = spearmanr(g2_df[g2], R_df[R])[0]\n",
    "\n",
    "        results.loc[index, 'g2vsR_correlation'] = corr\n",
    "    \n",
    "    return results\n"
   ]
  },
  {
   "cell_type": "code",
   "execution_count": null,
   "metadata": {},
   "outputs": [],
   "source": [
    "calculate_g1_L_correlation(results, adata_1_pseudo)\n",
    "calculate_g2_R_correlation(results, adata_2_pseudo)"
   ]
  },
  {
   "cell_type": "code",
   "execution_count": 27,
   "metadata": {},
   "outputs": [],
   "source": [
    "# remove the rows with g1vsL_correlation < 0.3 \n",
    "results = results[(results['g1vsL_correlation'] > 0.3) & (results['g1vsL_correlation'] < 0.99)]\n",
    "# remove the rows with g2vsR_correlation < 0.3 \n",
    "results = results[(results['g2vsR_correlation'] > 0.3) & (results['g2vsR_correlation'] < 0.99)]"
   ]
  },
  {
   "cell_type": "code",
   "execution_count": null,
   "metadata": {},
   "outputs": [],
   "source": [
    "# get the unique (L,R) pairs in results\n",
    "lr_pairs = results[['L', 'R']]\n",
    "# remove the LR pairs repeated less than 3 times in the lr_pairs\n",
    "lr_pairs = lr_pairs.groupby(['L', 'R']).filter(lambda x: len(x) >= 2)\n",
    "lr_pairs = lr_pairs.drop_duplicates()\n",
    "lr_pairs"
   ]
  },
  {
   "cell_type": "code",
   "execution_count": 29,
   "metadata": {},
   "outputs": [],
   "source": [
    "import pandas as pd\n",
    "grouped_results = results.groupby([\"L\", \"R\"])\n",
    "\n",
    "# Display grouped data\n",
    "grouped_dict = { (ligand, receptor): group for (ligand, receptor), group in grouped_results }\n",
    "\n",
    "# Create a new DataFrame to hold the GEM1 and GEM2 groupings\n",
    "grouped_data = []\n",
    "tracked_gem1 = set()\n",
    "tracked_gem2 = set()\n",
    "\n",
    "min_gene_num = 2\n",
    "\n",
    "# Temporary list to hold data before creating DataFrame\n",
    "temp_data = []\n",
    "\n",
    "for (ligand, receptor), group in grouped_results:\n",
    "    gem1 = group[\"g1\"].drop_duplicates().tolist()\n",
    "    gem2 = group[\"g2\"].drop_duplicates().tolist()\n",
    "    \n",
    "    # Check the overlap between current GEM_g1 and previously tracked GEM_g1\n",
    "    overlap_gem1 = len(set(gem1) & tracked_gem1)\n",
    "    overlap_gem2 = len(set(gem2) & tracked_gem2)\n",
    "    \n",
    "    # Filter to include only those with at least three genes in GEM_g1 and GEM_g2\n",
    "    # and where the overlap is below the maximum allowable threshold\n",
    "    if len(gem1) > min_gene_num and len(gem2) > min_gene_num:\n",
    "        temp_data.append({\n",
    "            \"L\": ligand,\n",
    "            \"R\": receptor,\n",
    "            \"g1\": gem1,\n",
    "            \"g2\": gem2,\n",
    "            \"Num_genes_g1\": len(gem1),\n",
    "            \"Num_genes_g2\": len(gem2)\n",
    "        })\n",
    "        # Update the tracked GEM_g1 and GEM_g2 sets\n",
    "        tracked_gem1.update(gem1)\n",
    "        tracked_gem2.update(gem2)\n",
    "\n",
    "# Convert the temporary data to a DataFrame\n",
    "grouped_df = pd.DataFrame(temp_data)\n",
    "\n",
    "# Function to find overlapping rows\n",
    "def find_overlapping_rows(df, column_name):\n",
    "    overlap_info = []\n",
    "    for index, row in df.iterrows():\n",
    "        current_set = set(row[column_name])\n",
    "        overlapping_rows = []\n",
    "        for other_index, other_row in df.iterrows():\n",
    "            if index != other_index:\n",
    "                other_set = set(other_row[column_name])\n",
    "                overlap = len(current_set & other_set)\n",
    "                if overlap > len(current_set) / 3: # Set the threshold for overlap\n",
    "                    overlapping_rows.append(other_index)\n",
    "        overlap_info.append(overlapping_rows)\n",
    "    return overlap_info\n",
    "\n",
    "# Add columns for overlapping rows in GEM_g1 and GEM_g2\n",
    "grouped_df[\"Overlapping_g1\"] = find_overlapping_rows(grouped_df, \"g1\")\n",
    "grouped_df[\"Overlapping_g2\"] = find_overlapping_rows(grouped_df, \"g2\")\n"
   ]
  },
  {
   "cell_type": "code",
   "execution_count": null,
   "metadata": {},
   "outputs": [],
   "source": [
    "# rank each GEM_g1 by order of name inside\n",
    "grouped_df['g1'] = grouped_df['g1'].apply(lambda x: sorted(x))\n",
    "grouped_df['g2'] = grouped_df['g2'].apply(lambda x: sorted(x))\n",
    "grouped_df"
   ]
  },
  {
   "cell_type": "code",
   "execution_count": 32,
   "metadata": {},
   "outputs": [],
   "source": [
    "import numpy as np\n",
    "import pandas as pd\n",
    "from scipy.stats import pearsonr, spearmanr\n",
    "# results include the columns 'g1', 'g2' as a list of genes and 'L', 'R' as the ligand and receptor\n",
    "def calculate_GEM_correlation(results, adata_1_pseudo, adata_2_pseudo, method='pearson'):\n",
    "    if method not in ['pearson', 'spearman']:\n",
    "        raise ValueError(\"Method must be either 'pearson' or 'spearman'\")\n",
    "    \n",
    "    results['g1vsg2_correlation'] = 0\n",
    "\n",
    "    for index, row in results.iterrows():\n",
    "        g1 = row['g1']\n",
    "        g2 = row['g2']\n",
    "\n",
    "        # Ensure g1 and g2 are lists\n",
    "        if not isinstance(g1, list):\n",
    "            g1 = [g1]\n",
    "        if not isinstance(g2, list):\n",
    "            g2 = [g2]\n",
    "\n",
    "        # Check if all genes in g1 are present\n",
    "        missing_genes_g1 = set(g1) - set(adata_1_pseudo.var_names)\n",
    "        if missing_genes_g1:\n",
    "            print(f\"Genes {missing_genes_g1} not found in adata_1_pseudo\")\n",
    "            continue\n",
    "\n",
    "        # Get the data for g1 and compute mean\n",
    "        g1_data = adata_1_pseudo[:, g1].X\n",
    "        g1_mean = np.mean(g1_data, axis=1)\n",
    "        g1_df = pd.DataFrame(g1_mean, columns=['g1_mean'], index=adata_1_pseudo.obs['sample_id'])\n",
    "        g1_df = g1_df.dropna()\n",
    "\n",
    "        # Repeat for g2\n",
    "        missing_genes_g2 = set(g2) - set(adata_2_pseudo.var_names)\n",
    "        if missing_genes_g2:\n",
    "            print(f\"Genes {missing_genes_g2} not found in adata_2_pseudo\")\n",
    "            continue\n",
    "\n",
    "        g2_data = adata_2_pseudo[:, g2].X\n",
    "        g2_mean = np.mean(g2_data, axis=1)\n",
    "        g2_df = pd.DataFrame(g2_mean, columns=['g2_mean'], index=adata_2_pseudo.obs['sample_id'])\n",
    "        g2_df = g2_df.dropna()\n",
    "\n",
    "        # Align the samples\n",
    "        common_samples = g1_df.index.intersection(g2_df.index)\n",
    "        g1_values = g1_df.loc[common_samples, 'g1_mean']\n",
    "        g2_values = g2_df.loc[common_samples, 'g2_mean']\n",
    "\n",
    "        # Calculate the correlation\n",
    "        if method == 'pearson':\n",
    "            corr_g1_g2 = pearsonr(g1_values, g2_values)[0]\n",
    "        elif method == 'spearman':\n",
    "            corr_g1_g2 = spearmanr(g1_values, g2_values)[0]\n",
    "\n",
    "        results.loc[index, 'g1vsg2_correlation'] = corr_g1_g2\n",
    "    \n",
    "    return results\n"
   ]
  },
  {
   "cell_type": "code",
   "execution_count": 31,
   "metadata": {},
   "outputs": [],
   "source": [
    "import numpy as np\n",
    "import pandas as pd\n",
    "import statsmodels.api as sm\n",
    "from scipy.stats import pearsonr, spearmanr\n",
    "import scipy.sparse\n",
    "\n",
    "def calculate_residuals_GEM_correlation(results, adata_T_pseudo, adata_M_pseudo, method='pearson'):\n",
    "    if method not in ['pearson', 'spearman']:\n",
    "        raise ValueError(\"Method must be either 'pearson' or 'spearman'\")\n",
    "    \n",
    "    results['g1_residualvsg2_residuals_correlation'] = 0\n",
    "\n",
    "    for index, row in results.iterrows():\n",
    "        g1 = row['g1']\n",
    "        g2 = row['g2']\n",
    "        L = row['L']\n",
    "        R = row['R']\n",
    "\n",
    "        # Ensure g1, g2, L, and R are lists\n",
    "        if not isinstance(g1, list):\n",
    "            g1 = [g1]\n",
    "        if not isinstance(g2, list):\n",
    "            g2 = [g2]\n",
    "        if not isinstance(L, list):\n",
    "            L = [L]\n",
    "        if not isinstance(R, list):\n",
    "            R = [R]\n",
    "\n",
    "        # Check for missing genes in adata_T_pseudo and adata_M_pseudo\n",
    "        missing_genes_g1 = set(g1) - set(adata_T_pseudo.var_names)\n",
    "        missing_genes_g2 = set(g2) - set(adata_M_pseudo.var_names)\n",
    "        missing_genes_L = set(L) - set(adata_T_pseudo.var_names)\n",
    "        missing_genes_R = set(R) - set(adata_M_pseudo.var_names)\n",
    "\n",
    "        if missing_genes_g1:\n",
    "            print(f\"Genes {missing_genes_g1} not found in adata_T_pseudo\")\n",
    "            continue\n",
    "        if missing_genes_g2:\n",
    "            print(f\"Genes {missing_genes_g2} not found in adata_M_pseudo\")\n",
    "            continue\n",
    "        if missing_genes_L:\n",
    "            print(f\"Genes {missing_genes_L} not found in adata_T_pseudo\")\n",
    "            continue\n",
    "        if missing_genes_R:\n",
    "            print(f\"Genes {missing_genes_R} not found in adata_M_pseudo\")\n",
    "            continue\n",
    "\n",
    "        # Extract and average expression data for g1 in adata_T_pseudo\n",
    "        g1_T_data = adata_T_pseudo[:, g1].X\n",
    "        if scipy.sparse.issparse(g1_T_data):\n",
    "            g1_T_data = g1_T_data.toarray()\n",
    "        g1_T_mean = np.mean(g1_T_data, axis=1)\n",
    "\n",
    "        # Extract and average expression data for g2 in adata_M_pseudo\n",
    "        g2_M_data = adata_M_pseudo[:, g2].X\n",
    "        if scipy.sparse.issparse(g2_M_data):\n",
    "            g2_M_data = g2_M_data.toarray()\n",
    "        g2_M_mean = np.mean(g2_M_data, axis=1)\n",
    "\n",
    "        # Extract and average expression data for L in adata_T_pseudo\n",
    "        L_T_data = adata_T_pseudo[:, L].X\n",
    "        if scipy.sparse.issparse(L_T_data):\n",
    "            L_T_data = L_T_data.toarray()\n",
    "        L_T_mean = np.mean(L_T_data, axis=1)\n",
    "\n",
    "        # Extract and average expression data for R in adata_M_pseudo\n",
    "        R_M_data = adata_M_pseudo[:, R].X\n",
    "        if scipy.sparse.issparse(R_M_data):\n",
    "            R_M_data = R_M_data.toarray()\n",
    "        R_M_mean = np.mean(R_M_data, axis=1)\n",
    "\n",
    "        # Compute the product of L_T_mean and R_M_mean\n",
    "        L_R = L_T_mean * R_M_mean\n",
    "\n",
    "        # Create DataFrames with sample indices\n",
    "        df_g1 = pd.DataFrame({'g1_mean': g1_T_mean, 'L*R': L_R}, index=adata_T_pseudo.obs_names)\n",
    "        df_g2 = pd.DataFrame({'g2_mean': g2_M_mean, 'L*R': L_R}, index=adata_M_pseudo.obs_names)\n",
    "\n",
    "        # Drop NaN values\n",
    "        df_g1 = df_g1.dropna()\n",
    "        df_g2 = df_g2.dropna()\n",
    "\n",
    "        # Align samples by common indices\n",
    "        common_samples = df_g1.index.intersection(df_g2.index)\n",
    "        df_g1 = df_g1.loc[common_samples]\n",
    "        df_g2 = df_g2.loc[common_samples]\n",
    "\n",
    "        if df_g1.empty or df_g2.empty:\n",
    "            print(f\"No common samples between g1 and g2 at index {index}\")\n",
    "            continue\n",
    "\n",
    "        # Linear regression to obtain residuals for g1\n",
    "        X_g1 = sm.add_constant(df_g1['L*R'])\n",
    "        y_g1 = df_g1['g1_mean']\n",
    "        model_g1 = sm.OLS(y_g1, X_g1).fit()\n",
    "        residuals_g1 = model_g1.resid\n",
    "\n",
    "        # Linear regression to obtain residuals for g2\n",
    "        X_g2 = sm.add_constant(df_g2['L*R'])\n",
    "        y_g2 = df_g2['g2_mean']\n",
    "        model_g2 = sm.OLS(y_g2, X_g2).fit()\n",
    "        residuals_g2 = model_g2.resid\n",
    "\n",
    "        # Calculate correlation between residuals\n",
    "        if method == 'pearson':\n",
    "            corr = pearsonr(residuals_g1, residuals_g2)[0]\n",
    "        elif method == 'spearman':\n",
    "            corr = spearmanr(residuals_g1, residuals_g2)[0]\n",
    "\n",
    "        results.at[index, 'g1_residualvsg2_residuals_correlation'] = corr\n",
    "\n",
    "    return results\n"
   ]
  },
  {
   "cell_type": "code",
   "execution_count": 41,
   "metadata": {},
   "outputs": [],
   "source": [
    "# remove _0 and _1 in index of adata_2_pseudo\n",
    "adata_2_pseudo.obs.index = adata_2_pseudo.obs.index.str.replace('-0', '').str.replace('-1', '')\n",
    "adata_1_pseudo.obs.index = adata_1_pseudo.obs.index.str.replace('-0', '').str.replace('-1', '')"
   ]
  },
  {
   "cell_type": "code",
   "execution_count": null,
   "metadata": {},
   "outputs": [],
   "source": [
    "#calculate the correlation between g1 and g2\n",
    "calculate_GEM_correlation(grouped_df, adata_1_pseudo, adata_2_pseudo)\n",
    "#calculate the residuals correlation between g1, g2 and LR\n",
    "calculate_residuals_GEM_correlation(grouped_df, adata_1_pseudo, adata_2_pseudo)"
   ]
  },
  {
   "cell_type": "code",
   "execution_count": 43,
   "metadata": {},
   "outputs": [],
   "source": [
    "# save the grouped_df to excel\n",
    "grouped_df.to_excel('/home/qiuaodon/Desktop/project_data_new/CIT_results_PD1vsEndo_grouped_0918.xlsx')"
   ]
  },
  {
   "cell_type": "markdown",
   "metadata": {},
   "source": [
    "## draw heatmap"
   ]
  },
  {
   "cell_type": "code",
   "execution_count": null,
   "metadata": {},
   "outputs": [],
   "source": [
    "top_genes_M = [\n",
    "    'RNF144B',\n",
    "    'SLC1A3',\n",
    "    \n",
    "    'TNFAIP3',\n",
    "    'CH25H',\n",
    "    'FKBP5',\n",
    "    'CLN8',\n",
    "    'GRASP',\n",
    "    'SMIM3',\n",
    "    'DUSP6',\n",
    "    'HIST1H4H'\n",
    "]\n",
    "top_genes_T = [\n",
    "    'CH25H',\n",
    "    'TSC22D3',\n",
    "    'TNFAIP3',\n",
    "    'BIRC3',\n",
    "    'SPON2',\n",
    "    'ZFP36',\n",
    "    'SLA',\n",
    "    'ZFP36',\n",
    "    'TXNIP',\n",
    "    'IER2',\n",
    "    'KLF10'\n",
    "]"
   ]
  },
  {
   "cell_type": "code",
   "execution_count": null,
   "metadata": {},
   "outputs": [],
   "source": [
    "import seaborn as sns\n",
    "import scipy.stats as stats\n",
    "from scipy.stats import spearmanr \n",
    "# Remove the sample_id that are not in the adata_T_pseudo\n",
    "adata_M_pseudo = adata_M_pseudo[adata_M_pseudo.obs['sample_id'].isin(adata_T_pseudo.obs['sample_id'])]\n",
    "adata_T_pseudo = adata_T_pseudo[adata_T_pseudo.obs['sample_id'].isin(adata_M_pseudo.obs['sample_id'])]\n",
    "\n",
    "# Initialize an empty matrix to store the correlation values\n",
    "corr_matrix = np.zeros((len(top_genes_T), len(top_genes_M)))\n",
    "pval_matrix = np.zeros((len(top_genes_T), len(top_genes_M)))\n",
    "\n",
    "# Calculate the correlation between the top genes of T and M cells\n",
    "for i, gene_T in enumerate(top_genes_T):\n",
    "    for j, gene_M in enumerate(top_genes_M):\n",
    "        # remove the '_T' and '_M' from the gene names\n",
    "        gene_T = gene_T.replace('_T', '')\n",
    "        gene_M = gene_M.replace('_M', '')\n",
    "        # Get the expression data of the two genes and flatten them to 1D arrays\n",
    "        gene_T_expression = adata_T_pseudo[:, adata_T_pseudo.var_names == gene_T].X.flatten()\n",
    "        gene_M_expression = adata_M_pseudo[:, adata_M_pseudo.var_names == gene_M].X.flatten()\n",
    "        \n",
    "        # Calculate the correlation\n",
    "        corr, pval = spearmanr(gene_T_expression, gene_M_expression)\n",
    "        \n",
    "        # Store the correlation value in the matrix\n",
    "        corr_matrix[i, j] = corr\n",
    "        pval_matrix[i, j] = -np.log10(pval)\n",
    "\n",
    "\n",
    "# Plot the correlation matrix as a heatmap\n",
    "plt.figure(figsize=(10, 8))\n",
    "sns.heatmap(corr_matrix, annot=False, cmap='coolwarm', vmin=-1, vmax=1,\n",
    "            xticklabels=top_genes_M, yticklabels=top_genes_T)\n",
    "plt.title('Correlation between Highly Correlated Genes of CD4EX and M')\n",
    "plt.xlabel('M Genes')\n",
    "plt.ylabel('CD4EX Genes')\n",
    "plt.show()"
   ]
  },
  {
   "cell_type": "code",
   "execution_count": null,
   "metadata": {},
   "outputs": [],
   "source": [
    "\n",
    "# Plotting the heatmap with correlation values\n",
    "plt.figure(figsize=(12, 10))\n",
    "heatmap = sns.heatmap(corr_matrix, cmap='coolwarm', vmin=-1, vmax=1,\n",
    "                      xticklabels=top_genes_M, yticklabels=top_genes_T,\n",
    "                      annot=False)  # Turn off default annotation\n",
    "\n",
    "# Overlaying the correlation values and -log10 of p-values\n",
    "for i in range(corr_matrix.shape[0]):\n",
    "    for j in range(corr_matrix.shape[1]):\n",
    "        plt.text(j + 0.5, i + 0.5, f'{corr_matrix[i, j]:.2f}\\n({pval_matrix[i, j]:.2f})',\n",
    "                 horizontalalignment='center', verticalalignment='center', fontsize=11, color='black' if abs(corr_matrix[i, j]) > 0.5 else 'black')\n",
    "\n",
    "plt.title('Correlation between Top DEGs of CD4EX and M')\n",
    "plt.xlabel('M Genes')\n",
    "plt.ylabel('CD4EX Genes')\n",
    "plt.show()"
   ]
  },
  {
   "cell_type": "code",
   "execution_count": null,
   "metadata": {},
   "outputs": [],
   "source": [
    "colors = [\"grey\", \"blue\"]  # Start with grey and end with blue\n",
    "cmap = mcolors.LinearSegmentedColormap.from_list(\"grey_to_blue\", colors)\n"
   ]
  },
  {
   "cell_type": "code",
   "execution_count": null,
   "metadata": {},
   "outputs": [],
   "source": [
    "sc.pl.umap(adata_CD4EX, color = ['SPON2', 'SELL'], color_map = cmap)"
   ]
  },
  {
   "cell_type": "code",
   "execution_count": null,
   "metadata": {},
   "outputs": [],
   "source": [
    "sc.pl.umap(adata_M, color = ['FKBP5', 'MADCAM1'], color_map = cmap)"
   ]
  },
  {
   "cell_type": "code",
   "execution_count": null,
   "metadata": {},
   "outputs": [],
   "source": [
    "sc.pl.umap(adata_CD4EX, color = 'timepoint')\n",
    "sc.pl.umap(adata_M, color = 'timepoint')"
   ]
  },
  {
   "cell_type": "markdown",
   "metadata": {},
   "source": [
    "#### plot the scatter plots\n"
   ]
  },
  {
   "cell_type": "code",
   "execution_count": 9,
   "metadata": {},
   "outputs": [],
   "source": [
    "import pandas as pd\n",
    "import seaborn as sns\n",
    "import matplotlib.pyplot as plt\n",
    "import statsmodels.api as sm\n",
    "from scipy.stats import spearmanr, pearsonr\n",
    "\n",
    "def plot_CIT_DEGcorr(g1, g2, L, R, DEG_exp, pseudo_1, pseudo_2):\n",
    "    # Define a custom palette\n",
    "    palette = {'pre': \"#E69F00\", 'on': \"#56B4E9\"}\n",
    "    #replace the treatment column 0 pre and 1 on\n",
    "    gene_df['treatment'] = gene_df['treatment'].replace({0: 'pre', 1: 'on'})\n",
    "    # Set font sizes\n",
    "    title_fontsize = 14\n",
    "    axis_fontsize = 14\n",
    "    legend_fontsize = 12\n",
    "\n",
    "    def adjust_plot_limits(ax, x_data, y_data):\n",
    "        x_min, x_max = x_data.min(), x_data.max()\n",
    "        y_min, y_max = y_data.min(), y_data.max()\n",
    "        x_padding = (x_max - x_min) * 0.1\n",
    "        y_padding = (y_max - y_min) * 0.1\n",
    "        ax.set_xlim(x_min - x_padding, x_max + x_padding)\n",
    "        ax.set_ylim(y_min - y_padding, y_max + y_padding)\n",
    "\n",
    "    # Plot the jointplot between DEG of g1 and g2\n",
    "    g1_exp = DEG_exp[g1]\n",
    "    g2_exp = DEG_exp[g2]\n",
    "    df1 = pd.DataFrame({g1: g1_exp, g2: g2_exp, 'treatment': DEG_exp['treatment']})\n",
    "    df1 = df1.dropna()\n",
    "    g = sns.jointplot(x=g1, y=g2, data=df1, hue='treatment', palette=palette, kind='scatter', marginal_kws=dict(fill=True))\n",
    "    sns.regplot(x=g1, y=g2, data=df1, scatter=False, ax=g.ax_joint, color='black')\n",
    "    adjust_plot_limits(g.ax_joint, df1[g1], df1[g2])\n",
    "    \n",
    "    g.ax_joint.tick_params(left=False, bottom=False)\n",
    "    g.ax_marg_x.tick_params(bottom=False)\n",
    "    g.ax_marg_y.tick_params(left=False)\n",
    "    cor = pearsonr(df1[g1], df1[g2])[0]\n",
    "    plt.suptitle(f'Correlation between {g1} and {g2} is {cor:.3f}', fontsize=title_fontsize)\n",
    "    plt.subplots_adjust(top=0.95)\n",
    "    plt.show()\n",
    "\n",
    "     # Plot the jointplot between DEG of g1 and g2 residue\n",
    "    L_values = pseudo_1[:, L].X.toarray().flatten()\n",
    "    R_values = pseudo_2[:, R].X.toarray().flatten()\n",
    "    L_R = L_values * R_values\n",
    "    X = sm.add_constant(L_R)\n",
    "\n",
    "    # Fit OLS model for g2\n",
    "    model_g2 = sm.OLS(g2_exp, X).fit()\n",
    "    residuals_g2 = model_g2.resid\n",
    "\n",
    "    # Fit OLS model for g1\n",
    "    model_g1 = sm.OLS(g1_exp, X).fit()\n",
    "    residuals_g1 = model_g1.resid\n",
    "\n",
    "    #   Create DataFrame for residuals\n",
    "    df_res = pd.DataFrame({\n",
    "        'G_1_residual': residuals_g1,\n",
    "        'G_2_residual': residuals_g2,\n",
    "        'treatment': DEG_exp['treatment']\n",
    "    })\n",
    "\n",
    "    # Plot the residuals\n",
    "    g = sns.jointplot(x='G_1_residual', y='G_2_residual', data=df_res, hue='treatment', palette=palette, kind='scatter', marginal_kws=dict(fill=True))\n",
    "    sns.regplot(x='G_1_residual', y='G_2_residual', data=df_res, scatter=False, ax=g.ax_joint, color='black')\n",
    "\n",
    "    # Adjust plot limits if needed\n",
    "    adjust_plot_limits(g.ax_joint, df_res['G_1_residual'], df_res['G_2_residual'])\n",
    "\n",
    "    # Customize plot appearance\n",
    "    g.ax_joint.tick_params(left=False, bottom=False)\n",
    "    g.ax_marg_x.tick_params(bottom=False)\n",
    "    g.ax_marg_y.tick_params(left=False)\n",
    "\n",
    "    # Calculate and display correlation\n",
    "    corr_res = pearsonr(df_res['G_1_residual'], df_res['G_2_residual'])[0]\n",
    "    plt.suptitle(f'Correlation between residuals of G_1 and G_2 is {corr_res:.3f}', fontsize=title_fontsize)\n",
    "    plt.subplots_adjust(top=0.95)\n",
    "    plt.show()\n",
    "\n"
   ]
  },
  {
   "cell_type": "code",
   "execution_count": null,
   "metadata": {},
   "outputs": [],
   "source": [
    "plot_CIT_DEGcorr('GEM_T_3', 'GEM_M_3', 'ITGA4', 'TFRC', gene_df, adata_1_pseudo, adata_2_pseudo)"
   ]
  }
 ],
 "metadata": {
  "kernelspec": {
   "display_name": "base",
   "language": "python",
   "name": "python3"
  },
  "language_info": {
   "codemirror_mode": {
    "name": "ipython",
    "version": 3
   },
   "file_extension": ".py",
   "mimetype": "text/x-python",
   "name": "python",
   "nbconvert_exporter": "python",
   "pygments_lexer": "ipython3",
   "version": "3.11.5"
  }
 },
 "nbformat": 4,
 "nbformat_minor": 2
}
