{
 "cells": [
  {
   "cell_type": "markdown",
   "metadata": {},
   "source": [
    "# This script analyze the NHDP results of EGAS00001004809 \n",
    "\n",
    "Cells from the EGAS00001004809 dataset were analyzed using the NHDP algorithm. The results are stored in the following files:\n"
   ]
  },
  {
   "cell_type": "code",
   "execution_count": null,
   "metadata": {},
   "outputs": [],
   "source": [
    "import numpy as np\n",
    "import pandas as pd\n",
    "import matplotlib.pyplot as plt\n",
    "import seaborn as sns\n",
    "import os\n",
    "import scanpy as sc\n",
    "import anndata as ad\n",
    "import rpy2.robjects as robjects\n",
    "import sys as sys\n",
    "sys.path.append('/home/xinghua/projects/PanCancer_scRNA_analysis/utils/')\n",
    "from scRNA_utils import *"
   ]
  },
  {
   "cell_type": "markdown",
   "metadata": {},
   "source": [
    "## Read in the NHDP and AnnData results for cell type"
   ]
  },
  {
   "cell_type": "markdown",
   "metadata": {},
   "source": [
    "### Identify the model with the highest likelihood for each cell type\n",
    "We have performed NHDP analysis for each cell type for 6 times. The results are stored in the following files:\n",
    "\"/data/ICI_exprs/ICI_NHDP/EGAS00001004809_high_variance_gene_NHDP/NHDP_runs/\"\n",
    "The following script will identify the model with the highest likelihood for each cell type.\n",
    "\n"
   ]
  },
  {
   "cell_type": "code",
   "execution_count": null,
   "metadata": {},
   "outputs": [],
   "source": [
    "# RData_dir = \"/data/ICI_exprs/ICI_NHDP/EGAS00001004809_original_gene_NHDP/\"\n",
    "RData_dir = \"/data/ICI_exprs/ICI_NHDP/EGAS00001004809_high_variance_gene_NHDP/NHDP_runs/\"\n",
    "\n",
    "cell_types = ['B', 'T', 'M', 'Epi', 'Endo', 'Fibro']\n",
    "# use a dictionary to store the best model for each cell type.  Key is cell type, value is the best model\n",
    "best_models = {}\n",
    "high_likelihood = {}\n",
    "\n",
    "#list all RData files\n",
    "files = os.listdir(RData_dir)\n",
    "files = [f for f in files if f.endswith('.RData')]\n",
    "for f in files:\n",
    "    #print (\"Processing file: \", f)\n",
    "    # read in the RData file\n",
    "    robjects.r['load'](RData_dir + f)\n",
    "    # extract the 'tree' object\n",
    "    nHDP_trained_mb = robjects.r['nHDP_trained_mb']\n",
    "    f_likelihood = max(np.array(nHDP_trained_mb.rx('likelihood')[0])) #[0]\n",
    "\n",
    "     #detect the cell type \n",
    "    f_cell_type = f.split('_')[3]\n",
    "    if f_cell_type not in high_likelihood.keys():\n",
    "        high_likelihood[f_cell_type] = f_likelihood\n",
    "        best_models[f_cell_type] = f\n",
    "    else:\n",
    "        if f_likelihood > high_likelihood[f_cell_type]:\n",
    "            high_likelihood[f_cell_type] = f_likelihood\n",
    "            best_models[f_cell_type] = f\n",
    "\n",
    "# iterate through the best models for each cell type, and print the model name and the likelihood\n",
    "for k, v in best_models.items():\n",
    "    print (\"Cell type: \", k, \" best model: \", v, \" likelihood: \", high_likelihood[k])\n"
   ]
  },
  {
   "cell_type": "markdown",
   "metadata": {},
   "source": [
    "### Read in h5ad files with metadata"
   ]
  },
  {
   "cell_type": "code",
   "execution_count": null,
   "metadata": {},
   "outputs": [],
   "source": [
    "h5ad_dir = \"/data/ICI_exprs/ICI_NHDP/EGAS00001004809_high_variance_gene_NHDP/\"\n",
    "files = os.listdir(h5ad_dir)\n",
    "h5ad_files = [f for f in files if f.endswith('.h5ad')]\n",
    "adata_dict = {} \n",
    "for f in h5ad_files:\n",
    "    # parse the cell type from the file name\n",
    "    f_cell_type = f.split('_')[3]\n",
    "    adata_dict[f_cell_type] = sc.read_h5ad(h5ad_dir+f)"
   ]
  },
  {
   "cell_type": "markdown",
   "metadata": {},
   "source": [
    "## Processing T cell data"
   ]
  },
  {
   "cell_type": "code",
   "execution_count": null,
   "metadata": {},
   "outputs": [],
   "source": [
    "T_NHDP = parseNHDP_RData(RData_dir + best_models['T'])\n",
    "adata_T = T_NHDP['cell_by_GEM']\n",
    "\n",
    "# Copy annotation from the original AnnData object\n",
    "adata_T.obs = adata_dict['T'].obs\n",
    "adata_T.obsm = adata_dict['T'].obsm\n",
    "adata_T.uns = adata_dict['T'].uns\n",
    "adata_T.raw = adata_T"
   ]
  },
  {
   "cell_type": "code",
   "execution_count": null,
   "metadata": {},
   "outputs": [],
   "source": [
    "# plot two histograms\n",
    "plt.figure(figsize=(10, 5))\n",
    "plt.subplot(1, 2,1)\n",
    "plt.hist(np.sum(adata_T.X, axis= 1), bins=50)\n",
    "plt.subplot(1, 2,2)\n",
    "plt.hist(np.log(np.sum(adata_T.X, axis= 0)+1), bins=50)"
   ]
  },
  {
   "cell_type": "code",
   "execution_count": null,
   "metadata": {},
   "outputs": [],
   "source": [
    "### filter GEMs with colsum < 100\n",
    "nonZeroGEMs = adata_T.var_names[ (np.sum(adata_T.X > 2, axis= 0) / adata_T.shape[0] > .005)]\n",
    "print(nonZeroGEMs)\n"
   ]
  },
  {
   "cell_type": "markdown",
   "metadata": {},
   "source": [
    "## Plot GEMs"
   ]
  },
  {
   "cell_type": "code",
   "execution_count": null,
   "metadata": {},
   "outputs": [],
   "source": [
    "adata_T_h5ad = adata_dict['T']\n",
    "sc.pl.umap(adata_T_h5ad, color = ['leiden', 'cell_type', 'timepoint', 'PDCD1'], ncol = 2)"
   ]
  },
  {
   "cell_type": "code",
   "execution_count": null,
   "metadata": {},
   "outputs": [],
   "source": [
    "# make mono-color colormap\n",
    "import matplotlib.pyplot as plt\n",
    "import matplotlib.colors as mcolors\n",
    "\n",
    "def create_custom_blue_colormap():\n",
    "    # Define the colors and positions for the custom colormap\n",
    "    colors = [(0.0, 'white'), (0.5, 'lightblue'), (1.0, 'blue')]  # Blue shades from white to blue\n",
    "    cmap_name = 'custom_blue_colormap'\n",
    "    \n",
    "    # Create the colormap\n",
    "    cmap = mcolors.LinearSegmentedColormap.from_list(cmap_name, colors)\n",
    "\n",
    "    return cmap"
   ]
  },
  {
   "cell_type": "code",
   "execution_count": null,
   "metadata": {},
   "outputs": [],
   "source": [
    "blue_cmap = create_custom_blue_colormap()\n",
    "sc.pl.umap(adata_T, color = nonZeroGEMs, use_raw = False, cmap=blue_cmap, ncols = 4, vmax=25)\n",
    "\n"
   ]
  },
  {
   "cell_type": "markdown",
   "metadata": {},
   "source": [
    "## Transform to psuedo-bulk data and find differentially expressed GEMs\n",
    "\n"
   ]
  },
  {
   "cell_type": "code",
   "execution_count": null,
   "metadata": {},
   "outputs": [],
   "source": [
    "# perform pseudotime analysis\n",
    "adata_pseudobulk = scRNA2PseudoBulkAnnData(adata_T, sample_id_col='sample_id')\n",
    "adata_pseudobulk"
   ]
  },
  {
   "cell_type": "markdown",
   "metadata": {},
   "source": [
    "## Plot GEMs expressed in each cell type and compare 'pre' and 'on' treatment"
   ]
  },
  {
   "cell_type": "code",
   "execution_count": null,
   "metadata": {},
   "outputs": [],
   "source": [
    "for c in adata_T.obs['leiden'].unique():\n",
    "    print(\"Plotting cluster: \", c)\n",
    "    plotGEMs(adata_T, 'leiden', c, ncols=4)"
   ]
  },
  {
   "cell_type": "markdown",
   "metadata": {},
   "source": [
    "## Plot GEMs expressed in each cell type and compare 'pre' and 'on' treatment"
   ]
  },
  {
   "cell_type": "code",
   "execution_count": null,
   "metadata": {},
   "outputs": [],
   "source": [
    "for c in adata_T.obs['cell_type'].unique():\n",
    "    print (\"Plotting cell type: \", c)\n",
    "    plotGEMs(adata_T, 'cell_type', c, ncols=4)"
   ]
  },
  {
   "cell_type": "markdown",
   "metadata": {},
   "source": [
    "## Find top genes for each GEM"
   ]
  },
  {
   "cell_type": "code",
   "execution_count": null,
   "metadata": {},
   "outputs": [],
   "source": [
    "\n",
    "adata_GEM = results['1863-counts_cells_cohort1_T_cells.h5ad.NHDP.RData' ]['GEM_by_gene']\n",
    "print('Gem-by-gene matrix:', adata_GEM.shape)\n",
    "\n",
    "# sort adata_T to find the top 10 genes for each column\n",
    "for i in range(adata_GEM.shape[1]):\n",
    "    # find the top 10 genes for each column\n",
    "    top_50 = adata_GEM.obs.index[np.argsort(adata_GEM.X[:,i])[-50:]].tolist()\n",
    "    print(i, \":\", top_50)\n",
    "    "
   ]
  },
  {
   "cell_type": "markdown",
   "metadata": {},
   "source": [
    "## "
   ]
  },
  {
   "cell_type": "code",
   "execution_count": null,
   "metadata": {},
   "outputs": [],
   "source": []
  }
 ],
 "metadata": {
  "kernelspec": {
   "display_name": "base",
   "language": "python",
   "name": "python3"
  },
  "language_info": {
   "codemirror_mode": {
    "name": "ipython",
    "version": 3
   },
   "file_extension": ".py",
   "mimetype": "text/x-python",
   "name": "python",
   "nbconvert_exporter": "python",
   "pygments_lexer": "ipython3",
   "version": "3.11.5"
  }
 },
 "nbformat": 4,
 "nbformat_minor": 2
}
