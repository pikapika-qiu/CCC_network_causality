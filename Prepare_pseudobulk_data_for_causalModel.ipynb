{
 "cells": [
  {
   "cell_type": "code",
   "execution_count": null,
   "metadata": {},
   "outputs": [],
   "source": [
    "import numpy as np\n",
    "import matplotlib.pyplot as plt\n",
    "import pandas as pd\n",
    "import scanpy as sc\n",
    "import scipy.io as sio\n",
    "import anndata as ad\n",
    "import os as os\n",
    "import sys as sys\n",
    "sys.path.append('/home/qiuaodon/Desktop/PanCancer_scRNA_analysis/utils/')\n",
    "from scRNA_utils import *\n",
    "import operator as op"
   ]
  },
  {
   "cell_type": "code",
   "execution_count": null,
   "metadata": {},
   "outputs": [],
   "source": [
    "data_dir_NHDP = \"/home/qiuaodon/Desktop/project_data_new/\"\n",
    "adata_T = sc.read(data_dir_NHDP + '1863-counts_cells_cohort1_T_cells.h5ad')\n",
    "print(str(adata_T.shape))"
   ]
  },
  {
   "cell_type": "code",
   "execution_count": null,
   "metadata": {},
   "outputs": [],
   "source": [
    "# show the violin plot of PDCD1LG2 expression in whole cells\n",
    "sc.pl.violin(adata_pseudo, keys='PDCD1LG2', rotation=90)"
   ]
  },
  {
   "cell_type": "code",
   "execution_count": null,
   "metadata": {},
   "outputs": [],
   "source": [
    "sc.pl.violin(adata_pseudo, keys='CD274', rotation=90)"
   ]
  },
  {
   "cell_type": "code",
   "execution_count": null,
   "metadata": {},
   "outputs": [],
   "source": [
    "sc.pl.umap(adata_T, color='CCR7')"
   ]
  },
  {
   "cell_type": "code",
   "execution_count": null,
   "metadata": {},
   "outputs": [],
   "source": [
    "sc.pl.umap(adata_T, color = 'CD4')\n",
    "sc.pl.umap(adata_T, color = 'CD8A')"
   ]
  },
  {
   "cell_type": "code",
   "execution_count": null,
   "metadata": {},
   "outputs": [],
   "source": [
    "# reclustering T cells\n",
    "# select high variance genes\n",
    "n_top_gene_T = 5000\n",
    "sc.pp.highly_variable_genes(adata_T, n_top_genes=n_top_gene_T)  \n",
    "# filter genes\n",
    "adata_T = adata_T[:, adata_T.var['highly_variable']]\n",
    "# PCA\n",
    "sc.pp.pca(adata_T, n_comps=50, use_highly_variable=True, svd_solver='arpack')\n",
    "# UMAP\n",
    "sc.pp.neighbors(adata_T, n_neighbors=15, n_pcs=50)\n",
    "sc.tl.umap(adata_T)\n",
    "# clustering\n",
    "sc.tl.leiden(adata_T, resolution=0.4)\n",
    "# plot\n",
    "sc.pl.umap(adata_T, color=['leiden'], legend_loc='on data', title='T cells')\n"
   ]
  },
  {
   "cell_type": "code",
   "execution_count": null,
   "metadata": {},
   "outputs": [],
   "source": [
    "# clustering\n",
    "sc.tl.leiden(adata_T, resolution=0.4)\n",
    "# plot\n",
    "sc.pl.umap(adata_T, color=['leiden'], legend_loc='on data', title='T cells')\n"
   ]
  },
  {
   "cell_type": "code",
   "execution_count": null,
   "metadata": {},
   "outputs": [],
   "source": [
    "adata_T"
   ]
  },
  {
   "cell_type": "code",
   "execution_count": null,
   "metadata": {},
   "outputs": [],
   "source": [
    "data_dir_NHDP = \"/home/qiuaodon/Desktop/project_data_new/\"\n",
    "adata_T.write_h5ad(data_dir_NHDP + '1863-counts_cells_cohort1_T_cells.h5ad')"
   ]
  },
  {
   "cell_type": "code",
   "execution_count": null,
   "metadata": {},
   "outputs": [],
   "source": [
    "adata_T = sc.read(data_dir_NHDP + '1863-counts_cells_cohort1_T_cells.h5ad')\n",
    "adata_T"
   ]
  },
  {
   "cell_type": "code",
   "execution_count": null,
   "metadata": {},
   "outputs": [],
   "source": [
    "adata = sc.read(data_dir_NHDP + '1863-counts_cells_cohort1_whole_cells.h5ad')\n",
    "adata  = ad.AnnData(X=adata.raw.X, obs=adata.obs, var=adata.raw.var)\n",
    "adata.raw = adata\n",
    "print(str(adata.shape))"
   ]
  },
  {
   "cell_type": "code",
   "execution_count": null,
   "metadata": {},
   "outputs": [],
   "source": [
    "adata_pseudo = scRNA2PseudoBulkAnnData(adata, sample_id_col='sample_id')\n",
    "print(adata_pseudo.shape) "
   ]
  },
  {
   "cell_type": "code",
   "execution_count": null,
   "metadata": {},
   "outputs": [],
   "source": [
    "adata_T_pseudo = scRNA2PseudoBulkAnnData(adata_T, sample_id_col='sample_id')\n",
    "print(adata_T_pseudo.shape) "
   ]
  },
  {
   "cell_type": "code",
   "execution_count": null,
   "metadata": {},
   "outputs": [],
   "source": [
    "# plot the scatterscatterplot of the expression of CXCL13 and PDCD1 in T cells\n",
    "sc.pl.scatter(adata_T_pseudo, x='PDCD1', y='CXCL13', color='timepoint', size = 100)\n",
    "\n"
   ]
  },
  {
   "cell_type": "code",
   "execution_count": null,
   "metadata": {},
   "outputs": [],
   "source": []
  },
  {
   "cell_type": "markdown",
   "metadata": {},
   "source": [
    "## pseudo bulk data without clusters"
   ]
  },
  {
   "cell_type": "code",
   "execution_count": null,
   "metadata": {},
   "outputs": [],
   "source": [
    "# Define the genes of interest\n",
    "genes_of_interest = ['PDCD1', 'HAVCR2', 'PRDM1', 'CXCR4', 'CTLA4','CXCL13','TIGIT']\n",
    "\n",
    "# Get the gene expression matrix for the genes of interest\n",
    "gene_expr_matrix = adata_T_pseudo[:, genes_of_interest].X\n",
    "\n",
    "# Add a column for the timepoint\n",
    "timepoint_column = adata_T_pseudo.obs['timepoint'].values.reshape(-1, 1)\n",
    "gene_expr_matrix_with_timepoint = np.hstack((gene_expr_matrix, timepoint_column))\n",
    "# transfer it to dataframe\n",
    "gene_expr_matrix_with_timepoint = pd.DataFrame(gene_expr_matrix_with_timepoint, columns=genes_of_interest + ['timepoint'])\n",
    "# Print the gene expression matrix with timepoint\n",
    "# change the index of column to sample_id\n",
    "gene_expr_matrix_with_timepoint.index = adata_T_pseudo.obs['sample_id']\n",
    "\n",
    "print(gene_expr_matrix_with_timepoint)\n"
   ]
  },
  {
   "cell_type": "code",
   "execution_count": null,
   "metadata": {},
   "outputs": [],
   "source": [
    "# add CD274 from whole cells to gene_expr_matrix_with_timepoint\n",
    "\n",
    "gene_expr_matrix_with_timepoint['CD274(L)'] = adata_pseudo[:, 'CD274'].X.toarray().flatten()+ adata_pseudo[:, 'PDCD1LG2'].X.toarray().flatten()\n",
    "\n"
   ]
  },
  {
   "cell_type": "code",
   "execution_count": null,
   "metadata": {},
   "outputs": [],
   "source": [
    "# Check the value in the 'timepoint' column and apply the corresponding calculation\n",
    "def calculate_L_R(row):\n",
    "    if row['timepoint'] == 'pre':\n",
    "        return row['CD274(L)'] * row['PDCD1']\n",
    "    elif row['timepoint'] == 'on':\n",
    "        return row['CD274(L)'] * row['PDCD1'] * 0.1\n",
    "\n",
    "# Apply the function to each row in the DataFrame\n",
    "gene_expr_matrix_with_timepoint['L*R'] = gene_expr_matrix_with_timepoint.apply(calculate_L_R, axis=1)\n"
   ]
  },
  {
   "cell_type": "code",
   "execution_count": null,
   "metadata": {},
   "outputs": [],
   "source": [
    "gene_expr_matrix_with_timepoint"
   ]
  },
  {
   "cell_type": "code",
   "execution_count": null,
   "metadata": {},
   "outputs": [],
   "source": [
    "# movw the timepoint column to the last column\n",
    "cols = list(gene_expr_matrix_with_timepoint.columns)\n",
    "cols = [cols[-1]] + cols[:-1]\n",
    "gene_expr_matrix_with_timepoint = gene_expr_matrix_with_timepoint[cols]\n",
    "# sort by timepoint\n",
    "gene_expr_matrix_with_timepoint = gene_expr_matrix_with_timepoint.sort_values(by='timepoint', ascending=False)"
   ]
  },
  {
   "cell_type": "code",
   "execution_count": null,
   "metadata": {},
   "outputs": [],
   "source": [
    "# output the gene_expr_matrix_with_timepoint\n",
    "gene_expr_matrix_with_timepoint.to_csv(data_dir_NHDP + 'gene_expr_T_cells_pseudobulk_withoutcluster.csv')"
   ]
  },
  {
   "cell_type": "markdown",
   "metadata": {
    "notebookRunGroups": {
     "groupValue": "1"
    }
   },
   "source": [
    "## use the clusters to generate data"
   ]
  },
  {
   "cell_type": "code",
   "execution_count": null,
   "metadata": {},
   "outputs": [],
   "source": [
    "pseudobulk_data = {}\n",
    "\n",
    "for cluster_label in adata_T.obs['leiden'].unique():\n",
    "    cluster_data = adata_T[adata_T.obs['leiden'] == cluster_label, :]\n",
    "    pseudobulk_data[cluster_label] = scRNA2PseudoBulkAnnData(cluster_data, sample_id_col='sample_id')\n",
    "\n"
   ]
  },
  {
   "cell_type": "code",
   "execution_count": null,
   "metadata": {},
   "outputs": [],
   "source": [
    "pseudobulk_data"
   ]
  },
  {
   "cell_type": "code",
   "execution_count": null,
   "metadata": {},
   "outputs": [],
   "source": [
    "# Create an empty dataframe to store the gene expression matrix for each cluster\n",
    "combined_matrix = pd.DataFrame()\n",
    "\n",
    "# Iterate over each cluster\n",
    "for cluster_label, cluster_data in pseudobulk_data.items():\n",
    "    # Get the gene expression matrix for the cluster\n",
    "    gene_expr_matrix = cluster_data[:, genes_of_interest].X\n",
    "    \n",
    "    # Convert the gene expression matrix to a DataFrame\n",
    "    gene_expr_df = pd.DataFrame(gene_expr_matrix, columns=genes_of_interest)\n",
    "    \n",
    "    # Add a column for the cluster label\n",
    "    cluster_label_column = pd.Series([cluster_label] * gene_expr_df.shape[0], name='Cluster')\n",
    "    # add columns for sample_id and timepoint\n",
    "    sample_id_column = pd.Series(cluster_data.obs['sample_id'].values, name='sample_id')\n",
    "    timepoint_column = pd.Series(cluster_data.obs['timepoint'].values, name='timepoint')\n",
    "    gene_expr_df = pd.concat([sample_id_column, timepoint_column, gene_expr_df], axis=1)\n",
    "    # add column for CD274(L)\n",
    "\n",
    "    # Combine the gene expression matrix and cluster label column\n",
    "    cluster_matrix = pd.concat([gene_expr_df, cluster_label_column], axis=1)\n",
    "    \n",
    "    # Append the cluster matrix to the combined matrix\n",
    "    combined_matrix = pd.concat([combined_matrix, cluster_matrix], ignore_index=True)\n",
    "\n",
    "\n",
    "# Print the combined matrix\n",
    "print(combined_matrix)\n"
   ]
  },
  {
   "cell_type": "code",
   "execution_count": null,
   "metadata": {},
   "outputs": [],
   "source": [
    "# add CD274 from whole cells to gene_expr_matrix_with_timepoint matching each sample_id\n",
    "CD274_L = []\n",
    "for sample_id in combined_matrix['sample_id']:\n",
    "    CD274_L.append(adata_pseudo[adata_pseudo.obs['sample_id'] == sample_id, 'CD274'].X.toarray().flatten() + adata_pseudo[adata_pseudo.obs['sample_id'] == sample_id, 'PDCD1LG2'].X.toarray().flatten())\n",
    "CD274_L = np.array(CD274_L).flatten()\n",
    "combined_matrix['CD274(L)'] = CD274_L\n",
    "\n",
    "CD274_L"
   ]
  },
  {
   "cell_type": "code",
   "execution_count": null,
   "metadata": {},
   "outputs": [],
   "source": [
    "\n",
    "def calculate_L_R(row):\n",
    "    if row['timepoint'] == 'pre':\n",
    "        return row['CD274(L)'] * row['PDCD1']\n",
    "    elif row['timepoint'] == 'on':\n",
    "        return row['CD274(L)'] * row['PDCD1'] * 0.1\n",
    "\n",
    "combined_matrix['L*R'] = combined_matrix.apply(calculate_L_R, axis=1)"
   ]
  },
  {
   "cell_type": "code",
   "execution_count": null,
   "metadata": {},
   "outputs": [],
   "source": [
    "combined_matrix"
   ]
  },
  {
   "cell_type": "code",
   "execution_count": null,
   "metadata": {},
   "outputs": [],
   "source": [
    "# move the cluster column to the first column\n",
    "cols = list(combined_matrix.columns)\n",
    "cols = [cols[-1]] + cols[:-1]\n",
    "combined_matrix = combined_matrix[cols]\n"
   ]
  },
  {
   "cell_type": "code",
   "execution_count": null,
   "metadata": {},
   "outputs": [],
   "source": [
    "print(combined_matrix)"
   ]
  },
  {
   "cell_type": "code",
   "execution_count": null,
   "metadata": {},
   "outputs": [],
   "source": [
    "# check how many samples in cluster 4\n",
    "adata_T_4.obs['sample_id'].unique()\n"
   ]
  },
  {
   "cell_type": "code",
   "execution_count": null,
   "metadata": {},
   "outputs": [],
   "source": [
    "# output the combined_matrix\n",
    "combined_matrix.to_csv(data_dir_NHDP + 'gene_expr_T_cells_withcluster.csv')\n"
   ]
  },
  {
   "cell_type": "markdown",
   "metadata": {},
   "source": [
    "# sc data"
   ]
  },
  {
   "cell_type": "code",
   "execution_count": null,
   "metadata": {},
   "outputs": [],
   "source": [
    "genes_of_interest = ['PDCD1', 'HAVCR2', 'CD8A', 'CD4', 'PRDM1', 'CXCR4', 'CTLA4','CXCL13','TIGIT']\n",
    "gene_scexpression = adata_T[:, genes_of_interest].X\n",
    "# export the gene_scexpression\n",
    "dense_gene_scexpression = gene_scexpression.toarray()  # For scipy sparse matrices\n",
    "gene_scexpression_df = pd.DataFrame(dense_gene_scexpression, columns=genes_of_interest)\n",
    "\n",
    "gene_scexpression_df.index = adata_T.obs.index"
   ]
  },
  {
   "cell_type": "code",
   "execution_count": null,
   "metadata": {},
   "outputs": [],
   "source": [
    "adata_T.obs['leiden']"
   ]
  },
  {
   "cell_type": "code",
   "execution_count": null,
   "metadata": {},
   "outputs": [],
   "source": []
  },
  {
   "cell_type": "code",
   "execution_count": null,
   "metadata": {},
   "outputs": [],
   "source": [
    "gene_scexpression_df['timepoint'] = adata_T.obs['timepoint'].values\n",
    "gene_scexpression_df['sample_id'] = adata_T.obs['sample_id'].values\n",
    "gene_scexpression_df['leiden'] = adata_T.obs['leiden'].values"
   ]
  },
  {
   "cell_type": "code",
   "execution_count": null,
   "metadata": {},
   "outputs": [],
   "source": [
    "# show how many cellw with CD4 more than 0\n",
    "gene_scexpression_df[gene_scexpression_df['CD8A'] > 0].shape"
   ]
  },
  {
   "cell_type": "code",
   "execution_count": null,
   "metadata": {},
   "outputs": [],
   "source": [
    "sum( gene_scexpression_df['CD4/CD8'] == 1 and gene_scexpression_df['CD8A'] > 0)\n"
   ]
  },
  {
   "cell_type": "code",
   "execution_count": null,
   "metadata": {},
   "outputs": [],
   "source": [
    "# add column for CD274(L)\n",
    "CD274_L = []\n",
    "for sample_id in gene_scexpression_df['sample_id']:\n",
    "    CD274_L.append(adata_pseudo[adata_pseudo.obs['sample_id'] == sample_id, 'CD274'].X.toarray().flatten() + adata_pseudo[adata_pseudo.obs['sample_id'] == sample_id, 'PDCD1LG2'].X.toarray().flatten())\n",
    "CD274_L = np.array(CD274_L).flatten()\n",
    "gene_scexpression_df['CD274(L)'] = CD274_L\n",
    "\n",
    "# add column for L*R\n",
    "   \n",
    "def calculate_L_R(row):\n",
    "    if row['timepoint'] == 'pre':\n",
    "        return row['CD274(L)'] * row['PDCD1']\n",
    "    elif row['timepoint'] == 'on':\n",
    "        return row['CD274(L)'] * row['PDCD1'] * 0.1 \n",
    "gene_scexpression_df['L*R'] = gene_scexpression_df.apply(calculate_L_R, axis=1)\n"
   ]
  },
  {
   "cell_type": "code",
   "execution_count": null,
   "metadata": {},
   "outputs": [],
   "source": [
    "gene_scexpression_df"
   ]
  },
  {
   "cell_type": "code",
   "execution_count": null,
   "metadata": {},
   "outputs": [],
   "source": [
    "cd274_expression = adata[:, 'CD274'].X\n",
    "num_cells_expressing_cd274 = np.sum(cd274_expression > 0)\n",
    "print(\"Number of cells expressing CD274 with expression bigger than 0:\", num_cells_expressing_cd274)\n",
    "\n"
   ]
  },
  {
   "cell_type": "code",
   "execution_count": null,
   "metadata": {},
   "outputs": [],
   "source": [
    "# export the gene_scexpression and gene_scexpression_CD274 in the same file but in different sheets\n",
    "with pd.ExcelWriter(data_dir_NHDP + 'gene_sc_expression_data.xlsx') as writer:  \n",
    "    gene_scexpression_df.to_excel(writer, sheet_name='gene_sc_expression_T_cells')\n",
    "\n"
   ]
  },
  {
   "cell_type": "markdown",
   "metadata": {},
   "source": [
    "\n",
    "# prepare data for boyang adding the significant DEGs in my downstream analysis (May 14 2024)"
   ]
  },
  {
   "cell_type": "code",
   "execution_count": null,
   "metadata": {},
   "outputs": [],
   "source": [
    "data_dir = \"/home/qiuaodon/Desktop/project_data_new/\"\n",
    "adata_T = sc.read(data_dir + '1863-counts_cells_cohort1_T_cells.h5ad')\n",
    "# generate a pseudo-bulk AnnData object of the T cells \n",
    "adata_T_pseudo = scRNA2PseudoBulkAnnData(adata_T, sample_id_col='sample_id')\n",
    "print(adata_T_pseudo.shape) "
   ]
  },
  {
   "cell_type": "code",
   "execution_count": null,
   "metadata": {},
   "outputs": [],
   "source": [
    "# get the CD274 from the whole cells\n",
    "adata = sc.read_h5ad(data_dir + '1863-counts_cells_cohort1_whole_cells.h5ad')\n",
    "adata.raw = adata\n",
    "adata_bulk = scRNA2PseudoBulkAnnData(adata, sample_id_col='sample_id')\n",
    "cd274_bulk = adata_bulk[:, adata_bulk.var_names == 'CD274'].X.toarray()\n",
    "cd274_bulk_df = pd.DataFrame(cd274_bulk, columns = ['CD274'], index = adata_bulk.obs.index)"
   ]
  },
  {
   "cell_type": "code",
   "execution_count": null,
   "metadata": {},
   "outputs": [],
   "source": [
    "adata.obs"
   ]
  },
  {
   "cell_type": "code",
   "execution_count": null,
   "metadata": {},
   "outputs": [],
   "source": [
    "cd274_bulk_df"
   ]
  },
  {
   "cell_type": "code",
   "execution_count": null,
   "metadata": {},
   "outputs": [],
   "source": [
    "# extract the PDCDLG2\n",
    "PDCDLG2_bulk = adata_bulk[:, adata_bulk.var_names == 'PDCD1LG2'].X.toarray()\n",
    "PDCDLG2_bulk_df = pd.DataFrame(PDCDLG2_bulk, columns = ['PDCD1LG2'], index = adata_bulk.obs.index)"
   ]
  },
  {
   "cell_type": "code",
   "execution_count": null,
   "metadata": {},
   "outputs": [],
   "source": [
    "PDCDLG2_bulk_df"
   ]
  },
  {
   "cell_type": "code",
   "execution_count": null,
   "metadata": {},
   "outputs": [],
   "source": [
    "# add the value of CD274 and PDCDLG2 together as PDCD1LG\n",
    "PDCD1LG_bulk = cd274_bulk + PDCDLG2_bulk\n",
    "\n",
    "#change the name to PDCD1LG\n",
    "PDCD1LG_bulk_df = pd.DataFrame(PDCD1LG_bulk, columns = ['PDCD1LG'], index = adata_bulk.obs.index)\n",
    "PDCD1LG_bulk_df"
   ]
  },
  {
   "cell_type": "code",
   "execution_count": null,
   "metadata": {},
   "outputs": [],
   "source": [
    "# get PDCD1LG from the M cells\n",
    "# extract Meyloid cells from adata according to the cellType\n",
    "adata_M = adata[adata.obs['cellType'] == 'Myeloid_cell', :]\n",
    "adata_M_pseudo = scRNA2PseudoBulkAnnData(adata_M, sample_id_col='sample_id')\n",
    "\n",
    "PCD274_M = adata_M_pseudo[:, adata_M_pseudo.var_names == 'CD274'].X.toarray()\n",
    "PDCDLG2_M = adata_M_pseudo[:, adata_M_pseudo.var_names == 'PDCD1LG2'].X.toarray()\n",
    "PDCD1LG_M = PCD274_M + PDCDLG2_M\n",
    "PDCD1LG_M_df = pd.DataFrame(PDCD1LG_M, columns = ['PDCD1LG'], index = adata_M_pseudo.obs.index)\n",
    "\n"
   ]
  },
  {
   "cell_type": "code",
   "execution_count": null,
   "metadata": {},
   "outputs": [],
   "source": [
    "# extract the gene of interest\n",
    "gene_of_interest = ['PDCD1', 'CXCL13', 'PRDM1',  'HAVCR2', 'TIGIT', 'CTLA4', 'TSC22D3', 'TXNIP', 'DDIT4', 'ERN1', 'IRF1', 'NFKBIA']\n",
    "Tgene = adata_T_pseudo[:, gene_of_interest].X.toarray()\n",
    "Tgene_df = pd.DataFrame(Tgene, columns = gene_of_interest, index = adata_T_pseudo.obs.index)\n",
    "Tgene_df"
   ]
  },
  {
   "cell_type": "code",
   "execution_count": null,
   "metadata": {},
   "outputs": [],
   "source": [
    "# add the PDCD1LG_bulk_df to the Tgene_df\n",
    "Tgene_df['PDCD1LG'] = PDCD1LG_bulk_df['PDCD1LG']\n",
    "Tgene_df"
   ]
  },
  {
   "cell_type": "code",
   "execution_count": null,
   "metadata": {},
   "outputs": [],
   "source": [
    "#add one column for timepoint\n",
    "timepoint = adata_T_pseudo.obs['timepoint']\n",
    "Tgene_df = pd.concat([Tgene_df, timepoint], axis = 1)\n",
    "# change pre to 0 and post to 1\n",
    "Tgene_df['timepoint'] = Tgene_df['timepoint'].replace({'pre':0, 'on':1})\n",
    "# change the name of the column timepoint to treatment\n",
    "Tgene_df = Tgene_df.rename(columns = {'timepoint':'treatment'})\n",
    "Tgene_df"
   ]
  },
  {
   "cell_type": "code",
   "execution_count": null,
   "metadata": {},
   "outputs": [],
   "source": [
    "# add expansion to the Tgene_df\n",
    "expansion = adata_T_pseudo.obs['expansion']\n",
    "Tgene_df = pd.concat([Tgene_df, expansion], axis = 1)\n",
    "Tgene_df"
   ]
  },
  {
   "cell_type": "code",
   "execution_count": null,
   "metadata": {},
   "outputs": [],
   "source": [
    "Tgene_df['expansion'] = Tgene_df['expansion'].replace({'E':1, 'NE':0})\n",
    "Tgene_df"
   ]
  },
  {
   "cell_type": "code",
   "execution_count": null,
   "metadata": {},
   "outputs": [],
   "source": [
    "# rename PDCD1LG_M_df column name to PDCD1LG_of_M\n",
    "PDCD1LG_M_df = PDCD1LG_M_df.rename(columns = {'PDCD1LG':'PDCD1LG_of_M'})\n",
    "# add the PDCD1LG_M_df to the Tgene_df\n",
    "Tgene_df = pd.concat([Tgene_df, PDCD1LG_M_df], axis = 1)\n",
    "Tgene_df"
   ]
  },
  {
   "cell_type": "code",
   "execution_count": null,
   "metadata": {},
   "outputs": [],
   "source": [
    "# export the Tgene_df\n",
    "Tgene_df.to_csv(data_dir + 'Pseudobulkdata_for_CausalModel_May14.csv')"
   ]
  }
 ],
 "metadata": {
  "kernelspec": {
   "display_name": "base",
   "language": "python",
   "name": "python3"
  },
  "language_info": {
   "codemirror_mode": {
    "name": "ipython",
    "version": 3
   },
   "file_extension": ".py",
   "mimetype": "text/x-python",
   "name": "python",
   "nbconvert_exporter": "python",
   "pygments_lexer": "ipython3",
   "version": "3.11.5"
  }
 },
 "nbformat": 4,
 "nbformat_minor": 2
}
