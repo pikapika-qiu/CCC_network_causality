{
 "cells": [
  {
   "attachments": {},
   "cell_type": "markdown",
   "metadata": {},
   "source": [
    "# EGAS00001004809 scRNA Data Preprocessing\n"
   ]
  },
  {
   "cell_type": "code",
   "execution_count": null,
   "metadata": {},
   "outputs": [],
   "source": [
    "import numpy as np\n",
    "import matplotlib.pyplot as plt\n",
    "import pandas as pd\n",
    "import scanpy as sc\n",
    "import scipy.io as sio\n",
    "import anndata as ad\n",
    "import os as os\n",
    "import sys as sys\n",
    "sys.path.append('/home/xinghua/projects/PanCancer_scRNA_analysis/utils/')\n",
    "from scRNA_utils import *\n",
    "import operator as op"
   ]
  },
  {
   "attachments": {},
   "cell_type": "markdown",
   "metadata": {},
   "source": [
    "### Read in data matrix and combine with meta-data"
   ]
  },
  {
   "cell_type": "code",
   "execution_count": null,
   "metadata": {},
   "outputs": [],
   "source": [
    "### Read in data in H5AD format\n",
    "data_dir = \"/home/data/ICI_exprs/EGAS00001004809/\"\n",
    "data_file =  data_dir + '1863-counts_cells_cohort1.h5ad'\n",
    "\n",
    "adata = sc.read_h5ad(data_file)\n",
    "\n",
    "print (\"Read in dataset with dimension: \" + str(adata.shape))"
   ]
  },
  {
   "cell_type": "code",
   "execution_count": null,
   "metadata": {},
   "outputs": [],
   "source": [
    "# read in the csv meta-data\n",
    "meta_file_pathname = data_dir + \"1872-BIOKEY_metaData_cohort1_web.csv\"\n",
    "cohort1_meta = pd.read_csv(meta_file_pathname, header = 0, index_col = 0)"
   ]
  },
  {
   "cell_type": "code",
   "execution_count": null,
   "metadata": {},
   "outputs": [],
   "source": [
    "# make sure the index of cohort1_meta agree with the obs of adata\n",
    "cohort1_meta = cohort1_meta.reindex(adata.obs.index)\n",
    "adata.obs = cohort1_meta\n",
    "print(adata.obs.columns)\n",
    "print(adata.obs['patient_id'].unique())"
   ]
  },
  {
   "cell_type": "code",
   "execution_count": null,
   "metadata": {},
   "outputs": [],
   "source": [
    "# change \"timepoint\" values to lowercase\n",
    "adata.obs[\"timepoint\"] = adata.obs[\"timepoint\"].str.lower()\n",
    "adata.obs[\"timepoint\"].unique()"
   ]
  },
  {
   "cell_type": "code",
   "execution_count": null,
   "metadata": {},
   "outputs": [],
   "source": [
    "# the field \"cohort\" is equivalent to \"treatment\", rename it\n",
    "adata.obs.rename(columns={'cohort': 'treatment'}, inplace=True)"
   ]
  },
  {
   "attachments": {},
   "cell_type": "markdown",
   "metadata": {},
   "source": [
    "Extract sample names from the obs_names\n",
    "\n",
    "'BIOKEY_13_Pre_AAACCTGCAACAACCT-1'"
   ]
  },
  {
   "cell_type": "code",
   "execution_count": null,
   "metadata": {},
   "outputs": [],
   "source": [
    "# extract sample_id from index, re-join first three columns of index after splitting by \"_\"\n",
    "adata.obs['sample_id'] = adata.obs.index.str.split(\"_\").str[0:3].str.join(\"_\")\n"
   ]
  },
  {
   "attachments": {},
   "cell_type": "markdown",
   "metadata": {},
   "source": [
    "### Extract tissue type from the sample name or from meta-data"
   ]
  },
  {
   "attachments": {},
   "cell_type": "markdown",
   "metadata": {},
   "source": [
    "Drop unwanted columns"
   ]
  },
  {
   "cell_type": "code",
   "execution_count": null,
   "metadata": {},
   "outputs": [],
   "source": [
    "# drop the nCount_RNA and nFeature_RNA columns\n",
    "adata.obs.drop(columns=['nCount_RNA', 'nFeature_RNA'], inplace=True)\n",
    "\n",
    "# rearrange the columns order: \"patient_id\", \"sample_id\", \"timepoint\", \"treatment\", \"cell_type\"\n",
    "adata.obs = adata.obs[[\"patient_id\", \"sample_id\", \"timepoint\", \"treatment\", 'expansion', 'BC_type', 'cellType']]   "
   ]
  },
  {
   "cell_type": "code",
   "execution_count": null,
   "metadata": {},
   "outputs": [],
   "source": [
    "print(adata.obs.columns)"
   ]
  },
  {
   "attachments": {},
   "cell_type": "markdown",
   "metadata": {},
   "source": [
    "## 1. Basic Filtering"
   ]
  },
  {
   "cell_type": "code",
   "execution_count": null,
   "metadata": {},
   "outputs": [],
   "source": [
    "sc.settings.verbosity = 3             # verbosity: errors (0), warnings (1), info (2), hints (3)\n",
    "sc.logging.print_header()\n",
    "sc.settings.set_figure_params(dpi=80, facecolor='white')"
   ]
  },
  {
   "attachments": {},
   "cell_type": "markdown",
   "metadata": {},
   "source": [
    "#### Removing cells expressing <500 || >5000 genes:"
   ]
  },
  {
   "cell_type": "code",
   "execution_count": null,
   "metadata": {},
   "outputs": [],
   "source": [
    "# removing cells expressing <500 || >5000 genes\n",
    "sc.pp.filter_cells(adata, min_genes=500)\n",
    "sc.pp.filter_cells(adata, max_genes=5000)"
   ]
  },
  {
   "cell_type": "code",
   "execution_count": null,
   "metadata": {},
   "outputs": [],
   "source": [
    "print ('Dimention of adata: ' + str(adata.shape))\n",
    "print ('columns for adata.obs: ' + str(adata.obs.columns))"
   ]
  },
  {
   "attachments": {},
   "cell_type": "markdown",
   "metadata": {},
   "source": [
    "#### Removing cells containing <400 || >25000 UMIs:"
   ]
  },
  {
   "cell_type": "code",
   "execution_count": null,
   "metadata": {},
   "outputs": [],
   "source": [
    "# removing cells containing <400 || >25000 UMIs\n",
    "sc.pp.filter_cells(adata, min_counts = 400)\n",
    "sc.pp.filter_cells(adata, max_counts = 25000)"
   ]
  },
  {
   "cell_type": "code",
   "execution_count": null,
   "metadata": {},
   "outputs": [],
   "source": [
    "print ('Dimention of adata: ' + str(adata.shape))\n",
    "print ('columns for adata.obs: ' + str(adata.obs.columns))"
   ]
  },
  {
   "attachments": {},
   "cell_type": "markdown",
   "metadata": {},
   "source": [
    "# Preprecess with respect to gene (var)\n",
    "#### Removing genes covered by <3 cells per sample\n"
   ]
  },
  {
   "cell_type": "code",
   "execution_count": null,
   "metadata": {},
   "outputs": [],
   "source": [
    "# removing genes covered by <3 cells\n",
    "sc.pp.filter_genes(adata, min_cells= 10)\n",
    "adata.var_names_make_unique()\n",
    "adata.shape"
   ]
  },
  {
   "attachments": {},
   "cell_type": "markdown",
   "metadata": {},
   "source": [
    "### Remove cells with high percentage of mitochondrial genes"
   ]
  },
  {
   "cell_type": "code",
   "execution_count": null,
   "metadata": {},
   "outputs": [],
   "source": [
    "# label genes as mt\n",
    "adata.var['mt'] = adata.var_names.str.startswith('MT-')  \n",
    "\n",
    "# annotate cells with the percent of genes assigned as mt\n",
    "sc.pp.calculate_qc_metrics(adata, qc_vars=['mt'], percent_top=None, log1p=False, inplace=True)\n",
    "\n",
    "# remove mitochondrial genes from analysis\n",
    "adata = adata[:, ~adata.var['mt'].values]\n",
    "\n",
    "# Here we keep cells with < 20% mito ratio\n",
    "adata = adata[adata.obs['pct_counts_mt'] < 20, :]\n",
    "adata.shape"
   ]
  },
  {
   "attachments": {},
   "cell_type": "markdown",
   "metadata": {},
   "source": [
    "Plot statistics regarding cells"
   ]
  },
  {
   "cell_type": "code",
   "execution_count": null,
   "metadata": {},
   "outputs": [],
   "source": [
    "sc.pl.violin(adata, ['n_genes_by_counts', 'total_counts', 'pct_counts_mt'],\n",
    "             jitter=0.0, multi_panel=True)"
   ]
  },
  {
   "attachments": {},
   "cell_type": "markdown",
   "metadata": {},
   "source": [
    "## 2. Integrating Samples"
   ]
  },
  {
   "attachments": {},
   "cell_type": "markdown",
   "metadata": {},
   "source": [
    "#### Normalization & Logarithmization:"
   ]
  },
  {
   "cell_type": "code",
   "execution_count": null,
   "metadata": {},
   "outputs": [],
   "source": [
    "# Log normalization scaled up to 10000\n",
    "print('Before normalization, the sum of first row of X: ' + str(adata.X[0,:].sum()))\n",
    "sc.pp.normalize_total(adata, target_sum=1e4)\n",
    "print('After normalization, the sum of first row of X: ' + str(adata.X[0,:].sum()))\n"
   ]
  },
  {
   "cell_type": "code",
   "execution_count": null,
   "metadata": {},
   "outputs": [],
   "source": [
    "print('Before log, the sum of first row of X: ' + str(adata.X[0,:].sum()))\n",
    "# Logarithmize adata\n",
    "sc.pp.log1p(adata, base = 2)\n",
    "print('After log, the sum of first row of X: ' + str(adata.X[0,:].sum()))"
   ]
  },
  {
   "attachments": {},
   "cell_type": "markdown",
   "metadata": {},
   "source": [
    "### load cell cycle markers and score cells for cell cycle\n",
    "\n",
    "The question is whether this step is necessary for our study. We are trying to look for genes expression modules (GEMs).  Cell cycel is an important component of cellular signaling, thus removing its signal distorts the cellular states.  \n",
    "\n",
    "Afterall, it seems to introduce 'Inf' to data which prevent the following steps."
   ]
  },
  {
   "attachments": {},
   "cell_type": "markdown",
   "metadata": {},
   "source": [
    "## Keep high variance genes "
   ]
  },
  {
   "cell_type": "code",
   "execution_count": null,
   "metadata": {},
   "outputs": [],
   "source": [
    "n_top_genes=10000\n",
    "sc.pp.highly_variable_genes(adata, n_top_genes=n_top_genes)\n",
    "sc.pl.highly_variable_genes(adata)"
   ]
  },
  {
   "cell_type": "code",
   "execution_count": null,
   "metadata": {},
   "outputs": [],
   "source": [
    "adata.var.columns\n"
   ]
  },
  {
   "attachments": {},
   "cell_type": "markdown",
   "metadata": {},
   "source": [
    "### Keep track of original adata and update adata.X to  high variance genes only"
   ]
  },
  {
   "cell_type": "code",
   "execution_count": null,
   "metadata": {},
   "outputs": [],
   "source": [
    "adata.raw = adata\n",
    "adata = adata[:, adata.var.highly_variable]\n",
    "print('adata dimensions of high variance genes: ' + str(adata.shape))"
   ]
  },
  {
   "attachments": {},
   "cell_type": "markdown",
   "metadata": {},
   "source": [
    "## 3. Unsupervised cell clustering & identification of major cell types"
   ]
  },
  {
   "cell_type": "code",
   "execution_count": null,
   "metadata": {},
   "outputs": [],
   "source": [
    "# perform PCA   \n",
    "sc.tl.pca(adata, svd_solver='arpack', n_comps=30)"
   ]
  },
  {
   "cell_type": "code",
   "execution_count": null,
   "metadata": {},
   "outputs": [],
   "source": [
    "print(adata.obsm['X_pca'].shape)\n",
    "print(adata.varm['PCs'].shape)\n",
    "print(adata.uns['pca']['variance_ratio'].shape)\n",
    "print(adata.obs.columns)"
   ]
  },
  {
   "cell_type": "code",
   "execution_count": null,
   "metadata": {},
   "outputs": [],
   "source": [
    "sc.pp.neighbors(adata, n_neighbors=80, n_pcs=30)"
   ]
  },
  {
   "cell_type": "code",
   "execution_count": null,
   "metadata": {},
   "outputs": [],
   "source": [
    "# Use the Leiden algorithm to find clusters\n",
    "sc.tl.leiden(adata, resolution=0.5)\n"
   ]
  },
  {
   "cell_type": "code",
   "execution_count": null,
   "metadata": {},
   "outputs": [],
   "source": [
    "# load/find cell cycle markers: T-test/T-cells\n",
    "sc.tl.rank_genes_groups(adata, 'leiden', method='t-test')\n",
    "sc.pl.rank_genes_groups(adata, n_genes=25, sharey=False)"
   ]
  },
  {
   "cell_type": "code",
   "execution_count": null,
   "metadata": {},
   "outputs": [],
   "source": [
    "adata.obs.columns"
   ]
  },
  {
   "attachments": {},
   "cell_type": "markdown",
   "metadata": {},
   "source": [
    "## 3. Unsupervised cell clustering & identification of major cell types"
   ]
  },
  {
   "cell_type": "code",
   "execution_count": null,
   "metadata": {},
   "outputs": [],
   "source": [
    "# perform UMAP\n",
    "sc.tl.umap(adata)\n",
    "sc.pl.umap(adata, color='leiden',legend_loc='on data')"
   ]
  },
  {
   "cell_type": "code",
   "execution_count": null,
   "metadata": {},
   "outputs": [],
   "source": [
    "# color by gene expression of T cell markers\n",
    "sc.pl.umap(adata, color= ['CD3D', 'CD3E', 'TRAC', 'TRBC1'])"
   ]
  },
  {
   "cell_type": "code",
   "execution_count": null,
   "metadata": {},
   "outputs": [],
   "source": [
    "# color by gene expression of B cell markers\n",
    "sc.pl.umap(adata, color= ['CD19', 'CD79A', 'CD79B', 'MS4A1'])"
   ]
  },
  {
   "cell_type": "code",
   "execution_count": null,
   "metadata": {},
   "outputs": [],
   "source": [
    "# color by gene expression of myeloid cell markers\n",
    "sc.pl.umap(adata, color= ['CD14', 'CD68', 'CD163', 'CD33'])"
   ]
  },
  {
   "cell_type": "code",
   "execution_count": null,
   "metadata": {},
   "outputs": [],
   "source": [
    "# color by gene expression of epi cell markers\n",
    "sc.pl.umap(adata, color= ['EPCAM', 'CD24','KRT19', 'KRT7'])"
   ]
  },
  {
   "cell_type": "code",
   "execution_count": null,
   "metadata": {},
   "outputs": [],
   "source": [
    "# color by gene expression of fibroblast cell markers   \n",
    "sc.pl.umap(adata, color= ['COL1A1', 'COL1A2', 'COL3A1', 'ACTA2'])"
   ]
  },
  {
   "cell_type": "code",
   "execution_count": null,
   "metadata": {},
   "outputs": [],
   "source": [
    "# color by gene expression of endothelial cell markers  \n",
    "sc.pl.umap(adata, color= ['PECAM1', 'CD34', 'VWF', 'CDH5'])"
   ]
  },
  {
   "attachments": {},
   "cell_type": "markdown",
   "metadata": {},
   "source": [
    "## Label cells based on cell markers"
   ]
  },
  {
   "cell_type": "code",
   "execution_count": null,
   "metadata": {},
   "outputs": [],
   "source": [
    "cell_type_markers = {\n",
    "    'T cells': ['CD3D', 'CD3E', 'TRAC', 'TRBC1'],\n",
    "    'B cells': ['CD79A', 'CD79B', 'MS4A1', 'TNFRSF17', 'MZB1'],\n",
    "    'Myeloid': ['CD14', 'CD68'],\n",
    "    'Epithelial': ['EPCAM', 'CD24'],\n",
    "    'Fibroblast': ['COL1A2', 'COL3A1', 'MYH11', 'ACTA2'],\n",
    "    'Endothelial': ['VWF', 'PECAM1']\n",
    "}\n",
    "sc.tl.dendrogram(adata, groupby='leiden')\n",
    "sc.pl.dotplot(adata, cell_type_markers, 'leiden', dendrogram=True)\n",
    "#sc.pl.umap(adata, color='clusters', legend_loc='on data')\n"
   ]
  },
  {
   "attachments": {},
   "cell_type": "markdown",
   "metadata": {},
   "source": [
    "### Function to annotate clusters with cell type"
   ]
  },
  {
   "cell_type": "code",
   "execution_count": null,
   "metadata": {},
   "outputs": [],
   "source": [
    "labelClusterWithCellType(adata, cell_type_markers)"
   ]
  },
  {
   "cell_type": "code",
   "execution_count": null,
   "metadata": {},
   "outputs": [],
   "source": [
    "sc.pl.umap(adata, color=['cell_type', 'treatment', 'timepoint', 'leiden'])"
   ]
  },
  {
   "attachments": {},
   "cell_type": "markdown",
   "metadata": {},
   "source": [
    "sc.pl.umap(adata, color='clusters', legend_loc='on data')"
   ]
  },
  {
   "cell_type": "markdown",
   "metadata": {},
   "source": [
    "## Save adata wtih cell type label"
   ]
  },
  {
   "cell_type": "code",
   "execution_count": null,
   "metadata": {},
   "outputs": [],
   "source": [
    "# write current adata to h5ad\n",
    "data_dir = \"/home/data/ICI_exprs/EGAS00001004809/\"\n",
    "adata.write(data_dir + '1863-counts_cells_cohort1_annotated.h5ad')"
   ]
  },
  {
   "cell_type": "code",
   "execution_count": null,
   "metadata": {},
   "outputs": [],
   "source": [
    "data_dir = \"/home/data/ICI_exprs/EGAS00001004809/\"\n",
    "adata = sc.read_h5ad(data_dir + '1863-counts_cells_cohort1_annotated.h5ad')"
   ]
  },
  {
   "cell_type": "markdown",
   "metadata": {},
   "source": [
    "## Some statistics of cell distribution pre and post treatment"
   ]
  },
  {
   "cell_type": "code",
   "execution_count": null,
   "metadata": {},
   "outputs": [],
   "source": [
    "# count the number of cells in each cell type\n",
    "cell_type_count = adata.obs.groupby('cell_type').size()\n",
    "# plot a pie chart\n",
    "cell_type_count.plot.pie(y='cell_type', figsize=(5, 5), autopct='%1.1f%%', startangle=90)\n",
    "plt.title('Overall cell type distribution')"
   ]
  },
  {
   "cell_type": "code",
   "execution_count": null,
   "metadata": {},
   "outputs": [],
   "source": [
    "# count the number of cells in each cell type in pre and on \n",
    "adata_pre = adata[adata.obs['timepoint'] == 'pre', :]\n",
    "cell_type_count_pre = adata_pre.obs.groupby(['cell_type']).size()\n",
    "cell_type_count_pre.plot.pie(y='cell_type', figsize=(5, 5), autopct='%1.1f%%', startangle=90)\n",
    "plt.title('Cell type distribution in pre')"
   ]
  },
  {
   "cell_type": "code",
   "execution_count": null,
   "metadata": {},
   "outputs": [],
   "source": [
    "# count the number of cells in each cell type in pre and on \n",
    "adata_on = adata[adata.obs['timepoint'] == 'on', :]\n",
    "cell_type_count_on = adata_on.obs.groupby(['cell_type']).size()\n",
    "cell_type_count_on.plot.pie(y='cell_type', figsize=(5, 5), autopct='%1.1f%%', startangle=90)\n",
    "plt.title('Cell type distribution in on')\n"
   ]
  },
  {
   "attachments": {},
   "cell_type": "markdown",
   "metadata": {},
   "source": [
    "## Extract T cells and create a new AnnData object"
   ]
  },
  {
   "cell_type": "code",
   "execution_count": null,
   "metadata": {},
   "outputs": [],
   "source": [
    "## Extract T cells and create a new AnnData object\n",
    "adata_T = adata[adata.obs['cell_type'] == 'T cells'].copy()\n",
    "adata_T.shape"
   ]
  },
  {
   "cell_type": "code",
   "execution_count": null,
   "metadata": {},
   "outputs": [],
   "source": [
    "# restore the X to original raw.X for re-processing \n",
    "adata_T  = ad.AnnData(X=adata_T.raw.X, obs=adata_T.obs, var=adata_T.raw.var)\n",
    "# drop highly variable gene column in var\n",
    "# adata_T.var.drop(['highly_variable'], axis=1, inplace=True)\n",
    "adata_T.raw = adata_T\n",
    "print(str(adata_T.shape))\n"
   ]
  },
  {
   "cell_type": "code",
   "execution_count": null,
   "metadata": {},
   "outputs": [],
   "source": [
    "# reclustering T cells\n",
    "n_top_genes=5000\n",
    "# select high variance genes\n",
    "sc.pp.highly_variable_genes(adata_T, n_top_genes=n_top_genes)  \n",
    "# filter genes\n",
    "adata_T = adata_T[:, adata_T.var['highly_variable']]\n",
    "# PCA\n",
    "sc.pp.pca(adata_T, n_comps=50, use_highly_variable=True, svd_solver='arpack')\n",
    "# UMAP\n",
    "sc.pp.neighbors(adata_T, n_neighbors=15, n_pcs=50)\n",
    "sc.tl.umap(adata_T)\n",
    "# clustering\n",
    "sc.tl.leiden(adata_T, resolution=0.5)\n",
    "# plot\n",
    "sc.pl.umap(adata_T, color=['leiden'], legend_loc='on data', title='T cells')\n"
   ]
  },
  {
   "attachments": {},
   "cell_type": "markdown",
   "metadata": {},
   "source": [
    "### Reclustering T cells and find where PD-1 and its target express"
   ]
  },
  {
   "cell_type": "code",
   "execution_count": null,
   "metadata": {},
   "outputs": [],
   "source": [
    "adata_T = clustering_adata(adata_T, n_top_genes = n_top_genes, resolution = 0.25)"
   ]
  },
  {
   "attachments": {},
   "cell_type": "markdown",
   "metadata": {},
   "source": [
    "### Label TNK subtypes"
   ]
  },
  {
   "cell_type": "code",
   "execution_count": null,
   "metadata": {},
   "outputs": [],
   "source": [
    "T_cell_makers = {\n",
    "    'CD4'\t: ['CD4', 'IL7R'],\n",
    "    'CD8'\t: [ 'CD8A', 'CD8B'],\n",
    "    'Naïve'\t: ['TCF7', 'SELL', 'LEF1', 'CCR7'],\n",
    "    'Exhausted' : ['LAG3', 'TIGIT', 'PDCD1', 'HAVCR2', 'CTLA4'],\n",
    "    'Cytotoxic' : ['IL2', 'GZMA', 'GNLY', 'PRF1', 'GZMB', 'GZMK', 'IFNG', 'NKG7'],\n",
    "    'Treg' : ['IL2RA', 'FOXP3', 'IKZF2', 'IKZF4',  'TNFRSF18'],\n",
    "    'Gamma-delta' : ['TRGC1', 'TRGC2', 'TRDC'],\n",
    "    'Th17' : ['IL17A',  'CCR6', 'KLRB1'],  #'IL22',\n",
    "    'MAIT' : ['SLC4A10', 'KLRB1', 'IL7R', 'DPP4'],  \n",
    "    'ILC' :\t['KIT', 'IL1R1'],\n",
    "    'Th1' :\t['STAT4', 'IL12RB2', 'IFNG'],\n",
    "    'Th2' :\t['GATA3', 'STAT6', 'IL4'],\n",
    "    'Tfh'\t: ['MAF', 'CXCL13', 'CXCR5', 'PDCD1'],\n",
    "    'NK' :  ['XCL1', 'FCGR3A', 'KLRD1', 'KLRF1', 'NCAM1'],\n",
    "    'Proliferation' : ['MKI67', 'PCNA', 'STMN1']\n",
    "}"
   ]
  },
  {
   "attachments": {},
   "cell_type": "markdown",
   "metadata": {},
   "source": [
    "### Plot"
   ]
  },
  {
   "cell_type": "code",
   "execution_count": null,
   "metadata": {},
   "outputs": [],
   "source": [
    "sc.tl.dendrogram(adata_T, groupby='leiden')\n",
    "sc.pl.dotplot(adata_T, T_cell_makers, 'leiden', dendrogram=True)"
   ]
  },
  {
   "cell_type": "code",
   "execution_count": null,
   "metadata": {},
   "outputs": [],
   "source": [
    "for cell_type, markers in T_cell_makers.items():\n",
    "    print (cell_type, \":\", markers)\n",
    "    sc.pl.umap(adata_T, color=markers)"
   ]
  },
  {
   "cell_type": "code",
   "execution_count": null,
   "metadata": {},
   "outputs": [],
   "source": [
    "adata_T.obs.drop(columns=\"cell_type\", inplace = True )\n",
    "labelClusterWithCellType(adata_T, T_cell_makers, cluster_column='leiden')\n",
    "sc.pl.umap(adata_T, color=['cell_type', 'leiden'])"
   ]
  },
  {
   "attachments": {},
   "cell_type": "markdown",
   "metadata": {},
   "source": [
    "Plot PD-1 and potential target genes"
   ]
  },
  {
   "cell_type": "code",
   "execution_count": null,
   "metadata": {},
   "outputs": [],
   "source": [
    "sc.pl.umap(adata_T, color= ['PDCD1', 'CXCL13', 'HAVCR2','CTLA4'])"
   ]
  },
  {
   "attachments": {},
   "cell_type": "markdown",
   "metadata": {},
   "source": [
    "The enriched genes for each cluster"
   ]
  },
  {
   "cell_type": "code",
   "execution_count": null,
   "metadata": {},
   "outputs": [],
   "source": [
    "# load/find cell cycle markers: T-test/T-cells\n",
    "sc.tl.rank_genes_groups(adata_T, 'leiden', method='t-test')\n",
    "sc.pl.rank_genes_groups(adata_T, n_genes=25, sharey=False)"
   ]
  },
  {
   "attachments": {},
   "cell_type": "markdown",
   "metadata": {},
   "source": [
    "### Examine the distribution of PDCD1 and potential target genes"
   ]
  },
  {
   "cell_type": "code",
   "execution_count": null,
   "metadata": {},
   "outputs": [],
   "source": [
    "# Get the index of the PD1 in the gene names list\n",
    "gene_index = np.where(adata_T.var_names == 'PDCD1')[0][0]\n",
    "# Extract expression values for the gene in all cells\n",
    "gene_expression_values = adata_T.X[:, gene_index].toarray().flatten()\n",
    "\n",
    "# Find cells expressing the gene (pdcd1) by filtering based on expression threshold\n",
    "expressing_cells_indices = np.where(gene_expression_values >= 1)[0]\n",
    "\n",
    "adata_T_pd1 = adata_T[expressing_cells_indices].copy()\n",
    "print(adata_T_pd1.shape)\n"
   ]
  },
  {
   "cell_type": "code",
   "execution_count": null,
   "metadata": {},
   "outputs": [],
   "source": [
    "# compare distribution of PDCD1, CXCL13, HAVCR2, CTLA4 conditioning on timepoint\n",
    "sc.pl.violin(adata_T_pd1, ['PDCD1', 'CXCL13', 'CCL3', 'HAVCR2','CTLA4'], groupby='timepoint', jitter=0)\n"
   ]
  },
  {
   "cell_type": "code",
   "execution_count": null,
   "metadata": {},
   "outputs": [],
   "source": [
    "# plot the umap with the timepoint\n",
    "sc.pl.umap(adata_T_pd1, color=['timepoint', 'PDCD1', 'CXCL13', 'HAVCR2','CTLA4'])"
   ]
  },
  {
   "cell_type": "code",
   "execution_count": null,
   "metadata": {},
   "outputs": [],
   "source": [
    "# show the distribution of the timepoint\n",
    "sc.pl.umap(adata_T, color = ['leiden', 'timepoint', 'patient_id' ])"
   ]
  },
  {
   "attachments": {},
   "cell_type": "markdown",
   "metadata": {},
   "source": [
    "## Extract Myeloid and recluster"
   ]
  },
  {
   "cell_type": "code",
   "execution_count": null,
   "metadata": {},
   "outputs": [],
   "source": [
    "## Extract myeloid cells and create a new AnnData object, restore it to raw\n",
    "data_dir = \"/home/data/ICI_exprs/EGAS00001004809/\"\n",
    "adata = sc.read_h5ad(data_dir + '1863-counts_cells_cohort1_annotated.h5ad')\n",
    "adata_M = adata[adata.obs['cell_type'] == 'Myeloid'].copy()\n",
    "# restore the X to original raw.X for re-processing \n",
    "adata_M  = ad.AnnData(X=adata_M.raw.X, obs=adata_M.obs, var=adata_M.raw.var, obsm=adata_M.obsm, uns=adata_M.uns)\n",
    "adata_M.uns['log1p']['base'] = 2\n",
    "    # drop the highly variable column in the var dataframe, so that it can be re-calculated\n",
    "adata_M.var.drop(['highly_variable'], axis=1, inplace=True)\n",
    "adata_M.raw = adata_M\n",
    "\n",
    "\n",
    "adata_M.shape"
   ]
  },
  {
   "cell_type": "code",
   "execution_count": null,
   "metadata": {},
   "outputs": [],
   "source": [
    "n_top_genes = 3000\n",
    "adata_M = clustering_adata(adata_M, resolution = 0.2, n_top_genes = n_top_genes)"
   ]
  },
  {
   "cell_type": "code",
   "execution_count": null,
   "metadata": {},
   "outputs": [],
   "source": [
    "# plot umap\n",
    "sc.pl.umap(adata_M, color='leiden',legend_loc='on data')"
   ]
  },
  {
   "cell_type": "markdown",
   "metadata": {},
   "source": [
    "It seems that there are some cells that are not myeloid cells.  We will remove them. Use the umap position to remove them."
   ]
  },
  {
   "cell_type": "code",
   "execution_count": null,
   "metadata": {},
   "outputs": [],
   "source": [
    "# sort the sample according X_umap[:, 1] and return the index and value\n",
    "index_umap_0, value_umap_0 = zip(*sorted(enumerate(adata_M.obsm['X_umap'][:, 0]), key=op.itemgetter(1)))  \n",
    "index_umap_1, value_umap_1 = zip(*sorted(enumerate(adata_M.obsm['X_umap'][:, 1]), key=op.itemgetter(1)))"
   ]
  },
  {
   "cell_type": "code",
   "execution_count": null,
   "metadata": {},
   "outputs": [],
   "source": [
    "plt.hist(value_umap_0, bins=100)"
   ]
  },
  {
   "cell_type": "code",
   "execution_count": null,
   "metadata": {},
   "outputs": [],
   "source": [
    "plt.hist(value_umap_1, bins=100)"
   ]
  },
  {
   "cell_type": "markdown",
   "metadata": {},
   "source": [
    "### Remove outlier cells"
   ]
  },
  {
   "cell_type": "code",
   "execution_count": null,
   "metadata": {},
   "outputs": [],
   "source": [
    "# adata_M_clean = adata_M[(adata_M.obsm['X_umap'][:, 0] > 1.0) & (adata_M.obsm['X_umap'][:, 0] < 10.0) & (adata_M.obsm['X_umap'][:, 1] > -1) & (adata_M.obsm['X_umap'][:, 1] < 12.0), :].copy()\n",
    "adata_M_clean = adata_M\n",
    "sc.pl.umap(adata_M_clean, color=['leiden', 'timepoint', 'patient_id' ])"
   ]
  },
  {
   "cell_type": "code",
   "execution_count": null,
   "metadata": {},
   "outputs": [],
   "source": [
    "adata_M_clean.shape"
   ]
  },
  {
   "cell_type": "markdown",
   "metadata": {},
   "source": [
    "### Identify DEGs for each cluster of myeloid cells"
   ]
  },
  {
   "cell_type": "code",
   "execution_count": null,
   "metadata": {},
   "outputs": [],
   "source": [
    "# Iterate through T cell clusters and identify the genes that are differentially expressed before and after treatment\n",
    "# q_val_threshold = 0.2\n",
    "pval_threshold = 0.05\n",
    "cluster_deg_df_list = []\n",
    "for c in adata_M.obs['leiden'].cat.categories:\n",
    "    # cluster #7 is too small, skip it\n",
    "    if c == '7':\n",
    "        continue\n",
    "    \n",
    "    print(\"M cluster:\", c)\n",
    "    cell_in_cluster = adata_M[adata_M.obs['leiden'] == c, :]\n",
    "    cluster_deg_df = paird_ttest(cell_in_cluster, condition_key = 'timepoint', sample_id_col = 'sample_id', patient_id_col = 'patient_id')\n",
    "    cluster_deg_df = cluster_deg_df[cluster_deg_df['pval'] < pval_threshold]\n",
    "    cluster_deg_df.sort_values(by=['pval'], inplace=True)\n",
    "    cluster_deg_df_list.append(cluster_deg_df)"
   ]
  },
  {
   "cell_type": "code",
   "execution_count": null,
   "metadata": {},
   "outputs": [],
   "source": [
    "cluster_deg_df_list[0].head(15)"
   ]
  },
  {
   "attachments": {},
   "cell_type": "markdown",
   "metadata": {},
   "source": [
    "### Extract B cells"
   ]
  },
  {
   "cell_type": "code",
   "execution_count": null,
   "metadata": {},
   "outputs": [],
   "source": [
    "## Extract myeloid cells and create a new AnnData object\n",
    "\n",
    "adata_B = adata[adata.obs['cell_type'] == 'B cells'].copy()\n",
    "print(str(adata_B.shape))\n",
    "# restore the X to original raw.X for re-processing \n",
    "adata_B  = ad.AnnData(X=adata_B.raw.X, obs=adata_B.obs, var=adata_B.raw.var, obsm=adata_B.obsm, uns=adata_B.uns)\n",
    "# drop the highly variable gene column in the var dataframe\n",
    "adata_B.var.drop(columns='highly_variable', inplace=True)\n",
    "adata_B.raw = adata_B\n",
    "\n",
    "print(str(adata_B.shape))\n"
   ]
  },
  {
   "cell_type": "code",
   "execution_count": null,
   "metadata": {},
   "outputs": [],
   "source": [
    "adata_B = clustering_adata(adata_B, resolution=0.50, n_top_genes = n_top_genes)"
   ]
  },
  {
   "cell_type": "code",
   "execution_count": null,
   "metadata": {},
   "outputs": [],
   "source": [
    "# plot UMAP with timepoint\n",
    "sc.pl.umap(adata_B, color=['leiden', 'timepoint', 'patient_id'],show=True)"
   ]
  },
  {
   "cell_type": "code",
   "execution_count": null,
   "metadata": {},
   "outputs": [],
   "source": [
    "# plt.hist(adata_B.obsm['X_umap'][:,0], bins=100)"
   ]
  },
  {
   "cell_type": "code",
   "execution_count": null,
   "metadata": {},
   "outputs": [],
   "source": [
    "# plt.hist(adata_B.obsm['X_umap'][:, 1], bins=100, label='UMAP 1')"
   ]
  },
  {
   "cell_type": "code",
   "execution_count": null,
   "metadata": {},
   "outputs": [],
   "source": [
    "adata_B_clean = adata_B[(adata_B.obsm['X_umap'][:, 0] < 5.0), :].copy()\n",
    "adata_B_clean = adata_B\n",
    "sc.pl.umap(adata_B_clean, color= ['leiden', 'timepoint', 'patient_id'], ncols= 2)"
   ]
  },
  {
   "cell_type": "code",
   "execution_count": null,
   "metadata": {},
   "outputs": [],
   "source": [
    "adata_B_clean.shape"
   ]
  },
  {
   "attachments": {},
   "cell_type": "markdown",
   "metadata": {},
   "source": [
    "## Extract epithelial cells"
   ]
  },
  {
   "cell_type": "code",
   "execution_count": null,
   "metadata": {},
   "outputs": [],
   "source": [
    "## Extract epithelia cells and create a new AnnData object\n",
    "adata_Epi = adata[adata.obs['cell_type'] == 'Epithelial'].copy()\n",
    "print(str(adata_Epi.shape))\n",
    "# restore the X to original raw.X for re-processing \n",
    "adata_Epi  = ad.AnnData(X=adata_Epi.raw.X, obs=adata_Epi.obs, var=adata_Epi.raw.var, obsm=adata_Epi.obsm, uns=adata_Epi.uns)\n",
    "# drop highly variable genes column from var dataframe\n",
    "adata_Epi.var.drop(columns=['highly_variable'], inplace=True)\n",
    "adata_Epi.raw = adata_Epi\n",
    "adata_Epi.shape\n"
   ]
  },
  {
   "cell_type": "code",
   "execution_count": null,
   "metadata": {},
   "outputs": [],
   "source": [
    "adata_Epi = clustering_adata(adata_Epi, n_top_genes = n_top_genes)"
   ]
  },
  {
   "cell_type": "code",
   "execution_count": null,
   "metadata": {},
   "outputs": [],
   "source": [
    "sc.pl.umap(adata_Epi, color=['leiden', 'timepoint', 'patient_id'])"
   ]
  },
  {
   "cell_type": "code",
   "execution_count": null,
   "metadata": {},
   "outputs": [],
   "source": [
    "# plot hist of umap 1\n",
    "# plt.hist(adata_Epi.obsm['X_umap'][:, 0], bins=100)"
   ]
  },
  {
   "cell_type": "code",
   "execution_count": null,
   "metadata": {},
   "outputs": [],
   "source": [
    "#plot hist of umap 2\n",
    "# plt.hist(adata_Epi.obsm['X_umap'][:, 1], bins=100)"
   ]
  },
  {
   "cell_type": "code",
   "execution_count": null,
   "metadata": {},
   "outputs": [],
   "source": [
    "# adata_Epi_clean = adata_Epi[(adata_Epi.obsm['X_umap'][:, 0] < 20.0) & (adata_Epi.obsm['X_umap'][:, 0] > 1.0) & (adata_Epi.obsm['X_umap'][:, 1] > 1.0), :].copy()\n",
    "adata_Epi_clean = adata_Epi\n",
    "sc.pl.umap(adata_Epi_clean, color=['leiden', 'timepoint', 'patient_id'], ncols=2)"
   ]
  },
  {
   "cell_type": "code",
   "execution_count": null,
   "metadata": {},
   "outputs": [],
   "source": [
    "adata_Epi_clean.shape"
   ]
  },
  {
   "cell_type": "markdown",
   "metadata": {},
   "source": [
    "### Extract fibroblasts\n"
   ]
  },
  {
   "cell_type": "code",
   "execution_count": null,
   "metadata": {},
   "outputs": [],
   "source": [
    "adata_Fibro = adata[adata.obs['cell_type'] == 'Fibroblast'].copy()\n",
    "print(str(adata_Fibro.shape))\n",
    "# restore the X to original raw.X for re-processing\n",
    "adata_Fibro  = ad.AnnData(X=adata_Fibro.raw.X, obs=adata_Fibro.obs, var=adata_Fibro.raw.var, obsm=adata_Fibro.obsm, uns=adata_Fibro.uns)\n",
    "# drop the highly variable column from var\n",
    "adata_Fibro.var.drop(columns=['highly_variable'], inplace=True)\n",
    "adata_Fibro.raw = adata_Fibro\n",
    "adata_Fibro.write(data_dir + '1863-counts_cells_cohort1_Fibro_cells.h5ad')\n"
   ]
  },
  {
   "cell_type": "code",
   "execution_count": null,
   "metadata": {},
   "outputs": [],
   "source": [
    "adata_Fibro = clustering_adata(adata_Fibro, resolution = 1.0, n_top_genes = n_top_genes)"
   ]
  },
  {
   "cell_type": "code",
   "execution_count": null,
   "metadata": {},
   "outputs": [],
   "source": [
    "sc.pl.umap(adata_Fibro, color=['leiden', 'timepoint', 'patient_id'], ncols= 2)"
   ]
  },
  {
   "cell_type": "code",
   "execution_count": null,
   "metadata": {},
   "outputs": [],
   "source": [
    "# plot hist of umap 1\n",
    "# plt.hist(adata_Fibro.obsm['X_umap'][:, 0], bins=100)"
   ]
  },
  {
   "cell_type": "code",
   "execution_count": null,
   "metadata": {},
   "outputs": [],
   "source": [
    "#plot hist of umap 2\n",
    "# plt.hist(adata_Fibro.obsm['X_umap'][:, 1], bins=100)"
   ]
  },
  {
   "cell_type": "code",
   "execution_count": null,
   "metadata": {},
   "outputs": [],
   "source": [
    "adata_Fibro_clean = adata_Fibro\n",
    "sc.pl.umap(adata_Fibro_clean, color=['leiden', 'timepoint', 'patient_id'])"
   ]
  },
  {
   "cell_type": "markdown",
   "metadata": {},
   "source": [
    "### Extract Endothelial cells and create a new AnnData object"
   ]
  },
  {
   "cell_type": "code",
   "execution_count": null,
   "metadata": {},
   "outputs": [],
   "source": [
    "adata_Endo = adata[adata.obs['cell_type'] == 'Endothelial'].copy()\n",
    "print(str(adata_Endo.shape))\n",
    "# restore the X to original raw.X for re-processing\n",
    "adata_Endo  = ad.AnnData(X=adata_Endo.raw.X, obs=adata_Endo.obs, var=adata_Endo.raw.var, obsm=adata_Endo.obsm, uns=adata_Endo.uns)\n",
    "adata_Endo.raw = adata_Endo\n",
    "# adata_Endo.write(data_dir + '1863-counts_cells_cohort1_Endo_cells.h5ad')\n"
   ]
  },
  {
   "cell_type": "code",
   "execution_count": null,
   "metadata": {},
   "outputs": [],
   "source": [
    "adata_Endo = clustering_adata(adata_Endo, n_top_genes = n_top_genes)"
   ]
  },
  {
   "cell_type": "code",
   "execution_count": null,
   "metadata": {},
   "outputs": [],
   "source": [
    "# plot hist of umap 1\n",
    "# plt.hist(adata_Endo.obsm['X_umap'][:, 0], bins=100)"
   ]
  },
  {
   "cell_type": "code",
   "execution_count": null,
   "metadata": {},
   "outputs": [],
   "source": [
    "# plot hist of umap 2\n",
    "# plt.hist(adata_Endo.obsm['X_umap'][:, 1], bins=100)"
   ]
  },
  {
   "cell_type": "code",
   "execution_count": null,
   "metadata": {},
   "outputs": [],
   "source": [
    "adata_Endo_clean = adata_Endo"
   ]
  },
  {
   "cell_type": "code",
   "execution_count": null,
   "metadata": {},
   "outputs": [],
   "source": [
    "sc.pl.umap(adata_Endo_clean, color=['leiden', 'timepoint', 'patient_id'])"
   ]
  },
  {
   "cell_type": "markdown",
   "metadata": {},
   "source": [
    "### Save data in high variance genes space"
   ]
  },
  {
   "cell_type": "code",
   "execution_count": null,
   "metadata": {},
   "outputs": [],
   "source": [
    "data_dir_NHDP = \"/data/ICI_exprs/ICI_NHDP/EGAS00001004809_high_variance_10k_gene_NHDP/\"\n",
    "#data_dir_NHDP = '/data/ICI_exprs/ICI_NHDP/EGAS00001004809_high_variance_gene_NHDP/'\n",
    "adata_B_clean.write_h5ad(data_dir_NHDP + '1863-counts_cells_cohort1_B_cells.h5ad')\n",
    "adata_Epi_clean.write_h5ad(data_dir_NHDP + '1863-counts_cells_cohort1_Epi_cells.h5ad')\n",
    "adata_Fibro_clean.write_h5ad(data_dir_NHDP + '1863-counts_cells_cohort1_Fibro_cells.h5ad')\n",
    "adata_Endo_clean.write_h5ad(data_dir_NHDP + '1863-counts_cells_cohort1_Endo_cells.h5ad')\n",
    "adata_T.write_h5ad(data_dir_NHDP + '1863-counts_cells_cohort1_T_cells.h5ad')\n",
    "adata_M_clean.write_h5ad(data_dir_NHDP + '1863-counts_cells_cohort1_M_cells.h5ad')"
   ]
  },
  {
   "cell_type": "markdown",
   "metadata": {},
   "source": [
    "### Restore adata.X to original data and save files"
   ]
  },
  {
   "cell_type": "code",
   "execution_count": null,
   "metadata": {},
   "outputs": [],
   "source": [
    "# data_dir_NHDP = '/data/ICI_exprs/ICI_NHDP/EGAS00001004809_original_gene_NHDP/'\n",
    "# adata_T_clean = ad.AnnData(X=adata_T.raw.X, obs=adata_T.obs, var=adata_T.raw.var, obsm=adata_T.obsm, uns=adata_T.uns)\n",
    "# adata_T_clean.raw = adata_T_clean\n",
    "# adata_T_clean.write_h5ad(data_dir_NHDP + '1863-counts_cells_cohort1_T_cells.h5ad')\n",
    "# adata_M_clean = ad.AnnData(X=adata_M.raw.X, obs=adata_M.obs, var=adata_M.raw.var, obsm=adata_M.obsm, uns=adata_M.uns)\n",
    "# adata_M_clean.raw = adata_M_clean\n",
    "# adata_M_clean.write_h5ad(data_dir_NHDP + '1863-counts_cells_cohort1_M_cells.h5ad')\n",
    "# adata_B_clean = ad.AnnData(X=adata_B.raw.X, obs=adata_B.obs, var=adata_B.raw.var, obsm=adata_B.obsm, uns=adata_B.uns)\n",
    "# adata_B_clean.raw = adata_B_clean\n",
    "# adata_B_clean.write_h5ad(data_dir_NHDP + '1863-counts_cells_cohort1_B_cells.h5ad')\n",
    "# adata_Epi_clean = ad.AnnData(X=adata_Epi_clean.raw.X, obs=adata_Epi_clean.obs, var=adata_Epi_clean.raw.var, obsm=adata_Epi_clean.obsm, uns=adata_Epi_clean.uns)\n",
    "# adata_Epi_clean.raw = adata_Epi_clean\n",
    "# adata_Epi_clean.write_h5ad(data_dir_NHDP + '1863-counts_cells_cohort1_Epi_cells.h5ad')\n",
    "# adata_Endo_clean = ad.AnnData(X=adata_Endo_clean.raw.X, obs=adata_Endo_clean.obs, var=adata_Endo_clean.raw.var, obsm=adata_Endo_clean.obsm, uns=adata_Endo_clean.uns)\n",
    "# adata_Endo_clean.raw = adata_Endo_clean\n",
    "# adata_Endo_clean.write_h5ad(data_dir_NHDP + '1863-counts_cells_cohort1_Endo_cells.h5ad')\n",
    "# adata_Fibro_clean = ad.AnnData(X=adata_Fibro_clean.raw.X, obs=adata_Fibro_clean.obs, var=adata_Fibro_clean.raw.var, obsm=adata_Fibro_clean.obsm, uns=adata_Fibro_clean.uns) \n",
    "# adata_Fibro_clean.raw = adata_Fibro_clean\n",
    "# adata_Fibro_clean.write_h5ad(data_dir_NHDP + '1863-counts_cells_cohort1_Fibro_cells.h5ad')\n"
   ]
  },
  {
   "cell_type": "markdown",
   "metadata": {},
   "source": [
    "# Identify DEGs within each cell type and clusters\n"
   ]
  },
  {
   "cell_type": "code",
   "execution_count": null,
   "metadata": {},
   "outputs": [],
   "source": [
    "# Read in data from EGAS00001004809\n",
    "data_dir_NHDP = \"/data/ICI_exprs/ICI_NHDP/EGAS00001004809_high_variance_10k_gene_NHDP/\"\n",
    "adata_T = sc.read(data_dir_NHDP + '1863-counts_cells_cohort1_T_cells.h5ad')\n",
    "adata_T.shape"
   ]
  },
  {
   "cell_type": "code",
   "execution_count": null,
   "metadata": {},
   "outputs": [],
   "source": [
    "sc.pl.umap(adata_T, color=['leiden', 'timepoint', 'CD8A', 'CD4', 'FOXP3'])"
   ]
  },
  {
   "cell_type": "code",
   "execution_count": null,
   "metadata": {},
   "outputs": [],
   "source": [
    "sc.tl.rank_genes_groups(adata_T, groupby='leiden',  method='wilcoxon')\n",
    "sc.pl.rank_genes_groups(adata_T, n_genes=25, sharey=False)\n"
   ]
  },
  {
   "cell_type": "code",
   "execution_count": null,
   "metadata": {},
   "outputs": [],
   "source": [
    "# Iterate through T cell clusters and identify the genes that are differentially expressed before and after treatment\n",
    "# q_val_threshold = 0.2\n",
    "pval_threshold = 0.05\n",
    "cluster_deg_df_list = []\n",
    "for c in adata_T.obs['leiden'].cat.categories:\n",
    "    print(\"T cluster:\", c)\n",
    "    cell_in_cluster = adata_T[adata_T.obs['leiden'] == c, :]\n",
    "    cluster_deg_df = paird_ttest(cell_in_cluster, condition_key = 'timepoint', sample_id_col = 'sample_id', patient_id_col = 'patient_id')\n",
    "    # cluster_deg_df = cluster_deg_df[cluster_deg_df['pval'] < pval_threshold]\n",
    "    # sort the dataframe by pval\n",
    "    cluster_deg_df.sort_values(by=['pval'], inplace=True)\n",
    "    cluster_deg_df_list.append(cluster_deg_df)"
   ]
  },
  {
   "cell_type": "code",
   "execution_count": null,
   "metadata": {},
   "outputs": [],
   "source": [
    "# convert the list of dataframes to a single excel file\n",
    "with pd.ExcelWriter(data_dir + 'EGAS00001004809_T_cell_cluster_deg.xlsx') as writer:\n",
    "    for i, df in enumerate(cluster_deg_df_list):\n",
    "        df.to_excel(writer, sheet_name='T_cluster_' + str(i))"
   ]
  },
  {
   "cell_type": "markdown",
   "metadata": {},
   "source": [
    "### Cluster 3 is CD4 T cells with high expression of PDCD1 and CXCL13\n",
    "Check DEGs for cluster 3\n"
   ]
  },
  {
   "cell_type": "code",
   "execution_count": null,
   "metadata": {},
   "outputs": [],
   "source": [
    "cluster_3 = cluster_deg_df_list[3]\n",
    "sig_genes = cluster_3[cluster_3['pval'] < 0.05]\n",
    "# sort rows by pval from low to high\n",
    "sig_genes = sig_genes.sort_values(by=['pval'])\n",
    "sig_genes\n"
   ]
  },
  {
   "cell_type": "markdown",
   "metadata": {},
   "source": [
    "### Cluster 4 is CD8 T cells with high expression of PDCD1 and CXCL13 and other \"exhaustion\" markers such as GZMB, NKG7, CCL5"
   ]
  },
  {
   "cell_type": "code",
   "execution_count": null,
   "metadata": {},
   "outputs": [],
   "source": [
    "cluster_4 = cluster_deg_df_list[4]\n",
    "sig_genes = cluster_4[cluster_4['pval'] < 0.05]\n",
    "# sort rows by pval from low to high\n",
    "sig_genes = sig_genes.sort_values(by=['pval'])\n",
    "sig_genes"
   ]
  },
  {
   "cell_type": "code",
   "execution_count": null,
   "metadata": {},
   "outputs": [],
   "source": [
    "# plot umap of DEGs from cluster #4\n",
    "sc.pl.umap(adata_T, color=['TSC22D3', 'ZFP36L1', 'FASLG', 'CXCR4', 'timepoint'])"
   ]
  },
  {
   "cell_type": "markdown",
   "metadata": {},
   "source": [
    "### Find DEGs after anti-PD1 treatment in cells expressing PD-1\n"
   ]
  },
  {
   "cell_type": "code",
   "execution_count": null,
   "metadata": {},
   "outputs": [],
   "source": [
    "# Get the index of the PD1 in the gene names list\n",
    "gene_index = np.where(adata_T.var_names == 'PDCD1')[0][0]\n",
    "# Extract expression values for the gene in all cells\n",
    "gene_expression_values = adata_T.X[:, gene_index].toarray().flatten()\n",
    "\n",
    "# Find cells expressing the gene (pdcd1) by filtering based on expression threshold\n",
    "expressing_cells_indices = np.where(gene_expression_values >= 1)[0]\n",
    "\n",
    "adata_T_pd1 = adata_T[expressing_cells_indices].copy()\n",
    "print(adata_T_pd1.shape)\n"
   ]
  },
  {
   "cell_type": "code",
   "execution_count": null,
   "metadata": {},
   "outputs": [],
   "source": [
    "sc.pl.umap(adata_T_pd1, color=[ 'cell_type', 'PDCD1', 'CXCL13', 'PRDM1','TXNIP', 'timepoint'])"
   ]
  },
  {
   "cell_type": "code",
   "execution_count": null,
   "metadata": {},
   "outputs": [],
   "source": [
    "sc.pl.umap(adata_T_pd1, color=[ 'cell_type', 'PDCD1', 'CXCL13', 'timepoint'])"
   ]
  },
  {
   "cell_type": "code",
   "execution_count": null,
   "metadata": {},
   "outputs": [],
   "source": [
    "pd1_deg_df = paird_ttest(adata_T_pd1, condition_key = 'timepoint', sample_id_col = 'sample_id', patient_id_col = 'patient_id')"
   ]
  },
  {
   "cell_type": "code",
   "execution_count": null,
   "metadata": {},
   "outputs": [],
   "source": [
    "# find DEGs between two groups\n",
    "pd1_deg_df = pd1_deg_df[pd1_deg_df['qval'] < 0.15]\n",
    "# sort by pval\n",
    "pd1_deg_df = pd1_deg_df.sort_values(by=['pval'], ascending=True)\n",
    "pd1_deg_df.to_csv(os.path.join(data_dir, 'pd1_deg_df.tsv'), sep='\\t', index=True)\n",
    "pd1_deg_df"
   ]
  },
  {
   "cell_type": "code",
   "execution_count": null,
   "metadata": {},
   "outputs": [],
   "source": [
    "pd1_deg_df.shape\n"
   ]
  },
  {
   "cell_type": "code",
   "execution_count": null,
   "metadata": {},
   "outputs": [],
   "source": [
    "# plot violin plot of genes, 4 genes in each row\n",
    "sc.pl.violin (adata_T_pd1, ['PDCD1', 'CXCL13', 'TIGIT', 'HAVCR2', 'PRDM1', 'TXNIP', 'FKBP5',  ], groupby='timepoint', jitter= 0)\n",
    "sc.pl.violin (adata_T_pd1, ['PDCD1', 'CXCL13', 'TIGIT', 'CD8A', 'HAVCR2', 'PRDM1', 'TXNIP', 'FKBP5' ], groupby='timepoint', jitter= 0)"
   ]
  },
  {
   "cell_type": "markdown",
   "metadata": {},
   "source": [
    "## Prepare T-cell data for Bryan Andrews\n",
    "\n",
    "We are to model the target genes of PD-L1 and PD-1 signaling in T cells.\n",
    "We need to prepare the T cell data for Bryan Andrews to run his analysis. We need to provide him with a file with the following columns:\n"
   ]
  },
  {
   "cell_type": "markdown",
   "metadata": {},
   "source": [
    "Extract expression values of 'PDCD1', 'CXCL13', 'PRDM1', 'CD8A' from T cells and create a new dataframe"
   ]
  },
  {
   "cell_type": "code",
   "execution_count": null,
   "metadata": {},
   "outputs": [],
   "source": [
    "# extract expression of PDCD1, CXCL13, PRDM1\n",
    "gene_of_interest = ['PDCD1', 'CXCL13', 'PRDM1', 'CD8A',  'HAVCR2', 'TIGIT', 'CTLA4']\n",
    "pdcd1_cxcl13_prdm1_array = adata_T[:, gene_of_interest].X.toarray()\n",
    "pdcd1_cxcl13_prdm1_array.shape"
   ]
  },
  {
   "cell_type": "markdown",
   "metadata": {},
   "source": [
    "### Create a dataframe containing the above genes and leiden clustering ids"
   ]
  },
  {
   "cell_type": "code",
   "execution_count": null,
   "metadata": {},
   "outputs": [],
   "source": [
    "df_4_bryan = pd.DataFrame(data=pdcd1_cxcl13_prdm1_array, columns=gene_of_interest)\n",
    "df_4_bryan.index = adata_T.obs.index\n",
    "# add columns for leiiden and sample_id \n",
    "df_4_bryan['leiden'] = adata_T.obs['leiden'].values\n",
    "df_4_bryan['sample_id'] = adata_T.obs['sample_id'].values\n",
    "df_4_bryan['timepoint'] = adata_T.obs['timepoint'].values\n"
   ]
  },
  {
   "cell_type": "code",
   "execution_count": null,
   "metadata": {},
   "outputs": [],
   "source": [
    "df_4_bryan"
   ]
  },
  {
   "cell_type": "code",
   "execution_count": null,
   "metadata": {},
   "outputs": [],
   "source": [
    "# remove cells with zero expression for all PDCD1, CXCL13, PRDM1, CD8A, HAVCR2\n",
    "df_4_bryan = df_4_bryan[(df_4_bryan['PDCD1'] > 0) | (df_4_bryan['CXCL13'] > 0) | (df_4_bryan['PRDM1'] > 0) | (df_4_bryan['CD8A'] > 0) | (df_4_bryan['HAVCR2'] > 0)  ]\n",
    "df_4_bryan.shape"
   ]
  },
  {
   "cell_type": "markdown",
   "metadata": {},
   "source": [
    "### Extract bulk RNA-seq data for PD-L1 'CD274' and populate the dataframe.\n",
    "Use the pseudobulk data of pd-l1 and repopulate the df_4_bryan with the bulk RNA-seq data"
   ]
  },
  {
   "cell_type": "code",
   "execution_count": null,
   "metadata": {},
   "outputs": [],
   "source": [
    "adata = sc.read_h5ad(data_dir + '1863-counts_cells_cohort1_filtered.h5ad')\n",
    "adata.raw = adata\n",
    "adata_bulk = scRNA2PseudoBulkAnnData(adata, sample_id_col='sample_id')\n",
    "cd274_bulk = adata_bulk[:, adata_bulk.var_names == 'CD274'].X.toarray()\n",
    "cd274_bulk_df = pd.DataFrame(cd274_bulk, columns = ['CD274'], index = adata_bulk.obs.index)"
   ]
  },
  {
   "cell_type": "code",
   "execution_count": null,
   "metadata": {},
   "outputs": [],
   "source": [
    "cd274_bulk_df"
   ]
  },
  {
   "cell_type": "code",
   "execution_count": null,
   "metadata": {},
   "outputs": [],
   "source": [
    "# add an empty column for df_4_bryan\n",
    "df_4_bryan['CD274'] = np.nan\n",
    "# loop through sample_ids of cd274_bulk_df and add the value to df_4_bryan\n",
    "for sample_id in cd274_bulk_df.index:\n",
    "    df_4_bryan.loc[df_4_bryan['sample_id'] == sample_id, 'CD274'] = cd274_bulk_df.loc[sample_id, 'CD274']\n",
    "\n",
    "# add gaussian noise to the expression of CD274\n",
    "df_4_bryan['CD274'] = df_4_bryan['CD274'] + np.random.normal(0, 0.025, df_4_bryan.shape[0])\n",
    "df_4_bryan.loc[:,'CD274*PDCD1'] = df_4_bryan.loc[:,'CD274'] * df_4_bryan.loc[:,'PDCD1']"
   ]
  },
  {
   "cell_type": "code",
   "execution_count": null,
   "metadata": {},
   "outputs": [],
   "source": [
    "# reorder the columns and save to tsv\n",
    "df_4_bryan = df_4_bryan[['CD274', 'PDCD1', 'CD274*PDCD1', 'CXCL13', 'PRDM1', 'CD8A', 'HAVCR2', 'TIGIT', 'CTLA4', 'leiden' , 'timepoint',  'sample_id' ]]\n",
    "df_4_bryan.to_csv(os.path.join(data_dir, 'df_4_bryan.tsv'), sep='\\t', index=True)"
   ]
  },
  {
   "cell_type": "code",
   "execution_count": null,
   "metadata": {},
   "outputs": [],
   "source": [
    "data_dir"
   ]
  },
  {
   "cell_type": "code",
   "execution_count": null,
   "metadata": {},
   "outputs": [],
   "source": []
  }
 ],
 "metadata": {
  "kernelspec": {
   "display_name": "base",
   "language": "python",
   "name": "python3"
  },
  "language_info": {
   "codemirror_mode": {
    "name": "ipython",
    "version": 3
   },
   "file_extension": ".py",
   "mimetype": "text/x-python",
   "name": "python",
   "nbconvert_exporter": "python",
   "pygments_lexer": "ipython3",
   "version": "3.11.5"
  },
  "vscode": {
   "interpreter": {
    "hash": "6099bf950c4e2d0da650f89b132257c4802c810b0835ed278af9d4dcc1b49a4c"
   }
  }
 },
 "nbformat": 4,
 "nbformat_minor": 2
}
