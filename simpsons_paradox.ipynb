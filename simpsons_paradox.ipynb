{
 "cells": [
  {
   "cell_type": "markdown",
   "metadata": {},
   "source": [
    "# problem1: do we need normalize L and R then time them"
   ]
  },
  {
   "cell_type": "code",
   "execution_count": null,
   "metadata": {},
   "outputs": [],
   "source": [
    "import numpy as np\n",
    "import matplotlib.pyplot as plt\n",
    "import pandas as pd\n",
    "import scanpy as sc\n",
    "import scipy.io as sio\n",
    "import anndata as ad\n",
    "import seaborn as sns\n",
    "import os as os\n",
    "import sys as sys\n",
    "sys.path.append('/home/qiuaodon/Desktop/PanCancer_scRNA_analysis/utils/')\n",
    "from scRNA_utils import *\n",
    "import operator as op\n",
    "import matplotlib.colors as mcolors"
   ]
  },
  {
   "cell_type": "code",
   "execution_count": null,
   "metadata": {},
   "outputs": [],
   "source": [
    "data_dir_NHDP = \"/home/qiuaodon/Desktop/project_data_new/\"\n",
    "adata_T = sc.read(data_dir_NHDP + '1863-counts_cells_cohort1_T_cells.h5ad')\n",
    "adata_1 = adata_T[adata_T[:,'PDCD1'].X > 0, :]\n",
    "adata_M = sc.read(data_dir_NHDP + '1863-counts_cells_cohort1_M_cells.h5ad')\n",
    "adata_2 = adata_M"
   ]
  },
  {
   "cell_type": "code",
   "execution_count": null,
   "metadata": {},
   "outputs": [],
   "source": [
    "adata_1_pseudo = scRNA2PseudoBulkAnnData(adata_1, sample_id_col='sample_id')\n",
    "adata_2_pseudo = scRNA2PseudoBulkAnnData(adata_2, sample_id_col='sample_id')"
   ]
  },
  {
   "cell_type": "code",
   "execution_count": null,
   "metadata": {},
   "outputs": [],
   "source": [
    "gene_df = pd.read_csv(data_dir_NHDP + 'gene_df_PD1_Myeloid.csv')"
   ]
  },
  {
   "cell_type": "code",
   "execution_count": null,
   "metadata": {},
   "outputs": [],
   "source": [
    "gene_df"
   ]
  },
  {
   "cell_type": "code",
   "execution_count": null,
   "metadata": {},
   "outputs": [],
   "source": [
    "DEG_pairs = pd.read_excel('/home/qiuaodon/Desktop/project_data_new/IV_regression_results_PD1vsM.xlsx')\n",
    "# DEG_pairs = pd.read_excel('/home/qiuaodon/Desktop/project_data_new/IV_regression_results_CD4EXvsEndo_filtered.xlsx')\n",
    "# drop the p_value column and r_squared column\n",
    "DEG_pairs = DEG_pairs.drop(columns=['p_value', 'r_squared'])\n",
    "# set the first two columns as g1 and g2 in DEG_pairs\n",
    "DEG_pairs = DEG_pairs.rename(columns = {'gene_T':'g1', 'gene_cell':'g2'})"
   ]
  },
  {
   "cell_type": "code",
   "execution_count": null,
   "metadata": {},
   "outputs": [],
   "source": [
    "calculate_gene_correlation(DEG_pairs, adata_1_pseudo, adata_2_pseudo)"
   ]
  },
  {
   "cell_type": "code",
   "execution_count": null,
   "metadata": {},
   "outputs": [],
   "source": [
    "# Combine the two conditions using the logical OR operator\n",
    "DEG_pairs = DEG_pairs[(DEG_pairs['g1vsg2_correlation'] > 0.3) | (DEG_pairs['g1vsg2_correlation'] < -0.3)]\n",
    "\n",
    "# sort the DEG_pairs by g1vsg2_correlation\n",
    "DEG_pairs = DEG_pairs.sort_values(by='g1vsg2_correlation', ascending=False)\n",
    "DEG_pairs"
   ]
  },
  {
   "cell_type": "code",
   "execution_count": null,
   "metadata": {},
   "outputs": [],
   "source": [
    "g1 = list(DEG_pairs['g1']) \n",
    "g2 = list(DEG_pairs['g2']) \n",
    "g1_in_CD4EX = [i for i in gene_df.columns if np.sum(gene_df.loc[:, i] == 0) < 15] \n",
    "g2_in_Endo = [i for i in gene_df.columns if np.sum(gene_df.loc[:, i] == 0) < 15] \n",
    "DEG_pairs = DEG_pairs[DEG_pairs['g1'].isin(g1_in_CD4EX) & DEG_pairs['g2'].isin(g2_in_Endo)] \n",
    "DEG_pairs "
   ]
  },
  {
   "cell_type": "code",
   "execution_count": null,
   "metadata": {},
   "outputs": [],
   "source": [
    "lrpair = pd.read_csv('/home/qiuaodon/Desktop/project_data_new/lr_network_unique.tsv', sep='\\t')\n",
    "# get the lr pairs including ligand(from) and receptor(to) from the lrpair file with database as 'kegg'\n",
    "lrpair = lrpair[['from', 'to']]\n",
    "# change from as L and to as R\n",
    "lrpair.columns = ['L', 'R']\n",
    "lrpair"
   ]
  },
  {
   "cell_type": "code",
   "execution_count": null,
   "metadata": {},
   "outputs": [],
   "source": [
    "# check if the L and R in adata_CD4EX and adata_Mono separately and expression not all zero\n",
    "L = list(lrpair['L'])\n",
    "R = list(lrpair['R'])\n",
    "L_in_1 = list(set(L).intersection(adata_1.var_names))\n",
    "R_in_2 = list(set(R).intersection(adata_2.var_names))\n",
    "L_in_1 = [x for x in L_in_1 if np.sum(adata_1_pseudo[:, x].X == 0) < 0.75 * adata_1_pseudo.shape[0]]\n",
    "R_in_2 = [x for x in R_in_2 if np.sum(adata_2_pseudo[:, x].X == 0) < 0.75 * adata_2_pseudo.shape[0]]\n",
    "print('L:', len(L_in_1))\n",
    "print('R:', len(R_in_2))"
   ]
  },
  {
   "cell_type": "code",
   "execution_count": null,
   "metadata": {},
   "outputs": [],
   "source": [
    "# remove the LR pairs not in L and R\n",
    "lrpair = lrpair[lrpair['L'].isin(L_in_1)]\n",
    "lrpair = lrpair[lrpair['R'].isin(R_in_2)]\n",
    "print('lrpair_kegg:', lrpair.shape)"
   ]
  },
  {
   "cell_type": "code",
   "execution_count": null,
   "metadata": {},
   "outputs": [],
   "source": [
    "# plot violin plot of the expression of first 10 L and R in adata_1_pseudo and adata_2_pseudo\n",
    "# Select the first 10 L and R genes\n",
    "L_genes = L_in_1[:10]\n",
    "R_genes = R_in_2[:10]\n",
    "\n",
    "# Create a figure with subplots\n",
    "fig, axes = plt.subplots(nrows=2, ncols=10, figsize=(20, 10))\n",
    "\n",
    "# Plot violin plots for L genes in adata_1_pseudo\n",
    "for i, gene in enumerate(L_genes):\n",
    "    sc.pl.violin(adata_1_pseudo, keys=gene, ax=axes[0, i], show=False)\n",
    "    axes[0, i].set_title(gene)\n",
    "\n",
    "# Plot violin plots for R genes in adata_2_pseudo\n",
    "for i, gene in enumerate(R_genes):\n",
    "    sc.pl.violin(adata_2_pseudo, keys=gene, ax=axes[1, i], show=False)\n",
    "    axes[1, i].set_title(gene)\n",
    "\n",
    "plt.tight_layout()\n",
    "plt.show()"
   ]
  }
 ],
 "metadata": {
  "kernelspec": {
   "display_name": "base",
   "language": "python",
   "name": "python3"
  },
  "language_info": {
   "codemirror_mode": {
    "name": "ipython",
    "version": 3
   },
   "file_extension": ".py",
   "mimetype": "text/x-python",
   "name": "python",
   "nbconvert_exporter": "python",
   "pygments_lexer": "ipython3",
   "version": "3.11.5"
  }
 },
 "nbformat": 4,
 "nbformat_minor": 2
}
