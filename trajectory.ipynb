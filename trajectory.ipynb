{
 "cells": [
  {
   "cell_type": "code",
   "execution_count": null,
   "metadata": {},
   "outputs": [],
   "source": [
    "import numpy as np\n",
    "import matplotlib.pyplot as plt\n",
    "import pandas as pd\n",
    "import scanpy as sc\n",
    "import scipy.io as sio\n",
    "import anndata as ad\n",
    "import os as os\n",
    "import sys as sys\n",
    "sys.path.append('/home/qiuaodon/Desktop/PanCancer_scRNA_analysis/utils/')\n",
    "from scRNA_utils import *\n",
    "import operator as op\n",
    "import matplotlib.colors as mcolors"
   ]
  },
  {
   "cell_type": "code",
   "execution_count": null,
   "metadata": {},
   "outputs": [],
   "source": [
    "data_dir_NHDP = \"/home/qiuaodon/Desktop/project_data_new/\"\n",
    "adata_T = sc.read(data_dir_NHDP + '1863-counts_cells_cohort1_T_cells.h5ad')\n",
    "print(str(adata_T.shape))"
   ]
  },
  {
   "cell_type": "code",
   "execution_count": null,
   "metadata": {},
   "outputs": [],
   "source": [
    "sc.pl.umap(adata_T, color = ['CD4', 'CD8A', 'CD8B'])"
   ]
  },
  {
   "cell_type": "code",
   "execution_count": null,
   "metadata": {},
   "outputs": [],
   "source": [
    "# filter the adata with expression of CD4 and CD8 more than 0\n",
    "adata_T_CD4 = adata_T[adata_T[:, adata_T.var_names == 'CD4'].X > 0, :]\n",
    "adata_T_CD8 = adata_T[adata_T[:, adata_T.var_names == 'CD8A'].X > 0, :]"
   ]
  },
  {
   "cell_type": "markdown",
   "metadata": {},
   "source": [
    "## CD4"
   ]
  },
  {
   "cell_type": "code",
   "execution_count": null,
   "metadata": {},
   "outputs": [],
   "source": [
    "sc.tl.pca(adata_T_CD4, svd_solver='arpack', n_comps=30)"
   ]
  },
  {
   "cell_type": "code",
   "execution_count": null,
   "metadata": {},
   "outputs": [],
   "source": [
    "print(adata_T_CD4.obsm['X_pca'].shape)\n",
    "print(adata_T_CD4.varm['PCs'].shape)\n",
    "print(adata_T_CD4.uns['pca']['variance_ratio'].shape)\n",
    "print(adata_T_CD4.obs.columns)"
   ]
  },
  {
   "cell_type": "code",
   "execution_count": null,
   "metadata": {},
   "outputs": [],
   "source": [
    "sc.pp.neighbors(adata_T_CD4, n_neighbors=80, n_pcs=30)"
   ]
  },
  {
   "cell_type": "code",
   "execution_count": null,
   "metadata": {},
   "outputs": [],
   "source": [
    "# Use the Leiden algorithm to find clusters\n",
    "sc.tl.leiden(adata_T_CD4, resolution= 1)"
   ]
  },
  {
   "cell_type": "code",
   "execution_count": null,
   "metadata": {},
   "outputs": [],
   "source": [
    "sc.tl.umap(adata_T_CD4)"
   ]
  },
  {
   "cell_type": "markdown",
   "metadata": {},
   "source": [
    "### remove the proliferation cells"
   ]
  },
  {
   "cell_type": "code",
   "execution_count": null,
   "metadata": {},
   "outputs": [],
   "source": [
    "# remove the cluster 8 and NAN\n",
    "\n",
    "adata_T_CD4 = adata_T_CD4[adata_T_CD4.obs['leiden']!= '8'].copy()\n",
    "# get adata_T_CD4 filtered with E and NE for expansion\n",
    "adata_T_CD4 = adata_T_CD4[adata_T_CD4.obs['expansion'].isin(['E', 'NE'])].copy()"
   ]
  },
  {
   "cell_type": "code",
   "execution_count": null,
   "metadata": {},
   "outputs": [],
   "source": [
    "sc.pl.umap(adata_T_CD4, color = 'leiden')"
   ]
  },
  {
   "cell_type": "code",
   "execution_count": null,
   "metadata": {},
   "outputs": [],
   "source": [
    "colors = [\"grey\", \"blue\"]  # Start with grey and end with blue\n",
    "cmap = mcolors.LinearSegmentedColormap.from_list(\"grey_to_blue\", colors)\n",
    "\n",
    "fig, ax = plt.subplots(figsize=(6, 5))\n",
    "sc.pl.umap(adata_T_CD4, color='PDCD1', color_map = cmap, ax=ax, vmax = 1)\n",
    "plt.show()"
   ]
  },
  {
   "cell_type": "code",
   "execution_count": null,
   "metadata": {},
   "outputs": [],
   "source": [
    "sc.pl.umap(adata_T_CD4, color = ['leiden'])"
   ]
  },
  {
   "cell_type": "code",
   "execution_count": null,
   "metadata": {},
   "outputs": [],
   "source": [
    "from matplotlib.font_manager import FontProperties\n",
    "# Create a figure with the desired size\n",
    "plt.figure(figsize=(10, 8))\n",
    "\n",
    "# Create the UMAP plot\n",
    "sc.pl.umap(adata_T_CD4, color=['expansion'], size=30, palette='Set1', show=False, legend_fontsize=16)\n",
    "\n",
    "# Get the current axis\n",
    "ax = plt.gca()\n",
    "\n",
    "# Update legend markers (dots) size\n",
    "for handle in ax.get_legend().legendHandles:\n",
    "    handle.set_sizes([180])  # Adjust the value as needed for dot size\n",
    "font_properties = FontProperties(family='Calibri', size=12)  # Set to Calibri (Body) with desired size\n",
    "\n",
    "# Remove the box line around the UMAP plot\n",
    "ax.spines['top'].set_visible(False)\n",
    "ax.spines['right'].set_visible(False)\n",
    "ax.spines['left'].set_visible(False)\n",
    "ax.spines['bottom'].set_visible(False)\n",
    "\n",
    "# Show the plot\n",
    "plt.show()\n"
   ]
  },
  {
   "cell_type": "code",
   "execution_count": null,
   "metadata": {},
   "outputs": [],
   "source": [
    "plt.figure(figsize=(10, 8))\n",
    "\n",
    "# Create the UMAP plot\n",
    "sc.pl.umap(adata_T_CD4, color=['cell_type'], size=30, show=False, legend_fontsize=16, palette='Set3')\n",
    "\n",
    "# Get the current axis\n",
    "ax = plt.gca()\n",
    "\n",
    "# Update legend markers (dots) size\n",
    "for handle in ax.get_legend().legendHandles:\n",
    "    handle.set_sizes([180])  # Adjust the value as needed for dot size\n",
    "font_properties = FontProperties(family='Calibri', size=12)  # Set to Calibri (Body) with desired size\n",
    "\n",
    "# Remove the box line around the UMAP plot\n",
    "ax.spines['top'].set_visible(False)\n",
    "ax.spines['right'].set_visible(False)\n",
    "ax.spines['left'].set_visible(False)\n",
    "ax.spines['bottom'].set_visible(False)\n",
    "\n",
    "# Show the plot\n",
    "plt.show()\n"
   ]
  },
  {
   "cell_type": "code",
   "execution_count": null,
   "metadata": {},
   "outputs": [],
   "source": [
    "adata_T_CD4_E = adata_T_CD4[adata_T_CD4.obs['expansion']== 'E']\n",
    "adata_T_CD4_NE = adata_T_CD4[adata_T_CD4.obs['expansion']== 'NE']"
   ]
  },
  {
   "cell_type": "code",
   "execution_count": null,
   "metadata": {},
   "outputs": [],
   "source": [
    "sc.pl.umap(adata_T_CD4_E, color = ['expansion'],size = 30, palette = 'Set1')\n",
    "sc.pl.umap(adata_T_CD4_NE, color = ['expansion'],size = 30, palette = 'Set1')"
   ]
  },
  {
   "cell_type": "code",
   "execution_count": null,
   "metadata": {},
   "outputs": [],
   "source": [
    "sc.pl.umap(adata_T_CD4, color = ['timepoint'],size = 30)"
   ]
  },
  {
   "cell_type": "code",
   "execution_count": null,
   "metadata": {},
   "outputs": [],
   "source": [
    "sc.pl.umap(adata_T_CD4, color = ['timepoint', 'leiden', 'CCR7', 'CD4', 'PDCD1', 'CTLA4'])"
   ]
  },
  {
   "cell_type": "code",
   "execution_count": null,
   "metadata": {},
   "outputs": [],
   "source": [
    "CD4_markers = {\n",
    "    'CD4 Naïve'\t: ['TCF7', 'SELL', 'LEF1', 'CCR7','PASK'],\n",
    "    'CD4 H1' : ['CCL4', 'CCL3', 'PDCD1', 'IFNG', 'GZMB', 'LAG3', 'CTLA4'],\n",
    "    'CD4 EM' :  ['IL7R', 'GZMK', 'ANXA1', 'FOS', 'JUN','KLRB1', 'GZMA'],\n",
    "    'CD4 FH' : [ 'ICA1', 'GNG4', 'EBI3', 'BCL6', 'CXCL13']\n",
    "    \n",
    "}"
   ]
  },
  {
   "cell_type": "code",
   "execution_count": null,
   "metadata": {},
   "outputs": [],
   "source": [
    "\n",
    "CD4_markers = {\n",
    "    'CD4 Naïve'\t: ['TCF7', 'SELL', 'LEF1', 'CCR7','PASK'],\n",
    "    'CD4 EX' : ['CXCL13', 'CD200', 'PDCD1', 'TNFRSF18'],\n",
    "    'CD4 EM' :  ['IL7R', 'CD40LG', 'ANXA1', 'FOS', 'JUN'],\n",
    "    'CD4 REG' : ['FOXP3', 'SAT1', 'IL2RA', 'CTLA4']\n",
    "}"
   ]
  },
  {
   "cell_type": "code",
   "execution_count": null,
   "metadata": {},
   "outputs": [],
   "source": [
    "sc.tl.dendrogram(adata_T_CD4, groupby='leiden')\n",
    "sc.pl.dotplot(adata_T_CD4, CD4_markers, 'leiden', dendrogram=True)"
   ]
  },
  {
   "cell_type": "code",
   "execution_count": null,
   "metadata": {},
   "outputs": [],
   "source": [
    "sc.pl.umap(adata_T_CD4, color=['leiden'], palette='Set1')"
   ]
  },
  {
   "cell_type": "code",
   "execution_count": null,
   "metadata": {},
   "outputs": [],
   "source": [
    "adata_T_CD4"
   ]
  },
  {
   "cell_type": "code",
   "execution_count": null,
   "metadata": {},
   "outputs": [],
   "source": [
    "adata_T_CD4.obs.drop(columns=\"cell_type\", inplace = True )\n",
    "labelClusterWithCellType(adata_T_CD4, CD4_markers, cluster_column='leiden')\n",
    "\n",
    "sc.pl.umap(adata_T_CD4, color=['cell_type'])\n",
    "plt.figure(figsize = (6, 6))\n",
    "sc.pl.umap(adata_T_CD4, color=['leiden','timepoint'])"
   ]
  },
  {
   "cell_type": "code",
   "execution_count": null,
   "metadata": {},
   "outputs": [],
   "source": [
    "sc.pl.umap(adata_T_CD4, color=['cell_type'],palette='Set3',size=50)"
   ]
  },
  {
   "cell_type": "code",
   "execution_count": null,
   "metadata": {},
   "outputs": [],
   "source": [
    "adata_T_CD4.obs['leiden'] = adata_T_CD4.obs['leiden'].astype(int)\n",
    "adata_T_CD4.obs['leiden'] = adata_T_CD4.obs['leiden'].replace({0: 'CD4 EM 2', 1: 'CD4 EM 1', 2: 'CD4 H1', 3: 'CD4 Naïve 1', 4: 'CD4 EM 1', 5: 'CD4 Naïve 2', 6: 'CD4 EM 1', 7: 'CD4 EM 1', 8: 'CD4 H1', 9: 'CD4 H1'})"
   ]
  },
  {
   "cell_type": "code",
   "execution_count": null,
   "metadata": {},
   "outputs": [],
   "source": [
    "sc.pl.umap(adata_T_CD4, color = 'leiden')"
   ]
  },
  {
   "cell_type": "code",
   "execution_count": null,
   "metadata": {},
   "outputs": [],
   "source": [
    "adata_T_CD4.write(data_dir_NHDP + '1863-counts_cells_cohort1_T_CD4.h5ad')"
   ]
  },
  {
   "cell_type": "markdown",
   "metadata": {},
   "source": [
    "## CD8"
   ]
  },
  {
   "cell_type": "code",
   "execution_count": null,
   "metadata": {},
   "outputs": [],
   "source": [
    "CD8_markers = {\n",
    "    'CD8 Naïve'\t: ['NELL2', 'CD55', 'KLF2', 'CCR7'],\n",
    "    'CD8 Exhausted' : ['GZMB', 'LAG3', 'CCL4L2'],\n",
    "    'CD8 RM' : ['TOB1', 'ZNF683'],\n",
    "    'CD8 EM' :  ['GZMK', 'EOMES', 'ITM2C'],\n",
    "    'CD8 EMRA' : ['CX3CR1', 'GZMH'],\n",
    "    'Proliferation' : ['MKI67', 'TUBA1B', 'STMN1', 'HIST1H1C']\n",
    "}"
   ]
  },
  {
   "cell_type": "code",
   "execution_count": null,
   "metadata": {},
   "outputs": [],
   "source": [
    "sc.tl.pca(adata_T_CD8, svd_solver='arpack', n_comps=30)"
   ]
  },
  {
   "cell_type": "code",
   "execution_count": null,
   "metadata": {},
   "outputs": [],
   "source": [
    "print(adata_T_CD8.obsm['X_pca'].shape)\n",
    "print(adata_T_CD8.varm['PCs'].shape)\n",
    "print(adata_T_CD8.uns['pca']['variance_ratio'].shape)\n",
    "print(adata_T_CD8.obs.columns)"
   ]
  },
  {
   "cell_type": "code",
   "execution_count": null,
   "metadata": {},
   "outputs": [],
   "source": [
    "sc.pp.neighbors(adata_T_CD8, n_neighbors=80, n_pcs=30)"
   ]
  },
  {
   "cell_type": "code",
   "execution_count": null,
   "metadata": {},
   "outputs": [],
   "source": [
    "# Use the Leiden algorithm to find clusters\n",
    "sc.tl.leiden(adata_T_CD8, resolution= 0.6)"
   ]
  },
  {
   "cell_type": "code",
   "execution_count": null,
   "metadata": {},
   "outputs": [],
   "source": [
    "sc.tl.umap(adata_T_CD8)"
   ]
  },
  {
   "cell_type": "code",
   "execution_count": null,
   "metadata": {},
   "outputs": [],
   "source": [
    "sc.pl.umap(adata_T_CD8, color = ['PDCD1'], size = 25)"
   ]
  },
  {
   "cell_type": "code",
   "execution_count": null,
   "metadata": {},
   "outputs": [],
   "source": [
    "sc.pl.umap(adata_T_CD8, color = ['timepoint'], size = 25)"
   ]
  },
  {
   "cell_type": "code",
   "execution_count": null,
   "metadata": {},
   "outputs": [],
   "source": [
    "sc.pl.umap(adata_T_CD8, color = ['expansion'], size = 25, palette = 'Set1')"
   ]
  },
  {
   "cell_type": "code",
   "execution_count": null,
   "metadata": {},
   "outputs": [],
   "source": [
    "sc.pl.umap(adata_T_CD8, color = ['leiden'])"
   ]
  },
  {
   "cell_type": "code",
   "execution_count": null,
   "metadata": {},
   "outputs": [],
   "source": [
    "sc.tl.dendrogram(adata_T_CD8, groupby='leiden')\n",
    "sc.pl.dotplot(adata_T_CD8, CD8_markers, 'leiden', dendrogram=True)"
   ]
  },
  {
   "cell_type": "code",
   "execution_count": null,
   "metadata": {},
   "outputs": [],
   "source": [
    "adata_T_CD8.obs.drop(columns=\"cell_type\", inplace = True )\n",
    "labelClusterWithCellType(adata_T_CD8, CD8_markers, cluster_column='leiden')\n",
    "\n",
    "sc.pl.umap(adata_T_CD8, color=['cell_type'])\n",
    "plt.figure(figsize = (6, 6))\n",
    "sc.pl.umap(adata_T_CD8, color=['leiden','timepoint'])"
   ]
  },
  {
   "cell_type": "code",
   "execution_count": null,
   "metadata": {},
   "outputs": [],
   "source": [
    "adata_T_CD8.obs['leiden'] = adata_T_CD8.obs['leiden'].astype(int)\n",
    "adata_T_CD8.obs['leiden'] = adata_T_CD8.obs['leiden'].replace({0: 'CD8 EM', 1: 'CD8 EX 1', 2: 'CD8 Naïve', 3: 'CD8 RM', 4: 'CD8 EM', 5: 'CD8 RM', 6: 'CD8 EX 2', 7: 'CD8 EX 3', 8: 'CD8 EMRA'})"
   ]
  },
  {
   "cell_type": "code",
   "execution_count": null,
   "metadata": {},
   "outputs": [],
   "source": [
    "sc.pl.umap(adata_T_CD8, color=['cell_type'], palette = 'Set3', size = 35)"
   ]
  },
  {
   "cell_type": "code",
   "execution_count": null,
   "metadata": {},
   "outputs": [],
   "source": [
    "sc.pl.umap(adata_T_CD8, color = ['CCR7', 'leiden'])"
   ]
  },
  {
   "cell_type": "code",
   "execution_count": null,
   "metadata": {},
   "outputs": [],
   "source": [
    "# save the adata_T_CD4 and adata_T_CD8\n",
    "adata_T_CD8.write(data_dir_NHDP + '1863-counts_cells_cohort1_T_CD8.h5ad')"
   ]
  },
  {
   "cell_type": "code",
   "execution_count": null,
   "metadata": {},
   "outputs": [],
   "source": [
    "# separate each cluster based on timepoint to two clusters, such as separating cluster 1 to cluster 1_on and 1_pre\n",
    "adata_T_CD8.obs['cluster'] = adata_T_CD8.obs['leiden'].astype(str) + '_' + adata_T_CD8.obs['timepoint'].astype(str)"
   ]
  },
  {
   "cell_type": "code",
   "execution_count": null,
   "metadata": {},
   "outputs": [],
   "source": [
    "sc.pl.umap(adata_T_CD8, color=['cluster','leiden'], palette='Set1')"
   ]
  },
  {
   "cell_type": "code",
   "execution_count": null,
   "metadata": {},
   "outputs": [],
   "source": [
    "adata_T_CD8.write(data_dir_NHDP + '1863-counts_cells_cohort1_T_CD8_on_pre.h5ad')"
   ]
  },
  {
   "cell_type": "markdown",
   "metadata": {},
   "source": [
    "## separate the CD4 and CD8 based clusters"
   ]
  },
  {
   "cell_type": "code",
   "execution_count": null,
   "metadata": {},
   "outputs": [],
   "source": [
    "# get a adata only with the cluster 0,2,4,8 from adata_T\n",
    "adata_T_CD4 = adata_T[adata_T.obs['leiden'].isin(['0', '2', '3', '8']), :]\n",
    "\n",
    "# separate cluster 0 based on timepoint to two clusters\n",
    "adata_T_CD4.obs['cluster'] = adata_T_CD4.obs['leiden'].astype(str) + '_' + adata_T_CD4.obs['timepoint'].astype(str)\n",
    "\n",
    "# combine pre and on of cluster 2\n",
    "adata_T_CD4.obs['cluster'] = adata_T_CD4.obs['cluster'].replace('2_on', '2')\n",
    "adata_T_CD4.obs['cluster'] = adata_T_CD4.obs['cluster'].replace('2_pre', '2')"
   ]
  },
  {
   "cell_type": "code",
   "execution_count": null,
   "metadata": {},
   "outputs": [],
   "source": [
    "sc.pl.umap(adata_T_CD4, color = 'cluster')"
   ]
  },
  {
   "cell_type": "code",
   "execution_count": null,
   "metadata": {},
   "outputs": [],
   "source": [
    "adata_T_CD4.obs.drop(columns=\"cell_type\", inplace = True )\n",
    "labelClusterWithCellType(adata_T_CD4, CD4_markers, cluster_column='cluster')\n",
    "\n",
    "sc.pl.umap(adata_T_CD4, color=['cell_type'])\n",
    "plt.figure(figsize = (6, 6))\n",
    "sc.pl.umap(adata_T_CD4, color=['cluster','timepoint'])"
   ]
  },
  {
   "cell_type": "code",
   "execution_count": null,
   "metadata": {},
   "outputs": [],
   "source": [
    "sc.pl.umap(adata_T, color = 'CCR7')"
   ]
  },
  {
   "cell_type": "code",
   "execution_count": null,
   "metadata": {},
   "outputs": [],
   "source": [
    "sc.pl.umap(adata_T_CD4, color='cluster', palette='Set1')\n"
   ]
  },
  {
   "cell_type": "code",
   "execution_count": null,
   "metadata": {},
   "outputs": [],
   "source": [
    "adata_T_CD4.write(data_dir_NHDP + '1863-counts_cells_cohort1_T_CD4_on_pre.h5ad')"
   ]
  },
  {
   "cell_type": "code",
   "execution_count": null,
   "metadata": {},
   "outputs": [],
   "source": [
    "# get a adata only with the cluster 1,4,5,6 from adata_T\n",
    "adata_T_CD8 = adata_T[adata_T.obs['leiden'].isin(['1', '4', '5', '6']), :]\n",
    "adata_T_CD8.obs['cluster'] = adata_T_CD8.obs['leiden'].astype(str) + '_' + adata_T_CD8.obs['timepoint'].astype(str)\n"
   ]
  },
  {
   "cell_type": "code",
   "execution_count": null,
   "metadata": {},
   "outputs": [],
   "source": [
    "sc.pl.umap(adata_T_CD8, color = 'cluster', palette='Set1')"
   ]
  },
  {
   "cell_type": "code",
   "execution_count": null,
   "metadata": {},
   "outputs": [],
   "source": [
    "adata_T_CD8.obs.drop(columns=\"cell_type\", inplace = True )\n",
    "labelClusterWithCellType(adata_T_CD8, CD8_markers, cluster_column='cluster')\n",
    "\n",
    "sc.pl.umap(adata_T_CD8, color=['cell_type'])\n",
    "plt.figure(figsize = (6, 6))\n",
    "sc.pl.umap(adata_T_CD8, color=['cluster','timepoint'])"
   ]
  },
  {
   "cell_type": "code",
   "execution_count": null,
   "metadata": {},
   "outputs": [],
   "source": [
    "adata_T_CD8.write(data_dir_NHDP + '1863-counts_cells_cohort1_T_CD8_on_pre.h5ad')"
   ]
  }
 ],
 "metadata": {
  "kernelspec": {
   "display_name": "base",
   "language": "python",
   "name": "python3"
  },
  "language_info": {
   "codemirror_mode": {
    "name": "ipython",
    "version": 3
   },
   "file_extension": ".py",
   "mimetype": "text/x-python",
   "name": "python",
   "nbconvert_exporter": "python",
   "pygments_lexer": "ipython3",
   "version": "3.11.5"
  }
 },
 "nbformat": 4,
 "nbformat_minor": 2
}
