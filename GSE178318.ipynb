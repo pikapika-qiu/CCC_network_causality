{
 "cells": [
  {
   "attachments": {},
   "cell_type": "markdown",
   "metadata": {},
   "source": [
    "# GSE178318 Data Processing"
   ]
  },
  {
   "cell_type": "code",
   "execution_count": 1,
   "metadata": {},
   "outputs": [],
   "source": [
    "import numpy as np\n",
    "import matplotlib.pyplot as plt\n",
    "import pandas as pd\n",
    "import scanpy as sc\n",
    "import scipy.io as sio\n",
    "import anndata as ad\n",
    "import os as os\n",
    "import seaborn as sns\n",
    "from load_10X_matrices import load_10X_matrices"
   ]
  },
  {
   "attachments": {},
   "cell_type": "markdown",
   "metadata": {},
   "source": [
    "## 0. Load Data"
   ]
  },
  {
   "cell_type": "code",
   "execution_count": 2,
   "metadata": {},
   "outputs": [
    {
     "name": "stdout",
     "output_type": "stream",
     "text": [
      "Loading GSE178318_\n",
      "AnnData object with n_obs × n_vars = 140281 × 33694\n",
      "    obs: 'sample_ID'\n"
     ]
    }
   ],
   "source": [
    "directory = '/home/data/PanCanSC/CRC/GEO/GSE178318/'\n",
    "adata = load_10X_matrices(directory)\n",
    "print(adata)"
   ]
  },
  {
   "cell_type": "code",
   "execution_count": 3,
   "metadata": {},
   "outputs": [
    {
     "data": {
      "text/plain": [
       "<bound method AnnData.obs_names_make_unique of AnnData object with n_obs × n_vars = 140281 × 33694\n",
       "    obs: 'sample_ID'>"
      ]
     },
     "execution_count": 3,
     "metadata": {},
     "output_type": "execute_result"
    }
   ],
   "source": [
    "adata.obs_names_make_unique"
   ]
  },
  {
   "attachments": {},
   "cell_type": "markdown",
   "metadata": {},
   "source": [
    "#### Extracting sample src & patient ID from sample ID ????"
   ]
  },
  {
   "cell_type": "code",
   "execution_count": 8,
   "metadata": {},
   "outputs": [
    {
     "name": "stdout",
     "output_type": "stream",
     "text": [
      "AAACCTGAGAAACCTA_COL07_CRC     07\n",
      "AAACCTGAGACAATAC_COL07_CRC     07\n",
      "AAACCTGAGACGCAAC_COL07_CRC     07\n",
      "AAACCTGAGCAGATCG_COL07_CRC     07\n",
      "AAACCTGAGCTATGCT_COL07_CRC     07\n",
      "                               ..\n",
      "TTTGTCAGTTGGGACA_COL18_PBMC    18\n",
      "TTTGTCATCATGTGGT_COL18_PBMC    18\n",
      "TTTGTCATCCGCATCT_COL18_PBMC    18\n",
      "TTTGTCATCGGAATCT_COL18_PBMC    18\n",
      "TTTGTCATCGGTTAAC_COL18_PBMC    18\n",
      "Name: patient_ID, Length: 140281, dtype: object\n"
     ]
    }
   ],
   "source": [
    "sampleID = adata.obs['sample_ID']\n",
    "sampleKey = sampleID.keys()\n",
    "# print(sampleKey[0:5])\n",
    "\n",
    "adata.obs['sample_src'] = [x.split('_')[2] for x in sampleKey]\n",
    "adata.obs['patient_ID'] = [x.split('_')[1][-2:] for x in sampleKey]\n",
    "\n",
    "print(adata.obs['patient_ID'])"
   ]
  },
  {
   "attachments": {},
   "cell_type": "markdown",
   "metadata": {},
   "source": [
    "#### Write the GSE178318 AnnData Obj\n",
    "Save time for future experiments. "
   ]
  },
  {
   "cell_type": "code",
   "execution_count": 5,
   "metadata": {},
   "outputs": [
    {
     "ename": "PermissionError",
     "evalue": "[Errno 13] Unable to create file (unable to open file: name = '/home/data/PanCanSC/CRC/GEO/GSE178318/GSE178318.h5ad', errno = 13, error message = 'Permission denied', flags = 13, o_flags = 242)",
     "output_type": "error",
     "traceback": [
      "\u001b[0;31m---------------------------------------------------------------------------\u001b[0m",
      "\u001b[0;31mPermissionError\u001b[0m                           Traceback (most recent call last)",
      "Cell \u001b[0;32mIn[5], line 2\u001b[0m\n\u001b[1;32m      1\u001b[0m \u001b[39m#write to file\u001b[39;00m\n\u001b[0;32m----> 2\u001b[0m adata\u001b[39m.\u001b[39;49mwrite(\u001b[39m'\u001b[39;49m\u001b[39m/home/data/PanCanSC/CRC/GEO/GSE178318/GSE178318.h5ad\u001b[39;49m\u001b[39m'\u001b[39;49m)\n",
      "File \u001b[0;32m~/anaconda3/lib/python3.10/site-packages/anndata/_core/anndata.py:1951\u001b[0m, in \u001b[0;36mAnnData.write_h5ad\u001b[0;34m(self, filename, compression, compression_opts, as_dense)\u001b[0m\n\u001b[1;32m   1948\u001b[0m \u001b[39mif\u001b[39;00m filename \u001b[39mis\u001b[39;00m \u001b[39mNone\u001b[39;00m:\n\u001b[1;32m   1949\u001b[0m     filename \u001b[39m=\u001b[39m \u001b[39mself\u001b[39m\u001b[39m.\u001b[39mfilename\n\u001b[0;32m-> 1951\u001b[0m _write_h5ad(\n\u001b[1;32m   1952\u001b[0m     Path(filename),\n\u001b[1;32m   1953\u001b[0m     \u001b[39mself\u001b[39;49m,\n\u001b[1;32m   1954\u001b[0m     compression\u001b[39m=\u001b[39;49mcompression,\n\u001b[1;32m   1955\u001b[0m     compression_opts\u001b[39m=\u001b[39;49mcompression_opts,\n\u001b[1;32m   1956\u001b[0m     as_dense\u001b[39m=\u001b[39;49mas_dense,\n\u001b[1;32m   1957\u001b[0m )\n\u001b[1;32m   1959\u001b[0m \u001b[39mif\u001b[39;00m \u001b[39mself\u001b[39m\u001b[39m.\u001b[39misbacked:\n\u001b[1;32m   1960\u001b[0m     \u001b[39mself\u001b[39m\u001b[39m.\u001b[39mfile\u001b[39m.\u001b[39mfilename \u001b[39m=\u001b[39m filename\n",
      "File \u001b[0;32m~/anaconda3/lib/python3.10/site-packages/anndata/_io/h5ad.py:67\u001b[0m, in \u001b[0;36mwrite_h5ad\u001b[0;34m(filepath, adata, as_dense, dataset_kwargs, **kwargs)\u001b[0m\n\u001b[1;32m     64\u001b[0m \u001b[39mif\u001b[39;00m adata\u001b[39m.\u001b[39misbacked:  \u001b[39m# close so that we can reopen below\u001b[39;00m\n\u001b[1;32m     65\u001b[0m     adata\u001b[39m.\u001b[39mfile\u001b[39m.\u001b[39mclose()\n\u001b[0;32m---> 67\u001b[0m \u001b[39mwith\u001b[39;00m h5py\u001b[39m.\u001b[39;49mFile(filepath, mode) \u001b[39mas\u001b[39;00m f:\n\u001b[1;32m     68\u001b[0m     \u001b[39m# TODO: Use spec writing system for this\u001b[39;00m\n\u001b[1;32m     69\u001b[0m     \u001b[39m# Currently can't use write_dispatched here because this function is also called to do an\u001b[39;00m\n\u001b[1;32m     70\u001b[0m     \u001b[39m# inplace update of a backed object, which would delete \"/\"\u001b[39;00m\n\u001b[1;32m     71\u001b[0m     f \u001b[39m=\u001b[39m f[\u001b[39m\"\u001b[39m\u001b[39m/\u001b[39m\u001b[39m\"\u001b[39m]\n\u001b[1;32m     72\u001b[0m     f\u001b[39m.\u001b[39mattrs\u001b[39m.\u001b[39msetdefault(\u001b[39m\"\u001b[39m\u001b[39mencoding-type\u001b[39m\u001b[39m\"\u001b[39m, \u001b[39m\"\u001b[39m\u001b[39manndata\u001b[39m\u001b[39m\"\u001b[39m)\n",
      "File \u001b[0;32m~/anaconda3/lib/python3.10/site-packages/h5py/_hl/files.py:533\u001b[0m, in \u001b[0;36mFile.__init__\u001b[0;34m(self, name, mode, driver, libver, userblock_size, swmr, rdcc_nslots, rdcc_nbytes, rdcc_w0, track_order, fs_strategy, fs_persist, fs_threshold, fs_page_size, page_buf_size, min_meta_keep, min_raw_keep, locking, alignment_threshold, alignment_interval, **kwds)\u001b[0m\n\u001b[1;32m    525\u001b[0m     fapl \u001b[39m=\u001b[39m make_fapl(driver, libver, rdcc_nslots, rdcc_nbytes, rdcc_w0,\n\u001b[1;32m    526\u001b[0m                      locking, page_buf_size, min_meta_keep, min_raw_keep,\n\u001b[1;32m    527\u001b[0m                      alignment_threshold\u001b[39m=\u001b[39malignment_threshold,\n\u001b[1;32m    528\u001b[0m                      alignment_interval\u001b[39m=\u001b[39malignment_interval,\n\u001b[1;32m    529\u001b[0m                      \u001b[39m*\u001b[39m\u001b[39m*\u001b[39mkwds)\n\u001b[1;32m    530\u001b[0m     fcpl \u001b[39m=\u001b[39m make_fcpl(track_order\u001b[39m=\u001b[39mtrack_order, fs_strategy\u001b[39m=\u001b[39mfs_strategy,\n\u001b[1;32m    531\u001b[0m                      fs_persist\u001b[39m=\u001b[39mfs_persist, fs_threshold\u001b[39m=\u001b[39mfs_threshold,\n\u001b[1;32m    532\u001b[0m                      fs_page_size\u001b[39m=\u001b[39mfs_page_size)\n\u001b[0;32m--> 533\u001b[0m     fid \u001b[39m=\u001b[39m make_fid(name, mode, userblock_size, fapl, fcpl, swmr\u001b[39m=\u001b[39;49mswmr)\n\u001b[1;32m    535\u001b[0m \u001b[39mif\u001b[39;00m \u001b[39misinstance\u001b[39m(libver, \u001b[39mtuple\u001b[39m):\n\u001b[1;32m    536\u001b[0m     \u001b[39mself\u001b[39m\u001b[39m.\u001b[39m_libver \u001b[39m=\u001b[39m libver\n",
      "File \u001b[0;32m~/anaconda3/lib/python3.10/site-packages/h5py/_hl/files.py:232\u001b[0m, in \u001b[0;36mmake_fid\u001b[0;34m(name, mode, userblock_size, fapl, fcpl, swmr)\u001b[0m\n\u001b[1;32m    230\u001b[0m     fid \u001b[39m=\u001b[39m h5f\u001b[39m.\u001b[39mcreate(name, h5f\u001b[39m.\u001b[39mACC_EXCL, fapl\u001b[39m=\u001b[39mfapl, fcpl\u001b[39m=\u001b[39mfcpl)\n\u001b[1;32m    231\u001b[0m \u001b[39melif\u001b[39;00m mode \u001b[39m==\u001b[39m \u001b[39m'\u001b[39m\u001b[39mw\u001b[39m\u001b[39m'\u001b[39m:\n\u001b[0;32m--> 232\u001b[0m     fid \u001b[39m=\u001b[39m h5f\u001b[39m.\u001b[39;49mcreate(name, h5f\u001b[39m.\u001b[39;49mACC_TRUNC, fapl\u001b[39m=\u001b[39;49mfapl, fcpl\u001b[39m=\u001b[39;49mfcpl)\n\u001b[1;32m    233\u001b[0m \u001b[39melif\u001b[39;00m mode \u001b[39m==\u001b[39m \u001b[39m'\u001b[39m\u001b[39ma\u001b[39m\u001b[39m'\u001b[39m:\n\u001b[1;32m    234\u001b[0m     \u001b[39m# Open in append mode (read/write).\u001b[39;00m\n\u001b[1;32m    235\u001b[0m     \u001b[39m# If that fails, create a new file only if it won't clobber an\u001b[39;00m\n\u001b[1;32m    236\u001b[0m     \u001b[39m# existing one (ACC_EXCL)\u001b[39;00m\n\u001b[1;32m    237\u001b[0m     \u001b[39mtry\u001b[39;00m:\n",
      "File \u001b[0;32mh5py/_objects.pyx:54\u001b[0m, in \u001b[0;36mh5py._objects.with_phil.wrapper\u001b[0;34m()\u001b[0m\n",
      "File \u001b[0;32mh5py/_objects.pyx:55\u001b[0m, in \u001b[0;36mh5py._objects.with_phil.wrapper\u001b[0;34m()\u001b[0m\n",
      "File \u001b[0;32mh5py/h5f.pyx:126\u001b[0m, in \u001b[0;36mh5py.h5f.create\u001b[0;34m()\u001b[0m\n",
      "\u001b[0;31mPermissionError\u001b[0m: [Errno 13] Unable to create file (unable to open file: name = '/home/data/PanCanSC/CRC/GEO/GSE178318/GSE178318.h5ad', errno = 13, error message = 'Permission denied', flags = 13, o_flags = 242)"
     ]
    }
   ],
   "source": [
    "#write to file\n",
    "adata.write('/home/data/PanCanSC/CRC/GEO/GSE178318/GSE178318.h5ad')"
   ]
  },
  {
   "cell_type": "code",
   "execution_count": null,
   "metadata": {},
   "outputs": [],
   "source": [
    "adata = sc.read('/home/data/PanCanSC/CRC/GEO/GSE178318/GSE178318.h5ad')"
   ]
  },
  {
   "cell_type": "code",
   "execution_count": null,
   "metadata": {},
   "outputs": [
    {
     "name": "stdout",
     "output_type": "stream",
     "text": [
      "Dimention of adata: (140281, 33694)\n",
      "columns for adata.obs: Index(['sample_ID', 'sample_src', 'patient_ID'], dtype='object')\n"
     ]
    }
   ],
   "source": [
    "print (\"Dimention of adata: \" + str(adata.shape))\n",
    "print (\"columns for adata.obs: \" + str(adata.obs.columns))"
   ]
  },
  {
   "attachments": {},
   "cell_type": "markdown",
   "metadata": {},
   "source": [
    "## 1. Basic Filtering"
   ]
  },
  {
   "cell_type": "code",
   "execution_count": null,
   "metadata": {},
   "outputs": [
    {
     "name": "stdout",
     "output_type": "stream",
     "text": [
      "scanpy==1.9.3 anndata==0.9.1 umap==0.5.3 numpy==1.23.5 scipy==1.10.0 pandas==1.5.3 scikit-learn==1.2.1 statsmodels==0.13.5 pynndescent==0.5.10\n"
     ]
    }
   ],
   "source": [
    "sc.settings.verbosity = 3             # verbosity: errors (0), warnings (1), info (2), hints (3)\n",
    "sc.logging.print_header()\n",
    "sc.settings.set_figure_params(dpi=80, facecolor='white')"
   ]
  },
  {
   "attachments": {},
   "cell_type": "markdown",
   "metadata": {},
   "source": [
    "#### Removing cells expressing <500 || >5000 genes:"
   ]
  },
  {
   "cell_type": "code",
   "execution_count": null,
   "metadata": {},
   "outputs": [
    {
     "name": "stdout",
     "output_type": "stream",
     "text": [
      "filtered out 8499 cells that have less than 500 genes expressed\n",
      "filtered out 757 cells that have more than 5000 genes expressed\n"
     ]
    }
   ],
   "source": [
    "# removing cells expressing <500 || >5000 genes\n",
    "sc.pp.filter_cells(adata, min_genes=500)\n",
    "sc.pp.filter_cells(adata, max_genes=5000)"
   ]
  },
  {
   "attachments": {},
   "cell_type": "markdown",
   "metadata": {},
   "source": [
    "#### Removing cells containing <400 || >25000 UMIs:"
   ]
  },
  {
   "cell_type": "code",
   "execution_count": null,
   "metadata": {},
   "outputs": [
    {
     "data": {
      "text/plain": [
       "(129323, 33694)"
      ]
     },
     "execution_count": 23,
     "metadata": {},
     "output_type": "execute_result"
    }
   ],
   "source": [
    "# removing cells containing <400 || >25000 UMIs\n",
    "sc.pp.filter_cells(adata, min_counts = 400)\n",
    "sc.pp.filter_cells(adata, max_counts = 25000)"
   ]
  },
  {
   "cell_type": "code",
   "execution_count": null,
   "metadata": {},
   "outputs": [],
   "source": []
  }
 ],
 "metadata": {
  "kernelspec": {
   "display_name": "base",
   "language": "python",
   "name": "python3"
  },
  "language_info": {
   "codemirror_mode": {
    "name": "ipython",
    "version": 3
   },
   "file_extension": ".py",
   "mimetype": "text/x-python",
   "name": "python",
   "nbconvert_exporter": "python",
   "pygments_lexer": "ipython3",
   "version": "3.10.9"
  },
  "orig_nbformat": 4
 },
 "nbformat": 4,
 "nbformat_minor": 2
}
