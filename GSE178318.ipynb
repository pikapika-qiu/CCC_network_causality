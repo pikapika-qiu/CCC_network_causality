{
 "cells": [
  {
   "attachments": {},
   "cell_type": "markdown",
   "metadata": {},
   "source": [
    "# GSE178318 Data Processing"
   ]
  },
  {
   "cell_type": "code",
   "execution_count": 1,
   "metadata": {},
   "outputs": [],
   "source": [
    "import numpy as np\n",
    "import matplotlib.pyplot as plt\n",
    "import pandas as pd\n",
    "import scanpy as sc\n",
    "import scipy.io as sio\n",
    "import anndata as ad\n",
    "import os as os\n",
    "import seaborn as sns\n",
    "from load_10X_matrices import load_10X_matrices"
   ]
  },
  {
   "attachments": {},
   "cell_type": "markdown",
   "metadata": {},
   "source": [
    "## 0. Load Data"
   ]
  },
  {
   "cell_type": "code",
   "execution_count": 2,
   "metadata": {},
   "outputs": [
    {
     "name": "stdout",
     "output_type": "stream",
     "text": [
      "Loading GSE178318_\n",
      "AnnData object with n_obs × n_vars = 140281 × 33694\n",
      "    obs: 'sample_ID'\n"
     ]
    }
   ],
   "source": [
    "directory = '/home/data/PanCanSC/CRC/GEO/GSE178318/'\n",
    "adata = load_10X_matrices(directory)\n",
    "print(adata)"
   ]
  },
  {
   "cell_type": "code",
   "execution_count": 24,
   "metadata": {},
   "outputs": [
    {
     "data": {
      "text/plain": [
       "<bound method AnnData.obs_names_make_unique of AnnData object with n_obs × n_vars = 129323 × 33694\n",
       "    obs: 'sample_ID', 'sample_src', 'patient_ID', 'n_genes', 'n_counts'>"
      ]
     },
     "execution_count": 24,
     "metadata": {},
     "output_type": "execute_result"
    }
   ],
   "source": [
    "adata.obs_names_make_unique"
   ]
  },
  {
   "attachments": {},
   "cell_type": "markdown",
   "metadata": {},
   "source": [
    "#### Extracting sample src & patient ID from sample ID ????"
   ]
  },
  {
   "cell_type": "code",
   "execution_count": 25,
   "metadata": {},
   "outputs": [
    {
     "name": "stdout",
     "output_type": "stream",
     "text": [
      "Index(['AAACCTGAGAAACCTA_COL07_CRC', 'AAACCTGAGACAATAC_COL07_CRC',\n",
      "       'AAACCTGAGACGCAAC_COL07_CRC', 'AAACCTGAGCAGATCG_COL07_CRC',\n",
      "       'AAACCTGAGCTATGCT_COL07_CRC'],\n",
      "      dtype='object')\n",
      "AAACCTGAGAAACCTA_COL07_CRC     07\n",
      "AAACCTGAGACAATAC_COL07_CRC     07\n",
      "AAACCTGAGACGCAAC_COL07_CRC     07\n",
      "AAACCTGAGCAGATCG_COL07_CRC     07\n",
      "AAACCTGAGCTATGCT_COL07_CRC     07\n",
      "                               ..\n",
      "TTTGTCAGTTGGGACA_COL18_PBMC    18\n",
      "TTTGTCATCATGTGGT_COL18_PBMC    18\n",
      "TTTGTCATCCGCATCT_COL18_PBMC    18\n",
      "TTTGTCATCGGAATCT_COL18_PBMC    18\n",
      "TTTGTCATCGGTTAAC_COL18_PBMC    18\n",
      "Name: patient_ID, Length: 129323, dtype: object\n"
     ]
    }
   ],
   "source": [
    "sampleID = adata.obs['sample_ID']\n",
    "sampleKey = sampleID.keys()\n",
    "print(sampleKey[0:5])\n",
    "\n",
    "adata.obs['sample_src'] = [x.split('_')[2] for x in sampleKey]\n",
    "adata.obs['patient_ID'] = [x.split('_')[1][-2:] for x in sampleKey]\n",
    "print(adata.obs['patient_ID'])"
   ]
  },
  {
   "attachments": {},
   "cell_type": "markdown",
   "metadata": {},
   "source": [
    "#### Write the GSE178318 AnnData Obj\n",
    "Save time for future experiments. "
   ]
  },
  {
   "cell_type": "code",
   "execution_count": 15,
   "metadata": {},
   "outputs": [],
   "source": [
    "#write to file\n",
    "adata.write('/home/data/PanCanSC/CRC/GEO/GSE178318/GSE178318.h5ad')"
   ]
  },
  {
   "cell_type": "code",
   "execution_count": 17,
   "metadata": {},
   "outputs": [],
   "source": [
    "adata = sc.read('/home/data/PanCanSC/CRC/GEO/GSE178318/GSE178318.h5ad')"
   ]
  },
  {
   "cell_type": "code",
   "execution_count": 18,
   "metadata": {},
   "outputs": [
    {
     "name": "stdout",
     "output_type": "stream",
     "text": [
      "Dimention of adata: (140281, 33694)\n",
      "columns for adata.obs: Index(['sample_ID', 'sample_src', 'patient_ID'], dtype='object')\n"
     ]
    }
   ],
   "source": [
    "print (\"Dimention of adata: \" + str(adata.shape))\n",
    "print (\"columns for adata.obs: \" + str(adata.obs.columns))"
   ]
  },
  {
   "attachments": {},
   "cell_type": "markdown",
   "metadata": {},
   "source": [
    "## 1. Basic Filtering"
   ]
  },
  {
   "cell_type": "code",
   "execution_count": 19,
   "metadata": {},
   "outputs": [
    {
     "name": "stdout",
     "output_type": "stream",
     "text": [
      "scanpy==1.9.3 anndata==0.9.1 umap==0.5.3 numpy==1.23.5 scipy==1.10.0 pandas==1.5.3 scikit-learn==1.2.1 statsmodels==0.13.5 pynndescent==0.5.10\n"
     ]
    }
   ],
   "source": [
    "sc.settings.verbosity = 3             # verbosity: errors (0), warnings (1), info (2), hints (3)\n",
    "sc.logging.print_header()\n",
    "sc.settings.set_figure_params(dpi=80, facecolor='white')"
   ]
  },
  {
   "attachments": {},
   "cell_type": "markdown",
   "metadata": {},
   "source": [
    "#### Removing cells expressing <500 || >5000 genes:"
   ]
  },
  {
   "cell_type": "code",
   "execution_count": 20,
   "metadata": {},
   "outputs": [
    {
     "name": "stdout",
     "output_type": "stream",
     "text": [
      "filtered out 8499 cells that have less than 500 genes expressed\n",
      "filtered out 757 cells that have more than 5000 genes expressed\n"
     ]
    }
   ],
   "source": [
    "# removing cells expressing <500 || >5000 genes\n",
    "sc.pp.filter_cells(adata, min_genes=500)\n",
    "sc.pp.filter_cells(adata, max_genes=5000)"
   ]
  },
  {
   "attachments": {},
   "cell_type": "markdown",
   "metadata": {},
   "source": [
    "#### Removing cells containing <400 || >25000 UMIs:"
   ]
  },
  {
   "cell_type": "code",
   "execution_count": 23,
   "metadata": {},
   "outputs": [
    {
     "data": {
      "text/plain": [
       "(129323, 33694)"
      ]
     },
     "execution_count": 23,
     "metadata": {},
     "output_type": "execute_result"
    }
   ],
   "source": [
    "# removing cells containing <400 || >25000 UMIs\n",
    "sc.pp.filter_cells(adata, min_counts = 400)\n",
    "sc.pp.filter_cells(adata, max_counts = 25000)"
   ]
  },
  {
   "cell_type": "code",
   "execution_count": null,
   "metadata": {},
   "outputs": [],
   "source": []
  }
 ],
 "metadata": {
  "kernelspec": {
   "display_name": "base",
   "language": "python",
   "name": "python3"
  },
  "language_info": {
   "codemirror_mode": {
    "name": "ipython",
    "version": 3
   },
   "file_extension": ".py",
   "mimetype": "text/x-python",
   "name": "python",
   "nbconvert_exporter": "python",
   "pygments_lexer": "ipython3",
   "version": "3.10.9"
  },
  "orig_nbformat": 4
 },
 "nbformat": 4,
 "nbformat_minor": 2
}
