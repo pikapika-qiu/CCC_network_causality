{
 "cells": [
  {
   "cell_type": "markdown",
   "metadata": {},
   "source": [
    "# EGAS00001004809 scRNA Data Preprocessing"
   ]
  },
  {
   "cell_type": "code",
   "execution_count": null,
   "metadata": {},
   "outputs": [],
   "source": [
    "import numpy as np\n",
    "import matplotlib.pyplot as plt\n",
    "import pandas as pd\n",
    "import scanpy as sc\n",
    "import scipy.io as sio\n",
    "import anndata as ad\n",
    "import os as os\n",
    "import sys as sys\n",
    "sys.path.append('/home/qiuaodon/Desktop/PanCancer_scRNA_analysis/utils/')\n",
    "from scRNA_utils import *\n",
    "import operator as op"
   ]
  },
  {
   "cell_type": "markdown",
   "metadata": {},
   "source": [
    "## Read in data matrix and combine with meta-data of obs"
   ]
  },
  {
   "cell_type": "code",
   "execution_count": null,
   "metadata": {},
   "outputs": [],
   "source": [
    "# Read in data in H5AD format\n",
    "data_dir = \"/home/data/ICI_exprs/EGAS00001004809/\"\n",
    "data_file =  data_dir + '1863-counts_cells_cohort1.h5ad'\n",
    "adata = sc.read_h5ad(data_file)\n",
    "print (\"Read in dataset with dimension: \" + str(adata.shape))"
   ]
  },
  {
   "cell_type": "code",
   "execution_count": null,
   "metadata": {},
   "outputs": [],
   "source": [
    "# read in the csv meta-data\n",
    "meta_file_pathname = data_dir + \"1872-BIOKEY_metaData_cohort1_web.csv\"\n",
    "cohort1_meta = pd.read_csv(meta_file_pathname, header = 0, index_col = 0)"
   ]
  },
  {
   "cell_type": "code",
   "execution_count": null,
   "metadata": {},
   "outputs": [],
   "source": [
    "# make sure the index of cohort1_meta agree with the obs of adata\n",
    "cohort1_meta = cohort1_meta.reindex(adata.obs.index)\n",
    "adata.obs = cohort1_meta\n",
    "print(adata.obs.columns)\n",
    "print(adata.obs['patient_id'].unique())"
   ]
  },
  {
   "cell_type": "code",
   "execution_count": null,
   "metadata": {},
   "outputs": [],
   "source": [
    "adata.obs['expansion'].unique()"
   ]
  },
  {
   "cell_type": "code",
   "execution_count": null,
   "metadata": {},
   "outputs": [],
   "source": [
    "# change \"timepoint\" values to lowercase\n",
    "adata.obs[\"timepoint\"] = adata.obs[\"timepoint\"].str.lower()\n",
    "adata.obs[\"timepoint\"].unique()"
   ]
  },
  {
   "cell_type": "code",
   "execution_count": null,
   "metadata": {},
   "outputs": [],
   "source": [
    "# the field \"cohort\" is equivalent to \"treatment\", rename it\n",
    "adata.obs.rename(columns={'cohort': 'treatment'}, inplace=True)"
   ]
  },
  {
   "cell_type": "code",
   "execution_count": null,
   "metadata": {},
   "outputs": [],
   "source": [
    "# extract sample_id from index, re-join first three columns of index after splitting by \"_\"\n",
    "adata.obs['sample_id'] = adata.obs.index.str.split(\"_\").str[0:3].str.join(\"_\")"
   ]
  },
  {
   "cell_type": "code",
   "execution_count": null,
   "metadata": {},
   "outputs": [],
   "source": [
    "adata.obs.sample_id.head()"
   ]
  },
  {
   "cell_type": "code",
   "execution_count": null,
   "metadata": {},
   "outputs": [],
   "source": [
    "adata.var"
   ]
  },
  {
   "cell_type": "markdown",
   "metadata": {},
   "source": [
    "### Extract tissue type from the sample name or from meta-data"
   ]
  },
  {
   "cell_type": "code",
   "execution_count": null,
   "metadata": {},
   "outputs": [],
   "source": [
    "# drop the nCount_RNA and nFeature_RNA columns\n",
    "adata.obs.drop(columns=['nCount_RNA', 'nFeature_RNA'], inplace=True)\n",
    "\n",
    "# rearrange the columns order: \"patient_id\", \"sample_id\", \"timepoint\", \"treatment\", \"cell_type\"\n",
    "adata.obs = adata.obs[[\"patient_id\", \"sample_id\", \"timepoint\", \"treatment\", 'expansion', 'BC_type', 'cellType']]   "
   ]
  },
  {
   "cell_type": "code",
   "execution_count": null,
   "metadata": {},
   "outputs": [],
   "source": [
    "print(adata.obs.columns)"
   ]
  },
  {
   "cell_type": "markdown",
   "metadata": {},
   "source": [
    "## Basic Filtering"
   ]
  },
  {
   "cell_type": "code",
   "execution_count": null,
   "metadata": {},
   "outputs": [],
   "source": [
    "sc.settings.verbosity = 3             # verbosity: errors (0), warnings (1), info (2), hints (3)\n",
    "sc.logging.print_header()\n",
    "sc.settings.set_figure_params(dpi=80, facecolor='white')"
   ]
  },
  {
   "cell_type": "code",
   "execution_count": null,
   "metadata": {},
   "outputs": [],
   "source": [
    "# removing cells expressing <500 || >5000 genes\n",
    "sc.pp.filter_cells(adata, min_genes=500)\n",
    "sc.pp.filter_cells(adata, max_genes=5000)"
   ]
  },
  {
   "cell_type": "code",
   "execution_count": null,
   "metadata": {},
   "outputs": [],
   "source": [
    "print ('Dimention of adata: ' + str(adata.shape))\n",
    "print ('columns for adata.obs: ' + str(adata.obs.columns))"
   ]
  },
  {
   "cell_type": "code",
   "execution_count": null,
   "metadata": {},
   "outputs": [],
   "source": [
    "# removing cells containing <400 || >25000 UMIs\n",
    "sc.pp.filter_cells(adata, min_counts = 400)\n",
    "sc.pp.filter_cells(adata, max_counts = 25000)"
   ]
  },
  {
   "cell_type": "code",
   "execution_count": null,
   "metadata": {},
   "outputs": [],
   "source": [
    "print ('Dimention of adata: ' + str(adata.shape))\n",
    "print ('columns for adata.obs: ' + str(adata.obs.columns))"
   ]
  },
  {
   "cell_type": "markdown",
   "metadata": {},
   "source": [
    "## process the var"
   ]
  },
  {
   "cell_type": "markdown",
   "metadata": {},
   "source": [
    "### Removing genes covered by <10 cells per sample"
   ]
  },
  {
   "cell_type": "code",
   "execution_count": null,
   "metadata": {},
   "outputs": [],
   "source": [
    "# removing genes covered by <10 cells\n",
    "sc.pp.filter_genes(adata, min_cells= 10)\n",
    "adata.var_names_make_unique()\n",
    "adata.shape"
   ]
  },
  {
   "cell_type": "markdown",
   "metadata": {},
   "source": [
    "### Remove cells with high percentage of mitochondrial genes"
   ]
  },
  {
   "cell_type": "code",
   "execution_count": null,
   "metadata": {},
   "outputs": [],
   "source": [
    "# label genes as mt\n",
    "adata.var['mt'] = adata.var_names.str.startswith('MT-')  \n",
    "\n",
    "# annotate cells with the percent of genes assigned as mt\n",
    "sc.pp.calculate_qc_metrics(adata, qc_vars=['mt'], percent_top=None, log1p=False, inplace=True)\n",
    "\n",
    "# remove mitochondrial genes from analysis\n",
    "adata = adata[:, ~adata.var['mt'].values]\n",
    "\n",
    "# Here we keep cells with < 20% mito ratio\n",
    "adata = adata[adata.obs['pct_counts_mt'] < 20, :]\n",
    "adata.shape"
   ]
  },
  {
   "cell_type": "code",
   "execution_count": null,
   "metadata": {},
   "outputs": [],
   "source": [
    "sc.pl.violin(adata, ['n_genes_by_counts', 'total_counts', 'pct_counts_mt'],\n",
    "             jitter=0.0, multi_panel=True)"
   ]
  },
  {
   "cell_type": "markdown",
   "metadata": {},
   "source": [
    "## Integrating Samples"
   ]
  },
  {
   "cell_type": "markdown",
   "metadata": {},
   "source": [
    "### Normalization & Logarithmization:"
   ]
  },
  {
   "cell_type": "code",
   "execution_count": null,
   "metadata": {},
   "outputs": [],
   "source": [
    "# Log normalization scaled up to 10000\n",
    "print('Before normalization, the sum of first row of X: ' + str(adata.X[0,:].sum()))\n",
    "sc.pp.normalize_total(adata, target_sum=1e4)\n",
    "print('After normalization, the sum of first row of X: ' + str(adata.X[0,:].sum()))\n"
   ]
  },
  {
   "cell_type": "code",
   "execution_count": null,
   "metadata": {},
   "outputs": [],
   "source": [
    "print('Before log, the sum of first row of X: ' + str(adata.X[0,:].sum()))\n",
    "# Logarithmize adata\n",
    "sc.pp.log1p(adata, base = 2)\n",
    "print('After log, the sum of first row of X: ' + str(adata.X[0,:].sum()))"
   ]
  },
  {
   "cell_type": "markdown",
   "metadata": {},
   "source": [
    "### keep high variance genes"
   ]
  },
  {
   "cell_type": "code",
   "execution_count": null,
   "metadata": {},
   "outputs": [],
   "source": [
    "n_top_genes=10000\n",
    "sc.pp.highly_variable_genes(adata, n_top_genes=n_top_genes)\n",
    "sc.pl.highly_variable_genes(adata)"
   ]
  },
  {
   "cell_type": "code",
   "execution_count": null,
   "metadata": {},
   "outputs": [],
   "source": [
    "adata.var.columns"
   ]
  },
  {
   "cell_type": "markdown",
   "metadata": {},
   "source": [
    "### Keep track of original adata and update adata.X to  high variance genes only"
   ]
  },
  {
   "cell_type": "code",
   "execution_count": null,
   "metadata": {},
   "outputs": [],
   "source": [
    "adata.raw = adata\n",
    "adata = adata[:, adata.var.highly_variable]\n",
    "print('adata dimensions of high variance genes: ' + str(adata.shape))"
   ]
  },
  {
   "cell_type": "markdown",
   "metadata": {},
   "source": [
    "## Unsupervised cell clustering & identification of major cell types"
   ]
  },
  {
   "cell_type": "code",
   "execution_count": null,
   "metadata": {},
   "outputs": [],
   "source": [
    "# perform PCA   \n",
    "sc.tl.pca(adata, svd_solver='arpack', n_comps=30)"
   ]
  },
  {
   "cell_type": "code",
   "execution_count": null,
   "metadata": {},
   "outputs": [],
   "source": [
    "print(adata.obsm['X_pca'].shape)\n",
    "print(adata.varm['PCs'].shape)\n",
    "print(adata.uns['pca']['variance_ratio'].shape)\n",
    "print(adata.obs.columns)"
   ]
  },
  {
   "cell_type": "code",
   "execution_count": null,
   "metadata": {},
   "outputs": [],
   "source": [
    "sc.pp.neighbors(adata, n_neighbors=80, n_pcs=30)"
   ]
  },
  {
   "cell_type": "code",
   "execution_count": null,
   "metadata": {},
   "outputs": [],
   "source": [
    "# Use the Leiden algorithm to find clusters\n",
    "sc.tl.leiden(adata, resolution=0.5)"
   ]
  },
  {
   "cell_type": "code",
   "execution_count": null,
   "metadata": {},
   "outputs": [],
   "source": [
    "# load/find cell cycle markers: T-test/T-cells\n",
    "sc.tl.rank_genes_groups(adata, 'leiden', method='t-test')\n",
    "sc.pl.rank_genes_groups(adata, n_genes=25, sharey=False)"
   ]
  },
  {
   "cell_type": "code",
   "execution_count": null,
   "metadata": {},
   "outputs": [],
   "source": [
    "# perform UMAP\n",
    "sc.tl.umap(adata)\n",
    "sc.pl.umap(adata, color='leiden',legend_loc='on data')"
   ]
  },
  {
   "cell_type": "markdown",
   "metadata": {},
   "source": [
    "### Label cells based on cell markers"
   ]
  },
  {
   "cell_type": "code",
   "execution_count": null,
   "metadata": {},
   "outputs": [],
   "source": [
    "cell_type_markers = {\n",
    "    'T cells': ['CD3D', 'CD3E', 'TRAC', 'TRBC1'],\n",
    "    'B cells': ['CD79A', 'CD79B', 'MS4A1', 'TNFRSF17', 'MZB1'],\n",
    "    'Myeloid': ['CD14', 'CD68'],\n",
    "    'Epithelial': ['EPCAM', 'CD24'],\n",
    "    'Fibroblast': ['COL1A2', 'COL3A1', 'MYH11', 'ACTA2'],\n",
    "    'Endothelial': ['VWF', 'PECAM1']\n",
    "}\n",
    "sc.tl.dendrogram(adata, groupby='leiden')\n",
    "sc.pl.dotplot(adata, cell_type_markers, 'leiden', dendrogram=True)"
   ]
  },
  {
   "cell_type": "code",
   "execution_count": null,
   "metadata": {},
   "outputs": [],
   "source": [
    "labelClusterWithCellType(adata, cell_type_markers)\n",
    "sc.pl.umap(adata, color=['cell_type'])\n",
    "sc.pl.umap(adata, color=['treatment'])\n",
    "sc.pl.umap(adata, color=['timepoint'])\n",
    "sc.pl.umap(adata, color=['leiden'])"
   ]
  },
  {
   "cell_type": "code",
   "execution_count": null,
   "metadata": {},
   "outputs": [],
   "source": [
    "#save the adata object\n",
    "adata.write('/home/qiuaodon/Desktop/project_data_new/whole_cohort1_processed.h5ad')"
   ]
  },
  {
   "cell_type": "code",
   "execution_count": null,
   "metadata": {},
   "outputs": [],
   "source": [
    "# show the UMAP of PDCD1 with a valid color_map\n",
    "sc.pl.umap(adata, color='PDCD1', color_map='viridis')\n"
   ]
  },
  {
   "cell_type": "code",
   "execution_count": null,
   "metadata": {},
   "outputs": [],
   "source": [
    "sc.pl.umap(adata, color='timepoint')"
   ]
  },
  {
   "cell_type": "code",
   "execution_count": null,
   "metadata": {},
   "outputs": [],
   "source": [
    "# select the cells from the timepoint pre\n",
    "adata_pre = adata[adata.obs['timepoint'] == 'pre', :]\n",
    "sc.pl.umap(adata_pre, color='PDCD1', color_map='Spectral_r')\n",
    "adata_on = adata[adata.obs['timepoint'] == 'on', :]\n",
    "sc.pl.umap(adata_on, color='PDCD1', color_map='Spectral_r')"
   ]
  },
  {
   "cell_type": "markdown",
   "metadata": {},
   "source": [
    "## Some statistics of cell distribution pre and post treatment"
   ]
  },
  {
   "cell_type": "code",
   "execution_count": null,
   "metadata": {},
   "outputs": [],
   "source": [
    "# count the number of cells in each cell type\n",
    "cell_type_count = adata.obs.groupby('cell_type').size()\n",
    "# plot a pie chart\n",
    "cell_type_count.plot.pie(y='cell_type', figsize=(5, 5), autopct='%1.1f%%', startangle=90)\n",
    "plt.title('Overall cell type distribution')"
   ]
  },
  {
   "cell_type": "code",
   "execution_count": null,
   "metadata": {},
   "outputs": [],
   "source": [
    "# count the number of cells in each cell type in pre and on \n",
    "adata_pre = adata[adata.obs['timepoint'] == 'pre', :]\n",
    "cell_type_count_pre = adata_pre.obs.groupby(['cell_type']).size()\n",
    "cell_type_count_pre.plot.pie(y='cell_type', figsize=(5, 5), autopct='%1.1f%%', startangle=90)\n",
    "plt.title('Cell type distribution in pre')"
   ]
  },
  {
   "cell_type": "code",
   "execution_count": null,
   "metadata": {},
   "outputs": [],
   "source": [
    "# count the number of cells in each cell type in pre and on \n",
    "adata_on = adata[adata.obs['timepoint'] == 'on', :]\n",
    "cell_type_count_on = adata_on.obs.groupby(['cell_type']).size()\n",
    "cell_type_count_on.plot.pie(y='cell_type', figsize=(5, 5), autopct='%1.1f%%', startangle=90)\n",
    "plt.title('Cell type distribution in on')\n"
   ]
  },
  {
   "cell_type": "markdown",
   "metadata": {},
   "source": [
    "## Extract T cells, cluster and create a new AnnData object"
   ]
  },
  {
   "cell_type": "markdown",
   "metadata": {},
   "source": [
    "### use the raw data of T cells to get the clusters"
   ]
  },
  {
   "cell_type": "code",
   "execution_count": null,
   "metadata": {},
   "outputs": [],
   "source": [
    "# restore the X to original raw.X for re-processing \n",
    "adata.raw = adata\n",
    "adata_T = adata[adata.obs['cell_type'] == 'T cells', :]\n",
    "adata_T  = ad.AnnData(X=adata_T.raw.X, obs=adata_T.obs, var=adata_T.raw.var)\n",
    "adata_T.raw = adata_T\n",
    "print(str(adata_T.shape))"
   ]
  },
  {
   "cell_type": "code",
   "execution_count": null,
   "metadata": {},
   "outputs": [],
   "source": [
    "# reclustering T cells\n",
    "# select high variance genes\n",
    "n_top_gene_T = 5000\n",
    "sc.pp.highly_variable_genes(adata_T, n_top_genes=n_top_gene_T)  \n",
    "# filter genes\n",
    "adata_T = adata_T[:, adata_T.var['highly_variable']]\n",
    "# PCA\n",
    "sc.pp.pca(adata_T, n_comps=50, use_highly_variable=True, svd_solver='arpack')\n",
    "# UMAP\n",
    "sc.pp.neighbors(adata_T, n_neighbors=15, n_pcs=50)\n",
    "sc.tl.umap(adata_T)\n",
    "# clustering\n",
    "sc.tl.leiden(adata_T, resolution=0.5)\n",
    "# plot\n",
    "sc.pl.umap(adata_T, color=['leiden'], legend_loc='on data', title='T cells')\n"
   ]
  },
  {
   "cell_type": "code",
   "execution_count": null,
   "metadata": {},
   "outputs": [],
   "source": [
    "adata_T.var"
   ]
  },
  {
   "cell_type": "markdown",
   "metadata": {},
   "source": [
    "## Extract Myeloid and recluster"
   ]
  },
  {
   "cell_type": "code",
   "execution_count": null,
   "metadata": {},
   "outputs": [],
   "source": [
    "# Extract myeloid cells and create a new AnnData object\n",
    "adata_M = adata[adata.obs['cell_type'] == 'Myeloid'].copy()\n",
    "# restore the X to original raw.X for re-processing \n",
    "adata_M  = ad.AnnData(X=adata_M.raw.X, obs=adata_M.obs, var=adata_M.raw.var, obsm=adata_M.obsm, uns=adata_M.uns)\n",
    "# drop the highly variable column in the var dataframe\n",
    "adata_M.var.drop(['highly_variable'], axis=1, inplace=True)\n",
    "adata_M.raw = adata_M\n",
    "adata_M.shape"
   ]
  },
  {
   "cell_type": "code",
   "execution_count": null,
   "metadata": {},
   "outputs": [],
   "source": [
    "n_top_genes = 5000\n",
    "adata_M = clustering_adata(adata_M, n_top_genes = n_top_genes)"
   ]
  },
  {
   "cell_type": "code",
   "execution_count": null,
   "metadata": {},
   "outputs": [],
   "source": [
    "# plot umap\n",
    "sc.pl.umap(adata_M, color='leiden',legend_loc='on data')"
   ]
  },
  {
   "cell_type": "markdown",
   "metadata": {},
   "source": [
    "### It seems that there are some cells that are not myeloid cells?  We will remove them. Use the umap position to remove them."
   ]
  },
  {
   "cell_type": "code",
   "execution_count": null,
   "metadata": {},
   "outputs": [],
   "source": [
    "# sort the sample according X_umap[:, 1] and return the index and value\n",
    "index_umap_0, value_umap_0 = zip(*sorted(enumerate(adata_M.obsm['X_umap'][:, 0]), key=op.itemgetter(1)))  \n",
    "index_umap_1, value_umap_1 = zip(*sorted(enumerate(adata_M.obsm['X_umap'][:, 1]), key=op.itemgetter(1)))"
   ]
  },
  {
   "cell_type": "code",
   "execution_count": null,
   "metadata": {},
   "outputs": [],
   "source": [
    "plt.hist(value_umap_0, bins=100)\n",
    "plt.hist(value_umap_1, bins=100)"
   ]
  },
  {
   "cell_type": "code",
   "execution_count": null,
   "metadata": {},
   "outputs": [],
   "source": [
    "adata_M_clean = adata_M\n",
    "sc.pl.umap(adata_M_clean, color=['leiden', 'timepoint', 'patient_id' ])"
   ]
  },
  {
   "cell_type": "markdown",
   "metadata": {},
   "source": [
    "## Extract B cells and recluster"
   ]
  },
  {
   "cell_type": "code",
   "execution_count": null,
   "metadata": {},
   "outputs": [],
   "source": [
    "adata_B = adata[adata.obs['cell_type'] == 'B cells'].copy()\n",
    "print(str(adata_B.shape))\n",
    "# restore the X to original raw.X for re-processing \n",
    "adata_B  = ad.AnnData(X=adata_B.raw.X, obs=adata_B.obs, var=adata_B.raw.var, obsm=adata_B.obsm, uns=adata_B.uns)\n",
    "# drop the highly variable gene column in the var dataframe\n",
    "adata_B.var.drop(columns='highly_variable', inplace=True)\n",
    "adata_B.raw = adata_B\n",
    "print(str(adata_B.shape))"
   ]
  },
  {
   "cell_type": "code",
   "execution_count": null,
   "metadata": {},
   "outputs": [],
   "source": [
    "n_top_genes = 5000\n",
    "adata_B = clustering_adata(adata_B, resolution=0.50, n_top_genes = n_top_genes)"
   ]
  },
  {
   "cell_type": "code",
   "execution_count": null,
   "metadata": {},
   "outputs": [],
   "source": [
    "# plot UMAP with timepoint\n",
    "sc.pl.umap(adata_B, color=['leiden', 'timepoint', 'patient_id'],show=True)"
   ]
  },
  {
   "cell_type": "code",
   "execution_count": null,
   "metadata": {},
   "outputs": [],
   "source": [
    "plt.hist(adata_B.obsm['X_umap'][:,0], bins=100)"
   ]
  },
  {
   "cell_type": "markdown",
   "metadata": {},
   "source": [
    "### why we need this step"
   ]
  },
  {
   "cell_type": "code",
   "execution_count": null,
   "metadata": {},
   "outputs": [],
   "source": [
    "adata_B_clean = adata_B[(adata_B.obsm['X_umap'][:, 0] < 5.0), :].copy()\n",
    "sc.pl.umap(adata_B_clean, color= ['leiden', 'timepoint', 'patient_id'], ncols= 2)"
   ]
  },
  {
   "cell_type": "code",
   "execution_count": null,
   "metadata": {},
   "outputs": [],
   "source": [
    "print(adata_B.shape)\n",
    "print(adata_B_clean.shape)"
   ]
  },
  {
   "cell_type": "markdown",
   "metadata": {},
   "source": [
    "## Extract epithelial cells and recluster"
   ]
  },
  {
   "cell_type": "code",
   "execution_count": null,
   "metadata": {},
   "outputs": [],
   "source": [
    "adata_Epi = adata[adata.obs['cell_type'] == 'Epithelial'].copy()\n",
    "print(str(adata_Epi.shape))\n",
    "# restore the X to original raw.X for re-processing \n",
    "adata_Epi  = ad.AnnData(X=adata_Epi.raw.X, obs=adata_Epi.obs, var=adata_Epi.raw.var, obsm=adata_Epi.obsm, uns=adata_Epi.uns)\n",
    "# drop highly variable genes column from var dataframe\n",
    "adata_Epi.var.drop(columns=['highly_variable'], inplace=True)\n",
    "adata_Epi.raw = adata_Epi\n",
    "adata_Epi.shape"
   ]
  },
  {
   "cell_type": "code",
   "execution_count": null,
   "metadata": {},
   "outputs": [],
   "source": [
    "adata_Epi = clustering_adata(adata_Epi, n_top_genes = 5000)"
   ]
  },
  {
   "cell_type": "code",
   "execution_count": null,
   "metadata": {},
   "outputs": [],
   "source": [
    "sc.pl.umap(adata_Epi, color=['leiden', 'timepoint', 'patient_id'])"
   ]
  },
  {
   "cell_type": "code",
   "execution_count": null,
   "metadata": {},
   "outputs": [],
   "source": [
    "adata_Epi.shape"
   ]
  },
  {
   "cell_type": "markdown",
   "metadata": {},
   "source": [
    "## Extract fibroblasts and recluster"
   ]
  },
  {
   "cell_type": "code",
   "execution_count": null,
   "metadata": {},
   "outputs": [],
   "source": [
    "adata_Fibro = adata[adata.obs['cell_type'] == 'Fibroblast'].copy()\n",
    "print(str(adata_Fibro.shape))\n",
    "# restore the X to original raw.X for re-processing\n",
    "adata_Fibro  = ad.AnnData(X=adata_Fibro.raw.X, obs=adata_Fibro.obs, var=adata_Fibro.raw.var, obsm=adata_Fibro.obsm, uns=adata_Fibro.uns)\n",
    "# drop the highly variable column from var\n",
    "adata_Fibro.var.drop(columns=['highly_variable'], inplace=True)\n",
    "adata_Fibro.raw = adata_Fibro\n",
    "adata_Fibro.shape"
   ]
  },
  {
   "cell_type": "code",
   "execution_count": null,
   "metadata": {},
   "outputs": [],
   "source": [
    "adata_Fibro = clustering_adata(adata_Fibro, resolution = 1.0, n_top_genes = 5000)\n",
    "sc.pl.umap(adata_Fibro, color=['leiden', 'timepoint', 'patient_id'], ncols= 2)"
   ]
  },
  {
   "cell_type": "markdown",
   "metadata": {},
   "source": [
    "## Extract Endothelial cells and reclustering"
   ]
  },
  {
   "cell_type": "code",
   "execution_count": null,
   "metadata": {},
   "outputs": [],
   "source": [
    "adata_Endo = adata[adata.obs['cell_type'] == 'Endothelial'].copy()\n",
    "print(str(adata_Endo.shape))\n",
    "# restore the X to original raw.X for re-processing\n",
    "adata_Endo  = ad.AnnData(X=adata_Endo.raw.X, obs=adata_Endo.obs, var=adata_Endo.raw.var, obsm=adata_Endo.obsm, uns=adata_Endo.uns)\n",
    "adata_Endo.raw = adata_Endo\n",
    "adata_Endo.shape"
   ]
  },
  {
   "cell_type": "code",
   "execution_count": null,
   "metadata": {},
   "outputs": [],
   "source": [
    "adata_Endo = clustering_adata(adata_Endo, n_top_genes = n_top_genes)"
   ]
  },
  {
   "cell_type": "code",
   "execution_count": null,
   "metadata": {},
   "outputs": [],
   "source": [
    "sc.pl.umap(adata_Endo, color=['leiden', 'timepoint', 'patient_id'])"
   ]
  },
  {
   "cell_type": "markdown",
   "metadata": {},
   "source": [
    "## save all the data on my desktop"
   ]
  },
  {
   "cell_type": "code",
   "execution_count": null,
   "metadata": {},
   "outputs": [],
   "source": [
    "data_dir_NHDP = \"/home/qiuaodon/Desktop/project_data/\"\n",
    "adata_B.write_h5ad(data_dir_NHDP + '1863-counts_cells_cohort1_B_cells.h5ad')\n",
    "adata_Epi.write_h5ad(data_dir_NHDP + '1863-counts_cells_cohort1_Epi_cells.h5ad')\n",
    "adata_Fibro.write_h5ad(data_dir_NHDP + '1863-counts_cells_cohort1_Fibro_cells.h5ad')\n",
    "adata_Endo.write_h5ad(data_dir_NHDP + '1863-counts_cells_cohort1_Endo_cells.h5ad')\n",
    "adata_T.write_h5ad(data_dir_NHDP + '1863-counts_cells_cohort1_T_cells.h5ad')\n",
    "adata_M.write_h5ad(data_dir_NHDP + '1863-counts_cells_cohort1_M_cells.h5ad')"
   ]
  }
 ],
 "metadata": {
  "kernelspec": {
   "display_name": "base",
   "language": "python",
   "name": "python3"
  },
  "language_info": {
   "codemirror_mode": {
    "name": "ipython",
    "version": 3
   },
   "file_extension": ".py",
   "mimetype": "text/x-python",
   "name": "python",
   "nbconvert_exporter": "python",
   "pygments_lexer": "ipython3",
   "version": "3.11.5"
  }
 },
 "nbformat": 4,
 "nbformat_minor": 2
}
