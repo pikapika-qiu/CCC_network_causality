{
 "cells": [
  {
   "cell_type": "code",
   "execution_count": null,
   "metadata": {},
   "outputs": [],
   "source": [
    "import numpy as np\n",
    "import scanpy as sc\n",
    "import matplotlib.pyplot as plt\n",
    "import pandas as pd\n",
    "import scanpy as sc\n",
    "import scipy.io as sio\n",
    "import anndata as ad\n",
    "import seaborn as sns\n",
    "import os as os\n",
    "import sys as sys\n",
    "sys.path.append('/home/qiuaodon/Desktop/PanCancer_scRNA_analysis/utils/')\n",
    "from scRNA_utils import *\n",
    "import operator as op\n",
    "data_dir_NHDP = \"/home/qiuaodon/Desktop/project_data_new/\"\n"
   ]
  },
  {
   "cell_type": "code",
   "execution_count": null,
   "metadata": {},
   "outputs": [],
   "source": [
    "adata = sc.read(data_dir_NHDP + '1863-counts_cells_cohort1_whole_cells.h5ad')"
   ]
  },
  {
   "cell_type": "code",
   "execution_count": null,
   "metadata": {},
   "outputs": [],
   "source": [
    "adata"
   ]
  },
  {
   "cell_type": "markdown",
   "metadata": {},
   "source": [
    "# get the DEGs of each cluster of T cells"
   ]
  },
  {
   "cell_type": "code",
   "execution_count": null,
   "metadata": {},
   "outputs": [],
   "source": [
    "adata_T = sc.read(data_dir_NHDP + '1863-counts_cells_cohort1_T_cells.h5ad')"
   ]
  },
  {
   "cell_type": "code",
   "execution_count": null,
   "metadata": {},
   "outputs": [],
   "source": [
    "sc.pl.umap(adata_T, color = 'leiden')"
   ]
  },
  {
   "cell_type": "code",
   "execution_count": null,
   "metadata": {},
   "outputs": [],
   "source": [
    "# Iterate through B cell clusters and identify the genes that are differentially expressed before and after treatment\n",
    "q_val_threshold = 1\n",
    "pval_threshold = 1\n",
    "cluster_deg_df_list = []\n",
    "for c in adata_T.obs['leiden'].cat.categories:\n",
    "    print(\"T cluster:\", c)\n",
    "    cell_in_cluster = adata_T[adata_T.obs['leiden'] == c, :]\n",
    "    cluster_deg_df = paird_ttest(cell_in_cluster, condition_key = 'timepoint', sample_id_col = 'sample_id', patient_id_col = 'patient_id') \n",
    "    cluster_deg_df = cluster_deg_df[cluster_deg_df['pval'] < pval_threshold]\n",
    "    cluster_deg_df_list.append(cluster_deg_df)"
   ]
  },
  {
   "cell_type": "code",
   "execution_count": null,
   "metadata": {},
   "outputs": [],
   "source": [
    "# save the DEG results into excel, each cluster a sheet\n",
    "with pd.ExcelWriter(data_dir_NHDP + 'T_cell_DEG_withcluster.xlsx') as writer:\n",
    "    for i, cluster_deg_df in enumerate(cluster_deg_df_list):\n",
    "        cluster_deg_df.to_excel(writer, sheet_name = 'cluster_' + str(i))\n"
   ]
  },
  {
   "cell_type": "code",
   "execution_count": null,
   "metadata": {},
   "outputs": [],
   "source": [
    "cluster_deg_df = cluster_deg_df[cluster_deg_df['pval'] < pval_threshold]"
   ]
  },
  {
   "cell_type": "code",
   "execution_count": null,
   "metadata": {},
   "outputs": [],
   "source": [
    "from matplotlib_venn import venn2\n",
    "import matplotlib.pyplot as plt\n",
    "deg_3 = cluster_deg_df_list[3]\n",
    "deg_4 = cluster_deg_df_list[4]\n",
    "# sort deg_3 and deg_4 by pval and take the top 100 genes\n",
    "deg_3 = deg_3.sort_values(by = 'pval').iloc[:50]\n",
    "deg_4 = deg_4.sort_values(by = 'pval').iloc[:50]\n",
    "deg_3_genes = set(deg_3.index)\n",
    "deg_4_genes = set(deg_4.index)\n",
    "venn2([deg_3_genes, deg_4_genes], set_labels = ('Cluster 3', 'Cluster 4'))\n",
    "plt.show()\n"
   ]
  },
  {
   "cell_type": "code",
   "execution_count": null,
   "metadata": {},
   "outputs": [],
   "source": [
    "deg_4"
   ]
  },
  {
   "cell_type": "markdown",
   "metadata": {},
   "source": [
    "## get the DEGs of PDCD1+- cells"
   ]
  },
  {
   "cell_type": "code",
   "execution_count": null,
   "metadata": {},
   "outputs": [],
   "source": [
    "adata_T = sc.read(data_dir_NHDP + '1863-counts_cells_cohort1_T_cells.h5ad')"
   ]
  },
  {
   "cell_type": "code",
   "execution_count": null,
   "metadata": {},
   "outputs": [],
   "source": [
    "sc.pl.umap(adata_T, color = 'leiden')"
   ]
  },
  {
   "cell_type": "code",
   "execution_count": null,
   "metadata": {},
   "outputs": [],
   "source": [
    "\n",
    "import matplotlib.colors as mcolors\n",
    "# change the color to grey-to-blue\n",
    "colors = [\"grey\", \"blue\"]  # Start with grey and end with blue\n",
    "cmap = mcolors.LinearSegmentedColormap.from_list(\"grey_to_blue\", colors)\n",
    "sc.pl.umap(adata_T, color = 'LTA', color_map=cmap)"
   ]
  },
  {
   "cell_type": "code",
   "execution_count": null,
   "metadata": {},
   "outputs": [],
   "source": [
    "# plot the violin plot of LTA\n"
   ]
  },
  {
   "cell_type": "code",
   "execution_count": null,
   "metadata": {},
   "outputs": [],
   "source": [
    "adata_T_pre = adata_T[adata_T.obs['timepoint'] == 'pre']\n",
    "adata_T_on = adata_T[adata_T.obs['timepoint'] == 'on']"
   ]
  },
  {
   "cell_type": "code",
   "execution_count": null,
   "metadata": {},
   "outputs": [],
   "source": [
    "sc.pl.umap(adata_T_pre, color = 'LTA', color_map='Blues')\n",
    "sc.pl.umap(adata_T_on, color = 'LTA', color_map='Blues')"
   ]
  },
  {
   "cell_type": "code",
   "execution_count": null,
   "metadata": {},
   "outputs": [],
   "source": [
    "sc.pl.umap(adata_T_pre, color = 'LTA', color_map=cmap)\n",
    "sc.pl.umap(adata_T_on, color = 'LTA', color_map=cmap)"
   ]
  },
  {
   "cell_type": "code",
   "execution_count": null,
   "metadata": {},
   "outputs": [],
   "source": [
    "adata_T"
   ]
  },
  {
   "cell_type": "code",
   "execution_count": null,
   "metadata": {},
   "outputs": [],
   "source": [
    "# add one obs column for if the cell express PDCD1\n",
    "adata_T.obs['PDCD1exp'] = (adata_T[:, 'PDCD1'].X>0).toarray().flatten()"
   ]
  },
  {
   "cell_type": "code",
   "execution_count": null,
   "metadata": {},
   "outputs": [],
   "source": [
    "# convert boolean True to 1 and False to 0 in PDCD1\n",
    "adata_T.obs['PDCD1exp'] = adata_T.obs['PDCD1exp'].astype(str)\n",
    "adata_T.obs['PDCD1exp']"
   ]
  },
  {
   "cell_type": "code",
   "execution_count": null,
   "metadata": {},
   "outputs": [],
   "source": [
    "adata_T_On = adata_T[adata_T.obs['timepoint'] == 'on']"
   ]
  },
  {
   "cell_type": "code",
   "execution_count": null,
   "metadata": {},
   "outputs": [],
   "source": [
    "adata_T_On"
   ]
  },
  {
   "cell_type": "code",
   "execution_count": null,
   "metadata": {},
   "outputs": [],
   "source": [
    "adata_T_On.obs['sample_id_PD1'] = adata_T_On.obs['sample_id'].astype(str) + '_' + adata_T_On.obs['PDCD1exp']\n",
    "adata_T_On.obs['sample_id_PD1']"
   ]
  },
  {
   "cell_type": "code",
   "execution_count": null,
   "metadata": {},
   "outputs": [],
   "source": [
    "adata_T_On.obs['sample_id_PD1'].value_counts()"
   ]
  },
  {
   "cell_type": "code",
   "execution_count": null,
   "metadata": {},
   "outputs": [],
   "source": [
    "adata_T_On.obs['sample_id'].value_counts()"
   ]
  },
  {
   "cell_type": "code",
   "execution_count": null,
   "metadata": {},
   "outputs": [],
   "source": [
    "adata_T_On_0 = adata_T_On[adata_T_On.obs['PDCD1exp'] == 'False']\n",
    "adata_T_On_1 = adata_T_On[adata_T_On.obs['PDCD1exp'] == 'True']"
   ]
  },
  {
   "cell_type": "code",
   "execution_count": null,
   "metadata": {},
   "outputs": [],
   "source": [
    "# normalize the adata_T_On_0 value count\n",
    "countPD1 = adata_T_On_0.obs['sample_id'].value_counts()\n",
    "countall = adata_T_On.obs['sample_id'].value_counts()\n",
    "\n",
    "countPD1 = countPD1/countall\n"
   ]
  },
  {
   "cell_type": "code",
   "execution_count": null,
   "metadata": {},
   "outputs": [],
   "source": [
    "# normalize the adata_T_On_1 value count\n",
    "countPD1_1 = adata_T_On_1.obs['sample_id'].value_counts()\n",
    "countall_1 = adata_T_On.obs['sample_id'].value_counts()\n",
    "\n",
    "countPD1_1 = countPD1_1/countall_1\n",
    "\n",
    "countPD1_df = countPD1_1.reset_index()\n",
    "countPD1_df.columns = ['sample_id', 'count']"
   ]
  },
  {
   "cell_type": "code",
   "execution_count": null,
   "metadata": {},
   "outputs": [],
   "source": [
    "countPD1_df = countPD1.reset_index()\n",
    "countPD1_df.columns = ['sample_id', 'count']"
   ]
  },
  {
   "cell_type": "code",
   "execution_count": null,
   "metadata": {},
   "outputs": [],
   "source": [
    "sc.pl.violin(adata_T_On, keys='PDCD1', groupby='sample_id', rotation=90)\n"
   ]
  },
  {
   "cell_type": "code",
   "execution_count": null,
   "metadata": {},
   "outputs": [],
   "source": [
    "\n",
    "# Plotting using seaborn's barplot\n",
    "plt.figure(figsize=(12, 8))\n",
    "sns.barplot(x='sample_id', y='count', data=countPD1_df, palette='viridis', order=countPD1_df.sort_values('count', ascending=False).sample_id)\n",
    "plt.xticks(rotation=90)\n",
    "plt.title('proportion of cells expressing PDCD1 in each sample')\n",
    "plt.xlabel('Sample ID')\n",
    "plt.ylabel('proportion')\n",
    "plt.show()\n"
   ]
  },
  {
   "cell_type": "code",
   "execution_count": null,
   "metadata": {},
   "outputs": [],
   "source": [
    "# plot the barplot of the number of cells in each sample\n",
    "sns.set(style=\"whitegrid\")\n",
    "plt.figure(figsize=(10, 6))\n",
    "sns.countplot(x='sample_id', data=adata_T_On_1.obs, order=adata_T_On_1.obs['sample_id'].value_counts().index)\n",
    "plt.title('Number of cells expressing PDCD1 in each sample')\n",
    "plt.xticks(rotation=90)\n",
    "plt.show()"
   ]
  },
  {
   "cell_type": "code",
   "execution_count": null,
   "metadata": {},
   "outputs": [],
   "source": [
    "def scRNA2PseudoBulkAnnData(adata, sample_id_col = None): \n",
    "    '''        \n",
    "        This function convert a scRNA AnnData oboject to an AnnData object,\n",
    "           where gene expression from the same sample is merged and normalized as \n",
    "           transcript per million (TPM) format.  \n",
    "         \n",
    "        Parameters:\n",
    "            adata: anndata object\n",
    "            sample_id_col: the column in adata.obs that contains the sample id\n",
    "        \n",
    "        Returns:\n",
    "            adata: AnnData object with adata.X in TPM format.  The annData object \n",
    "            is annoted with uns[\"pseudoBulk\"] = \"log_2_tpm\"\n",
    "        \n",
    "    '''\n",
    "    # check if input adata is AnnData object\n",
    "    if not isinstance(adata, ad.AnnData):\n",
    "        print (\"Input adata is not an AnnData object\")\n",
    "        return None\n",
    "    if not sample_id_col and not 'sample_id' in adata.obs.columns:\n",
    "        print (\"sample id column not provided\")\n",
    "        return None\n",
    "    \n",
    "    if not sample_id_col and 'sample_id' in adata.obs.columns:\n",
    "        sample_id_col = 'sample_id_PD1'\n",
    "    \n",
    "    # check if adata have raw data\n",
    "    if not adata.raw:\n",
    "        print (\"adata.raw is not available\")\n",
    "        return None\n",
    "\n",
    "    col_to_remove = ['ncount_rna', 'nfeature_rna', 'total_counts', 'total_counts_mt', 'pct_counts_mt', 'n_genes_by_counts', 'log1p_n_genes_by_counts', 'total_counts', 'total_counts_mt', 'pct_counts_mt', 'n_genes_by_counts', 'log1p_n_genes_by_counts']\n",
    "    col_to_keep_in_obs = [x for x in adata.obs.columns.str.lower() if x not in col_to_remove]\n",
    "\n",
    "    nSamples = len(adata.obs['sample_id_PD1'].unique()) \n",
    "    nGenes = len(adata.var_names)\n",
    "    X = np.zeros((nSamples, nGenes), dtype=np.float32)\n",
    "    df_tpm = pd.DataFrame(X, index=adata.obs['sample_id_PD1'].unique(), columns = adata.var_names)\n",
    "\n",
    "    # remove obs columns that are added by sc.pp functions\n",
    "    col_to_remove = ['ncount_rna', 'nfeature_rna', 'total_counts', 'total_counts_mt', 'pct_counts_mt', 'n_genes_by_counts', 'log1p_n_genes_by_counts', 'total_counts', 'total_counts_mt', 'pct_counts_mt', 'n_genes_by_counts', 'log1p_n_genes_by_counts']\n",
    "    col_to_keep_in_obs = [x for x in adata.obs.columns.str.lower() if x not in col_to_remove]\n",
    "    df_obs = pd.DataFrame(index=adata.obs['sample_id_PD1'].unique(), columns = col_to_keep_in_obs)\n",
    "\n",
    "    for sample in adata.obs['sample_id_PD1'].unique():\n",
    "        tpm = np.sum(adata.X[adata.obs['sample_id_PD1'] == sample, :], axis = 0)\n",
    "        tpm = np.array(tpm / np.sum(tpm) * 1e6, dtype=np.float32) # normalize to TPM/per cell and force to float32\n",
    "        df_tpm.loc[sample,:] = tpm\n",
    "\n",
    "        # Populate df_obs\n",
    "        for col in adata.obs.columns:\n",
    "            df_obs.loc[sample, col] = adata.obs.loc[adata.obs[sample_id_col] == sample, col].unique()[0]\n",
    " \n",
    "\n",
    "    # Create an AnnData object for the pseudo-bulk RNA data\n",
    "    adata_sample_tpm = ad.AnnData(df_tpm.values, obs=df_obs, var=adata.var)\n",
    "    adata_sample_tpm.uns[\"pseudoBulk\"] = \"tpm\"\n",
    "    adata_sample_tpm.raw = adata_sample_tpm\n",
    "\n",
    "    return adata_sample_tpm"
   ]
  },
  {
   "cell_type": "code",
   "execution_count": null,
   "metadata": {},
   "outputs": [],
   "source": [
    "adata_T_On = scRNA2PseudoBulkAnnData(adata_T_On, 'sample_id_PD1')"
   ]
  },
  {
   "cell_type": "code",
   "execution_count": null,
   "metadata": {},
   "outputs": [],
   "source": [
    "q_val_threshold = 0.2\n",
    "pval_threshold = 0.05\n",
    "cluster_deg_df = paird_ttest(adata_T_On, condition_key = 'PDCD1exp', sample_id_col = 'sample_id_PD1', patient_id_col = 'patient_id')\n",
    "cluster_deg_df = cluster_deg_df[cluster_deg_df['pval'] < pval_threshold]\n",
    "with pd.ExcelWriter('/home/qiuaodon/Desktop/EGAS00001004809_On_T_cell_comparingbyPDCD1.xlsx') as writer:\n",
    "    cluster_deg_df.to_excel(writer)"
   ]
  },
  {
   "cell_type": "markdown",
   "metadata": {},
   "source": [
    "### get the DEGs of filtered cells"
   ]
  },
  {
   "cell_type": "code",
   "execution_count": null,
   "metadata": {},
   "outputs": [],
   "source": [
    "# get the list of patient_id with more than 100 cells expressing PDCD1\n",
    "patient_id_list = adata_T_On_1.obs['patient_id'].value_counts()\n",
    "patient_id_list = patient_id_list[patient_id_list > 100].index\n",
    "patient_id_list"
   ]
  },
  {
   "cell_type": "code",
   "execution_count": null,
   "metadata": {},
   "outputs": [],
   "source": [
    "adata_T_On_filtered = adata_T_On[adata_T_On.obs['patient_id'].isin(patient_id_list)]"
   ]
  },
  {
   "cell_type": "code",
   "execution_count": null,
   "metadata": {},
   "outputs": [],
   "source": [
    "q_val_threshold = 0.2\n",
    "pval_threshold = 0.05\n",
    "cluster_deg_df = paird_ttest(adata_T_On_filtered, condition_key = 'PDCD1exp', sample_id_col = 'sample_id_PD1', patient_id_col = 'patient_id')\n",
    "cluster_deg_df = cluster_deg_df[cluster_deg_df['pval'] < pval_threshold]\n",
    "with pd.ExcelWriter('/home/qiuaodon/Desktop/project_data_new/EGAS00001004809_On_T_cell_comparingbyPDCD1_filtered.xlsx') as writer:\n",
    "    cluster_deg_df.to_excel(writer)"
   ]
  },
  {
   "cell_type": "code",
   "execution_count": null,
   "metadata": {},
   "outputs": [],
   "source": [
    "cluster_deg_df = paird_ttest(adata_T,condition_key = 'timepoint', sample_id_col = 'sample_id', patient_id_col = 'patient_id')\n",
    "\n",
    "with pd.ExcelWriter('/home/qiuaodon/Desktop/project_data_new/EGAS00001004809_whole_T_cell_DEG.xlsx') as writer:\n",
    "    cluster_deg_df.to_excel(writer)"
   ]
  },
  {
   "cell_type": "code",
   "execution_count": null,
   "metadata": {},
   "outputs": [],
   "source": [
    "# plot the barplot of the number of cells in each sample\n",
    "adata_T_On_0 = adata_T_On_0[adata_T_On_0.obs['patient_id'].isin (patient_id_list) ]\n",
    "sns.set(style=\"whitegrid\")\n",
    "plt.figure(figsize=(10, 6))\n",
    "sns.countplot(x='sample_id', data=adata_T_On_0.obs, order=adata_T_On_0.obs['sample_id'].value_counts().index)\n",
    "plt.title('Number of cells in each sample')\n",
    "plt.xticks(rotation=90)\n",
    "plt.show()"
   ]
  },
  {
   "cell_type": "code",
   "execution_count": null,
   "metadata": {},
   "outputs": [],
   "source": [
    "# plot the barplot of the number of cells in each sample\n",
    "adata_T_On_1 = adata_T_On_1[adata_T_On_1.obs['patient_id'].isin (patient_id_list) ]\n",
    "sns.set(style=\"whitegrid\")\n",
    "plt.figure(figsize=(10, 6))\n",
    "sns.countplot(x='sample_id', data=adata_T_On_1.obs, order=adata_T_On_1.obs['sample_id'].value_counts().index)\n",
    "plt.title('Number of PDCD1 cells in each sample')\n",
    "plt.xticks(rotation=90)\n",
    "plt.show()"
   ]
  },
  {
   "cell_type": "code",
   "execution_count": null,
   "metadata": {},
   "outputs": [],
   "source": [
    "#name firt column as genes\n",
    "cluster_deg_df = cluster_deg_df.rename(columns = {'Unnamed: 0':'genes'})\n",
    "cluster_deg_df = cluster_deg_df[(cluster_deg_df['pval'] < 0.001) & (abs(cluster_deg_df['log2fc']) > 0.5) & (cluster_deg_df['qval'] < 0.1)]\n",
    "cluster_deg_df"
   ]
  },
  {
   "cell_type": "code",
   "execution_count": null,
   "metadata": {},
   "outputs": [],
   "source": [
    "import mygene\n",
    "from Bio import Entrez\n",
    "\n",
    "# Initialize mygene\n",
    "mg = mygene.MyGeneInfo()\n",
    "\n",
    "# List of significant DEGs\n",
    "significant_degs = cluster_deg_df.index.tolist()\n",
    "\n",
    "# Function to search PubMed for gene associations with PD1\n",
    "def search_pubmed(gene, query):\n",
    "    Entrez.email = \"qqqqq200110@gmail.com\"  # Always set your email in Entrez\n",
    "    handle = Entrez.esearch(db=\"pubmed\", term=f\"{gene} {query}\", retmax=10)\n",
    "    record = Entrez.read(handle)\n",
    "    return record[\"IdList\"]\n",
    "\n",
    "# Search for associations with PD1\n",
    "pd1_associations = {}\n",
    "for gene in significant_degs:\n",
    "    pubmed_results = search_pubmed(gene, \"PD1\")\n",
    "    if pubmed_results:\n",
    "        pd1_associations[gene] = pubmed_results\n",
    "\n",
    "# Print genes with PubMed associations to PD1\n",
    "for gene, ids in pd1_associations.items():\n",
    "    print(f\"{gene}: {ids}\")"
   ]
  },
  {
   "cell_type": "code",
   "execution_count": null,
   "metadata": {},
   "outputs": [],
   "source": [
    "from Bio import Entrez\n",
    "import pandas as pd\n",
    "\n",
    "# Set your email for Entrez\n",
    "Entrez.email = \"your.email@example.com\"\n",
    "\n",
    "# Dictionary of unique DEGs by cluster\n",
    "unique_degs_dict = {\n",
    "    \"T_cluster_0\": [\"CITED2\", \"LTA\", \"TUBB\", \"CD40LG\", \"ARL4C\", \"TGFBR2\"],\n",
    "    \"T_cluster_1\": [\"KMT2A\", \"PDGFB\", \"H2AFZ\", \"NCF1\", \"GALNT3\", \"PRR14L\"],\n",
    "    \"T_cluster_2\": [\"BATF\", \"AHNAK\", \"TNF\", \"GADD45B\", \"IFI44L\", \"IL2RA\", \"MIR4435-2HG\", \"NFKBIZ\", \"AC097534.2\", \"MAGEH1\", \"NPC1\", \"SLC39A10\", \"DGKE\"],\n",
    "    \"T_cluster_3\": [\"TUBB2A\", \"EDEM1\", \"ADAMTS1\", \"IL15\", \"HSPA1B\", \"IGFBP3\", \"METTL21A\", \"OAS2\", \"PLAC8\", \"PLEK\", \"TNFRSF1B\"],\n",
    "    \"T_cluster_4\": [\"KLF6\", \"GIMAP7\", \"TUBA1B\", \"TSC22D3\", \"NEAT1\"],\n",
    "    \"T_cluster_5\": [\"AREG\", \"DDIT4\", \"SOCS1\"],\n",
    "    \"T_cluster_6\": [\"IRF1\", \"HSPA1A\", \"TNFAIP3\", \"DDIT4\", \"NFKBIA\"],\n",
    "    \"T_cluster_7\": [\"SAMD9\", \"PHLDA1\", \"ITGA4\", \"CCL4\", \"CXCL2\", \"ZNF366\"],\n",
    "    \"T_cluster_8\": [\"PTGER4\", \"IGKC\", \"NUCB2\", \"MIGA1\", \"HSP90AA1\", \"FAAH2\", \"ENO1\", \"SLC38A2\", \"F5\", \"PDE4DIP\", \"BCL2\", \"BCL6\", \"PBXIP1\", \"ZEB2\", \"ANKRD36C\", \"CXCL9\", \"VPS13C\", \"AZGP1\", \"RBKS\", \"AL359220.1\", \"FXYD7\", \"HECTD2\", \"TGIF1\", \"SELL\", \"ITGAV\", \"IVNS1ABP\", \"CLOCK\"]\n",
    "}\n",
    "\n",
    "# Function to search PubMed for a given query\n",
    "def search_pubmed(query):\n",
    "    handle = Entrez.esearch(db=\"pubmed\", term=query, retmax=5)\n",
    "    record = Entrez.read(handle)\n",
    "    handle.close()\n",
    "    return record[\"IdList\"]\n",
    "\n",
    "# Create a DataFrame to store the results\n",
    "columns = [\"Cluster\", \"DEG\", \"PubMed IDs\"]\n",
    "results = []\n",
    "\n",
    "# Perform the search for each DEG in each cluster\n",
    "for cluster, degs in unique_degs_dict.items():\n",
    "    for deg in degs:\n",
    "        query = f\"PDCD1 AND {deg}\"\n",
    "        pubmed_ids = search_pubmed(query)\n",
    "        results.append([cluster, deg, \", \".join(pubmed_ids)])\n",
    "\n",
    "# Convert the results to a DataFrame\n",
    "results_df = pd.DataFrame(results, columns=columns)\n",
    "\n"
   ]
  },
  {
   "cell_type": "code",
   "execution_count": null,
   "metadata": {},
   "outputs": [],
   "source": [
    "results_df.to_csv(data_dir_NHDP + \"deg_pdcd1_search_results.csv\", index=False)"
   ]
  },
  {
   "cell_type": "code",
   "execution_count": null,
   "metadata": {},
   "outputs": [],
   "source": [
    "# filter DEGs with more than 3 PubMed associations\n",
    "pd1_associations_filtered = {gene: ids for gene, ids in pd1_associations.items() if len(ids) > 3}\n",
    "len(pd1_associations_filtered)"
   ]
  },
  {
   "cell_type": "code",
   "execution_count": null,
   "metadata": {},
   "outputs": [],
   "source": [
    "# show all the genes in the filtered DEGs\n",
    "print(pd1_associations_filtered.keys())"
   ]
  },
  {
   "cell_type": "markdown",
   "metadata": {},
   "source": [
    "## try to get DEGs of B cells"
   ]
  },
  {
   "cell_type": "code",
   "execution_count": null,
   "metadata": {},
   "outputs": [],
   "source": [
    "adata_B = sc.read(data_dir_NHDP + '1863-counts_cells_cohort1_B_cells.h5ad')\n",
    "\n",
    "sc.tl.rank_genes_groups(adata_B, groupby='leiden',  method='wilcoxon')\n",
    "sc.pl.rank_genes_groups(adata_B, n_genes=25, sharey=False)"
   ]
  },
  {
   "cell_type": "code",
   "execution_count": null,
   "metadata": {},
   "outputs": [],
   "source": [
    "is_present = \"BIOKEY_22_Pre\" in adata_B.obs.sample_id\n",
    "print(is_present)"
   ]
  },
  {
   "cell_type": "code",
   "execution_count": null,
   "metadata": {},
   "outputs": [],
   "source": [
    "# Condition to keep cells that are not from patient_id \"BIOKEY_22\"\n",
    "condition = adata_B.obs['patient_id'] != 'BIOKEY_22'\n",
    "# Apply the condition to filter out these cells\n",
    "adata_B_filtered = adata_B[condition].copy()"
   ]
  },
  {
   "cell_type": "code",
   "execution_count": null,
   "metadata": {},
   "outputs": [],
   "source": [
    "print(adata_B_filtered.shape)\n",
    "print(adata_B.shape)\n",
    "adata_B = adata_B_filtered"
   ]
  },
  {
   "cell_type": "code",
   "execution_count": null,
   "metadata": {},
   "outputs": [],
   "source": [
    "sc.pl.umap(adata_B, color= 'leiden')"
   ]
  },
  {
   "cell_type": "code",
   "execution_count": null,
   "metadata": {},
   "outputs": [],
   "source": [
    "# Iterate through B cell clusters and identify the genes that are differentially expressed before and after treatment\n",
    "q_val_threshold = 0.2\n",
    "pval_threshold = 0.005\n",
    "cluster_deg_df_list = []\n",
    "for c in adata_B.obs['leiden'].cat.categories:\n",
    "    print(\"B cluster:\", c)\n",
    "    cell_in_cluster = adata_B[adata_B.obs['leiden'] == c, :]\n",
    "    cluster_deg_df = paird_ttest(cell_in_cluster, condition_key = 'timepoint', sample_id_col = 'sample_id', patient_id_col = 'patient_id') \n",
    "    cluster_deg_df = cluster_deg_df[cluster_deg_df['pval'] < pval_threshold]\n",
    "    cluster_deg_df_list.append(cluster_deg_df)"
   ]
  },
  {
   "cell_type": "code",
   "execution_count": null,
   "metadata": {},
   "outputs": [],
   "source": [
    "# Obtain the DEGs of the whole B cells group\n",
    "q_val_threshold = 0.2\n",
    "pval_threshold = 1\n",
    "adata_B = sc.read(data_dir_NHDP + '1863-counts_cells_cohort1_B_cells.h5ad')\n",
    "cluster_deg_df = paird_ttest(adata_B, condition_key = 'timepoint', sample_id_col = 'sample_id', patient_id_col = 'patient_id') \n",
    "cluster_deg_df = cluster_deg_df[cluster_deg_df['pval'] < pval_threshold]\n",
    "with pd.ExcelWriter('/home/qiuaodon/Desktop/EGAS00001004809_whole_B_cell.xlsx') as writer:\n",
    "    cluster_deg_df.to_excel(writer)"
   ]
  },
  {
   "cell_type": "markdown",
   "metadata": {},
   "source": [
    "### we still have some trouble, the q_values are way too large and similiar"
   ]
  },
  {
   "cell_type": "code",
   "execution_count": null,
   "metadata": {},
   "outputs": [],
   "source": [
    "import pandas as pd\n",
    "import seaborn as sns\n",
    "import matplotlib.pyplot as plt\n",
    "import scipy.sparse\n",
    "\n",
    "# Assuming you have already extracted 'LTBP2' expression data as 'ltbp2_expression'\n",
    "# and 'timepoints' from your AnnData object 'adata_B'\n",
    "\n",
    "# If 'ltbp2_expression' is in a sparse matrix format, convert it to a dense format\n",
    "if scipy.sparse.issparse(ltbp2_expression):\n",
    "    ltbp2_expression_dense = ltbp2_expression.toarray().flatten()\n",
    "else:\n",
    "    ltbp2_expression_dense = ltbp2_expression.flatten()\n",
    "\n",
    "# Create a DataFrame for plotting\n",
    "df = pd.DataFrame({\n",
    "    'LTBP2 Expression': ltbp2_expression_dense,\n",
    "    'Timepoint': adata_B.obs['timepoint']\n",
    "})\n",
    "\n",
    "# Plotting the violin plot\n",
    "plt.figure(figsize=(10, 6))\n",
    "sns.violinplot(x='Timepoint', y='LTBP2 Expression', data=df)\n",
    "plt.title('Violin Plot of LTBP2 Expression Across Timepoints')\n",
    "plt.show()\n"
   ]
  },
  {
   "cell_type": "code",
   "execution_count": null,
   "metadata": {},
   "outputs": [],
   "source": [
    "# Find the index of 'LTBP2'\n",
    "ltbp2_index = adata_B.var_names.get_loc('LTBP2')\n",
    "\n",
    "# Filter the data for 'pre' timepoint and extract 'LTBP2' expression\n",
    "ltbp2_pre = adata_B[adata_B.obs['timepoint'] == 'pre', ltbp2_index].X\n",
    "ltbp2_pre_dense = ltbp2_pre.toarray() if scipy.sparse.issparse(ltbp2_pre) else ltbp2_pre\n",
    "pre_mean = np.mean(ltbp2_pre_dense)\n",
    "\n",
    "# Filter the data for 'on' timepoint and extract 'LTBP2' expression\n",
    "ltbp2_on = adata_B[adata_B.obs['timepoint'] == 'on', ltbp2_index].X\n",
    "ltbp2_on_dense = ltbp2_on.toarray() if scipy.sparse.issparse(ltbp2_on) else ltbp2_on\n",
    "on_mean = np.mean(ltbp2_on_dense)\n",
    "\n",
    "print(\"Pre Mean:\", pre_mean)\n",
    "print(\"On Mean:\", on_mean)\n"
   ]
  },
  {
   "cell_type": "code",
   "execution_count": null,
   "metadata": {},
   "outputs": [],
   "source": [
    "import numpy as np\n",
    "import scipy.sparse\n",
    "\n",
    "# Find the expression data for 'LTBP2'\n",
    "ltbp2_expression = adata_B[:, adata_B.var_names == 'LTBP2'].X\n",
    "\n",
    "# If the expression data is in a sparse format, convert it to a dense format\n",
    "if scipy.sparse.issparse(ltbp2_expression):\n",
    "    ltbp2_expression_dense = ltbp2_expression.toarray()\n",
    "else:\n",
    "    ltbp2_expression_dense = ltbp2_expression\n",
    "\n",
    "# Calculate the mean expression of 'LTBP2'\n",
    "mean_ltbp2_expression = np.mean(ltbp2_expression_dense)\n",
    "\n",
    "print(\"Mean expression of LTBP2:\", mean_ltbp2_expression)\n"
   ]
  },
  {
   "cell_type": "code",
   "execution_count": null,
   "metadata": {},
   "outputs": [],
   "source": [
    "ltbp2_expression"
   ]
  },
  {
   "cell_type": "code",
   "execution_count": null,
   "metadata": {},
   "outputs": [],
   "source": [
    "def paird_ttest1(adata, condition_key = None, sample_id_col = None, patient_id_col = None, pval_cutoff = 0.05, log2fc_cutoff = 1):\n",
    "\n",
    "    # check inputs\n",
    "    if not isinstance(adata, ad.AnnData):\n",
    "        print (\"Input adata is not an AnnData object\")\n",
    "        return None \n",
    "    if not condition_key:\n",
    "        print (\"Condition key not provided\")\n",
    "        return None\n",
    "    # check if condition to compare is binary\n",
    "    if len(adata.obs[condition_key].unique()) != 2:\n",
    "        print (\"Condition to compare is not binary\")\n",
    "        return None\n",
    "    if not sample_id_col:\n",
    "        print (\"sample id column not provided\")\n",
    "        return None\n",
    "    if not patient_id_col:\n",
    "        print (\"patient id column not provided\")\n",
    "        return None\n",
    "    # check if adata have raw data\n",
    "    if not adata.raw:\n",
    "        print (\"adata.raw is not available\")\n",
    "        return None\n",
    "    \n",
    "    # assume data is already pseudo bulk, check\n",
    "    if 'pseudoBulk' not in adata.uns.keys():\n",
    "        print (\"Input adata is not pseudo-bulk RNA data. Convert to pseudo-bulk RNA data.\")\n",
    "        adata = scRNA2PseudoBulkAnnData(adata, sample_id_col=sample_id_col)\n",
    "    \n",
    "    nPatients = len(adata.obs[patient_id_col].unique())\n",
    "    nGenes = len(adata.var_names)\n",
    "    nConditions = len(adata.obs[condition_key].unique())\n",
    "    if nConditions != 2:\n",
    "        print (\"Number of conditions is not 2\")\n",
    "        return None\n",
    "    \n",
    "    X = np.zeros((nConditions, nPatients, nGenes), dtype=np.float32)\n",
    "\n",
    "    condition1 = adata.obs[condition_key].unique()[0]\n",
    "    condition2 = adata.obs[condition_key].unique()[1]\n",
    "    condition1_mean_name = condition1 + '_mean'\n",
    "    condition2_mean_name = condition2 + '_mean'\n",
    "\n",
    "    # create a dataframe to store the results\n",
    "    colNames = ['pval', 'log2fc', condition1_mean_name, condition2_mean_name]\n",
    "    res_df = pd.DataFrame(index=adata.var_names, columns = colNames)\n",
    "    patients = adata.obs[patient_id_col].unique()  # this is a numpy array\n",
    "    \n",
    "    for index, patient in np.ndenumerate(patients):\n",
    "        indx_p = index[0]\n",
    "        # print (\"Processing patient %s\" % patient)\n",
    "        # check if the patient has two conditions\n",
    "        if len(adata.obs[condition_key][adata.obs[patient_id_col] == patient].unique()) < 2:\n",
    "            # print (\"Patient %s does not have two conditions\" % patient)\n",
    "            continue\n",
    "        # extract data from the patient under condition 1 and condition 2\n",
    "\n",
    "        # print (\"Extract data from patient %s under condition %s & %s\" % (patient, condition1, condition2))\n",
    "        \n",
    "        X[0, indx_p, :] = adata.raw.X[(adata.obs[patient_id_col] == patient) & (adata.obs[condition_key] == condition1), :]\n",
    "        X[1, indx_p, :] = adata.raw.X[(adata.obs[patient_id_col] == patient) & (adata.obs[condition_key] == condition2), :]\n",
    "        \n",
    "            # perform paired t-test \n",
    "    # for each gene, perform t-test between two conditions of the same patient\n",
    "    for i in range(nGenes):  # need check how to parallelize this loop, maybe use cupy\n",
    "        x_1 = X[0, :, i]\n",
    "        x_2 = X[1, :, i]\n",
    "        \n",
    "        # check if x_1 and x_2 are all zeros\n",
    "        if np.sum(x_1) == 0 or np.sum(x_2) == 0:\n",
    "            continue\n",
    "        \n",
    "        gene_name = adata.var_names[i]        \n",
    "        mean_condition1 = np.mean(x_1)\n",
    "        mean_condition2 = np.mean(x_2)\n",
    "        if gene_name == 'LTBP2':\n",
    "            print(mean_condition1)\n",
    "            print(mean_condition2)\n",
    "            print(x_1)\n",
    "            print(x_2)\n",
    "            data = {\n",
    "    'Expression': np.concatenate([x_1, x_2]),\n",
    "    'Condition': ['Condition1'] * len(x_1) + ['Condition2'] * len(x_2)\n",
    "}\n",
    "            df = pd.DataFrame(data)\n",
    "\n",
    "# Plotting the violin plot\n",
    "            plt.figure(figsize=(8, 6))\n",
    "            sns.violinplot(x='Condition', y='Expression', data=df)\n",
    "            plt.title('Violin Plot of LTBP2 Expression')\n",
    "            plt.show()\n"
   ]
  },
  {
   "cell_type": "code",
   "execution_count": null,
   "metadata": {},
   "outputs": [],
   "source": []
  },
  {
   "cell_type": "code",
   "execution_count": null,
   "metadata": {},
   "outputs": [],
   "source": [
    "import pandas as pd\n",
    "import seaborn as sns\n",
    "import matplotlib.pyplot as plt\n",
    "q_val_threshold = 0.2\n",
    "pval_threshold = 1\n",
    "adata_B = sc.read(data_dir_NHDP + '1863-counts_cells_cohort1_B_cells.h5ad')\n",
    "cluster_deg_df = paird_ttest(adata_B, condition_key = 'timepoint', sample_id_col = 'sample_id', patient_id_col = 'patient_id') "
   ]
  },
  {
   "cell_type": "code",
   "execution_count": null,
   "metadata": {},
   "outputs": [],
   "source": [
    "\n",
    "print(len(adata_B.raw.X[(adata_B.obs['patient_id'] == 'BIOKEY_12') & (adata_B.obs['timepoint'] == 'On'), :]))"
   ]
  },
  {
   "cell_type": "code",
   "execution_count": null,
   "metadata": {},
   "outputs": [],
   "source": [
    "# Filter the data and get the shape\n",
    "filtered_data_shape = adata_B.raw.X[(adata_B.obs['patient_id'] == 'BIOKEY_1') & (adata_B.obs['timepoint'] == 'pre'), :].shape\n",
    "\n",
    "# Print the number of rows\n",
    "print(filtered_data_shape[0])\n"
   ]
  },
  {
   "cell_type": "code",
   "execution_count": null,
   "metadata": {},
   "outputs": [],
   "source": [
    "adata_B.obs"
   ]
  },
  {
   "cell_type": "code",
   "execution_count": null,
   "metadata": {},
   "outputs": [],
   "source": [
    "genes_to_keep = [\n",
    "    \"TNFSF8\", \"AC025164.1\", \"SOCS1\", \"CEMIP2\", \"KLHL14\", \"SLC15A4\", \"SESN1\",\n",
    "    \"CCL4\", \"TLE1\", \"CD200\", \"KLF2\", \"SLF2\", \"IFIT1\", \"AL158850.1\", \"RGS1\",\n",
    "    \"SPINK2\", \"FUT7\", \"CCDC6\", \"CNKSR2\", \"PAQR3\", \"KLF9\", \"PLPP3\", \"GPR25\",\n",
    "    \"RNF144B\", \"NCK2\", \"MFSD14C\", \"NHLRC2\", \"COL1A1\", \"ICAM1\", \"LACTB2-AS1\",\n",
    "    \"CENPM\", \"PDE4D\", \"HLX\", \"ARL15\", \"MTF1\", \"LMNA\", \"NRL\", \"TNFRSF10D\",\n",
    "    \"TFAP2C\", \"IGHD\", \"FER\", \"MYC\", \"HMGB2\", \"EGR1\", \"MHENCR\", \"SPAG5\",\n",
    "    \"GALNTL6\", \"COL1A2\", \"GPR183\", \"LINC01480\", \"DNAJB1\", \"TSPAN33\", \"ATG7\",\n",
    "    \"HSPA1B\", \"KLF4\", \"RSAD2\", \"ISG15\", \"AL031733.2\", \"TLR1\", \"IGHV3-33\",\n",
    "    \"ERCC6\", \"ACKR3\", \"ERV3-1\", \"AZIN1-AS1\", \"SERHL2\", \"LILRB2\", \"TESK1\",\n",
    "    \"WDR4\", \"WBP4\", \"EMP2\", \"FBXO15\", \"CDCA5\", \"ZBTB32\", \"REXO5\", \"THRB\",\n",
    "    \"CD2\", \"PDK4\", \"LINC02422\", \"AC013400.1\", \"SEMA7A\", \"HAPLN3\", \"AP1AR\",\n",
    "    \"AL627171.1\", \"AL139089.1\", \"AC120193.1\", \"SLC7A6\", \"RAB37\", \"RRM2\",\n",
    "    \"AF117829.1\", \"ADAM8\", \"LPCAT2\", \"CHRNA1\", \"BTG1\", \"LAMB1\", \"CRIP2\",\n",
    "    \"GPR34\", \"ALKBH1\", \"CCNA2\", \"SGCA\", \"NANP\", \"ARL5B\", \"LINC00910\", \"RUFY2\",\n",
    "    \"FAM30A\", \"STAG3\", \"OLFM2\", \"MMP2\", \"COQ2\", \"CD72\", \"HACE1\", \"OAS3\",\n",
    "    \"AL353194.1\", \"AC090061.1\", \"CXCL2\", \"USP44\", \"MGAT4B\", \"LINC01685\",\n",
    "    \"AL662796.1\", \"SFI1\", \"MATK\", \"TLR7\", \"NLRP6\", \"AL121658.1\", \"SULF1\",\n",
    "    \"ARHGEF9\", \"LINC01588\", \"BICRAL\", \"SLC38A11\", \"CENPH\", \"SMG6\", \"CXCR3\",\n",
    "    \"CHPT1\", \"SYNGAP1\", \"SIGLEC14\", \"AC022098.4\", \"APOE\", \"HSPA1A\", \"FAS\",\n",
    "    \"HIST1H4F\", \"CEP55\", \"AC012640.2\", \"PLK2\", \"AHNAK\", \"KIF20A\", \"PLK1\",\n",
    "    \"RASAL1\", \"ESPL1\", \"TMEM67\", \"RAB39A\", \"DNAAF1\", \"KCNQ5\", \"P3H1\",\n",
    "    \"SLC12A7\", \"COL8A1\", \"HSPA2\", \"AC103831.1\", \"ARRDC3-AS1\", \"CD3D\", \"KYAT1\",\n",
    "    \"RHOB\", \"HEATR6\", \"DNAH14\", \"HIST1H2AK\", \"GEM\", \"HBA1\", \"MAFB\", \"C2CD3\",\n",
    "    \"DUSP2\", \"ZNF816-ZNF321P\", \"MTMR9\", \"TRAF3IP2-AS1\", \"CCR7\", \"CXCL10\",\n",
    "    \"IGKV1-13\", \"SATB1\", \"CR2\", \"CNTNAP2\", \"H1FX\", \"VTI1A\", \"LINC01678\",\n",
    "    \"ENDOV\", \"AL033527.3\", \"VCL\", \"PXDNL\", \"MICALL1\", \"WASHC5\", \"TMEM220-AS1\",\n",
    "    \"CAVIN1\", \"SLC39A10\", \"AL359643.3\", \"GALNT3\", \"FILIP1L\", \"FBN1\",\n",
    "    \"LINC01781\", \"ZNF683\", \"FXYD3\", \"AC105285.1\", \"NGFR\", \"TMEM161B-AS1\",\n",
    "    \"FN1\"\n",
    "]\n",
    "# Filter the AnnData object to keep only the specified genes\n",
    "adata_filtered = adata_B[:, adata_B.var_names.isin(genes_to_keep)].copy()\n"
   ]
  },
  {
   "cell_type": "code",
   "execution_count": null,
   "metadata": {},
   "outputs": [],
   "source": [
    "# Obtain the DEGs of the selected B cells group\n",
    "q_val_threshold = 0.2\n",
    "pval_threshold = 1\n",
    "cluster_deg_df = paird_ttest(adata_filtered, condition_key = 'timepoint', sample_id_col = 'sample_id', patient_id_col = 'patient_id') \n",
    "with pd.ExcelWriter('/home/qiuaodon/Desktop/EGAS00001004809_selected_B_cell_test.xlsx') as writer:\n",
    "    cluster_deg_df.to_excel(writer)"
   ]
  },
  {
   "cell_type": "code",
   "execution_count": null,
   "metadata": {},
   "outputs": [],
   "source": [
    "# Obtain the DEGs of the whole B cells group\n",
    "q_val_threshold = 0.2\n",
    "pval_threshold = 1\n",
    "adata_B = sc.read(data_dir_NHDP + '1863-counts_cells_cohort1_B_cells.h5ad')\n",
    "cluster_deg_df = paird_ttest(adata_B, condition_key = 'timepoint', sample_id_col = 'sample_id', patient_id_col = 'patient_id') \n",
    "cluster_deg_df = cluster_deg_df[cluster_deg_df['pval'] < pval_threshold]\n",
    "with pd.ExcelWriter('/home/qiuaodon/Desktop/EGAS00001004809_whole_B_cell_test.xlsx') as writer:\n",
    "    cluster_deg_df.to_excel(writer)"
   ]
  },
  {
   "cell_type": "code",
   "execution_count": null,
   "metadata": {},
   "outputs": [],
   "source": [
    "adata_T = sc.read(data_dir_NHDP + '1863-counts_cells_cohort1_T_cells.h5ad')"
   ]
  },
  {
   "cell_type": "code",
   "execution_count": null,
   "metadata": {},
   "outputs": [],
   "source": [
    "# generate a pseudo-bulk AnnData object of the T cells \n",
    "adata_T_pseudo = scRNA2PseudoBulkAnnData(adata_T, sample_id_col='sample_id')\n",
    "print(adata_T_pseudo.shape) \n",
    "# save it as a csv file use to_csv\n",
    "adata_T_pseudo.to_df().to_csv('/home/qiuaodon/Desktop/EGAS00001004809_T_cell_pseudo.csv')\n",
    "\n",
    "\n",
    "\n"
   ]
  },
  {
   "cell_type": "code",
   "execution_count": null,
   "metadata": {},
   "outputs": [],
   "source": [
    "adata_T_pseudo.shape"
   ]
  },
  {
   "cell_type": "code",
   "execution_count": null,
   "metadata": {},
   "outputs": [],
   "source": [
    "adata_T_pseudo"
   ]
  },
  {
   "cell_type": "markdown",
   "metadata": {},
   "source": [
    "## get the DEGs of the whole T cells and other types of cells"
   ]
  },
  {
   "cell_type": "code",
   "execution_count": null,
   "metadata": {},
   "outputs": [],
   "source": [
    "#get the DEGs of the whole T cells\n",
    "adata_T = sc.read(data_dir_NHDP + '1863-counts_cells_cohort1_T_cells.h5ad')\n",
    "q_val_threshold = 0.2\n",
    "pval_threshold = 0.05\n",
    "cluster_deg_df = paird_ttest(adata_T, condition_key = 'timepoint', sample_id_col = 'sample_id', patient_id_col = 'patient_id')\n",
    "cluster_deg_df = cluster_deg_df[cluster_deg_df['pval'] < pval_threshold]\n",
    "with pd.ExcelWriter('/home/qiuaodon/Desktop/EGAS00001004809_whole_T_cell.xlsx') as writer:\n",
    "    cluster_deg_df.to_excel(writer)\n"
   ]
  },
  {
   "cell_type": "markdown",
   "metadata": {},
   "source": [
    "### get the DEG of expansion and NE T cells"
   ]
  },
  {
   "cell_type": "code",
   "execution_count": null,
   "metadata": {},
   "outputs": [],
   "source": [
    "adata_T = sc.read(data_dir_NHDP + '1863-counts_cells_cohort1_T_cells.h5ad')"
   ]
  },
  {
   "cell_type": "code",
   "execution_count": null,
   "metadata": {},
   "outputs": [],
   "source": [
    "adata_T_E = adata_T[adata_T.obs['expansion'] == 'E'].copy()\n",
    "adata_T_NE = adata_T[adata_T.obs['expansion'] == 'NE'].copy()"
   ]
  },
  {
   "cell_type": "code",
   "execution_count": null,
   "metadata": {},
   "outputs": [],
   "source": [
    "adata_T_E.obs['patient_id'].unique()"
   ]
  },
  {
   "cell_type": "code",
   "execution_count": null,
   "metadata": {},
   "outputs": [],
   "source": [
    "adata_T_NE.obs['patient_id'].unique()"
   ]
  },
  {
   "cell_type": "code",
   "execution_count": null,
   "metadata": {},
   "outputs": [],
   "source": [
    "adata_T_E "
   ]
  },
  {
   "cell_type": "code",
   "execution_count": null,
   "metadata": {},
   "outputs": [],
   "source": [
    "#get the DEGs of the E T cells\n",
    "q_val_threshold = 0.2\n",
    "pval_threshold = 0.05\n",
    "cluster_deg_df = paird_ttest(adata_T_E, condition_key = 'timepoint', sample_id_col = 'sample_id', patient_id_col = 'patient_id')\n",
    "cluster_deg_df = cluster_deg_df[cluster_deg_df['pval'] < pval_threshold]\n",
    "with pd.ExcelWriter('/home/qiuaodon/Desktop/EGAS00001004809_T_cell_with_expansion.xlsx') as writer:\n",
    "    cluster_deg_df.to_excel(writer)\n"
   ]
  },
  {
   "cell_type": "code",
   "execution_count": null,
   "metadata": {},
   "outputs": [],
   "source": [
    "#get the DEGs of the E T cells\n",
    "q_val_threshold = 0.2\n",
    "pval_threshold = 0.05\n",
    "cluster_deg_df = paird_ttest(adata_T_NE, condition_key = 'timepoint', sample_id_col = 'sample_id', patient_id_col = 'patient_id')\n",
    "cluster_deg_df = cluster_deg_df[cluster_deg_df['pval'] < pval_threshold]\n",
    "with pd.ExcelWriter('/home/qiuaodon/Desktop/EGAS00001004809_T_cell_without_expansion.xlsx') as writer:\n",
    "    cluster_deg_df.to_excel(writer)"
   ]
  },
  {
   "cell_type": "code",
   "execution_count": null,
   "metadata": {},
   "outputs": [],
   "source": [
    "#get the DEGs of the whole Myeloid cells\n",
    "adata_M = sc.read(data_dir_NHDP + '1863-counts_cells_cohort1_M_cells.h5ad')\n",
    "q_val_threshold = 0.2\n",
    "pval_threshold = 0.05\n",
    "cluster_deg_df = paird_ttest(adata_M, condition_key = 'timepoint', sample_id_col = 'sample_id', patient_id_col = 'patient_id')\n",
    "cluster_deg_df = cluster_deg_df[cluster_deg_df['pval'] < pval_threshold]\n",
    "with pd.ExcelWriter('/home/qiuaodon/Desktop/EGAS00001004809_whole_M_cell.xlsx') as writer:\n",
    "    cluster_deg_df.to_excel(writer)"
   ]
  },
  {
   "cell_type": "code",
   "execution_count": null,
   "metadata": {},
   "outputs": [],
   "source": [
    "#get the DEGs of the whole Endothelial cells\n",
    "adata_T = sc.read(data_dir_NHDP + '1863-counts_cells_cohort1_Endo_cells.h5ad')\n",
    "q_val_threshold = 0.2\n",
    "pval_threshold = 0.05\n",
    "cluster_deg_df = paird_ttest(adata_T, condition_key = 'timepoint', sample_id_col = 'sample_id', patient_id_col = 'patient_id')\n",
    "cluster_deg_df = cluster_deg_df[cluster_deg_df['pval'] < pval_threshold]\n",
    "with pd.ExcelWriter('/home/qiuaodon/Desktop/EGAS00001004809_whole_Endo_cell.xlsx') as writer:\n",
    "    cluster_deg_df.to_excel(writer)"
   ]
  },
  {
   "cell_type": "code",
   "execution_count": null,
   "metadata": {},
   "outputs": [],
   "source": [
    "#get the DEGs of the whole Epi cells\n",
    "adata_T = sc.read(data_dir_NHDP + '1863-counts_cells_cohort1_Epi_cells.h5ad')\n",
    "q_val_threshold = 0.2\n",
    "pval_threshold = 0.05\n",
    "cluster_deg_df = paird_ttest(adata_T, condition_key = 'timepoint', sample_id_col = 'sample_id', patient_id_col = 'patient_id')\n",
    "cluster_deg_df = cluster_deg_df[cluster_deg_df['pval'] < pval_threshold]\n",
    "with pd.ExcelWriter('/home/qiuaodon/Desktop/EGAS00001004809_whole_Epi_cell.xlsx') as writer:\n",
    "    cluster_deg_df.to_excel(writer)"
   ]
  },
  {
   "cell_type": "code",
   "execution_count": null,
   "metadata": {},
   "outputs": [],
   "source": [
    "#get the DEGs of the whole Fibro cells\n",
    "adata_T = sc.read(data_dir_NHDP + '1863-counts_cells_cohort1_Fibro_cells.h5ad')\n",
    "q_val_threshold = 0.2\n",
    "pval_threshold = 0.05\n",
    "cluster_deg_df = paird_ttest(adata_T, condition_key = 'timepoint', sample_id_col = 'sample_id', patient_id_col = 'patient_id')\n",
    "cluster_deg_df = cluster_deg_df[cluster_deg_df['pval'] < pval_threshold]\n",
    "with pd.ExcelWriter('/home/qiuaodon/Desktop/EGAS00001004809_whole_Fibro_cell.xlsx') as writer:\n",
    "    cluster_deg_df.to_excel(writer)"
   ]
  },
  {
   "cell_type": "code",
   "execution_count": null,
   "metadata": {},
   "outputs": [],
   "source": [
    "#get the DEGs of the whole M cells\n",
    "adata_T = sc.read(data_dir_NHDP + '1863-counts_cells_cohort1_M_cells.h5ad')\n",
    "q_val_threshold = 0.2\n",
    "pval_threshold = 0.05\n",
    "cluster_deg_df = paird_ttest(adata_T, condition_key = 'timepoint', sample_id_col = 'sample_id', patient_id_col = 'patient_id')\n",
    "cluster_deg_df = cluster_deg_df[cluster_deg_df['pval'] < pval_threshold]\n",
    "with pd.ExcelWriter('/home/qiuaodon/Desktop/EGAS00001004809_whole_M_cell.xlsx') as writer:\n",
    "    cluster_deg_df.to_excel(writer)"
   ]
  },
  {
   "cell_type": "markdown",
   "metadata": {},
   "source": [
    "## get the bilinear regression of five interested genes"
   ]
  },
  {
   "cell_type": "code",
   "execution_count": null,
   "metadata": {},
   "outputs": [],
   "source": [
    "adata_T = sc.read(data_dir_NHDP + '1863-counts_cells_cohort1_T_cells.h5ad')\n",
    "\n",
    "print(str(adata_T.shape))\n",
    "# check if CD274 is in the var_names\n",
    "is_present = \"CD274\" in adata_T.var_names\n",
    "print(is_present)"
   ]
  },
  {
   "cell_type": "code",
   "execution_count": null,
   "metadata": {},
   "outputs": [],
   "source": [
    "adata_T  = ad.AnnData(X=adata_T.raw.X, obs=adata_T.obs, var=adata_T.raw.var)\n",
    "adata_T.raw = adata_T\n",
    "print(str(adata_T.shape))"
   ]
  },
  {
   "cell_type": "code",
   "execution_count": null,
   "metadata": {},
   "outputs": [],
   "source": [
    "# generate a pseudo-bulk AnnData object of the T cells \n",
    "adata_T_pseudo = scRNA2PseudoBulkAnnData(adata_T, sample_id_col='sample_id')\n",
    "print(adata_T_pseudo.shape) "
   ]
  },
  {
   "cell_type": "code",
   "execution_count": null,
   "metadata": {},
   "outputs": [],
   "source": [
    "genes_of_interest = ['TXNIP','DDIT4','TSC22D3', 'HAVCR2', 'PRDM1', 'CXCR4', 'CTLA4','CXCL13','TIGIT']\n",
    "for gene in genes_of_interest:\n",
    "    plt.figure(figsize = (4,3))\n",
    "    sc.pl.umap(adata_T, color=gene)"
   ]
  },
  {
   "cell_type": "code",
   "execution_count": null,
   "metadata": {},
   "outputs": [],
   "source": [
    "# filter the adata_T to Pre_treatment\n",
    "condition = adata_T.obs['timepoint'] == 'pre'\n",
    "adata_T_pre = adata_T[condition].copy()\n",
    "condition = adata_T.obs['timepoint'] == 'on'\n",
    "adata_T_on = adata_T[condition].copy()\n"
   ]
  },
  {
   "cell_type": "code",
   "execution_count": null,
   "metadata": {},
   "outputs": [],
   "source": [
    "for gene in genes_of_interest:\n",
    "    sc.pl.umap(adata_T_pre, color=gene)"
   ]
  },
  {
   "cell_type": "code",
   "execution_count": null,
   "metadata": {},
   "outputs": [],
   "source": [
    "for gene in genes_of_interest:\n",
    "    sc.pl.umap(adata_T_on, color=gene)"
   ]
  },
  {
   "cell_type": "code",
   "execution_count": null,
   "metadata": {},
   "outputs": [],
   "source": [
    "# genes_of_interest is a list of gene names\n",
    "\n",
    "for gene in genes_of_interest:\n",
    "    sc.pl.scatter(adata_T_pseudo, x='PDCD1', y=gene, title=f'PDCD1 vs {gene}', color='timepoint', show=False, color_map= 'viridis',size=200)\n"
   ]
  },
  {
   "cell_type": "code",
   "execution_count": null,
   "metadata": {},
   "outputs": [],
   "source": [
    "adata = sc.read(data_dir_NHDP + '1863-counts_cells_cohort1_whole_cells.h5ad')\n",
    "adata  = ad.AnnData(X=adata.raw.X, obs=adata.obs, var=adata.raw.var)\n",
    "adata.raw = adata\n",
    "adata_pseudo = scRNA2PseudoBulkAnnData(adata, sample_id_col='sample_id')\n"
   ]
  },
  {
   "cell_type": "code",
   "execution_count": null,
   "metadata": {},
   "outputs": [],
   "source": [
    "#draw the violin plot of CD274 and make the dots bigger \n",
    "sc.pl.violin(adata_pseudo, 'CD274', groupby='timepoint', stripplot=True, jitter=True, multi_panel=True, size=5)\n",
    "sc.pl.violin(adata_pseudo, 'CD274', groupby='timepoint', stripplot=True, jitter=True, multi_panel=True)"
   ]
  },
  {
   "cell_type": "code",
   "execution_count": null,
   "metadata": {},
   "outputs": [],
   "source": [
    "adata_Epi = sc.read(data_dir_NHDP + '1863-counts_cells_cohort1_Epi_cells.h5ad')\n",
    "adata_Epi  = ad.AnnData(X=adata_Epi.raw.X, obs=adata_Epi.obs, var=adata_Epi.raw.var)\n",
    "adata_Epi.raw = adata_Epi\n",
    "adata_Epi_pseudo = scRNA2PseudoBulkAnnData(adata_Epi, sample_id_col='sample_id')\n",
    "print(adata_Epi_pseudo.shape) "
   ]
  },
  {
   "cell_type": "code",
   "execution_count": null,
   "metadata": {},
   "outputs": [],
   "source": [
    "sc.pl.violin(adata_Epi_pseudo, 'CD274', groupby='timepoint', stripplot=True, jitter=True, multi_panel=True, size=5)"
   ]
  },
  {
   "cell_type": "code",
   "execution_count": null,
   "metadata": {},
   "outputs": [],
   "source": [
    "adata_M = sc.read(data_dir_NHDP + '1863-counts_cells_cohort1_M_cells.h5ad')\n",
    "adata_M  = ad.AnnData(X=adata_M.raw.X, obs=adata_M.obs, var=adata_M.raw.var)\n",
    "adata_M.raw = adata_M\n",
    "adata_M_pseudo = scRNA2PseudoBulkAnnData(adata_M, sample_id_col='sample_id')\n",
    "print(adata_M_pseudo.shape) \n",
    "sc.pl.violin(adata_M_pseudo, 'CD274', groupby='timepoint', stripplot=True, jitter=True, multi_panel=True, size=5)"
   ]
  },
  {
   "cell_type": "code",
   "execution_count": null,
   "metadata": {},
   "outputs": [],
   "source": [
    "adata_pseudo_combined = adata_T_pseudo\n",
    "# change the CD274 values with the values of adata_pseudo\n"
   ]
  },
  {
   "cell_type": "code",
   "execution_count": null,
   "metadata": {},
   "outputs": [],
   "source": [
    "if 'CD274' in adata_pseudo_combined.var_names:\n",
    "    adata_pseudo_combined.obs['CD274'] = adata_pseudo[:, 'CD274'].X.flatten()\n",
    "else:\n",
    "    print(\"Column 'CD274' does not exist in 'adata_pseudo'.\")\n"
   ]
  },
  {
   "cell_type": "code",
   "execution_count": null,
   "metadata": {},
   "outputs": [],
   "source": [
    "print(adata_pseudo_combined)"
   ]
  },
  {
   "cell_type": "code",
   "execution_count": null,
   "metadata": {},
   "outputs": [],
   "source": [
    "sc.pl.scatter(adata_pseudo_combined, x='PDCD1', y='CD274', title=f'PDCD1 vs CD274', color='timepoint', show=False, color_map= 'viridis',size=200)"
   ]
  },
  {
   "cell_type": "code",
   "execution_count": null,
   "metadata": {},
   "outputs": [],
   "source": [
    "# generate violin plot of genes of interest seperately\n",
    "for gene in genes_of_interest:\n",
    "    sc.pl.violin(adata_T_pseudo, gene, groupby='timepoint', stripplot=True, jitter=True, multi_panel=True)\n",
    "# generate violin plot of PDCD1\n",
    "sc.pl.violin(adata_T_pseudo, 'PDCD1', groupby='timepoint', stripplot=True, jitter=True, multi_panel=True)"
   ]
  },
  {
   "cell_type": "code",
   "execution_count": null,
   "metadata": {},
   "outputs": [],
   "source": [
    "adata_T_pseudo.shape"
   ]
  },
  {
   "cell_type": "code",
   "execution_count": null,
   "metadata": {},
   "outputs": [],
   "source": [
    "is_present = \"PDCD1\" in adata_T_pseudo.var_names\n",
    "print(is_present)"
   ]
  },
  {
   "cell_type": "markdown",
   "metadata": {},
   "source": [
    "### draw the plot of genes vs LR"
   ]
  },
  {
   "cell_type": "code",
   "execution_count": null,
   "metadata": {},
   "outputs": [],
   "source": [
    "import pandas as pd\n",
    "import matplotlib.pyplot as plt\n",
    "import numpy as np\n",
    "\n",
    "# Example: Accessing gene expression data\n",
    "# Replace 'gene_name' with the actual names as they appear in adata_T_pseudo.var_names\n",
    "pdc1_expression = adata_T_pseudo[:, 'PDCD1'].X\n",
    "cd274_expression = adata_T_pseudo[:, 'CD274'].X\n",
    "\n",
    "# Assuming 'HAVCR2' expression is also stored in .X\n",
    "havcr2_expression = adata_T_pseudo[:, 'PRDM1'].X\n",
    "\n",
    "# Assuming 'Timepoint' is a column in .obs\n",
    "timepoints = adata_T_pseudo.obs['timepoint']\n",
    "\n",
    "# Compute the products\n",
    "pdc1_cd274_product = pdc1_expression * cd274_expression\n",
    "if 'on' in timepoints.values:\n",
    "    pdc1_cd274_product[timepoints == 'on'] *= 0.2\n",
    "\n",
    "# Create DataFrame for plotting\n",
    "plot_data = pd.DataFrame({\n",
    "    'PDCD1_CD274': np.ravel(pdc1_cd274_product),\n",
    "    'PRDM1': np.ravel(havcr2_expression),\n",
    "    'timepoint': timepoints\n",
    "})\n",
    "\n",
    "# Plotting\n",
    "plt.figure(figsize=(8, 5))\n",
    "for timepoint in ['pre', 'on']:\n",
    "    subset = plot_data[plot_data['timepoint'] == timepoint]\n",
    "    plt.scatter(subset['PDCD1_CD274'], subset['PRDM1'], label=timepoint, alpha=1.0)\n",
    "\n",
    "plt.xlabel('PDCD1 * CD274 (scaled by 0.2 for \"on\" timepoint)')\n",
    "plt.ylabel('PRDM1')\n",
    "plt.title('LR vs PRDM1')\n",
    "plt.legend()\n",
    "plt.show()\n"
   ]
  },
  {
   "cell_type": "code",
   "execution_count": null,
   "metadata": {},
   "outputs": [],
   "source": [
    "import pandas as pd\n",
    "import matplotlib.pyplot as plt\n",
    "import numpy as np\n",
    "\n",
    "pdc1_expression = adata_T_pseudo[:, 'PDCD1'].X\n",
    "cd274_expression = adata_T_pseudo[:, 'CD274'].X\n",
    "\n",
    "# Assuming 'HAVCR2' expression is also stored in .X\n",
    "havcr2_expression = adata_T_pseudo[:, 'CXCR4'].X\n",
    "\n",
    "# Assuming 'Timepoint' is a column in .obs\n",
    "timepoints = adata_T_pseudo.obs['timepoint']\n",
    "\n",
    "# Compute the products\n",
    "pdc1_cd274_product = pdc1_expression * cd274_expression\n",
    "if 'on' in timepoints.values:\n",
    "    pdc1_cd274_product[timepoints == 'on'] *= 0.2\n",
    "\n",
    "# Create DataFrame for plotting\n",
    "plot_data = pd.DataFrame({\n",
    "    'PDCD1_CD274': np.ravel(pdc1_cd274_product),\n",
    "    'CXCR4': np.ravel(havcr2_expression),\n",
    "    'timepoint': timepoints\n",
    "})\n",
    "\n",
    "# Plotting\n",
    "plt.figure(figsize=(8, 5))\n",
    "for timepoint in ['pre', 'on']:\n",
    "    subset = plot_data[plot_data['timepoint'] == timepoint]\n",
    "    plt.scatter(subset['PDCD1_CD274'], subset['CXCR4'], label=timepoint, alpha=1.0)\n",
    "\n",
    "plt.xlabel('PDCD1 * CD274 (scaled by 0.2 for \"on\" timepoint)')\n",
    "plt.ylabel('CXCR4')\n",
    "plt.title('LR vs CXCR4')\n",
    "plt.legend()\n",
    "plt.show()\n"
   ]
  },
  {
   "cell_type": "code",
   "execution_count": null,
   "metadata": {},
   "outputs": [],
   "source": [
    "import pandas as pd\n",
    "import matplotlib.pyplot as plt\n",
    "import numpy as np\n",
    "\n",
    "pdc1_expression = adata_T_pseudo[:, 'PDCD1'].X\n",
    "cd274_expression = adata_T_pseudo[:, 'CD274'].X\n",
    "\n",
    "# Assuming 'HAVCR2' expression is also stored in .X\n",
    "havcr2_expression = adata_T_pseudo[:, 'CXCL13'].X\n",
    "\n",
    "# Assuming 'Timepoint' is a column in .obs\n",
    "timepoints = adata_T_pseudo.obs['timepoint']\n",
    "\n",
    "# Compute the products\n",
    "pdc1_cd274_product = pdc1_expression * cd274_expression\n",
    "if 'on' in timepoints.values:\n",
    "    pdc1_cd274_product[timepoints == 'on'] *= 0.2\n",
    "\n",
    "# Create DataFrame for plotting\n",
    "plot_data = pd.DataFrame({\n",
    "    'PDCD1_CD274': np.ravel(pdc1_cd274_product),\n",
    "    'CXCL13': np.ravel(havcr2_expression),\n",
    "    'timepoint': timepoints\n",
    "})\n",
    "\n",
    "# Plotting\n",
    "plt.figure(figsize=(8, 5))\n",
    "for timepoint in ['pre', 'on']:\n",
    "    subset = plot_data[plot_data['timepoint'] == timepoint]\n",
    "    plt.scatter(subset['PDCD1_CD274'], subset['CXCL13'], label=timepoint, alpha=1.0)\n",
    "\n",
    "plt.xlabel('PDCD1 * CD274 (scaled by 0.2 for \"on\" timepoint)')\n",
    "plt.ylabel('CXCL13')\n",
    "plt.title('LR vs CXCL13')\n",
    "plt.legend() \n",
    "plt.show()\n"
   ]
  },
  {
   "cell_type": "code",
   "execution_count": null,
   "metadata": {},
   "outputs": [],
   "source": [
    "import pandas as pd\n",
    "import matplotlib.pyplot as plt\n",
    "import numpy as np\n",
    "\n",
    "pdc1_expression = adata_T_pseudo[:, 'PDCD1'].X\n",
    "cd274_expression = adata_T_pseudo[:, 'CD274'].X\n",
    "\n",
    "# Assuming 'HAVCR2' expression is also stored in .X\n",
    "havcr2_expression = adata_T_pseudo[:, 'CTLA4'].X\n",
    "\n",
    "# Assuming 'Timepoint' is a column in .obs\n",
    "timepoints = adata_T_pseudo.obs['timepoint']\n",
    "\n",
    "# Compute the products\n",
    "pdc1_cd274_product = pdc1_expression * cd274_expression\n",
    "if 'on' in timepoints.values:\n",
    "    pdc1_cd274_product[timepoints == 'on'] *= 0.2\n",
    "\n",
    "# Create DataFrame for plotting\n",
    "plot_data = pd.DataFrame({\n",
    "    'PDCD1_CD274': np.ravel(pdc1_cd274_product),\n",
    "    'CTLA4': np.ravel(havcr2_expression),\n",
    "    'timepoint': timepoints\n",
    "})\n",
    "\n",
    "# Plotting\n",
    "plt.figure(figsize=(8, 5))\n",
    "for timepoint in ['pre', 'on']:\n",
    "    subset = plot_data[plot_data['timepoint'] == timepoint]\n",
    "    plt.scatter(subset['PDCD1_CD274'], subset['CTLA4'], label=timepoint, alpha=1.0)\n",
    "\n",
    "plt.xlabel('PDCD1 * CD274 (scaled by 0.2 for \"on\" timepoint)')\n",
    "plt.ylabel('CTLA4')\n",
    "plt.title('LR vs CTLA4')\n",
    "plt.legend() \n",
    "plt.show()\n"
   ]
  },
  {
   "cell_type": "markdown",
   "metadata": {},
   "source": [
    "### draw the violin plot of scRNA data"
   ]
  },
  {
   "cell_type": "code",
   "execution_count": null,
   "metadata": {},
   "outputs": [],
   "source": [
    "# draw the violin plot of scRNA data of genes of interest\n",
    "genes_of_interest = ['PDCD1', 'CD274', 'CD8A', 'HAVCR2', 'PRDM1', 'CXCR4', 'CTLA4','CXCL13','TIGIT']\n",
    "for gene in genes_of_interest:\n",
    "    sc.pl.violin(adata_T, gene, groupby='timepoint', stripplot=False, jitter=True, multi_panel=True)\n"
   ]
  },
  {
   "cell_type": "code",
   "execution_count": null,
   "metadata": {},
   "outputs": [],
   "source": [
    "sc.pl.violin(adata_T, 'PDCD1', groupby='timepoint', stripplot=False, jitter=True, multi_panel=True)"
   ]
  },
  {
   "cell_type": "code",
   "execution_count": null,
   "metadata": {},
   "outputs": [],
   "source": [
    "# filter the T cells data to keep only cells expressing PDCD1\n",
    "adata_T_filtered = adata_T[adata_T[:, 'PDCD1'].X > 0, :].copy()\n",
    "print(adata_T_filtered.shape, adata_T.shape)\n"
   ]
  },
  {
   "cell_type": "code",
   "execution_count": null,
   "metadata": {},
   "outputs": [],
   "source": [
    "# plot the violin plot of scRNA data of genes of interest of cells expressing PDCD1\n",
    "for gene in genes_of_interest:\n",
    "    sc.pl.violin(adata_T_filtered, gene, groupby='timepoint', stripplot=False, jitter=True, multi_panel=True)"
   ]
  },
  {
   "cell_type": "markdown",
   "metadata": {},
   "source": [
    "## correlation of top 10 DEGs"
   ]
  },
  {
   "cell_type": "markdown",
   "metadata": {},
   "source": [
    "### top 10 DEGs T & B\n",
    "T:\n",
    "PRDM1\n",
    "SLA\n",
    "TSC22D3\n",
    "IRF1\n",
    "TXNIP\n",
    "DDIT4\n",
    "NFKBIA\n",
    "ZFP36L1\n",
    "FKBP5\n",
    "RGS1\n",
    "B:\n",
    "TNFSF8\n",
    "AC025164.1\n",
    "SOCS1\n",
    "CEMIP2\n",
    "KLHL14\n",
    "SLC15A4\n",
    "SESN1\n",
    "CCL4\n",
    "TLE1\n",
    "CD200"
   ]
  },
  {
   "cell_type": "code",
   "execution_count": null,
   "metadata": {},
   "outputs": [],
   "source": [
    "adata_B = sc.read(data_dir_NHDP + '1863-counts_cells_cohort1_B_cells.h5ad')\n",
    "# generate a pseudo-bulk AnnData object of the T cells \n",
    "adata_B_pseudo = scRNA2PseudoBulkAnnData(adata_B, sample_id_col='sample_id')\n",
    "print(adata_B_pseudo.shape) "
   ]
  },
  {
   "cell_type": "code",
   "execution_count": null,
   "metadata": {},
   "outputs": [],
   "source": [
    "# remove samples from patient BIOKEY_22\n",
    "condition = adata_T_pseudo.obs['patient_id'] != 'BIOKEY_22'\n",
    "adata_T_pseudo_filtered = adata_T_pseudo[condition].copy()\n",
    "print(adata_T_pseudo_filtered.shape)\n",
    "condition = adata_B_pseudo.obs['patient_id'] != 'BIOKEY_22'\n",
    "adata_B_pseudo_filtered = adata_B_pseudo[condition].copy()\n",
    "print(adata_B_pseudo_filtered.shape)"
   ]
  },
  {
   "cell_type": "code",
   "execution_count": null,
   "metadata": {},
   "outputs": [],
   "source": [
    "import numpy as np\n",
    "import seaborn as sns\n",
    "import matplotlib.pyplot as plt\n",
    "import scipy.stats as stats\n",
    "\n",
    "# Top 10 DEGs for T and B cells\n",
    "top_10_DEGs_T = ['PRDM1', 'SLA', 'TSC22D3', 'IRF1', 'TXNIP', 'DDIT4', 'NFKBIA', 'ZFP36L1', 'FKBP5', 'RGS1']\n",
    "top_10_DEGs_B = ['TNFSF8', 'AC025164.1', 'SOCS1', 'CEMIP2', 'KLHL14', 'SLC15A4', 'SESN1', 'CCL4', 'TLE1', 'CD200']\n",
    "\n",
    "# Initialize an empty matrix to store the correlation values\n",
    "corr_matrix = np.zeros((len(top_10_DEGs_T), len(top_10_DEGs_B)))\n",
    "pval_matrix = np.zeros((len(top_10_DEGs_T), len(top_10_DEGs_B)))\n",
    "\n",
    "# Calculate the correlation between the top 10 DEGs of T and B cells\n",
    "for i, gene_T in enumerate(top_10_DEGs_T):\n",
    "    for j, gene_B in enumerate(top_10_DEGs_B):\n",
    "        # Get the expression data of the two genes and flatten them to 1D arrays\n",
    "        gene_T_expression = adata_T_pseudo_filtered[:, adata_T_pseudo_filtered.var_names == gene_T].X.flatten()\n",
    "        gene_B_expression = adata_B_pseudo_filtered[:, adata_B_pseudo_filtered.var_names == gene_B].X.flatten()\n",
    "        \n",
    "        # Calculate the correlation\n",
    "        corr, pval = stats.pearsonr(gene_T_expression, gene_B_expression)\n",
    "        \n",
    "        # Store the correlation value in the matrix\n",
    "        corr_matrix[i, j] = corr\n",
    "        # store the log of pval in another matrix\n",
    "        pval_matrix[i, j] = -np.log10(pval)\n",
    "\n",
    "\n",
    "# Plot the correlation matrix as a heatmap\n",
    "plt.figure(figsize=(10, 8))\n",
    "sns.heatmap(corr_matrix, annot=False, cmap='coolwarm', vmin=-1, vmax=1,\n",
    "            xticklabels=top_10_DEGs_B, yticklabels=top_10_DEGs_T)\n",
    "plt.title('Correlation between Top 10 DEGs of T and B Cells')\n",
    "plt.xlabel('B Cell Genes')\n",
    "plt.ylabel('T Cell Genes')\n",
    "plt.show()\n",
    "\n"
   ]
  },
  {
   "cell_type": "code",
   "execution_count": null,
   "metadata": {},
   "outputs": [],
   "source": [
    "\n",
    "# Plotting the heatmap with correlation values\n",
    "plt.figure(figsize=(12, 10))\n",
    "heatmap = sns.heatmap(corr_matrix, cmap='coolwarm', vmin=-1, vmax=1,\n",
    "                      xticklabels=top_10_DEGs_B, yticklabels=top_10_DEGs_T,\n",
    "                      annot=False)  # Turn off default annotation\n",
    "\n",
    "# Overlaying the correlation values and -log10 of p-values\n",
    "for i in range(corr_matrix.shape[0]):\n",
    "    for j in range(corr_matrix.shape[1]):\n",
    "        plt.text(j + 0.5, i + 0.5, f'{corr_matrix[i, j]:.2f}\\n({pval_matrix[i, j]:.2f})',\n",
    "                 horizontalalignment='center', verticalalignment='center', fontsize=8)\n",
    "\n",
    "plt.title('Correlation between Top 10 DEGs of T and B Cells\\n(Correlation / -log(p-value))')\n",
    "plt.xlabel('B Cell Genes')\n",
    "plt.ylabel('T Cell Genes')\n",
    "plt.show()\n"
   ]
  },
  {
   "cell_type": "code",
   "execution_count": null,
   "metadata": {},
   "outputs": [],
   "source": [
    "# transform correlation matrix to dataframe\n",
    "corr_df = pd.DataFrame(corr_matrix, index=top_10_DEGs_T, columns=top_10_DEGs_B)\n",
    "corr_df\n"
   ]
  },
  {
   "cell_type": "code",
   "execution_count": null,
   "metadata": {},
   "outputs": [],
   "source": [
    "# transform pvalue matrix to dataframe\n",
    "pval_df = pd.DataFrame(pval_matrix, index=top_10_DEGs_T, columns=top_10_DEGs_B)\n",
    "pval_df"
   ]
  },
  {
   "cell_type": "code",
   "execution_count": null,
   "metadata": {},
   "outputs": [],
   "source": [
    "import os\n",
    "# save the bilinear figures of T and B cells\n",
    "# Create a directory named DEGs_T_vs_B\n",
    "if not os.path.exists('DEGs_T_vs_B'):\n",
    "    os.makedirs('DEGs_T_vs_B')\n",
    "\n",
    "for gene_T in top_10_DEGs_T:\n",
    "    for gene_B in top_10_DEGs_B:\n",
    "        # Create a new figure\n",
    "        plt.figure(figsize=(8, 6))\n",
    "        \n",
    "        # Iterate over each timepoint and use the filtered becasue we need to remove biokey 22\n",
    "        for timepoint in adata_T_pseudo_filtered.obs['timepoint'].cat.categories:\n",
    "            # Get indices for current timepoint\n",
    "            indices = adata_T_pseudo_filtered.obs['timepoint'] == timepoint\n",
    "\n",
    "            # Get the expression data for the current timepoint\n",
    "            gene_T_expression = adata_T_pseudo_filtered[indices, adata_T_pseudo_filtered.var_names == gene_T].X.flatten()\n",
    "            gene_B_expression = adata_B_pseudo_filtered[indices, adata_B_pseudo_filtered.var_names == gene_B].X.flatten()\n",
    "            \n",
    "            # Plot the data for the current timepoint\n",
    "            plt.scatter(gene_T_expression, gene_B_expression, label=timepoint)\n",
    "\n",
    "        # Add labels, title, and legend\n",
    "        plt.xlabel(gene_T)\n",
    "        plt.ylabel(gene_B)\n",
    "        plt.title(f'{gene_T} vs {gene_B} (Corr: {corr_matrix[top_10_DEGs_T.index(gene_T), top_10_DEGs_B.index(gene_B)]:.2f})')\n",
    "        plt.legend(title='Timepoint')\n",
    "\n",
    "        # Save the plot whose corr value is higher than 0.5 in the directory\n",
    "        if corr_matrix[top_10_DEGs_T.index(gene_T), top_10_DEGs_B.index(gene_B)] > 0.5:\n",
    "             plt.savefig(f'DEGs_T_vs_B/{gene_T}_vs_{gene_B}.png')\n",
    "\n",
    "        # Now show the plot\n",
    "        plt.show()\n"
   ]
  },
  {
   "cell_type": "markdown",
   "metadata": {},
   "source": [
    "### top 10 DEGs T & Endo"
   ]
  },
  {
   "cell_type": "code",
   "execution_count": null,
   "metadata": {},
   "outputs": [],
   "source": [
    "adata_Endo = sc.read(data_dir_NHDP + '1863-counts_cells_cohort1_Endo_cells.h5ad')\n",
    "# generate a pseudo-bulk AnnData object of the Endo cells \n",
    "adata_Endo_pseudo = scRNA2PseudoBulkAnnData(adata_Endo, sample_id_col='sample_id')\n",
    "print(adata_Endo_pseudo.shape) "
   ]
  },
  {
   "cell_type": "code",
   "execution_count": null,
   "metadata": {},
   "outputs": [],
   "source": [
    "# show all the sample_ids in the Endo cells\n",
    "adata_Endo_pseudo.obs['sample_id'].unique()\n",
    "#there is no sample_id BIOKEY_28_On in the Endo cells"
   ]
  },
  {
   "cell_type": "code",
   "execution_count": null,
   "metadata": {},
   "outputs": [],
   "source": [
    "# remove samples from patient BIOKEY_28\n",
    "condition = adata_Endo_pseudo.obs['patient_id'] != 'BIOKEY_28'\n",
    "adata_Endo_pseudo_filtered = adata_Endo_pseudo[condition].copy()\n",
    "print(adata_Endo_pseudo_filtered.shape)\n"
   ]
  },
  {
   "cell_type": "code",
   "execution_count": null,
   "metadata": {},
   "outputs": [],
   "source": [
    "condition = adata_T_pseudo.obs['patient_id'] != 'BIOKEY_28'\n",
    "adata_T_pseudo_filtered = adata_T_pseudo[condition].copy()\n",
    "print(adata_T_pseudo_filtered.shape)"
   ]
  },
  {
   "cell_type": "code",
   "execution_count": null,
   "metadata": {},
   "outputs": [],
   "source": [
    "\n",
    "# Top 10 DEGs for T and Endo cells\n",
    "top_10_DEGs_T = ['PRDM1', 'SLA', 'TSC22D3', 'IRF1', 'TXNIP', 'DDIT4', 'NFKBIA', 'ZFP36L1', 'FKBP5', 'CXCR4']\n",
    "top_10_DEGs_Endo = ['SPRY1', 'DDIT4', 'PER1', 'APOLD1', 'NEDD9', 'TSC22D3', 'ITPRIP', 'DUSP1', 'ID1']\n",
    "\n",
    "# Initialize an empty matrix to store the correlation values\n",
    "corr_matrix = np.zeros((len(top_10_DEGs_T), len(top_10_DEGs_Endo)))\n",
    "pval_matrix = np.zeros((len(top_10_DEGs_T), len(top_10_DEGs_Endo)))\n",
    "\n",
    "# Calculate the correlation between the top 10 DEGs of T and Endo cells\n",
    "for i, gene_T in enumerate(top_10_DEGs_T):\n",
    "    for j, gene_Endo in enumerate(top_10_DEGs_Endo):\n",
    "        # Get the expression data of the two genes and flatten them to 1D arrays\n",
    "        gene_T_expression = adata_T_pseudo_filtered[:, adata_T_pseudo_filtered.var_names == gene_T].X.flatten()\n",
    "        gene_Endo_expression = adata_Endo_pseudo_filtered[:, adata_Endo_pseudo_filtered.var_names == gene_Endo].X.flatten()\n",
    "        \n",
    "        # Check if the lengths of the arrays are the same\n",
    "        if len(gene_T_expression) != len(gene_Endo_expression):\n",
    "            print(gene_Endo,len(gene_T_expression), len(gene_Endo_expression))\n",
    "            continue\n",
    "        \n",
    "        # Calculate the correlation\n",
    "        corr, pval = stats.pearsonr(gene_T_expression, gene_Endo_expression)\n",
    "        \n",
    "        # Store the correlation value in the matrix\n",
    "        corr_matrix[i, j] = corr\n",
    "        # store the pval in another matrix\n",
    "        pval_matrix[i, j] = pval\n",
    "\n",
    "\n",
    "# Plot the correlation matrix as a heatmap\n",
    "plt.figure(figsize=(10, 8))\n",
    "sns.heatmap(corr_matrix, annot=False, cmap='coolwarm', vmin=-1, vmax=1,\n",
    "            xticklabels=top_10_DEGs_Endo, yticklabels=top_10_DEGs_T)\n",
    "plt.title('Correlation between Top 10 DEGs of T and Endo Cells')\n",
    "plt.xlabel('Endo Cell Genes')\n",
    "plt.ylabel('T Cell Genes')\n",
    "plt.show()\n",
    "\n"
   ]
  },
  {
   "cell_type": "code",
   "execution_count": null,
   "metadata": {},
   "outputs": [],
   "source": [
    "# Convert 'timepoint' column to 'category' dtype\n",
    "adata_T_pseudo.obs['timepoint'] = adata_T_pseudo.obs['timepoint'].astype('category')\n",
    "\n",
    "for gene_T in top_10_DEGs_T:\n",
    "    for gene_Endo in top_10_DEGs_Endo:\n",
    "        # Create a new figure\n",
    "        plt.figure(figsize=(8, 6))\n",
    "        \n",
    "        # Iterate over each timepoint\n",
    "        for timepoint in adata_T_pseudo_filtered.obs['timepoint'].cat.categories:\n",
    "            # Get indices for current timepoint\n",
    "            indices = adata_T_pseudo_filtered.obs['timepoint'] == timepoint\n",
    "\n",
    "            # Get the expression data for the current timepoint\n",
    "            gene_T_expression = adata_T_pseudo_filtered[indices, adata_T_pseudo_filtered.var_names == gene_T].X.flatten()\n",
    "            gene_Fibro_expression = adata_Endo_pseudo_filtered[indices, adata_Endo_pseudo_filtered.var_names == gene_Endo].X.flatten()\n",
    "            \n",
    "            # Plot the data for the current timepoint\n",
    "            plt.scatter(gene_T_expression, gene_Fibro_expression, label=timepoint)\n",
    "\n",
    "        # Add labels, title, and legend\n",
    "        plt.xlabel(gene_T)\n",
    "        plt.ylabel(gene_Endo)\n",
    "        plt.title(f'{gene_T} vs {gene_Endo} (Corr: {corr_matrix[top_10_DEGs_T.index(gene_T), top_10_DEGs_Endo.index(gene_Endo)]:.2f})')\n",
    "        plt.legend(title='Timepoint')\n",
    "\n",
    "        # Now show the plot\n",
    "        plt.show()"
   ]
  },
  {
   "cell_type": "code",
   "execution_count": null,
   "metadata": {},
   "outputs": [],
   "source": [
    "# check if KLF9 is in the variable names\n",
    "is_present = \"KLF9\" in adata_Endo_pseudo_filtered.var_names\n",
    "print(is_present)\n"
   ]
  },
  {
   "cell_type": "markdown",
   "metadata": {},
   "source": [
    "### top 10 DEGs T & Fibro \n",
    "PER1\n",
    "TSC22D3\n",
    "DDIT4\n",
    "DEPP1\n",
    "DUSP1\n",
    "MYC\n",
    "NFKBIA\n",
    "ZFP36\n",
    "MT1X\n",
    "KLF6"
   ]
  },
  {
   "cell_type": "code",
   "execution_count": null,
   "metadata": {},
   "outputs": [],
   "source": [
    "adata_Fibro = sc.read(data_dir_NHDP + '1863-counts_cells_cohort1_Fibro_cells.h5ad')\n",
    "# generate a pseudo-bulk AnnData object of the Endo cells \n",
    "adata_Fibro_pseudo = scRNA2PseudoBulkAnnData(adata_Fibro, sample_id_col='sample_id')\n",
    "print(adata_Fibro_pseudo.shape) "
   ]
  },
  {
   "cell_type": "code",
   "execution_count": null,
   "metadata": {},
   "outputs": [],
   "source": [
    "adata_T = sc.read(data_dir_NHDP + '1863-counts_cells_cohort1_T_cells.h5ad')\n",
    "adata_T_pseudo = scRNA2PseudoBulkAnnData(adata_T, sample_id_col='sample_id')"
   ]
  },
  {
   "cell_type": "code",
   "execution_count": null,
   "metadata": {},
   "outputs": [],
   "source": [
    "# generate the correlation matrix of the top 10 DEGs of T and Fibro cells\n",
    "top_10_DEGs_Fibro = ['PER1', 'TSC22D3', 'DDIT4', 'DEPP1', 'DUSP1', 'MYC', 'NFKBIA', 'ZFP36', 'MT1X', 'KLF6']\n",
    "top_10_DEGs_T = ['PRDM1', 'SLA', 'TSC22D3', 'IRF1', 'TXNIP', 'DDIT4', 'NFKBIA', 'ZFP36L1', 'FKBP5', 'CXCR4']\n",
    "\n",
    "# Initialize an empty matrix to store the correlation values\n",
    "corr_matrix = np.zeros((len(top_10_DEGs_T), len(top_10_DEGs_Fibro)))\n",
    "pval_matrix = np.zeros((len(top_10_DEGs_T), len(top_10_DEGs_Fibro)))\n",
    "\n",
    "# Calculate the correlation between the top 10 DEGs of T and Endo cells\n",
    "for i, gene_T in enumerate(top_10_DEGs_T):\n",
    "    for j, gene_Fibro in enumerate(top_10_DEGs_Fibro):\n",
    "        # Get the expression data of the two genes and flatten them to 1D arrays\n",
    "        gene_T_expression = adata_T_pseudo[:, adata_T_pseudo.var_names == gene_T].X.flatten()\n",
    "        gene_Fibro_expression = adata_Fibro_pseudo[:, adata_Fibro_pseudo.var_names == gene_Fibro].X.flatten()\n",
    "        \n",
    "        # Check if the lengths of the arrays are the same\n",
    "        if len(gene_T_expression) != len(gene_Fibro_expression):\n",
    "            print(gene_Endo,len(gene_T_expression), len(gene_Fibro_expression))\n",
    "            continue\n",
    "        \n",
    "        # Calculate the correlation\n",
    "        corr, pval = stats.pearsonr(gene_T_expression, gene_Fibro_expression)\n",
    "        \n",
    "        # Store the correlation value in the matrix\n",
    "        corr_matrix[i, j] = corr\n",
    "        # store the pval in another matrix\n",
    "        pval_matrix[i, j] = pval\n",
    "\n",
    "\n",
    "# Plot the correlation matrix as a heatmap\n",
    "plt.figure(figsize=(10, 8))\n",
    "sns.heatmap(corr_matrix, annot=False, cmap='coolwarm', vmin=-1, vmax=1,\n",
    "            xticklabels=top_10_DEGs_Fibro, yticklabels=top_10_DEGs_T)\n",
    "plt.title('Correlation between Top 10 DEGs of T and Fibro Cells')\n",
    "plt.xlabel('Fibro Cell Genes')\n",
    "plt.ylabel('T Cell Genes')\n",
    "plt.show()\n",
    "\n"
   ]
  },
  {
   "cell_type": "code",
   "execution_count": null,
   "metadata": {},
   "outputs": [],
   "source": [
    "# transform correlation matrix to dataframe\n",
    "corr_df = pd.DataFrame(corr_matrix, index=top_10_DEGs_T, columns=top_10_DEGs_Fibro)\n",
    "corr_df"
   ]
  },
  {
   "cell_type": "code",
   "execution_count": null,
   "metadata": {},
   "outputs": [],
   "source": [
    "# save the bilinear figures of T and Fibro cells\n",
    "# Create a directory named DEGs_T_vs_Fibro\n",
    "if not os.path.exists('DEGs_T_vs_Fibro'):\n",
    "    os.makedirs('DEGs_T_vs_Fibro')\n",
    "\n",
    "# Convert 'timepoint' column to 'category' dtype\n",
    "adata_T_pseudo.obs['timepoint'] = adata_T_pseudo.obs['timepoint'].astype('category')\n",
    "\n",
    "for gene_T in top_10_DEGs_T:\n",
    "    for gene_Fibro in top_10_DEGs_Fibro:\n",
    "        # Create a new figure\n",
    "        plt.figure(figsize=(8, 6))\n",
    "        \n",
    "        # Iterate over each timepoint\n",
    "        for timepoint in adata_T_pseudo.obs['timepoint'].cat.categories:\n",
    "            # Get indices for current timepoint\n",
    "            indices = adata_T_pseudo.obs['timepoint'] == timepoint\n",
    "\n",
    "            # Get the expression data for the current timepoint\n",
    "            gene_T_expression = adata_T_pseudo[indices, adata_T_pseudo.var_names == gene_T].X.flatten()\n",
    "            gene_Fibro_expression = adata_Fibro_pseudo[indices, adata_Fibro_pseudo.var_names == gene_Fibro].X.flatten()\n",
    "            \n",
    "            # Plot the data for the current timepoint\n",
    "            plt.scatter(gene_T_expression, gene_Fibro_expression, label=timepoint)\n",
    "\n",
    "        # Add labels, title, and legend\n",
    "        plt.xlabel(gene_T)\n",
    "        plt.ylabel(gene_Fibro)\n",
    "        plt.title(f'{gene_T} vs {gene_Fibro} (Corr: {corr_matrix[top_10_DEGs_T.index(gene_T), top_10_DEGs_Fibro.index(gene_Fibro)]:.2f})')\n",
    "        plt.legend(title='Timepoint')\n",
    "\n",
    "        # Save the plot in the directory before showing it\n",
    "        plt.savefig(f'DEGs_T_vs_Fibro/{gene_T}_vs_{gene_Fibro}.png')\n",
    "\n",
    "        # Now show the plot\n",
    "        plt.show()"
   ]
  },
  {
   "cell_type": "markdown",
   "metadata": {},
   "source": [
    "### top 10 DEGs T & M TSC22D3\n",
    "DDIT4\n",
    "FKBP5\n",
    "AC084871.2\n",
    "SLC1A3\n",
    "AREG\n",
    "ACSL1\n",
    "RGS1\n",
    "CH25H\n",
    "SMIM3"
   ]
  },
  {
   "cell_type": "code",
   "execution_count": null,
   "metadata": {},
   "outputs": [],
   "source": [
    "adata_M = sc.read(data_dir_NHDP + '1863-counts_cells_cohort1_M_cells.h5ad')\n",
    "# generate a pseudo-bulk AnnData object of the Endo cells \n",
    "adata_M_pseudo = scRNA2PseudoBulkAnnData(adata_M, sample_id_col='sample_id')\n",
    "print(adata_M_pseudo.shape) "
   ]
  },
  {
   "cell_type": "code",
   "execution_count": null,
   "metadata": {},
   "outputs": [],
   "source": [
    "\n",
    "# Top 10 DEGs for T and M cells\n",
    "top_10_DEGs_T = ['PRDM1', 'SLA', 'TSC22D3', 'TXNIP', 'DDIT4', 'NFKBIA', 'FKBP5', 'RGS1']\n",
    "top_10_DEGs_M = ['TSC22D3', 'DDIT4', 'FKBP5', 'AC084871.2', 'SLC1A3', 'AREG', 'ACSL1', 'RGS1', 'CH25H', 'SMIM3']\n",
    "\n",
    "# Initialize an empty matrix to store the correlation values\n",
    "corr_matrix = np.zeros((len(top_10_DEGs_T), len(top_10_DEGs_M)))\n",
    "pval_matrix = np.zeros((len(top_10_DEGs_T), len(top_10_DEGs_M)))\n",
    "\n",
    "# Calculate the correlation between the top 10 DEGs of T and M cells\n",
    "for i, gene_T in enumerate(top_10_DEGs_T):\n",
    "    for j, gene_M in enumerate(top_10_DEGs_M):\n",
    "        # Get the expression data of the two genes and flatten them to 1D arrays\n",
    "        gene_T_expression = adata_T_pseudo[:, adata_T_pseudo.var_names == gene_T].X.flatten()\n",
    "        gene_M_expression = adata_M_pseudo[:, adata_M_pseudo.var_names == gene_M].X.flatten()\n",
    "        \n",
    "        # Check if the lengths of the arrays are the same\n",
    "        if len(gene_T_expression) != len(gene_M_expression):\n",
    "            print(gene_M,len(gene_T_expression), len(gene_M_expression))\n",
    "            continue\n",
    "        \n",
    "        # Calculate the correlation\n",
    "        corr, pval = stats.pearsonr(gene_T_expression, gene_M_expression)\n",
    "        \n",
    "        # Store the correlation value in the matrix\n",
    "        corr_matrix[i, j] = corr\n",
    "        # store the pval in another matrix\n",
    "        pval_matrix[i, j] = -np.log10(pval)\n",
    "\n",
    "\n",
    "# Plot the correlation matrix as a heatmap\n",
    "plt.figure(figsize=(10, 8))\n",
    "sns.heatmap(corr_matrix, annot=False, cmap='coolwarm', vmin=-1, vmax=1,\n",
    "            xticklabels=top_10_DEGs_M, yticklabels=top_10_DEGs_T)\n",
    "plt.title('Correlation between Top DEGs of T and M Cells')\n",
    "plt.xlabel('M Cell Genes')\n",
    "plt.ylabel('T Cell Genes')\n",
    "plt.show()\n"
   ]
  },
  {
   "cell_type": "code",
   "execution_count": null,
   "metadata": {},
   "outputs": [],
   "source": [
    "# transform correlation matrix to dataframe\n",
    "corr_df = pd.DataFrame(corr_matrix, index=top_10_DEGs_T, columns=top_10_DEGs_M)\n",
    "corr_df"
   ]
  },
  {
   "cell_type": "code",
   "execution_count": null,
   "metadata": {},
   "outputs": [],
   "source": [
    "# transform the pval matrix to dataframe\n",
    "pval_df = pd.DataFrame(pval_matrix, index=top_10_DEGs_T, columns=top_10_DEGs_M)\n",
    "pval_df"
   ]
  },
  {
   "cell_type": "code",
   "execution_count": null,
   "metadata": {},
   "outputs": [],
   "source": [
    "\n",
    "# Plotting the heatmap with correlation values\n",
    "plt.figure(figsize=(12, 6))\n",
    "heatmap = sns.heatmap(corr_matrix, cmap='coolwarm', vmin=-1, vmax=1,\n",
    "                      xticklabels=top_10_DEGs_M, yticklabels=top_10_DEGs_T,\n",
    "                      annot=False)  # Turn off default annotation\n",
    "\n",
    "# Overlaying the correlation values and -log10 of p-values\n",
    "for i in range(corr_matrix.shape[0]):\n",
    "    for j in range(corr_matrix.shape[1]):\n",
    "        plt.text(j + 0.5, i + 0.5, f'{corr_matrix[i, j]:.2f}\\n({pval_matrix[i, j]:.2f})',\n",
    "                 horizontalalignment='center', verticalalignment='center', fontsize=8)\n",
    "\n",
    "plt.title('Correlation between Top  DEGs of T and M Cells\\n(Correlation / -log(p-value))')\n",
    "plt.xlabel('M Cell Genes')\n",
    "plt.ylabel('T Cell Genes')\n",
    "plt.show()\n"
   ]
  },
  {
   "cell_type": "code",
   "execution_count": null,
   "metadata": {},
   "outputs": [],
   "source": [
    "# Create a directory named DEGs_T_vs_M\n",
    "if not os.path.exists('DEGs_T_vs_M'):\n",
    "    os.makedirs('DEGs_T_vs_M')\n",
    "\n",
    "# Convert 'timepoint' column to 'category' dtype\n",
    "adata_T_pseudo.obs['timepoint'] = adata_T_pseudo.obs['timepoint'].astype('category')\n",
    "\n",
    "for gene_T in top_10_DEGs_T:\n",
    "    for gene_M in top_10_DEGs_M:\n",
    "        # Create a new figure\n",
    "        plt.figure(figsize=(8, 6))\n",
    "        \n",
    "        # Iterate over each timepoint\n",
    "        for timepoint in adata_T_pseudo.obs['timepoint'].cat.categories:\n",
    "            # Get indices for current timepoint\n",
    "            indices = adata_T_pseudo.obs['timepoint'] == timepoint\n",
    "\n",
    "            # Get the expression data for the current timepoint\n",
    "            gene_T_expression = adata_T_pseudo[indices, adata_T_pseudo.var_names == gene_T].X.flatten()\n",
    "            gene_M_expression = adata_M_pseudo[indices, adata_M_pseudo.var_names == gene_M].X.flatten()\n",
    "            \n",
    "            # Plot the data for the current timepoint\n",
    "            plt.scatter(gene_T_expression, gene_M_expression, label=timepoint)\n",
    "\n",
    "        # Add labels, title, and legend\n",
    "        plt.xlabel(gene_T)\n",
    "        plt.ylabel(gene_M)\n",
    "        plt.title(f'{gene_T} vs {gene_M} (Corr: {corr_matrix[top_10_DEGs_T.index(gene_T), top_10_DEGs_M.index(gene_M)]:.2f})')\n",
    "        plt.legend(title='Timepoint')\n",
    "\n",
    "        # Save the plot in the directory before showing it\n",
    "        if corr_matrix[top_10_DEGs_T.index(gene_T), top_10_DEGs_M.index(gene_M)] > 0.5:\n",
    "             plt.savefig(f'DEGs_T_vs_M/{gene_T}_vs_{gene_M}.png')\n",
    "\n",
    "        # Now show the plot\n",
    "        plt.show()\n"
   ]
  },
  {
   "cell_type": "markdown",
   "metadata": {},
   "source": [
    "### top 10 DEGs T & Epi DDIT4\n",
    "RNPC3\n",
    "TSC22D3\n",
    "ACOT7\n",
    "NFAT5\n",
    "C1orf198\n",
    "PPP1R16A\n",
    "TOP3B\n",
    "GNG11\n",
    "MIR29B2CHG"
   ]
  },
  {
   "cell_type": "code",
   "execution_count": null,
   "metadata": {},
   "outputs": [],
   "source": [
    "adata_Epi = sc.read(data_dir_NHDP + '1863-counts_cells_cohort1_Epi_cells.h5ad')\n",
    "# generate a pseudo-bulk AnnData object of the Endo cells \n",
    "adata_Epi_pseudo = scRNA2PseudoBulkAnnData(adata_Epi, sample_id_col='sample_id')\n",
    "print(adata_Epi_pseudo.shape) "
   ]
  },
  {
   "cell_type": "code",
   "execution_count": null,
   "metadata": {},
   "outputs": [],
   "source": [
    "# Top 10 DEGs for T and Epi cells\n",
    "top_10_DEGs_Epi = ['DDIT4', 'RNPC3', 'TSC22D3', 'ACOT7', 'NFAT5', 'C1orf198', 'PPP1R16A', 'TOP3B', 'GNG11', 'MIR29B2CHG']\n",
    "\n",
    "# Initialize an empty matrix to store the correlation values\n",
    "corr_matrix = np.zeros((len(top_10_DEGs_T), len(top_10_DEGs_Epi)))\n",
    "pval_matrix = np.zeros((len(top_10_DEGs_T), len(top_10_DEGs_Epi)))\n",
    "\n",
    "# Calculate the correlation between the top 10 DEGs of T and Epi cells\n",
    "for i, gene_T in enumerate(top_10_DEGs_T):\n",
    "    for j, gene_Epi in enumerate(top_10_DEGs_Epi):\n",
    "        # Get the expression data of the two genes and flatten them to 1D arrays\n",
    "        gene_T_expression = adata_T_pseudo[:, adata_T_pseudo.var_names == gene_T].X.flatten()\n",
    "        gene_Epi_expression = adata_Epi_pseudo[:, adata_Epi_pseudo.var_names == gene_Epi].X.flatten()\n",
    "        \n",
    "        # Check if the lengths of the arrays are the same\n",
    "        if len(gene_T_expression) != len(gene_Epi_expression):\n",
    "            print(gene_Epi,len(gene_T_expression), len(gene_Epi_expression))\n",
    "            continue\n",
    "        \n",
    "        # Calculate the correlation\n",
    "        corr, pval = stats.pearsonr(gene_T_expression, gene_Epi_expression)\n",
    "        \n",
    "        # Store the correlation value in the matrix\n",
    "        corr_matrix[i, j] = corr\n",
    "        # store the pval in another matrix\n",
    "        pval_matrix[i, j] = -np.log10(pval)\n",
    "\n",
    "\n",
    "# Plot the correlation matrix as a heatmap\n",
    "plt.figure(figsize=(10, 8))\n",
    "sns.heatmap(corr_matrix, annot=False, cmap='coolwarm', vmin=-1, vmax=1,\n",
    "            xticklabels=top_10_DEGs_Epi, yticklabels=top_10_DEGs_T)\n",
    "plt.title('Correlation between Top 10 DEGs of T and Epi Cells')\n",
    "plt.xlabel('Epi Cell Genes')\n",
    "plt.ylabel('T Cell Genes')\n",
    "plt.show()\n"
   ]
  },
  {
   "cell_type": "code",
   "execution_count": null,
   "metadata": {},
   "outputs": [],
   "source": [
    "# transform correlation matrix to dataframe\n",
    "corr_df = pd.DataFrame(corr_matrix, index=top_10_DEGs_T, columns=top_10_DEGs_Epi)\n",
    "corr_df"
   ]
  },
  {
   "cell_type": "code",
   "execution_count": null,
   "metadata": {},
   "outputs": [],
   "source": [
    "# transform the pval matrix to dataframe\n",
    "pval_df = pd.DataFrame(pval_matrix, index=top_10_DEGs_T, columns=top_10_DEGs_Epi)\n",
    "pval_df"
   ]
  },
  {
   "cell_type": "code",
   "execution_count": null,
   "metadata": {},
   "outputs": [],
   "source": [
    "\n",
    "# Plotting the heatmap with correlation values\n",
    "plt.figure(figsize=(12, 10))\n",
    "heatmap = sns.heatmap(corr_matrix, cmap='coolwarm', vmin=-1, vmax=1,\n",
    "                      xticklabels=top_10_DEGs_Epi, yticklabels=top_10_DEGs_T,\n",
    "                      annot=False)  # Turn off default annotation\n",
    "\n",
    "# Overlaying the correlation values and -log10 of p-values\n",
    "for i in range(corr_matrix.shape[0]):\n",
    "    for j in range(corr_matrix.shape[1]):\n",
    "        plt.text(j + 0.5, i + 0.5, f'{corr_matrix[i, j]:.2f}\\n({pval_matrix[i, j]:.2f})',\n",
    "                 horizontalalignment='center', verticalalignment='center', fontsize=8)\n",
    "\n",
    "plt.title('Correlation between Top 10 DEGs of T and Epi Cells\\n(Correlation / -log(p-value))')\n",
    "plt.xlabel('Epi Cell Genes')\n",
    "plt.ylabel('T Cell Genes')\n",
    "plt.show()\n"
   ]
  },
  {
   "cell_type": "code",
   "execution_count": null,
   "metadata": {},
   "outputs": [],
   "source": [
    "# Create a directory named DEGs_T_vs_Epi\n",
    "if not os.path.exists('DEGs_T_vs_Epi'):\n",
    "    os.makedirs('DEGs_T_vs_Epi')\n",
    "\n",
    "# Convert 'timepoint' column to 'category' dtype\n",
    "adata_T_pseudo.obs['timepoint'] = adata_T_pseudo.obs['timepoint'].astype('category')\n",
    "\n",
    "for gene_T in top_10_DEGs_T:\n",
    "    for gene_Epi in top_10_DEGs_Epi:\n",
    "        # Create a new figure\n",
    "        plt.figure(figsize=(8, 6))\n",
    "        \n",
    "        # Iterate over each timepoint\n",
    "        for timepoint in adata_T_pseudo.obs['timepoint'].cat.categories:\n",
    "            # Get indices for current timepoint\n",
    "            indices = adata_T_pseudo.obs['timepoint'] == timepoint\n",
    "\n",
    "            # Get the expression data for the current timepoint\n",
    "            gene_T_expression = adata_T_pseudo[indices, adata_T_pseudo.var_names == gene_T].X.flatten()\n",
    "            gene_Epi_expression = adata_Epi_pseudo[indices, adata_Epi_pseudo.var_names == gene_Epi].X.flatten()\n",
    "            \n",
    "            # Plot the data for the current timepoint\n",
    "            plt.scatter(gene_T_expression, gene_Epi_expression, label=timepoint)\n",
    "\n",
    "        # Add labels, title, and legend\n",
    "        plt.xlabel(gene_T)\n",
    "        plt.ylabel(gene_Epi)\n",
    "        plt.title(f'{gene_T} vs {gene_Epi} (Corr: {corr_matrix[top_10_DEGs_T.index(gene_T), top_10_DEGs_Epi.index(gene_Epi)]:.2f})')\n",
    "        plt.legend(title='Timepoint')\n",
    "\n",
    "        # Save the plot in the directory before showing it\n",
    "        if abs(corr_matrix[top_10_DEGs_T.index(gene_T), top_10_DEGs_Epi.index(gene_Epi)]) > 0.4:\n",
    "            plt.savefig(f'DEGs_T_vs_Epi/{gene_T}_vs_{gene_Epi}.png')\n",
    "\n",
    "\n",
    "        # Now show the plot\n",
    "        plt.show()\n"
   ]
  },
  {
   "cell_type": "markdown",
   "metadata": {},
   "source": [
    "# plot UMAP of genes of interest"
   ]
  },
  {
   "cell_type": "code",
   "execution_count": null,
   "metadata": {},
   "outputs": [],
   "source": [
    "adata_T = sc.read(data_dir_NHDP + '1863-counts_cells_cohort1_T_cells.h5ad')\n",
    "adata_T.shape"
   ]
  },
  {
   "cell_type": "code",
   "execution_count": null,
   "metadata": {},
   "outputs": [],
   "source": [
    "sc.pl.umap(adata_T, color=['leiden', 'timepoint' ,'PDCD1','HAVCR2','PRDM1','CXCR4', 'CXCL13', 'CTLA4' ])"
   ]
  },
  {
   "cell_type": "code",
   "execution_count": null,
   "metadata": {},
   "outputs": [],
   "source": [
    "adata_T.obs['timepoint'].unique()"
   ]
  },
  {
   "cell_type": "code",
   "execution_count": null,
   "metadata": {},
   "outputs": [],
   "source": [
    "# Filter the adata_T with timepoint \"on\"\n",
    "adata_T_on = adata_T[adata_T.obs['timepoint'] == 'on']\n",
    "\n",
    "# Filter the adata_T with timepoint \"pre\"\n",
    "adata_T_pre = adata_T[adata_T.obs['timepoint'] == 'pre']\n"
   ]
  },
  {
   "cell_type": "code",
   "execution_count": null,
   "metadata": {},
   "outputs": [],
   "source": [
    "sc.pl.umap(adata_T_on, color=['leiden', 'CD8A' ,'HAVCR2','PDCD1','PRDM1','CXCR4', 'CXCL13', 'CTLA4' ])"
   ]
  },
  {
   "cell_type": "code",
   "execution_count": null,
   "metadata": {},
   "outputs": [],
   "source": [
    "sc.pl.umap(adata_T_pre, color=['leiden', 'CD8A' ,'HAVCR2','PDCD1','PRDM1','CXCR4', 'CXCL13', 'CTLA4' ])"
   ]
  },
  {
   "cell_type": "code",
   "execution_count": null,
   "metadata": {},
   "outputs": [],
   "source": [
    "# filter the T cells data to keep only cells expressing PDCD1\n",
    "adata_T_filtered = adata_T[adata_T[:, 'PDCD1'].X > 0, :].copy()"
   ]
  },
  {
   "cell_type": "code",
   "execution_count": null,
   "metadata": {},
   "outputs": [],
   "source": [
    "sc.pl.umap(adata_T_filtered, color=['leiden', 'CD8A' ,'HAVCR2','PDCD1','PRDM1','CXCR4', 'CXCL13', 'CTLA4' ])"
   ]
  },
  {
   "cell_type": "code",
   "execution_count": null,
   "metadata": {},
   "outputs": [],
   "source": [
    "# Filter the adata_T with timepoint \"on\"\n",
    "adata_T_filtered_on = adata_T_filtered[adata_T_filtered.obs['timepoint'] == 'on']\n",
    "\n",
    "# Filter the adata_T with timepoint \"pre\"\n",
    "adata_T_filtered_pre = adata_T_filtered[adata_T_filtered.obs['timepoint'] == 'pre']"
   ]
  },
  {
   "cell_type": "code",
   "execution_count": null,
   "metadata": {},
   "outputs": [],
   "source": [
    "sc.pl.umap(adata_T_filtered_pre, color=['leiden', 'CD8A' ,'HAVCR2','PDCD1','PRDM1','CXCR4', 'CXCL13', 'CTLA4' ])"
   ]
  },
  {
   "cell_type": "code",
   "execution_count": null,
   "metadata": {},
   "outputs": [],
   "source": [
    "sc.pl.umap(adata_T_filtered_on, color=['leiden', 'CD8A' ,'HAVCR2','PDCD1','PRDM1','CXCR4', 'CXCL13', 'CTLA4' ])"
   ]
  },
  {
   "cell_type": "markdown",
   "metadata": {},
   "source": [
    "# use the whole scRNA data to generate pseudo bulk data"
   ]
  },
  {
   "cell_type": "markdown",
   "metadata": {},
   "source": [
    "## basic filter"
   ]
  },
  {
   "cell_type": "code",
   "execution_count": null,
   "metadata": {},
   "outputs": [],
   "source": [
    "# Read in data in H5AD format\n",
    "data_dir = \"/home/data/ICI_exprs/EGAS00001004809/\"\n",
    "data_file =  data_dir + '1863-counts_cells_cohort1.h5ad'\n",
    "adata = sc.read_h5ad(data_file)\n",
    "print (\"Read in dataset with dimension: \" + str(adata.shape))"
   ]
  },
  {
   "cell_type": "code",
   "execution_count": null,
   "metadata": {},
   "outputs": [],
   "source": [
    "# read in the csv meta-data\n",
    "meta_file_pathname = data_dir + \"1872-BIOKEY_metaData_cohort1_web.csv\"\n",
    "cohort1_meta = pd.read_csv(meta_file_pathname, header = 0, index_col = 0)"
   ]
  },
  {
   "cell_type": "code",
   "execution_count": null,
   "metadata": {},
   "outputs": [],
   "source": [
    "# make sure the index of cohort1_meta agree with the obs of adata\n",
    "cohort1_meta = cohort1_meta.reindex(adata.obs.index)\n",
    "adata.obs = cohort1_meta\n",
    "print(adata.obs.columns)\n",
    "print(adata.obs['patient_id'].unique())"
   ]
  },
  {
   "cell_type": "code",
   "execution_count": null,
   "metadata": {},
   "outputs": [],
   "source": [
    "# change \"timepoint\" values to lowercase\n",
    "adata.obs[\"timepoint\"] = adata.obs[\"timepoint\"].str.lower()\n",
    "adata.obs[\"timepoint\"].unique()"
   ]
  },
  {
   "cell_type": "code",
   "execution_count": null,
   "metadata": {},
   "outputs": [],
   "source": [
    "# the field \"cohort\" is equivalent to \"treatment\", rename it\n",
    "adata.obs.rename(columns={'cohort': 'treatment'}, inplace=True)"
   ]
  },
  {
   "cell_type": "code",
   "execution_count": null,
   "metadata": {},
   "outputs": [],
   "source": [
    "# extract sample_id from index, re-join first three columns of index after splitting by \"_\"\n",
    "adata.obs['sample_id'] = adata.obs.index.str.split(\"_\").str[0:3].str.join(\"_\")"
   ]
  },
  {
   "cell_type": "code",
   "execution_count": null,
   "metadata": {},
   "outputs": [],
   "source": [
    "# drop the nCount_RNA and nFeature_RNA columns\n",
    "adata.obs.drop(columns=['nCount_RNA', 'nFeature_RNA'], inplace=True)\n",
    "\n",
    "# rearrange the columns order: \"patient_id\", \"sample_id\", \"timepoint\", \"treatment\", \"cell_type\"\n",
    "adata.obs = adata.obs[[\"patient_id\", \"sample_id\", \"timepoint\", \"treatment\", 'expansion', 'BC_type', 'cellType']]   "
   ]
  },
  {
   "cell_type": "code",
   "execution_count": null,
   "metadata": {},
   "outputs": [],
   "source": [
    "sc.settings.verbosity = 3             # verbosity: errors (0), warnings (1), info (2), hints (3)\n",
    "sc.logging.print_header()\n",
    "sc.settings.set_figure_params(dpi=80, facecolor='white')"
   ]
  },
  {
   "cell_type": "code",
   "execution_count": null,
   "metadata": {},
   "outputs": [],
   "source": [
    "# removing cells containing <400 || >25000 UMIs\n",
    "sc.pp.filter_cells(adata, min_counts = 400)\n",
    "sc.pp.filter_cells(adata, max_counts = 25000)"
   ]
  },
  {
   "cell_type": "code",
   "execution_count": null,
   "metadata": {},
   "outputs": [],
   "source": [
    "# label genes as mt\n",
    "adata.var['mt'] = adata.var_names.str.startswith('MT-')  \n",
    "\n",
    "# annotate cells with the percent of genes assigned as mt\n",
    "sc.pp.calculate_qc_metrics(adata, qc_vars=['mt'], percent_top=None, log1p=False, inplace=True)\n",
    "\n",
    "# remove mitochondrial genes from analysis\n",
    "adata = adata[:, ~adata.var['mt'].values]\n",
    "\n",
    "# Here we keep cells with < 20% mito ratio\n",
    "adata = adata[adata.obs['pct_counts_mt'] < 20, :]\n",
    "adata.shape"
   ]
  },
  {
   "cell_type": "code",
   "execution_count": null,
   "metadata": {},
   "outputs": [],
   "source": [
    "adata.raw = adata"
   ]
  },
  {
   "cell_type": "code",
   "execution_count": null,
   "metadata": {},
   "outputs": [],
   "source": [
    "data_dir_NHDP = \"/home/qiuaodon/Desktop/project_data_new/\"\n",
    "adata.write_h5ad(data_dir_NHDP + '1863-counts_cells_cohort1_whole_cells.h5ad')"
   ]
  },
  {
   "cell_type": "markdown",
   "metadata": {},
   "source": [
    "## draw the plot of genes vs LR based on whole tumor scRNA data"
   ]
  },
  {
   "cell_type": "code",
   "execution_count": null,
   "metadata": {},
   "outputs": [],
   "source": [
    "adata.raw = adata"
   ]
  },
  {
   "cell_type": "code",
   "execution_count": null,
   "metadata": {},
   "outputs": [],
   "source": [
    "adata_pseudo = scRNA2PseudoBulkAnnData(adata, sample_id_col='sample_id')\n",
    "print(adata_pseudo.shape) "
   ]
  },
  {
   "cell_type": "code",
   "execution_count": null,
   "metadata": {},
   "outputs": [],
   "source": [
    "import pandas as pd\n",
    "import matplotlib.pyplot as plt\n",
    "import numpy as np\n",
    "\n",
    "# Replace 'gene_name' with the actual names as they appear in adata_T_pseudo.var_names\n",
    "pdcd1_expression = adata_T_pseudo[:, 'PDCD1'].X\n",
    "cd274_expression = adata_pseudo[:, 'CD274'].X\n",
    "\n",
    "# Assuming 'HAVCR2' expression is also stored in .X\n",
    "havcr2_expression = adata_T_pseudo[:, 'HAVCR2'].X\n",
    "\n",
    "#timepoint is a column in .obs\n",
    "timepoints = adata_pseudo.obs['timepoint']\n",
    "\n",
    "# Compute the products\n",
    "pdcd1_cd274_product = pdcd1_expression * cd274_expression\n",
    "if 'on' in timepoints.values:\n",
    "    pdcd1_cd274_product[timepoints == 'on'] *= 0.2\n",
    "\n",
    "# Create DataFrame for plotting\n",
    "plot_data = pd.DataFrame({\n",
    "    'PDCD1_CD274': np.ravel(pdcd1_cd274_product),\n",
    "    'HAVCR2': np.ravel(havcr2_expression),\n",
    "    'timepoint': timepoints\n",
    "})\n",
    "\n",
    "# Plotting\n",
    "plt.figure(figsize=(8, 5))\n",
    "for timepoint in ['on', 'pre']:\n",
    "    subset = plot_data[plot_data['timepoint'] == timepoint]\n",
    "    plt.scatter(subset['PDCD1_CD274'], subset['HAVCR2'], label=timepoint, alpha=1.0)\n",
    "\n",
    "plt.xlabel('PDCD1 * CD274 (scaled by 0.2 for \"on\" timepoint)')\n",
    "plt.ylabel('HAVCR2')\n",
    "plt.title('LR vs HAVCR2')\n",
    "plt.legend()\n",
    "plt.show()\n"
   ]
  },
  {
   "cell_type": "code",
   "execution_count": null,
   "metadata": {},
   "outputs": [],
   "source": [
    "import pandas as pd\n",
    "import matplotlib.pyplot as plt\n",
    "import numpy as np\n",
    "\n",
    "# Replace 'gene_name' with the actual names as they appear in adata_T_pseudo.var_names\n",
    "pdcd1_expression = adata_T_pseudo[:, 'PDCD1'].X\n",
    "cd274_expression = adata_pseudo[:, 'CD274'].X\n",
    "\n",
    "# Assuming 'HAVCR2' expression is also stored in .X\n",
    "havcr2_expression = adata_T_pseudo[:, 'PRDM1'].X\n",
    "\n",
    "#timepoint is a column in .obs\n",
    "timepoints = adata_pseudo.obs['timepoint']\n",
    "\n",
    "# Compute the products\n",
    "pdcd1_cd274_product = pdcd1_expression * cd274_expression\n",
    "if 'on' in timepoints.values:\n",
    "    pdcd1_cd274_product[timepoints == 'on'] *= 0.2\n",
    "\n",
    "# Create DataFrame for plotting\n",
    "plot_data = pd.DataFrame({\n",
    "    'PDCD1_CD274': np.ravel(pdcd1_cd274_product),\n",
    "    'PRDM1': np.ravel(havcr2_expression),\n",
    "    'timepoint': timepoints\n",
    "})\n",
    "\n",
    "# Plotting\n",
    "plt.figure(figsize=(8, 5))\n",
    "for timepoint in ['on', 'pre']:\n",
    "    subset = plot_data[plot_data['timepoint'] == timepoint]\n",
    "    plt.scatter(subset['PDCD1_CD274'], subset['PRDM1'], label=timepoint, alpha=1.0)\n",
    "\n",
    "plt.xlabel('PDCD1 * CD274 (scaled by 0.2 for \"on\" timepoint)')\n",
    "plt.ylabel('PRDM1')\n",
    "plt.title('LR vs PRDM1')\n",
    "plt.legend()\n",
    "plt.show()\n"
   ]
  },
  {
   "cell_type": "code",
   "execution_count": null,
   "metadata": {},
   "outputs": [],
   "source": [
    "import pandas as pd\n",
    "import matplotlib.pyplot as plt\n",
    "import numpy as np\n",
    "\n",
    "# Replace 'gene_name' with the actual names as they appear in adata_T_pseudo.var_names\n",
    "pdcd1_expression = adata_T_pseudo[:, 'PDCD1'].X\n",
    "cd274_expression = adata_pseudo[:, 'CD274'].X\n",
    "\n",
    "# Assuming 'HAVCR2' expression is also stored in .X\n",
    "havcr2_expression = adata_T_pseudo[:, 'CXCR4'].X\n",
    "\n",
    "#timepoint is a column in .obs\n",
    "timepoints = adata_pseudo.obs['timepoint']\n",
    "\n",
    "# Compute the products\n",
    "pdcd1_cd274_product = pdcd1_expression * cd274_expression\n",
    "if 'on' in timepoints.values:\n",
    "    pdcd1_cd274_product[timepoints == 'on'] *= 0.2\n",
    "\n",
    "# Create DataFrame for plotting\n",
    "plot_data = pd.DataFrame({\n",
    "    'PDCD1_CD274': np.ravel(pdcd1_cd274_product),\n",
    "    'CXCR4': np.ravel(havcr2_expression),\n",
    "    'timepoint': timepoints\n",
    "})\n",
    "\n",
    "# Plotting\n",
    "plt.figure(figsize=(8, 5))\n",
    "for timepoint in ['on', 'pre']:\n",
    "    subset = plot_data[plot_data['timepoint'] == timepoint]\n",
    "    plt.scatter(subset['PDCD1_CD274'], subset['CXCR4'], label=timepoint, alpha=1.0)\n",
    "\n",
    "plt.xlabel('PDCD1 * CD274 (scaled by 0.2 for \"on\" timepoint)')\n",
    "plt.ylabel('CXCR4')\n",
    "plt.title('LR vs CXCR4')\n",
    "plt.legend()\n",
    "plt.show()\n"
   ]
  },
  {
   "cell_type": "code",
   "execution_count": null,
   "metadata": {},
   "outputs": [],
   "source": [
    "import pandas as pd\n",
    "import matplotlib.pyplot as plt\n",
    "import numpy as np\n",
    "\n",
    "# Replace 'gene_name' with the actual names as they appear in adata_T_pseudo.var_names\n",
    "pdcd1_expression = adata_T_pseudo[:, 'PDCD1'].X\n",
    "cd274_expression = adata_pseudo[:, 'CD274'].X\n",
    "\n",
    "# Assuming 'HAVCR2' expression is also stored in .X\n",
    "havcr2_expression = adata_T_pseudo[:, 'CXCL13'].X\n",
    "\n",
    "#timepoint is a column in .obs\n",
    "timepoints = adata_pseudo.obs['timepoint']\n",
    "\n",
    "# Compute the products\n",
    "pdcd1_cd274_product = pdcd1_expression * cd274_expression\n",
    "if 'on' in timepoints.values:\n",
    "    pdcd1_cd274_product[timepoints == 'on'] *= 0.2\n",
    "\n",
    "# Create DataFrame for plotting\n",
    "plot_data = pd.DataFrame({\n",
    "    'PDCD1_CD274': np.ravel(pdcd1_cd274_product),\n",
    "    'CXCL13': np.ravel(havcr2_expression),\n",
    "    'timepoint': timepoints\n",
    "})\n",
    "\n",
    "# Plotting\n",
    "plt.figure(figsize=(8, 5))\n",
    "for timepoint in ['on', 'pre']:\n",
    "    subset = plot_data[plot_data['timepoint'] == timepoint]\n",
    "    plt.scatter(subset['PDCD1_CD274'], subset['CXCL13'], label=timepoint, alpha=1.0)\n",
    "\n",
    "plt.xlabel('PDCD1 * CD274 (scaled by 0.2 for \"on\" timepoint)')\n",
    "plt.ylabel('CXCL13')\n",
    "plt.title('LR vs CXCL13')\n",
    "plt.legend()\n",
    "plt.show()\n"
   ]
  },
  {
   "cell_type": "code",
   "execution_count": null,
   "metadata": {},
   "outputs": [],
   "source": [
    "import pandas as pd\n",
    "import matplotlib.pyplot as plt\n",
    "import numpy as np\n",
    "\n",
    "# Replace 'gene_name' with the actual names as they appear in adata_T_pseudo.var_names\n",
    "pdcd1_expression = adata_T_pseudo[:, 'PDCD1'].X\n",
    "cd274_expression = adata_pseudo[:, 'CD274'].X\n",
    "\n",
    "# Assuming 'HAVCR2' expression is also stored in .X\n",
    "havcr2_expression = adata_T_pseudo[:, 'CTLA4'].X\n",
    "\n",
    "#timepoint is a column in .obs\n",
    "timepoints = adata_pseudo.obs['timepoint']\n",
    "\n",
    "# Compute the products\n",
    "pdcd1_cd274_product = pdcd1_expression * cd274_expression\n",
    "if 'on' in timepoints.values:\n",
    "    pdcd1_cd274_product[timepoints == 'on'] *= 0.2\n",
    "\n",
    "# Create DataFrame for plotting\n",
    "plot_data = pd.DataFrame({\n",
    "    'PDCD1_CD274': np.ravel(pdcd1_cd274_product),\n",
    "    'CTLA4': np.ravel(havcr2_expression),\n",
    "    'timepoint': timepoints\n",
    "})\n",
    "\n",
    "# Plotting\n",
    "plt.figure(figsize=(8, 5))\n",
    "for timepoint in ['on', 'pre']:\n",
    "    subset = plot_data[plot_data['timepoint'] == timepoint]\n",
    "    plt.scatter(subset['PDCD1_CD274'], subset['CTLA4'], label=timepoint, alpha=1.0)\n",
    "\n",
    "plt.xlabel('PDCD1 * CD274 (scaled by 0.2 for \"on\" timepoint)')\n",
    "plt.ylabel('CTLA4')\n",
    "plt.title('LR vs CTLA4')\n",
    "plt.legend()\n",
    "plt.show()\n"
   ]
  },
  {
   "cell_type": "markdown",
   "metadata": {},
   "source": [
    "# get the pseudo bulk data adding PDL1 for boyang"
   ]
  },
  {
   "cell_type": "code",
   "execution_count": null,
   "metadata": {},
   "outputs": [],
   "source": [
    "adata_T = sc.read(data_dir_NHDP + '1863-counts_cells_cohort1_T_cells.h5ad')\n",
    "# generate a pseudo-bulk AnnData object of the T cells \n",
    "adata_T_pseudo = scRNA2PseudoBulkAnnData(adata_T, sample_id_col='sample_id')\n",
    "print(adata_T_pseudo.shape) "
   ]
  },
  {
   "cell_type": "code",
   "execution_count": null,
   "metadata": {},
   "outputs": [],
   "source": [
    "cd274_data = adata_T.raw[:, 'CD274'].X\n",
    "cd274_df = pd.DataFrame(cd274_data, columns=['CD274'])\n"
   ]
  },
  {
   "cell_type": "code",
   "execution_count": null,
   "metadata": {},
   "outputs": [],
   "source": [
    "import anndata as ad\n",
    "import scipy.sparse\n",
    "\n",
    "# Create a new AnnData object for CD274\n",
    "cd274_adata = ad.AnnData(X=cd274_data.reshape(-1, 1))\n",
    "cd274_adata.var_names = ['CD274']\n",
    "\n",
    "# Concatenate this new object with the original adata_T\n",
    "# If adata_T is sparse, ensure cd274_adata is also sparse\n",
    "if scipy.sparse.issparse(adata_T.X):\n",
    "    cd274_adata.X = scipy.sparse.csr_matrix(cd274_adata.X)\n",
    "\n",
    "combined_adata = ad.concat([adata_T, cd274_adata], axis=1)\n"
   ]
  },
  {
   "cell_type": "code",
   "execution_count": null,
   "metadata": {},
   "outputs": [],
   "source": [
    "# Extract CD274 data\n",
    "cd274_data = adata_T.raw[:, 'CD274'].X\n"
   ]
  }
 ],
 "metadata": {
  "kernelspec": {
   "display_name": "base",
   "language": "python",
   "name": "python3"
  },
  "language_info": {
   "codemirror_mode": {
    "name": "ipython",
    "version": 3
   },
   "file_extension": ".py",
   "mimetype": "text/x-python",
   "name": "python",
   "nbconvert_exporter": "python",
   "pygments_lexer": "ipython3",
   "version": "3.11.5"
  }
 },
 "nbformat": 4,
 "nbformat_minor": 2
}
