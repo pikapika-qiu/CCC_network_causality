{
 "cells": [
  {
   "cell_type": "code",
   "execution_count": null,
   "metadata": {},
   "outputs": [],
   "source": [
    "import numpy as np\n",
    "import matplotlib.pyplot as plt\n",
    "import pandas as pd\n",
    "import scanpy as sc\n",
    "import scipy.io as sio\n",
    "import anndata as ad\n",
    "import os as os\n",
    "import seaborn as sns\n",
    "import sys as sys\n",
    "sys.path.append('/home/xinghua/projects/PanCancer_scRNA_analysis/utils/')\n",
    "from scRNA_utils import * \n",
    "# from rapids_scanpy_funcs import *\n"
   ]
  },
  {
   "cell_type": "code",
   "execution_count": null,
   "metadata": {},
   "outputs": [],
   "source": [
    "#adata = load_10X_matrices('/home/data/ICI_exprs/GSE169246')\n",
    "adata = sc.read('/data/ICI_exprs/GSE169246/GSE169246_TNBC_RNA_matrix.mtx.gz', cache=True).transpose()\n",
    "#adata = sc.read_h5ad('/home/data/ICI_exprs/GSE169246/GSE169246_filtered.h5ad')\n",
    "print(adata)"
   ]
  },
  {
   "cell_type": "code",
   "execution_count": null,
   "metadata": {},
   "outputs": [],
   "source": [
    "# read in metadata\n",
    "adata.obs_names = pd.read_csv('/data/ICI_exprs/GSE169246/GSE169246_TNBC_RNA_barcodes.tsv.gz', header=None, sep='\\t')[0]\n",
    "adata.var_names = pd.read_csv('/data/ICI_exprs/GSE169246/GSE169246_TNBC_RNA_features.tsv.gz', header=None, sep='\\t')[0]\n"
   ]
  },
  {
   "cell_type": "code",
   "execution_count": null,
   "metadata": {},
   "outputs": [],
   "source": [
    "print(\"Cell barcodes\\n\", adata.obs_names[0:10])\n",
    "print(\"Gene names\\n\", adata.var_names[0:10])"
   ]
  },
  {
   "cell_type": "code",
   "execution_count": null,
   "metadata": {},
   "outputs": [],
   "source": [
    "adata.var_names_make_unique()\n",
    "adata.obs_names_make_unique"
   ]
  },
  {
   "attachments": {},
   "cell_type": "markdown",
   "metadata": {},
   "source": [
    "### Extract metadata \n"
   ]
  },
  {
   "cell_type": "code",
   "execution_count": null,
   "metadata": {},
   "outputs": [],
   "source": [
    "# split metadata into sample_id, patient_id, and treatment timepoint\n",
    "adata.obs['sample_id'] = adata.obs.index.str.split('.').str[1]\n",
    "adata.obs['patient_id'] = adata.obs['sample_id'].str.split('_').str[1]\n",
    "adata.obs['timepoint'] = adata.obs['sample_id'].str.split('_').str[0]\n",
    "adata.obs['sample_source'] = adata.obs['sample_id'].str.split('_').str[2]"
   ]
  },
  {
   "cell_type": "code",
   "execution_count": null,
   "metadata": {},
   "outputs": [],
   "source": [
    "\n",
    "# replace timepoint value from \"Pre\" to \"pre\", and \"Post\" to \"on\"\n",
    "adata.obs['timepoint'] = adata.obs['timepoint'].str.replace('Post', 'on')\n",
    "adata.obs['timepoint'] = adata.obs['timepoint'].str.replace('Pre', 'pre')\n",
    "# replase timepoint with lowercase\n",
    "adata.obs['timepoint'] = adata.obs['timepoint'].str.lower()\n",
    "\n"
   ]
  },
  {
   "attachments": {},
   "cell_type": "markdown",
   "metadata": {},
   "source": [
    "Annotate treatment of each patient"
   ]
  },
  {
   "cell_type": "code",
   "execution_count": null,
   "metadata": {},
   "outputs": [],
   "source": [
    "# label treatment\n",
    "# First set every one to anti-pd-L1 label\n",
    "adata.obs['treatment'] = 'Anti-PD-L1+ Chemo' \n",
    "# Change the label of chemo group\n",
    "chemo_group = ['P022', 'P011', 'P020', 'P008', 'P013', 'P025', 'P018', 'P023', 'P024', 'P003', 'P028']\n",
    "for p in chemo_group:\n",
    "    adata.obs.loc[adata.obs['patient_id'] == p, 'treatment'] = 'Chemo'"
   ]
  },
  {
   "cell_type": "code",
   "execution_count": null,
   "metadata": {},
   "outputs": [],
   "source": [
    "print(adata.obs.columns)\n",
    "print(adata.var.columns)"
   ]
  },
  {
   "attachments": {},
   "cell_type": "markdown",
   "metadata": {},
   "source": [
    "### Need to pay attention to exclude T cells from pbmc are included in the dataset, when study the clonal expansion of T cells"
   ]
  },
  {
   "cell_type": "code",
   "execution_count": null,
   "metadata": {},
   "outputs": [],
   "source": [
    "adata.obs['sample_source'].value_counts()"
   ]
  },
  {
   "attachments": {},
   "cell_type": "markdown",
   "metadata": {},
   "source": [
    "### Summary of data"
   ]
  },
  {
   "cell_type": "code",
   "execution_count": null,
   "metadata": {},
   "outputs": [],
   "source": [
    "print(\"Number of patients\", str(len(adata.obs['patient_id'].unique())))\n",
    "print(\"Number of samples\", str(len(adata.obs['sample_id'].unique())))\n",
    "print(\"Number of timepoints\", str(len(adata.obs['timepoint'].unique())))\n",
    "print(\"Number of sample sources\", str(len(adata.obs['sample_source'].unique())))\n",
    "print(\"Number of treatments\", str(len(adata.obs['treatment'].unique())))"
   ]
  },
  {
   "attachments": {},
   "cell_type": "markdown",
   "metadata": {},
   "source": [
    "### Save a copy of h5ad file to speed up loading"
   ]
  },
  {
   "cell_type": "code",
   "execution_count": null,
   "metadata": {},
   "outputs": [],
   "source": [
    "adata.write_h5ad('/data/ICI_exprs/GSE169246/GSE169246_TNBC_RNA.h5ad')"
   ]
  },
  {
   "cell_type": "code",
   "execution_count": null,
   "metadata": {},
   "outputs": [],
   "source": [
    "adata = sc.read_h5ad('/data/ICI_exprs/GSE169246/GSE169246_TNBC_RNA.h5ad')"
   ]
  },
  {
   "attachments": {},
   "cell_type": "markdown",
   "metadata": {},
   "source": [
    "## Start preprocessing"
   ]
  },
  {
   "cell_type": "code",
   "execution_count": null,
   "metadata": {},
   "outputs": [],
   "source": [
    "# # sc.settings.verbosity = 3             # verbosity: errors (0), warnings (1), info (2), hints (3)\n",
    "# sc.logging.print_header()\n",
    "# sc.settings.set_figure_params(dpi=80, facecolor='white')"
   ]
  },
  {
   "cell_type": "code",
   "execution_count": null,
   "metadata": {},
   "outputs": [],
   "source": [
    "# removing genes expressing in <10 cells\n",
    "sc.pp.filter_genes(adata, min_cells = 50)\n",
    "\n",
    "# removing cells with fewer than 400 genes or more than 8000 genes\n",
    "sc.pp.filter_cells(adata, min_genes=400)\n",
    "sc.pp.filter_cells(adata, max_genes=8000)"
   ]
  },
  {
   "cell_type": "code",
   "execution_count": null,
   "metadata": {},
   "outputs": [],
   "source": [
    "# removing cells containing <600 || >120000 UMIs\n",
    "sc.pp.filter_cells(adata, min_counts = 600)\n",
    "sc.pp.filter_cells(adata, max_counts = 120000)"
   ]
  },
  {
   "cell_type": "code",
   "execution_count": null,
   "metadata": {},
   "outputs": [],
   "source": [
    "# label genes as mt\n",
    "adata.var['mt'] = adata.var_names.str.startswith('MT-')  \n",
    "\n",
    "# annotate cells with the percent of genes assigned as mt\n",
    "sc.pp.calculate_qc_metrics(adata, qc_vars=['mt'], percent_top=None, log1p=False, inplace=True)\n",
    "\n",
    "# Here we keep cells with < 20% mito ratio\n",
    "adata = adata[adata.obs['pct_counts_mt'] < 10, :]\n",
    "adata.shape"
   ]
  },
  {
   "cell_type": "code",
   "execution_count": null,
   "metadata": {},
   "outputs": [],
   "source": [
    "sc.pl.violin(adata, ['n_genes_by_counts', 'total_counts', 'pct_counts_mt'],\n",
    "             jitter=0.0, multi_panel=True)"
   ]
  },
  {
   "cell_type": "code",
   "execution_count": null,
   "metadata": {},
   "outputs": [],
   "source": [
    "# Log normalization scaled up to 10000\n",
    "sc.pp.normalize_total(adata, target_sum=1e4)"
   ]
  },
  {
   "cell_type": "code",
   "execution_count": null,
   "metadata": {},
   "outputs": [],
   "source": [
    "# Logarithmize adata\n",
    "sc.pp.log1p(adata, base=2)"
   ]
  },
  {
   "cell_type": "code",
   "execution_count": null,
   "metadata": {},
   "outputs": [],
   "source": [
    "# adata.write('/home/data/ICI_exprs/GSE169246/GSE169246_filtered-lux.h5ad')"
   ]
  },
  {
   "cell_type": "code",
   "execution_count": null,
   "metadata": {},
   "outputs": [],
   "source": [
    "# adata = sc.read_h5ad('/home/data/ICI_exprs/GSE169246/GSE169246_filtered-lux.h5ad')"
   ]
  },
  {
   "cell_type": "code",
   "execution_count": null,
   "metadata": {},
   "outputs": [],
   "source": [
    "sc.pp.highly_variable_genes(adata, n_top_genes = 4000, flavor = 'cell_ranger')\n",
    "#sc.pp.highly_variable_genes(adata, min_mean=0.0125, max_mean=3, min_disp=0.5, subset=True)\n",
    "sc.pl.highly_variable_genes(adata)"
   ]
  },
  {
   "cell_type": "code",
   "execution_count": null,
   "metadata": {},
   "outputs": [],
   "source": [
    "adata.raw = adata\n",
    "adata = adata[:, adata.var.highly_variable]\n",
    "print('adata dimensions of high variance genes: ' + str(adata.shape))"
   ]
  },
  {
   "cell_type": "code",
   "execution_count": null,
   "metadata": {},
   "outputs": [],
   "source": [
    "# perform PCA   \n",
    "sc.tl.pca(adata, svd_solver='arpack', n_comps=50)\n",
    "\n",
    "# Keep the top 50 components\n",
    "#adata.obsm[\"X_pca\"] = adata.obsm[\"X_pca\"][:, :50]"
   ]
  },
  {
   "cell_type": "code",
   "execution_count": null,
   "metadata": {},
   "outputs": [],
   "source": [
    "print(adata.obsm['X_pca'].shape)\n",
    "print(adata.varm['PCs'].shape)\n",
    "print(adata.uns['pca']['variance_ratio'].shape)\n",
    "print(adata.obs.columns)"
   ]
  },
  {
   "attachments": {},
   "cell_type": "markdown",
   "metadata": {},
   "source": [
    "### Clusterings"
   ]
  },
  {
   "cell_type": "code",
   "execution_count": null,
   "metadata": {},
   "outputs": [],
   "source": [
    "sc.pp.neighbors(adata, n_neighbors=80)"
   ]
  },
  {
   "cell_type": "code",
   "execution_count": null,
   "metadata": {},
   "outputs": [],
   "source": [
    "# Use the Leiden algorithm to find clusters\n",
    "sc.tl.leiden(adata, resolution=0.5)\n"
   ]
  },
  {
   "cell_type": "code",
   "execution_count": null,
   "metadata": {},
   "outputs": [],
   "source": [
    "# load/find cell cycle markers: T-test/T-cells\n",
    "sc.tl.rank_genes_groups(adata, 'leiden', method='t-test')\n",
    "sc.pl.rank_genes_groups(adata, n_genes=25, sharey=False)"
   ]
  },
  {
   "cell_type": "code",
   "execution_count": null,
   "metadata": {},
   "outputs": [],
   "source": [
    "# perform UMAP\n",
    "sc.tl.umap(adata)\n"
   ]
  },
  {
   "cell_type": "code",
   "execution_count": null,
   "metadata": {},
   "outputs": [],
   "source": [
    "sc.pl.umap(adata, color=['leiden', 'CD3E', 'CD19',  'CD68'] ,legend_loc='on data')\n",
    "# plot B cells markers\n",
    "# sc.pl.umap(adata, color=['MS4A1', 'CD79A', 'CD79B', 'CD19', 'CD20', 'CD22', 'CD27', 'CD38', 'CD45RA', 'CD45RO', 'CD69', 'CD80', 'CD86', 'CD95', 'CD274', 'CD276', 'CD319', 'CD320'], legend_loc='on data')"
   ]
  },
  {
   "cell_type": "code",
   "execution_count": null,
   "metadata": {},
   "outputs": [],
   "source": [
    "cell_type_markers = {\n",
    "    'T cells': ['CD3D', 'CD3E'],\n",
    "    'B cells': ['CD79A', 'CD79B'],\n",
    "    'Myeloid': ['CD14', 'CD68']\n",
    "}\n",
    "sc.tl.dendrogram(adata, groupby='leiden')\n",
    "sc.pl.dotplot(adata, cell_type_markers, 'leiden', dendrogram=True)\n",
    "#sc.pl.umap(adata, color='clusters', legend_loc='on data')\n"
   ]
  },
  {
   "cell_type": "code",
   "execution_count": null,
   "metadata": {},
   "outputs": [],
   "source": [
    "# check if the markers are in the var names\n",
    "for cell_type, markers in cell_type_markers.items():\n",
    "    print (cell_type, \":\", markers)\n",
    "    #print (\"number of match in var: \", str(sum(adata.raw.var_names.isin(markers))))\n",
    "    sc.pl.umap(adata, color=markers, legend_loc='on data')"
   ]
  },
  {
   "cell_type": "code",
   "execution_count": null,
   "metadata": {},
   "outputs": [],
   "source": [
    "labelClusterWithCellType(adata, cell_type_markers)"
   ]
  },
  {
   "cell_type": "code",
   "execution_count": null,
   "metadata": {},
   "outputs": [],
   "source": [
    "# plot umap with cell type labels\n",
    "sc.pl.umap(adata, color=['cell_type', 'timepoint', 'treatment'])"
   ]
  },
  {
   "cell_type": "code",
   "execution_count": null,
   "metadata": {},
   "outputs": [],
   "source": []
  },
  {
   "attachments": {},
   "cell_type": "markdown",
   "metadata": {},
   "source": [
    "### Write to file."
   ]
  },
  {
   "cell_type": "code",
   "execution_count": null,
   "metadata": {},
   "outputs": [],
   "source": [
    "# extract T cells and output  AnnData object to file\n",
    "adata_T = adata[adata.obs['cell_type'] == 'T cells']\n",
    "adata_T = ad.AnnData(X=adata_T.raw.X, obs=adata_T.obs, var=adata_T.raw.var)\n",
    "adata_T.raw = adata_T\n",
    "adata_T.write_h5ad('/data/ICI_exprs/ICI_T_cell_collection/GSE169246_T_cells.h5ad')\n",
    "adata_T.write_h5ad('/data/ICI_exprs/ICI_NHDP/GSE169246_T_cells.h5ad')\n",
    "\n",
    "# extract B cells\n",
    "adata_B = adata[adata.obs['cell_type'] == 'B cells']\n",
    "adata_B = ad.AnnData(X=adata_B.raw.X, obs=adata_B.obs, var=adata_B.raw.var)\n",
    "adata_B.raw = adata_B\n",
    "adata_B.write_h5ad('/data/ICI_exprs/ICI_B_cell_collection/GSE169246_B_cells.h5ad')\n",
    "adata_B.write_h5ad('/data/ICI_exprs/ICI_NHDP/GSE169246_B_cells.h5ad')\n",
    "\n",
    "# extract Myeloid cells\n",
    "adata_M = adata[adata.obs['cell_type'] == 'Myeloid']\n",
    "adata_M = ad.AnnData(X=adata_M.raw.X, obs=adata_M.obs, var=adata_M.raw.var)\n",
    "adata_M.raw = adata_M\n",
    "adata_M.write_h5ad('/data/ICI_exprs/ICI_Myeloid_cell_collection/GSE169246_M_cells.h5ad')\n",
    "adata_M.write_h5ad('/data/ICI_exprs/ICI_NHDP/GSE169246_M_cells.h5ad')"
   ]
  },
  {
   "cell_type": "code",
   "execution_count": null,
   "metadata": {},
   "outputs": [],
   "source": [
    "adata_T.obs.columns"
   ]
  },
  {
   "cell_type": "markdown",
   "metadata": {},
   "source": [
    "## Clustering T cells"
   ]
  },
  {
   "cell_type": "code",
   "execution_count": null,
   "metadata": {},
   "outputs": [],
   "source": [
    "adata_T = clustering_adata(adata_T,n_top_genes=5000)"
   ]
  }
 ],
 "metadata": {
  "kernelspec": {
   "display_name": "base",
   "language": "python",
   "name": "python3"
  },
  "language_info": {
   "codemirror_mode": {
    "name": "ipython",
    "version": 3
   },
   "file_extension": ".py",
   "mimetype": "text/x-python",
   "name": "python",
   "nbconvert_exporter": "python",
   "pygments_lexer": "ipython3",
   "version": "3.11.5"
  }
 },
 "nbformat": 4,
 "nbformat_minor": 2
}
