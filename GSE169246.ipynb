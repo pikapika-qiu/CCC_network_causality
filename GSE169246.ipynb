{
 "cells": [
  {
   "cell_type": "code",
   "execution_count": 2,
   "metadata": {},
   "outputs": [],
   "source": [
    "import numpy as np\n",
    "import matplotlib.pyplot as plt\n",
    "import pandas as pd\n",
    "import scanpy as sc\n",
    "import scipy.io as sio\n",
    "import anndata as ad\n",
    "import os as os\n",
    "import seaborn as sns\n",
    "from load_10X_matrices import load_10X_matrices"
   ]
  },
  {
   "cell_type": "code",
   "execution_count": 16,
   "metadata": {},
   "outputs": [
    {
     "ename": "KeyboardInterrupt",
     "evalue": "",
     "output_type": "error",
     "traceback": [
      "\u001b[0;31m---------------------------------------------------------------------------\u001b[0m",
      "\u001b[0;31mKeyboardInterrupt\u001b[0m                         Traceback (most recent call last)",
      "Cell \u001b[0;32mIn[16], line 3\u001b[0m\n\u001b[1;32m      1\u001b[0m \u001b[39m#adata = load_10X_matrices('/home/data/ICI_exprs/GSE169246')\u001b[39;00m\n\u001b[1;32m      2\u001b[0m \u001b[39m#adata = sc.read_10x_mtx('/home/data/ICI_exprs/GSE169246/', var_names='gene_symbols', cache=True)\u001b[39;00m\n\u001b[0;32m----> 3\u001b[0m adata \u001b[39m=\u001b[39m sc\u001b[39m.\u001b[39;49mread_10x_mtx(\u001b[39m'\u001b[39;49m\u001b[39m/home/data/ICI_exprs/GSE169246/\u001b[39;49m\u001b[39m'\u001b[39;49m, prefix \u001b[39m=\u001b[39;49m \u001b[39m\"\u001b[39;49m\u001b[39mGSE169246_TNBC_RNA_\u001b[39;49m\u001b[39m\"\u001b[39;49m)\n\u001b[1;32m      4\u001b[0m \u001b[39mprint\u001b[39m(adata)\n",
      "File \u001b[0;32m~/anaconda3/lib/python3.10/site-packages/scanpy/readwrite.py:490\u001b[0m, in \u001b[0;36mread_10x_mtx\u001b[0;34m(path, var_names, make_unique, cache, cache_compression, gex_only, prefix)\u001b[0m\n\u001b[1;32m    488\u001b[0m genefile_exists \u001b[39m=\u001b[39m (path \u001b[39m/\u001b[39m \u001b[39mf\u001b[39m\u001b[39m'\u001b[39m\u001b[39m{\u001b[39;00mprefix\u001b[39m}\u001b[39;00m\u001b[39mgenes.tsv\u001b[39m\u001b[39m'\u001b[39m)\u001b[39m.\u001b[39mis_file()\n\u001b[1;32m    489\u001b[0m read \u001b[39m=\u001b[39m _read_legacy_10x_mtx \u001b[39mif\u001b[39;00m genefile_exists \u001b[39melse\u001b[39;00m _read_v3_10x_mtx\n\u001b[0;32m--> 490\u001b[0m adata \u001b[39m=\u001b[39m read(\n\u001b[1;32m    491\u001b[0m     \u001b[39mstr\u001b[39;49m(path),\n\u001b[1;32m    492\u001b[0m     var_names\u001b[39m=\u001b[39;49mvar_names,\n\u001b[1;32m    493\u001b[0m     make_unique\u001b[39m=\u001b[39;49mmake_unique,\n\u001b[1;32m    494\u001b[0m     cache\u001b[39m=\u001b[39;49mcache,\n\u001b[1;32m    495\u001b[0m     cache_compression\u001b[39m=\u001b[39;49mcache_compression,\n\u001b[1;32m    496\u001b[0m     prefix\u001b[39m=\u001b[39;49mprefix,\n\u001b[1;32m    497\u001b[0m )\n\u001b[1;32m    498\u001b[0m \u001b[39mif\u001b[39;00m genefile_exists \u001b[39mor\u001b[39;00m \u001b[39mnot\u001b[39;00m gex_only:\n\u001b[1;32m    499\u001b[0m     \u001b[39mreturn\u001b[39;00m adata\n",
      "File \u001b[0;32m~/anaconda3/lib/python3.10/site-packages/scanpy/readwrite.py:554\u001b[0m, in \u001b[0;36m_read_v3_10x_mtx\u001b[0;34m(path, var_names, make_unique, cache, cache_compression, prefix)\u001b[0m\n\u001b[1;32m    550\u001b[0m \u001b[39m\"\"\"\u001b[39;00m\n\u001b[1;32m    551\u001b[0m \u001b[39mRead mtx from output from Cell Ranger v3 or later versions\u001b[39;00m\n\u001b[1;32m    552\u001b[0m \u001b[39m\"\"\"\u001b[39;00m\n\u001b[1;32m    553\u001b[0m path \u001b[39m=\u001b[39m Path(path)\n\u001b[0;32m--> 554\u001b[0m adata \u001b[39m=\u001b[39m read(\n\u001b[1;32m    555\u001b[0m     path \u001b[39m/\u001b[39;49m \u001b[39mf\u001b[39;49m\u001b[39m'\u001b[39;49m\u001b[39m{\u001b[39;49;00mprefix\u001b[39m}\u001b[39;49;00m\u001b[39mmatrix.mtx.gz\u001b[39;49m\u001b[39m'\u001b[39;49m,\n\u001b[1;32m    556\u001b[0m     cache\u001b[39m=\u001b[39;49mcache,\n\u001b[1;32m    557\u001b[0m     cache_compression\u001b[39m=\u001b[39;49mcache_compression,\n\u001b[1;32m    558\u001b[0m )\u001b[39m.\u001b[39mT  \u001b[39m# transpose the data\u001b[39;00m\n\u001b[1;32m    559\u001b[0m genes \u001b[39m=\u001b[39m pd\u001b[39m.\u001b[39mread_csv(path \u001b[39m/\u001b[39m \u001b[39mf\u001b[39m\u001b[39m'\u001b[39m\u001b[39m{\u001b[39;00mprefix\u001b[39m}\u001b[39;00m\u001b[39mfeatures.tsv.gz\u001b[39m\u001b[39m'\u001b[39m, header\u001b[39m=\u001b[39m\u001b[39mNone\u001b[39;00m, sep\u001b[39m=\u001b[39m\u001b[39m'\u001b[39m\u001b[39m\\t\u001b[39;00m\u001b[39m'\u001b[39m)\n\u001b[1;32m    560\u001b[0m \u001b[39mif\u001b[39;00m var_names \u001b[39m==\u001b[39m \u001b[39m'\u001b[39m\u001b[39mgene_symbols\u001b[39m\u001b[39m'\u001b[39m:\n",
      "File \u001b[0;32m~/anaconda3/lib/python3.10/site-packages/scanpy/readwrite.py:112\u001b[0m, in \u001b[0;36mread\u001b[0;34m(filename, backed, sheet, ext, delimiter, first_column_names, backup_url, cache, cache_compression, **kwargs)\u001b[0m\n\u001b[1;32m    110\u001b[0m filename \u001b[39m=\u001b[39m Path(filename)  \u001b[39m# allow passing strings\u001b[39;00m\n\u001b[1;32m    111\u001b[0m \u001b[39mif\u001b[39;00m is_valid_filename(filename):\n\u001b[0;32m--> 112\u001b[0m     \u001b[39mreturn\u001b[39;00m _read(\n\u001b[1;32m    113\u001b[0m         filename,\n\u001b[1;32m    114\u001b[0m         backed\u001b[39m=\u001b[39;49mbacked,\n\u001b[1;32m    115\u001b[0m         sheet\u001b[39m=\u001b[39;49msheet,\n\u001b[1;32m    116\u001b[0m         ext\u001b[39m=\u001b[39;49mext,\n\u001b[1;32m    117\u001b[0m         delimiter\u001b[39m=\u001b[39;49mdelimiter,\n\u001b[1;32m    118\u001b[0m         first_column_names\u001b[39m=\u001b[39;49mfirst_column_names,\n\u001b[1;32m    119\u001b[0m         backup_url\u001b[39m=\u001b[39;49mbackup_url,\n\u001b[1;32m    120\u001b[0m         cache\u001b[39m=\u001b[39;49mcache,\n\u001b[1;32m    121\u001b[0m         cache_compression\u001b[39m=\u001b[39;49mcache_compression,\n\u001b[1;32m    122\u001b[0m         \u001b[39m*\u001b[39;49m\u001b[39m*\u001b[39;49mkwargs,\n\u001b[1;32m    123\u001b[0m     )\n\u001b[1;32m    124\u001b[0m \u001b[39m# generate filename and read to dict\u001b[39;00m\n\u001b[1;32m    125\u001b[0m filekey \u001b[39m=\u001b[39m \u001b[39mstr\u001b[39m(filename)\n",
      "File \u001b[0;32m~/anaconda3/lib/python3.10/site-packages/scanpy/readwrite.py:751\u001b[0m, in \u001b[0;36m_read\u001b[0;34m(filename, backed, sheet, ext, delimiter, first_column_names, backup_url, cache, cache_compression, suppress_cache_warning, **kwargs)\u001b[0m\n\u001b[1;32m    749\u001b[0m         adata \u001b[39m=\u001b[39m read_excel(filename, sheet)\n\u001b[1;32m    750\u001b[0m \u001b[39melif\u001b[39;00m ext \u001b[39min\u001b[39;00m {\u001b[39m'\u001b[39m\u001b[39mmtx\u001b[39m\u001b[39m'\u001b[39m, \u001b[39m'\u001b[39m\u001b[39mmtx.gz\u001b[39m\u001b[39m'\u001b[39m}:\n\u001b[0;32m--> 751\u001b[0m     adata \u001b[39m=\u001b[39m read_mtx(filename)\n\u001b[1;32m    752\u001b[0m \u001b[39melif\u001b[39;00m ext \u001b[39m==\u001b[39m \u001b[39m'\u001b[39m\u001b[39mcsv\u001b[39m\u001b[39m'\u001b[39m:\n\u001b[1;32m    753\u001b[0m     adata \u001b[39m=\u001b[39m read_csv(filename, first_column_names\u001b[39m=\u001b[39mfirst_column_names)\n",
      "File \u001b[0;32m~/anaconda3/lib/python3.10/site-packages/anndata/_io/read.py:316\u001b[0m, in \u001b[0;36mread_mtx\u001b[0;34m(filename, dtype)\u001b[0m\n\u001b[1;32m    313\u001b[0m \u001b[39mfrom\u001b[39;00m \u001b[39mscipy\u001b[39;00m\u001b[39m.\u001b[39;00m\u001b[39mio\u001b[39;00m \u001b[39mimport\u001b[39;00m mmread\n\u001b[1;32m    315\u001b[0m \u001b[39m# could be rewritten accounting for dtype to be more performant\u001b[39;00m\n\u001b[0;32m--> 316\u001b[0m X \u001b[39m=\u001b[39m mmread(fspath(filename))\u001b[39m.\u001b[39mastype(dtype)\n\u001b[1;32m    317\u001b[0m \u001b[39mfrom\u001b[39;00m \u001b[39mscipy\u001b[39;00m\u001b[39m.\u001b[39;00m\u001b[39msparse\u001b[39;00m \u001b[39mimport\u001b[39;00m csr_matrix\n\u001b[1;32m    319\u001b[0m X \u001b[39m=\u001b[39m csr_matrix(X)\n",
      "File \u001b[0;32m~/anaconda3/lib/python3.10/site-packages/scipy/io/_mmio.py:129\u001b[0m, in \u001b[0;36mmmread\u001b[0;34m(source)\u001b[0m\n\u001b[1;32m     84\u001b[0m \u001b[39mdef\u001b[39;00m \u001b[39mmmread\u001b[39m(source):\n\u001b[1;32m     85\u001b[0m     \u001b[39m\"\"\"\u001b[39;00m\n\u001b[1;32m     86\u001b[0m \u001b[39m    Reads the contents of a Matrix Market file-like 'source' into a matrix.\u001b[39;00m\n\u001b[1;32m     87\u001b[0m \n\u001b[0;32m   (...)\u001b[0m\n\u001b[1;32m    127\u001b[0m \u001b[39m           [0., 0., 0., 0., 0.]])\u001b[39;00m\n\u001b[1;32m    128\u001b[0m \u001b[39m    \"\"\"\u001b[39;00m\n\u001b[0;32m--> 129\u001b[0m     \u001b[39mreturn\u001b[39;00m MMFile()\u001b[39m.\u001b[39;49mread(source)\n",
      "File \u001b[0;32m~/anaconda3/lib/python3.10/site-packages/scipy/io/_mmio.py:579\u001b[0m, in \u001b[0;36mMMFile.read\u001b[0;34m(self, source)\u001b[0m\n\u001b[1;32m    577\u001b[0m \u001b[39mtry\u001b[39;00m:\n\u001b[1;32m    578\u001b[0m     \u001b[39mself\u001b[39m\u001b[39m.\u001b[39m_parse_header(stream)\n\u001b[0;32m--> 579\u001b[0m     \u001b[39mreturn\u001b[39;00m \u001b[39mself\u001b[39;49m\u001b[39m.\u001b[39;49m_parse_body(stream)\n\u001b[1;32m    581\u001b[0m \u001b[39mfinally\u001b[39;00m:\n\u001b[1;32m    582\u001b[0m     \u001b[39mif\u001b[39;00m close_it:\n",
      "File \u001b[0;32m~/anaconda3/lib/python3.10/site-packages/scipy/io/_mmio.py:783\u001b[0m, in \u001b[0;36mMMFile._parse_body\u001b[0;34m(self, stream)\u001b[0m\n\u001b[1;32m    781\u001b[0m \u001b[39mif\u001b[39;00m \u001b[39mnot\u001b[39;00m is_pattern:\n\u001b[1;32m    782\u001b[0m     \u001b[39mif\u001b[39;00m is_integer:\n\u001b[0;32m--> 783\u001b[0m         V[entry_number] \u001b[39m=\u001b[39m \u001b[39mint\u001b[39;49m(l[\u001b[39m2\u001b[39;49m])\n\u001b[1;32m    784\u001b[0m     \u001b[39melif\u001b[39;00m is_unsigned_integer:\n\u001b[1;32m    785\u001b[0m         V[entry_number] \u001b[39m=\u001b[39m \u001b[39mint\u001b[39m(l[\u001b[39m2\u001b[39m])\n",
      "\u001b[0;31mKeyboardInterrupt\u001b[0m: "
     ]
    }
   ],
   "source": [
    "#adata = load_10X_matrices('/home/data/ICI_exprs/GSE169246')\n",
    "#adata = sc.read_10x_mtx('/home/data/ICI_exprs/GSE169246/', var_names='gene_symbols', cache=True)\n",
    "adata = sc.read_10x_mtx('/home/data/ICI_exprs/GSE169246/', prefix = \"GSE169246_TNBC_RNA_\")\n",
    "print(adata)"
   ]
  },
  {
   "cell_type": "code",
   "execution_count": null,
   "metadata": {},
   "outputs": [],
   "source": [
    "adata.obs_names_make_unique"
   ]
  },
  {
   "cell_type": "code",
   "execution_count": null,
   "metadata": {},
   "outputs": [],
   "source": [
    "sc.settings.verbosity = 3             # verbosity: errors (0), warnings (1), info (2), hints (3)\n",
    "sc.logging.print_header()\n",
    "sc.settings.set_figure_params(dpi=80, facecolor='white')"
   ]
  },
  {
   "cell_type": "code",
   "execution_count": null,
   "metadata": {},
   "outputs": [],
   "source": [
    "# removing genes expressing in <10 cells\n",
    "sc.pp.filter_genes(adata, min_cells = 10)\n",
    "\n",
    "# removing cells with fewer than 400 genes or more than 8000 genes\n",
    "sc.pp.filter_cells(adata, min_genes=400)\n",
    "sc.pp.filter_cells(adata, max_genes=8000)"
   ]
  },
  {
   "cell_type": "code",
   "execution_count": null,
   "metadata": {},
   "outputs": [],
   "source": [
    "# removing cells containing <600 || >120000 UMIs\n",
    "sc.pp.filter_cells(adata, min_counts = 600)\n",
    "sc.pp.filter_cells(adata, max_counts = 120000)"
   ]
  },
  {
   "cell_type": "code",
   "execution_count": null,
   "metadata": {},
   "outputs": [],
   "source": [
    "# label genes as mt\n",
    "adata.var['mt'] = adata.var_names.str.startswith('MT-')  \n",
    "\n",
    "# annotate cells with the percent of genes assigned as mt\n",
    "sc.pp.calculate_qc_metrics(adata, qc_vars=['mt'], percent_top=None, log1p=False, inplace=True)\n",
    "\n",
    "# Here we keep cells with < 20% mito ratio\n",
    "adata = adata[adata.obs['pct_counts_mt'] < 10, :]\n",
    "adata.shape"
   ]
  },
  {
   "cell_type": "code",
   "execution_count": null,
   "metadata": {},
   "outputs": [],
   "source": [
    "sc.pl.violin(adata, ['n_genes_by_counts', 'total_counts', 'pct_counts_mt'],\n",
    "             jitter=0.0, multi_panel=True)"
   ]
  },
  {
   "cell_type": "code",
   "execution_count": null,
   "metadata": {},
   "outputs": [],
   "source": [
    "# Log normalization scaled up to 10000\n",
    "sc.pp.normalize_total(adata, target_sum=1e4)"
   ]
  },
  {
   "cell_type": "code",
   "execution_count": null,
   "metadata": {},
   "outputs": [],
   "source": [
    "# Logarithmize adata\n",
    "sc.pp.log1p(adata)"
   ]
  },
  {
   "cell_type": "code",
   "execution_count": null,
   "metadata": {},
   "outputs": [],
   "source": [
    "adata.write('/home/data/ICI_exprs/GSE169246/GSE169246_filtered.h5ad')"
   ]
  },
  {
   "cell_type": "code",
   "execution_count": null,
   "metadata": {},
   "outputs": [],
   "source": [
    "adata = sc.read_h5ad('/home/data/ICI_exprs/GSE169246/GSE169246_filtered.h5ad')"
   ]
  },
  {
   "cell_type": "code",
   "execution_count": null,
   "metadata": {},
   "outputs": [],
   "source": [
    "sc.pp.highly_variable_genes(adata, n_top_genes = 4000, flavor = 'cell_ranger')\n",
    "#sc.pp.highly_variable_genes(adata, min_mean=0.0125, max_mean=3, min_disp=0.5, subset=True)\n",
    "sc.pl.highly_variable_genes(adata)"
   ]
  },
  {
   "cell_type": "code",
   "execution_count": null,
   "metadata": {},
   "outputs": [],
   "source": [
    "adata.raw = adata\n",
    "adata = adata[:, adata.var.highly_variable]\n",
    "print('adata dimensions of high variance genes: ' + str(adata.shape))"
   ]
  },
  {
   "cell_type": "code",
   "execution_count": null,
   "metadata": {},
   "outputs": [],
   "source": [
    "# perform PCA   \n",
    "sc.tl.pca(adata, svd_solver='arpack', n_comps=50)\n",
    "\n",
    "# Keep the top 50 components\n",
    "#adata.obsm[\"X_pca\"] = adata.obsm[\"X_pca\"][:, :50]"
   ]
  },
  {
   "cell_type": "code",
   "execution_count": null,
   "metadata": {},
   "outputs": [],
   "source": [
    "print(adata.obsm['X_pca'].shape)\n",
    "print(adata.varm['PCs'].shape)\n",
    "print(adata.uns['pca']['variance_ratio'].shape)\n",
    "print(adata.obs.columns)"
   ]
  },
  {
   "cell_type": "code",
   "execution_count": null,
   "metadata": {},
   "outputs": [],
   "source": [
    "sc.pp.neighbors(adata, n_neighbors=80, use_rep='X', batch_key='batch')\n",
    "sc.external.pp.bbknn(adata, batch_key='batch', n_pcs=50)"
   ]
  },
  {
   "cell_type": "code",
   "execution_count": null,
   "metadata": {},
   "outputs": [],
   "source": [
    "# Use the Leiden algorithm to find clusters\n",
    "sc.tl.leiden(adata)\n",
    "#sc.tl.leiden(adata, resolution=0.5)"
   ]
  },
  {
   "cell_type": "code",
   "execution_count": null,
   "metadata": {},
   "outputs": [],
   "source": [
    "# load/find cell cycle markers: T-test/T-cells\n",
    "sc.tl.rank_genes_groups(adata, 'leiden', method='t-test')\n",
    "sc.pl.rank_genes_groups(adata, n_genes=25, sharey=False)"
   ]
  },
  {
   "cell_type": "code",
   "execution_count": null,
   "metadata": {},
   "outputs": [],
   "source": [
    "# perform UMAP\n",
    "sc.tl.umap(adata)\n",
    "sc.pl.umap(adata, color='leiden',legend_loc='on data')"
   ]
  },
  {
   "cell_type": "code",
   "execution_count": null,
   "metadata": {},
   "outputs": [],
   "source": [
    "# find marker genes of each cluster\n",
    "sc.tl.rank_genes_groups(adata, 'leiden', method='wilcoxon')"
   ]
  },
  {
   "cell_type": "code",
   "execution_count": null,
   "metadata": {},
   "outputs": [],
   "source": [
    "t_cell_markers = {\n",
    "    'CD3G', 'CD4', 'CD81', 'GZMK', 'IFNG', 'KLRG1', 'NKG7', \n",
    "    'ITGAE', 'CD40LG', 'FGFBP2', 'LEF1', 'TCF7', 'SELL', 'FOXP3', \n",
    "    'IL7R', 'IL2RA', 'LAYN', 'ICOS', \n",
    "    'ZNF683', 'SCL1', 'TOX2', 'PRF1', 'GZMB', \n",
    "    'GNLY', 'KLRB1', 'CSCL13', 'LAG3', \n",
    "    'HAVCR2', 'PDCD1', 'TIGIT', 'CTLA4', 'RORA'\n",
    "    \n",
    "    \n",
    "    'CD4'\t: ['CD4', 'IL7R'],\n",
    "    'CD8'\t: [ 'CD8A', 'CD8B'],\n",
    "    'Naïve'\t: ['TCF7', 'SELL', 'LEF1', 'CCR7'],\n",
    "    'Exhausted' : ['LAG3', 'TIGIT', 'PDCD1', 'HAVCR2', 'CTLA4'],\n",
    "    'Cytotoxic' : ['IL2', 'GZMA', 'GNLY', 'PRF1', 'GZMB', 'GZMK', 'IFNG', 'NKG7'],\n",
    "    'Treg' : ['IL2RA', 'FOXP3', 'IKZF2', 'IKZF4',  'TNFRSF18'],\n",
    "    'Th17' : ['IL17A',  'CCR6', 'KLRB1'],  #'IL22',\n",
    "    'MAIT' : ['SLC4A10', 'KLRB1', 'IL7R', 'DPP4'],  \n",
    "    'ILC' :\t['KIT', 'IL1R1'],\n",
    "    'Th1' :\t['STAT4', 'IL12RB2', 'IFNG'],\n",
    "    'Th2' :\t['GATA3', 'STAT6', 'IL4'],\n",
    "    'Tfh'\t: ['MAF', 'CXCL13', 'CXCR5', 'PDCD1'],\n",
    "    'NK' :  ['XCL1', 'FCGR3A', 'KLRD1', 'KLRF1', 'NCAM1'],\n",
    "    'Proliferation' : []\n",
    "}"
   ]
  },
  {
   "cell_type": "code",
   "execution_count": null,
   "metadata": {},
   "outputs": [],
   "source": [
    "# check if the markers are in the var names\n",
    "for cell_type, markers in t_cell_markers.items():\n",
    "    print (cell_type, \":\", markers)\n",
    "    print (\"number of match in var: \", str(sum(adata.raw.var_names.isin(markers))))"
   ]
  },
  {
   "cell_type": "code",
   "execution_count": null,
   "metadata": {},
   "outputs": [],
   "source": [
    "sc.tl.dendrogram(adata, groupby='leiden')\n",
    "sc.pl.dotplot(adata, t_cell_markers, 'leiden', dendrogram=True)"
   ]
  },
  {
   "cell_type": "code",
   "execution_count": null,
   "metadata": {},
   "outputs": [],
   "source": [
    "for cell_type, markers in t_cell_markers.items():\n",
    "    print(cell_type, \":\", \"markers\")\n",
    "    sc.pl.umap(adata, color=markers)"
   ]
  }
 ],
 "metadata": {
  "kernelspec": {
   "display_name": "base",
   "language": "python",
   "name": "python3"
  },
  "language_info": {
   "codemirror_mode": {
    "name": "ipython",
    "version": 3
   },
   "file_extension": ".py",
   "mimetype": "text/x-python",
   "name": "python",
   "nbconvert_exporter": "python",
   "pygments_lexer": "ipython3",
   "version": "3.10.9"
  },
  "orig_nbformat": 4
 },
 "nbformat": 4,
 "nbformat_minor": 2
}
