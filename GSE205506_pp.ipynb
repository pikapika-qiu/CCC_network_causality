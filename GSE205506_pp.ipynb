{
 "cells": [
  {
   "attachments": {},
   "cell_type": "markdown",
   "metadata": {},
   "source": [
    "# Processing GSE205506: A data collection of CRC patietns treated with anti-PD-1 "
   ]
  },
  {
   "cell_type": "code",
   "execution_count": 1,
   "metadata": {},
   "outputs": [],
   "source": [
    "import numpy as np\n",
    "import matplotlib.pyplot as plt\n",
    "import pandas as pd\n",
    "import scanpy as sc\n",
    "import anndata as ad\n",
    "import load_10X_matrices"
   ]
  },
  {
   "cell_type": "code",
   "execution_count": 4,
   "metadata": {},
   "outputs": [],
   "source": [
    "data_dir = \"/home/data/PanCanSC/CRC/GEO/GSE205506/\""
   ]
  },
  {
   "cell_type": "code",
   "execution_count": 2,
   "metadata": {},
   "outputs": [],
   "source": [
    "\n",
    "import os as os\n",
    "import sys as sys\n",
    "import argparse\n",
    "import numpy as np\n",
    "import pandas as pd\n",
    "import scanpy as sc\n",
    "import anndata as ad\n",
    "\n",
    "\n",
    "def load_10X_matrices(matrix_dir):\n",
    "    '''\n",
    "    load_10X_matrices(matrix_dir)\n",
    "    \n",
    "    This function will load a fold of 10X matrix files into a single sparse matrix.\n",
    "\n",
    "    Parameters:\n",
    "        matrix_dir (str): The directory containing the 10X matrix files.\n",
    "    \n",
    "    Returns:\n",
    "        A single AnnData object containing the concatenated matrices.\n",
    "\n",
    "    '''\n",
    "\n",
    "    #check if matrix_dir is a directory\n",
    "    if not os.path.isdir(matrix_dir):\n",
    "        print (\"Input \" + matrix_dir + \" is not a directory\")\n",
    "        return None\n",
    "    \n",
    "    # Open the matrix directory and get the list of files\n",
    "    matrix_files = os.listdir(matrix_dir)\n",
    "\n",
    "    # Loop through the files and concatenate the matrices\n",
    "    mtx_files = [x for x in matrix_files if '.mtx' in x]\n",
    "    if len(mtx_files) == 0:\n",
    "        print (\"Input directory \" + matrix_dir + \" has no mtx files.\\n\")\n",
    "        return None\n",
    "        \n",
    "    # find out whether files has prefix, use set to remove duplicates\n",
    "    prefixes = set([x.split('matrix.mtx')[0] for x in mtx_files if 'matrix.mtx' in x]) \n",
    "\n",
    "    if len(prefixes) > 0:\n",
    "        # create a list to hold adatas\n",
    "        adata_list = []   \n",
    "\n",
    "        # interate through prefixes and index mtx_files        \n",
    "        for index, prefix in enumerate(prefixes): \n",
    "            print(\"Loading \" + prefix)\n",
    "            tmp = sc.read_10x_mtx(matrix_dir, prefix = prefix)\n",
    "            tmp.obs['sample_ID'] = prefix \n",
    "            adata_list.append(tmp)\n",
    "\n",
    "        # concatenate adata_list\n",
    "        overall_adata = ad.concat(adata_list, join='outer')\n",
    "        return overall_adata"
   ]
  },
  {
   "cell_type": "code",
   "execution_count": 7,
   "metadata": {},
   "outputs": [
    {
     "name": "stdout",
     "output_type": "stream",
     "text": [
      "Loading GSM6213974_Colon_MGI_251_v3_\n",
      "Loading GSM6213959_Colon_MGI_122_v3_\n",
      "Loading GSM6213963_Colon_171_v3_\n",
      "Loading GSM6213966_Colon_182_v2_\n",
      "Loading GSM6213986_Colon_MGI_301_v3_\n",
      "Loading GSM6213958_Colon_MGI_121_v3_\n",
      "Loading GSM6213964_Colon_172_v3_\n",
      "Loading GSM6213995_Colon_MGI_333_v3_\n",
      "Loading GSM6213978_Colon_MGI_271_v3_\n",
      "Loading GSM6213992_Colon_MGI_321_v3_\n",
      "Loading GSM6213968_Colon_MGI_192_v3_\n",
      "Loading GSM6213969_Colon_MGI_211_v3_\n",
      "Loading GSM6213973_Colon_MGI_243_v3_\n",
      "Loading GSM6213962_Colon_MGI_152_v3_\n",
      "Loading GSM6213960_Colon_MGI_141_v2_\n",
      "Loading GSM6213965_Colon_181_v2_\n",
      "Loading GSM6213983_Colon_MGI_283_v3_\n",
      "Loading GSM6213957_Colon_MGI_112_v3_\n",
      "Loading GSM6213976_Colon_MGI_253_v3_\n",
      "Loading GSM6213971_Colon_MGI_233_v3_\n",
      "Loading GSM6213982_Colon_MGI_282_v3_\n",
      "Loading GSM6213961_Colon_MGI_151_v3_\n",
      "Loading GSM6213990_Colon_MGI_312_v3_\n",
      "Loading GSM6213994_Colon_MGI_323_v3_\n",
      "Loading GSM6213981_Colon_MGI_281_v3_\n",
      "Loading GSM6213975_Colon_MGI_252_v3_\n",
      "Loading GSM6213987_Colon_MGI_302_v3_\n",
      "Loading GSM6213993_Colon_MGI_322_v3_\n",
      "Loading GSM6213980_Colon_MGI_273_v3_\n",
      "Loading GSM6213977_Colon_MGI_261_v3_\n",
      "Loading GSM6213988_Colon_MGI_303_v3_\n",
      "Loading GSM6213967_Colon_MGI_191_v3_\n",
      "Loading GSM6213956_Colon_MGI_111_v2_\n",
      "Loading GSM6213989_Colon_MGI_311_v3_\n",
      "Loading GSM6213985_Colon_MGI_292_v3_\n",
      "Loading GSM6213970_Colon_MGI_213_v3_\n",
      "Loading GSM6213972_Colon_MGI_241_v3_\n",
      "Loading GSM6213984_Colon_MGI_291_v3_\n",
      "Loading GSM6213979_Colon_MGI_272_v3_\n",
      "Loading GSM6213991_Colon_MGI_313_v3_\n"
     ]
    },
    {
     "name": "stderr",
     "output_type": "stream",
     "text": [
      "/home/xinghua/anaconda3/lib/python3.9/site-packages/anndata/_core/anndata.py:1828: UserWarning: Observation names are not unique. To make them unique, call `.obs_names_make_unique`.\n",
      "  utils.warn_names_duplicates(\"obs\")\n"
     ]
    }
   ],
   "source": [
    "GSE205506_adata = load_10X_matrices(data_dir)"
   ]
  },
  {
   "cell_type": "code",
   "execution_count": 13,
   "metadata": {},
   "outputs": [
    {
     "data": {
      "text/html": [
       "<div>\n",
       "<style scoped>\n",
       "    .dataframe tbody tr th:only-of-type {\n",
       "        vertical-align: middle;\n",
       "    }\n",
       "\n",
       "    .dataframe tbody tr th {\n",
       "        vertical-align: top;\n",
       "    }\n",
       "\n",
       "    .dataframe thead th {\n",
       "        text-align: right;\n",
       "    }\n",
       "</style>\n",
       "<table border=\"1\" class=\"dataframe\">\n",
       "  <thead>\n",
       "    <tr style=\"text-align: right;\">\n",
       "      <th></th>\n",
       "      <th>sample_ID</th>\n",
       "    </tr>\n",
       "  </thead>\n",
       "  <tbody>\n",
       "    <tr>\n",
       "      <th>AAACCCAAGAATTGTG-1</th>\n",
       "      <td>GSM6213974_Colon_MGI_251_v3_</td>\n",
       "    </tr>\n",
       "    <tr>\n",
       "      <th>AAACCCAAGGTTGGTG-1</th>\n",
       "      <td>GSM6213974_Colon_MGI_251_v3_</td>\n",
       "    </tr>\n",
       "    <tr>\n",
       "      <th>AAACCCACAATTTCTC-1</th>\n",
       "      <td>GSM6213974_Colon_MGI_251_v3_</td>\n",
       "    </tr>\n",
       "    <tr>\n",
       "      <th>AAACCCAGTCGTGATT-1</th>\n",
       "      <td>GSM6213974_Colon_MGI_251_v3_</td>\n",
       "    </tr>\n",
       "    <tr>\n",
       "      <th>AAACCCAGTGACCGAA-1</th>\n",
       "      <td>GSM6213974_Colon_MGI_251_v3_</td>\n",
       "    </tr>\n",
       "    <tr>\n",
       "      <th>...</th>\n",
       "      <td>...</td>\n",
       "    </tr>\n",
       "    <tr>\n",
       "      <th>TTTGGTTTCTGCAGCG-1</th>\n",
       "      <td>GSM6213991_Colon_MGI_313_v3_</td>\n",
       "    </tr>\n",
       "    <tr>\n",
       "      <th>TTTGTTGAGGTGCTTT-1</th>\n",
       "      <td>GSM6213991_Colon_MGI_313_v3_</td>\n",
       "    </tr>\n",
       "    <tr>\n",
       "      <th>TTTGTTGAGTAATACG-1</th>\n",
       "      <td>GSM6213991_Colon_MGI_313_v3_</td>\n",
       "    </tr>\n",
       "    <tr>\n",
       "      <th>TTTGTTGTCGACCACG-1</th>\n",
       "      <td>GSM6213991_Colon_MGI_313_v3_</td>\n",
       "    </tr>\n",
       "    <tr>\n",
       "      <th>TTTGTTGTCGGTGTAT-1</th>\n",
       "      <td>GSM6213991_Colon_MGI_313_v3_</td>\n",
       "    </tr>\n",
       "  </tbody>\n",
       "</table>\n",
       "<p>324020 rows × 1 columns</p>\n",
       "</div>"
      ],
      "text/plain": [
       "                                       sample_ID\n",
       "AAACCCAAGAATTGTG-1  GSM6213974_Colon_MGI_251_v3_\n",
       "AAACCCAAGGTTGGTG-1  GSM6213974_Colon_MGI_251_v3_\n",
       "AAACCCACAATTTCTC-1  GSM6213974_Colon_MGI_251_v3_\n",
       "AAACCCAGTCGTGATT-1  GSM6213974_Colon_MGI_251_v3_\n",
       "AAACCCAGTGACCGAA-1  GSM6213974_Colon_MGI_251_v3_\n",
       "...                                          ...\n",
       "TTTGGTTTCTGCAGCG-1  GSM6213991_Colon_MGI_313_v3_\n",
       "TTTGTTGAGGTGCTTT-1  GSM6213991_Colon_MGI_313_v3_\n",
       "TTTGTTGAGTAATACG-1  GSM6213991_Colon_MGI_313_v3_\n",
       "TTTGTTGTCGACCACG-1  GSM6213991_Colon_MGI_313_v3_\n",
       "TTTGTTGTCGGTGTAT-1  GSM6213991_Colon_MGI_313_v3_\n",
       "\n",
       "[324020 rows x 1 columns]"
      ]
     },
     "execution_count": 13,
     "metadata": {},
     "output_type": "execute_result"
    }
   ],
   "source": [
    "GSE205506_adata.obs\n"
   ]
  },
  {
   "attachments": {},
   "cell_type": "markdown",
   "metadata": {},
   "source": [
    "### Parse the sample_ID to extract patient id and samples source \n",
    "Sample source:\n",
    "    1 : Pre tumor?\n",
    "    2 : post tumor?\n",
    "    3 : post adj normal"
   ]
  },
  {
   "cell_type": "code",
   "execution_count": 14,
   "metadata": {},
   "outputs": [],
   "source": [
    "sample_id = GSE205506_adata.obs['sample_ID']\n",
    "sample_id_short = [x.split('_')[3] for x in sample_id]"
   ]
  },
  {
   "cell_type": "code",
   "execution_count": 19,
   "metadata": {},
   "outputs": [
    {
     "data": {
      "text/html": [
       "<div>\n",
       "<style scoped>\n",
       "    .dataframe tbody tr th:only-of-type {\n",
       "        vertical-align: middle;\n",
       "    }\n",
       "\n",
       "    .dataframe tbody tr th {\n",
       "        vertical-align: top;\n",
       "    }\n",
       "\n",
       "    .dataframe thead th {\n",
       "        text-align: right;\n",
       "    }\n",
       "</style>\n",
       "<table border=\"1\" class=\"dataframe\">\n",
       "  <thead>\n",
       "    <tr style=\"text-align: right;\">\n",
       "      <th></th>\n",
       "      <th>sample_ID</th>\n",
       "      <th>Sample_source</th>\n",
       "      <th>Patient_id</th>\n",
       "    </tr>\n",
       "  </thead>\n",
       "  <tbody>\n",
       "    <tr>\n",
       "      <th>AAACCCAAGAATTGTG-1</th>\n",
       "      <td>GSM6213974_Colon_MGI_251_v3_</td>\n",
       "      <td>1</td>\n",
       "      <td>25</td>\n",
       "    </tr>\n",
       "    <tr>\n",
       "      <th>AAACCCAAGGTTGGTG-1</th>\n",
       "      <td>GSM6213974_Colon_MGI_251_v3_</td>\n",
       "      <td>1</td>\n",
       "      <td>25</td>\n",
       "    </tr>\n",
       "    <tr>\n",
       "      <th>AAACCCACAATTTCTC-1</th>\n",
       "      <td>GSM6213974_Colon_MGI_251_v3_</td>\n",
       "      <td>1</td>\n",
       "      <td>25</td>\n",
       "    </tr>\n",
       "    <tr>\n",
       "      <th>AAACCCAGTCGTGATT-1</th>\n",
       "      <td>GSM6213974_Colon_MGI_251_v3_</td>\n",
       "      <td>1</td>\n",
       "      <td>25</td>\n",
       "    </tr>\n",
       "    <tr>\n",
       "      <th>AAACCCAGTGACCGAA-1</th>\n",
       "      <td>GSM6213974_Colon_MGI_251_v3_</td>\n",
       "      <td>1</td>\n",
       "      <td>25</td>\n",
       "    </tr>\n",
       "    <tr>\n",
       "      <th>...</th>\n",
       "      <td>...</td>\n",
       "      <td>...</td>\n",
       "      <td>...</td>\n",
       "    </tr>\n",
       "    <tr>\n",
       "      <th>TTTGGTTTCTGCAGCG-1</th>\n",
       "      <td>GSM6213991_Colon_MGI_313_v3_</td>\n",
       "      <td>3</td>\n",
       "      <td>31</td>\n",
       "    </tr>\n",
       "    <tr>\n",
       "      <th>TTTGTTGAGGTGCTTT-1</th>\n",
       "      <td>GSM6213991_Colon_MGI_313_v3_</td>\n",
       "      <td>3</td>\n",
       "      <td>31</td>\n",
       "    </tr>\n",
       "    <tr>\n",
       "      <th>TTTGTTGAGTAATACG-1</th>\n",
       "      <td>GSM6213991_Colon_MGI_313_v3_</td>\n",
       "      <td>3</td>\n",
       "      <td>31</td>\n",
       "    </tr>\n",
       "    <tr>\n",
       "      <th>TTTGTTGTCGACCACG-1</th>\n",
       "      <td>GSM6213991_Colon_MGI_313_v3_</td>\n",
       "      <td>3</td>\n",
       "      <td>31</td>\n",
       "    </tr>\n",
       "    <tr>\n",
       "      <th>TTTGTTGTCGGTGTAT-1</th>\n",
       "      <td>GSM6213991_Colon_MGI_313_v3_</td>\n",
       "      <td>3</td>\n",
       "      <td>31</td>\n",
       "    </tr>\n",
       "  </tbody>\n",
       "</table>\n",
       "<p>324020 rows × 3 columns</p>\n",
       "</div>"
      ],
      "text/plain": [
       "                                       sample_ID Sample_source Patient_id\n",
       "AAACCCAAGAATTGTG-1  GSM6213974_Colon_MGI_251_v3_             1         25\n",
       "AAACCCAAGGTTGGTG-1  GSM6213974_Colon_MGI_251_v3_             1         25\n",
       "AAACCCACAATTTCTC-1  GSM6213974_Colon_MGI_251_v3_             1         25\n",
       "AAACCCAGTCGTGATT-1  GSM6213974_Colon_MGI_251_v3_             1         25\n",
       "AAACCCAGTGACCGAA-1  GSM6213974_Colon_MGI_251_v3_             1         25\n",
       "...                                          ...           ...        ...\n",
       "TTTGGTTTCTGCAGCG-1  GSM6213991_Colon_MGI_313_v3_             3         31\n",
       "TTTGTTGAGGTGCTTT-1  GSM6213991_Colon_MGI_313_v3_             3         31\n",
       "TTTGTTGAGTAATACG-1  GSM6213991_Colon_MGI_313_v3_             3         31\n",
       "TTTGTTGTCGACCACG-1  GSM6213991_Colon_MGI_313_v3_             3         31\n",
       "TTTGTTGTCGGTGTAT-1  GSM6213991_Colon_MGI_313_v3_             3         31\n",
       "\n",
       "[324020 rows x 3 columns]"
      ]
     },
     "execution_count": 19,
     "metadata": {},
     "output_type": "execute_result"
    }
   ],
   "source": [
    "GSE205506_adata.obs['Sample_source'] = [x[-1] for x in sample_id_short]\n",
    "GSE205506_adata.obs['Patient_id'] = [x[:-1] for x in sample_id_short]\n",
    "GSE205506_adata.obs\n",
    "\n"
   ]
  },
  {
   "cell_type": "code",
   "execution_count": 20,
   "metadata": {},
   "outputs": [],
   "source": [
    "# save GSE205506_adata to h5ad\n",
    "GSE205506_adata.write_h5ad(data_dir + \"GSE205506.h5ad\")"
   ]
  },
  {
   "attachments": {},
   "cell_type": "markdown",
   "metadata": {},
   "source": [
    "### Chunhui describe what steps should be followed below\n",
    "1. "
   ]
  },
  {
   "cell_type": "code",
   "execution_count": 6,
   "metadata": {},
   "outputs": [
    {
     "name": "stderr",
     "output_type": "stream",
     "text": [
      "/home/xinghua/anaconda3/lib/python3.9/site-packages/anndata/_core/anndata.py:1828: UserWarning: Observation names are not unique. To make them unique, call `.obs_names_make_unique`.\n",
      "  utils.warn_names_duplicates(\"obs\")\n"
     ]
    },
    {
     "data": {
      "text/plain": [
       "AnnData object with n_obs × n_vars = 324020 × 33538\n",
       "    obs: 'sample_ID', 'Sample_source', 'Patient_id'"
      ]
     },
     "execution_count": 6,
     "metadata": {},
     "output_type": "execute_result"
    }
   ],
   "source": [
    "GSE205506_adata = sc.read_h5ad(data_dir + \"GSE205506.h5ad\") \n",
    "GSE205506_adata"
   ]
  }
 ],
 "metadata": {
  "kernelspec": {
   "display_name": "base",
   "language": "python",
   "name": "python3"
  },
  "language_info": {
   "codemirror_mode": {
    "name": "ipython",
    "version": 3
   },
   "file_extension": ".py",
   "mimetype": "text/x-python",
   "name": "python",
   "nbconvert_exporter": "python",
   "pygments_lexer": "ipython3",
   "version": "3.9.16"
  },
  "orig_nbformat": 4
 },
 "nbformat": 4,
 "nbformat_minor": 2
}
