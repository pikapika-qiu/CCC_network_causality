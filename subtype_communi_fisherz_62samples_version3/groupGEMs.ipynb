{
 "cells": [
  {
   "cell_type": "code",
   "execution_count": null,
   "metadata": {},
   "outputs": [],
   "source": [
    "import numpy as np\n",
    "import matplotlib.pyplot as plt\n",
    "import pandas as pd\n",
    "import scanpy as sc\n",
    "import scipy.io as sio\n",
    "import anndata as ad\n",
    "import seaborn as sns\n",
    "import os as os\n",
    "import sys as sys\n",
    "sys.path.append('/home/qiuaodon/Desktop/PanCancer_scRNA_analysis/utils/')\n",
    "from scRNA_utils import *\n",
    "import operator as op\n",
    "import matplotlib.colors as mcolors"
   ]
  },
  {
   "cell_type": "code",
   "execution_count": null,
   "metadata": {},
   "outputs": [],
   "source": [
    "results = pd.read_excel('/home/qiuaodon/Desktop/project_data_new/CIT_results_CD4EXvsDC_updated.xlsx')\n",
    "# results = results.drop(columns=['Unnamed: 0'])\n",
    "# # Remove the suffix '_X' from g1 and g2\n",
    "results['g1'] = results['g1'].str.replace(r'_\\w+', '', regex=True)\n",
    "results['g2'] = results['g2'].str.replace(r'_\\w+', '', regex=True)\n",
    "results"
   ]
  },
  {
   "cell_type": "code",
   "execution_count": null,
   "metadata": {},
   "outputs": [],
   "source": [
    "results['R'].unique()"
   ]
  },
  {
   "cell_type": "code",
   "execution_count": null,
   "metadata": {},
   "outputs": [],
   "source": [
    "import pandas as pd\n",
    "grouped_results = results.groupby([\"L\", \"R\"])\n",
    "\n",
    "# Display grouped data\n",
    "grouped_dict = { (ligand, receptor): group for (ligand, receptor), group in grouped_results }\n",
    "\n",
    "# Create a new DataFrame to hold the GEM1 and GEM2 groupings\n",
    "grouped_data = []\n",
    "tracked_gem1 = set()\n",
    "tracked_gem2 = set()\n",
    "\n",
    "min_gene_num = 1\n",
    "\n",
    "# Temporary list to hold data before creating DataFrame\n",
    "temp_data = []\n",
    "\n",
    "for (ligand, receptor), group in grouped_results:\n",
    "    gem1 = group[\"g1\"].drop_duplicates().tolist()\n",
    "    gem2 = group[\"g2\"].drop_duplicates().tolist()\n",
    "    \n",
    "    # Check the overlap between current GEM_g1 and previously tracked GEM_g1\n",
    "    overlap_gem1 = len(set(gem1) & tracked_gem1)\n",
    "    overlap_gem2 = len(set(gem2) & tracked_gem2)\n",
    "    \n",
    "    # Filter to include only those with at least three genes in GEM_g1 and GEM_g2\n",
    "    # and where the overlap is below the maximum allowable threshold\n",
    "    if len(gem1) > min_gene_num :\n",
    "        temp_data.append({\n",
    "            \"Ligand\": ligand,\n",
    "            \"Receptor\": receptor,\n",
    "            \"GEM_g1\": gem1,\n",
    "            \"GEM_g2\": gem2,\n",
    "            \"Num_genes_g1\": len(gem1),\n",
    "            \"Num_genes_g2\": len(gem2)\n",
    "        })\n",
    "        # Update the tracked GEM_g1 and GEM_g2 sets\n",
    "        tracked_gem1.update(gem1)\n",
    "        tracked_gem2.update(gem2)\n",
    "\n",
    "# Convert the temporary data to a DataFrame\n",
    "grouped_df = pd.DataFrame(temp_data)\n",
    "\n",
    "# Function to find overlapping rows\n",
    "def find_overlapping_rows(df, column_name):\n",
    "    overlap_info = []\n",
    "    for index, row in df.iterrows():\n",
    "        current_set = set(row[column_name])\n",
    "        overlapping_rows = []\n",
    "        for other_index, other_row in df.iterrows():\n",
    "            if index != other_index:\n",
    "                other_set = set(other_row[column_name])\n",
    "                overlap = len(current_set & other_set)\n",
    "                if overlap > len(current_set) / 3: # Set the threshold for overlap\n",
    "                    overlapping_rows.append(other_index)\n",
    "        overlap_info.append(overlapping_rows)\n",
    "    return overlap_info\n",
    "\n",
    "# Add columns for overlapping rows in GEM_g1 and GEM_g2\n",
    "grouped_df[\"Overlapping_g1\"] = find_overlapping_rows(grouped_df, \"GEM_g1\")\n",
    "grouped_df[\"Overlapping_g2\"] = find_overlapping_rows(grouped_df, \"GEM_g2\")\n",
    "\n",
    "grouped_df\n"
   ]
  },
  {
   "cell_type": "code",
   "execution_count": null,
   "metadata": {},
   "outputs": [],
   "source": [
    "# export the grouped_df to xlsx\n",
    "grouped_df.to_excel('/home/qiuaodon/Desktop/project_data_new/grouped_GEM_CD4EXvsDC_fisherz.xlsx')"
   ]
  }
 ],
 "metadata": {
  "kernelspec": {
   "display_name": "base",
   "language": "python",
   "name": "python3"
  },
  "language_info": {
   "codemirror_mode": {
    "name": "ipython",
    "version": 3
   },
   "file_extension": ".py",
   "mimetype": "text/x-python",
   "name": "python",
   "nbconvert_exporter": "python",
   "pygments_lexer": "ipython3",
   "version": "3.11.5"
  }
 },
 "nbformat": 4,
 "nbformat_minor": 2
}
