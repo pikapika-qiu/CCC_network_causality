{
 "cells": [
  {
   "cell_type": "code",
   "execution_count": 1,
   "metadata": {},
   "outputs": [],
   "source": [
    "import numpy as np\n",
    "import matplotlib.pyplot as plt\n",
    "import pandas as pd\n",
    "import scanpy as sc\n",
    "import scipy.io as sio\n",
    "import anndata as ad\n",
    "import seaborn as sns\n",
    "import os as os\n",
    "import sys as sys\n",
    "sys.path.append('/home/qiuaodon/Desktop/PanCancer_scRNA_analysis/utils/')\n",
    "from scRNA_utils import *\n",
    "import operator as op\n",
    "import matplotlib.colors as mcolors"
   ]
  },
  {
   "cell_type": "markdown",
   "metadata": {},
   "source": [
    "# load in sc data"
   ]
  },
  {
   "cell_type": "code",
   "execution_count": 2,
   "metadata": {},
   "outputs": [],
   "source": [
    "data_dir_NHDP = \"/home/qiuaodon/Desktop/project_data_new/\"\n",
    "adata_T = sc.read(data_dir_NHDP + '1863-counts_cells_cohort1_T_cells.h5ad')\n",
    "adata_1 = adata_T[adata_T[:,'PDCD1'].X > 0, :]\n",
    "adata_M = sc.read(data_dir_NHDP + '1863-counts_cells_cohort1_M_cells.h5ad')\n",
    "adata_2 = adata_M"
   ]
  },
  {
   "cell_type": "code",
   "execution_count": 3,
   "metadata": {},
   "outputs": [],
   "source": [
    "colors = [\"grey\", \"blue\"]  # Start with grey and end with blue\n",
    "cmap = mcolors.LinearSegmentedColormap.from_list(\"grey_to_blue\", colors)\n"
   ]
  },
  {
   "cell_type": "code",
   "execution_count": null,
   "metadata": {},
   "outputs": [],
   "source": [
    "adata_1_pseudo = scRNA2PseudoBulkAnnData(adata_1, sample_id_col='sample_id')\n",
    "adata_2_pseudo = scRNA2PseudoBulkAnnData(adata_2, sample_id_col='sample_id')"
   ]
  },
  {
   "cell_type": "markdown",
   "metadata": {},
   "source": [
    "# prepare data matrix for IVtest"
   ]
  },
  {
   "cell_type": "code",
   "execution_count": null,
   "metadata": {},
   "outputs": [],
   "source": [
    "DEG_1 = paird_ttest(adata_1, condition_key = 'timepoint', sample_id_col = 'sample_id', patient_id_col = 'patient_id')\n",
    "DEG_2 = paird_ttest(adata_2, condition_key = 'timepoint', sample_id_col = 'sample_id', patient_id_col = 'patient_id')"
   ]
  },
  {
   "cell_type": "code",
   "execution_count": 7,
   "metadata": {},
   "outputs": [],
   "source": [
    "DEG_1 = DEG_1[DEG_1['pval'] < 0.05]\n",
    "DEG_2 = DEG_2[DEG_2['pval'] < 0.05]\n",
    "gene_1 = DEG_1.index.tolist()\n",
    "gene_2 = DEG_2.index.tolist()\n",
    "\n",
    "# Filter out invalid gene names\n",
    "gene_1 = [gene for gene in gene_1 if gene in adata_1_pseudo.var_names]\n",
    "gene_2 = [gene for gene in gene_2 if gene in adata_2_pseudo.var_names]\n",
    "\n",
    "gene_1_matrix = adata_1_pseudo[:, gene_1].X\n",
    "gene_2_matrix = adata_2_pseudo[:, gene_2].X\n",
    "gene_1_df = pd.DataFrame(gene_1_matrix, columns=gene_1, index=adata_1_pseudo.obs['sample_id'])\n",
    "gene_2_df = pd.DataFrame(gene_2_matrix, columns=gene_2, index=adata_2_pseudo.obs['sample_id'])\n",
    "gene_1_df.columns = [i + '_T' for i in gene_1_df.columns]\n",
    "gene_2_df.columns = [i + '_M' for i in gene_2_df.columns]\n",
    "gene_df = gene_1_df\n",
    "gene_df = pd.merge(gene_df, gene_2_df, on='sample_id')"
   ]
  },
  {
   "cell_type": "code",
   "execution_count": null,
   "metadata": {},
   "outputs": [],
   "source": [
    "gene_df['treatment'] = gene_df.index.str.contains('On').astype(int)\n",
    "# get patient id from sample id remove the _On or _Pre\n",
    "gene_df['patient_id'] = gene_df.index.str.replace('_On', '').str.replace('_Pre', '')\n",
    "gene_df['treatment'].value_counts()"
   ]
  },
  {
   "cell_type": "code",
   "execution_count": 38,
   "metadata": {},
   "outputs": [],
   "source": [
    "# export the gene_df to csv\n",
    "# gene_df.to_csv(data_dir_NHDP + 'gene_df_PD1_Myeloid.csv')\n",
    "gene_df_GEM.to_csv(data_dir_NHDP + 'gene_df_PD1_Myeloid_GEM.csv')"
   ]
  },
  {
   "cell_type": "markdown",
   "metadata": {},
   "source": [
    "# load in IV result and perform CIT"
   ]
  },
  {
   "cell_type": "code",
   "execution_count": 9,
   "metadata": {},
   "outputs": [],
   "source": [
    "DEG_pairs = pd.read_excel('/home/qiuaodon/Desktop/project_data_new/IV_regression_results_PD1vsM.xlsx')\n",
    "# DEG_pairs = pd.read_excel('/home/qiuaodon/Desktop/project_data_new/IV_regression_results_CD4EXvsEndo_filtered.xlsx')\n",
    "# drop the p_value column and r_squared column\n",
    "DEG_pairs = DEG_pairs.drop(columns=['p_value', 'r_squared'])\n",
    "# set the first two columns as g1 and g2 in DEG_pairs\n",
    "DEG_pairs = DEG_pairs.rename(columns = {'gene_T':'g1', 'gene_cell':'g2'})"
   ]
  },
  {
   "cell_type": "code",
   "execution_count": null,
   "metadata": {},
   "outputs": [],
   "source": [
    "\n",
    "calculate_gene_correlation(DEG_pairs, adata_1_pseudo, adata_2_pseudo)"
   ]
  },
  {
   "cell_type": "code",
   "execution_count": null,
   "metadata": {},
   "outputs": [],
   "source": [
    "# Combine the two conditions using the logical OR operator\n",
    "DEG_pairs = DEG_pairs[(DEG_pairs['g1vsg2_correlation'] > 0.3) | (DEG_pairs['g1vsg2_correlation'] < -0.3)]\n",
    "DEG_pairs = DEG_pairs[(DEG_pairs['g1vsg2_correlation'] > 0.3)]\n",
    "# sort the DEG_pairs by g1vsg2_correlation\n",
    "DEG_pairs = DEG_pairs.sort_values(by='g1vsg2_correlation', ascending=False)\n",
    "DEG_pairs"
   ]
  },
  {
   "cell_type": "code",
   "execution_count": null,
   "metadata": {},
   "outputs": [],
   "source": [
    "g1 = list(DEG_pairs['g1']) \n",
    "g2 = list(DEG_pairs['g2']) \n",
    "g1_in_CD4EX = [i for i in gene_df.columns if np.sum(gene_df.loc[:, i] == 0) < 15] \n",
    "g2_in_Endo = [i for i in gene_df.columns if np.sum(gene_df.loc[:, i] == 0) < 15] \n",
    "DEG_pairs = DEG_pairs[DEG_pairs['g1'].isin(g1_in_CD4EX) & DEG_pairs['g2'].isin(g2_in_Endo)] \n",
    "DEG_pairs "
   ]
  },
  {
   "cell_type": "code",
   "execution_count": null,
   "metadata": {},
   "outputs": [],
   "source": [
    "lrpair = pd.read_csv('/home/qiuaodon/Desktop/project_data_new/lr_network_unique.tsv', sep='\\t')\n",
    "# get the lr pairs including ligand(from) and receptor(to) from the lrpair file with database as 'kegg'\n",
    "lrpair = lrpair[['from', 'to']]\n",
    "# change from as L and to as R\n",
    "lrpair.columns = ['L', 'R']\n",
    "lrpair"
   ]
  },
  {
   "cell_type": "code",
   "execution_count": null,
   "metadata": {},
   "outputs": [],
   "source": [
    "# check if the L and R in adata_CD4EX and adata_Mono separately and expression not all zero\n",
    "L = list(lrpair['L'])\n",
    "R = list(lrpair['R'])\n",
    "L_in_1 = list(set(L).intersection(adata_1.var_names))\n",
    "R_in_2 = list(set(R).intersection(adata_2.var_names))\n",
    "L_in_1 = [x for x in L_in_1 if np.sum(adata_1_pseudo[:, x].X == 0) < 0.75 * adata_1_pseudo.shape[0]]\n",
    "R_in_2 = [x for x in R_in_2 if np.sum(adata_2_pseudo[:, x].X == 0) < 0.75 * adata_2_pseudo.shape[0]]\n",
    "print('L_in_CD4EX:', len(L_in_1))\n",
    "print('R_in_2:', len(R_in_2))"
   ]
  },
  {
   "cell_type": "code",
   "execution_count": null,
   "metadata": {},
   "outputs": [],
   "source": [
    "# remove the LR pairs not in L_in_CD4EX and R_in_DC\n",
    "lrpair = lrpair[lrpair['L'].isin(L_in_1)]\n",
    "lrpair = lrpair[lrpair['R'].isin(R_in_2)]\n",
    "print('lrpair_kegg:', lrpair.shape)"
   ]
  },
  {
   "cell_type": "code",
   "execution_count": 17,
   "metadata": {},
   "outputs": [],
   "source": [
    "# check if CXCL13-ACKR1 in the LR_pairs\n",
    "lrpair[(lrpair['L'] == 'CXCL13') & (lrpair['R'] == 'ACKR1')]\n",
    "new_pair = pd.DataFrame({'L': ['CXCL13'], 'R': ['ACKR1']})\n",
    "lrpair = pd.concat([lrpair, new_pair], ignore_index=True)"
   ]
  },
  {
   "cell_type": "markdown",
   "metadata": {},
   "source": [
    "# validate the IV"
   ]
  },
  {
   "cell_type": "code",
   "execution_count": 38,
   "metadata": {},
   "outputs": [],
   "source": [
    "import numpy as np\n",
    "import statsmodels.api as sm\n",
    "\n",
    "# generate X for treatment data\n",
    "X = adata_1_pseudo.obs['timepoint']\n",
    "# change the pre to 0 and on to 1\n",
    "X = X.replace('pre', 0)\n",
    "X = X.replace('on', 1)\n",
    "X = sm.add_constant(X)\n",
    "\n",
    "# loop through DEG_pairs\n",
    "for index, row in DEG_pairs.iterrows():\n",
    "    Y = row[0]\n",
    "    Z = row[1]\n",
    "    # get the gene expression data for Y and Z from gene_df\n",
    "    Y = gene_df[Y].to_frame()\n",
    "    Z = gene_df[Z].to_frame()\n"
   ]
  },
  {
   "cell_type": "code",
   "execution_count": null,
   "metadata": {},
   "outputs": [],
   "source": [
    "import numpy as np\n",
    "import statsmodels.api as sm\n",
    "\n",
    "# generate X for treatment data\n",
    "X = adata_1_pseudo.obs['timepoint']\n",
    "# change the 'pre' to 0 and 'on' to 1\n",
    "X = X.replace('pre', 0)\n",
    "X = X.replace('on', 1)\n",
    "X = sm.add_constant(X)  # Add constant term for intercept\n",
    "\n",
    "bic_model_1_list = []  # Store BICs for model X -> Y -> Z\n",
    "bic_model_2_list = []  # Store BICs for model Y -> Z\n",
    "\n",
    "# loop through DEG_pairs\n",
    "for index, row in DEG_pairs.iterrows():\n",
    "    Y_gene = row[0]  # T cell DEG\n",
    "    Z_gene = row[1]  # M cell DEG\n",
    "    \n",
    "    # get the gene expression data for Y and Z from gene_df\n",
    "    Y = gene_df[Y_gene]\n",
    "    Z = gene_df[Z_gene]\n",
    "    \n",
    "    # Ensure Y and Z are DataFrames\n",
    "    Y = Y.to_frame()\n",
    "    Z = Z.to_frame()\n",
    "    \n",
    "    # Model 1: X -> Y -> Z\n",
    "    # First, fit Y ~ X\n",
    "    model_Y_X = sm.OLS(Y, X).fit()  # OLS regression for Y ~ X (treatment -> T cells)\n",
    "    \n",
    "    # Then fit Z ~ Y (T cells -> M cells)\n",
    "    Y_with_const = sm.add_constant(Y)  # Add constant to Y for intercept\n",
    "    model_Z_Y = sm.OLS(Z, Y_with_const).fit()  # OLS regression for Z ~ Y\n",
    "\n",
    "    # Calculate BIC for Model 1\n",
    "    bic_model_1 = model_Y_X.bic + model_Z_Y.bic\n",
    "    bic_model_1_list.append(bic_model_1)\n",
    "\n",
    "    # Model 2: Y -> Z (Direct relationship)\n",
    "    model_Z_Y_direct = sm.OLS(Z, Y_with_const).fit()  # OLS regression for Z ~ Y\n",
    "    bic_model_2_list.append(model_Z_Y_direct.bic)\n",
    "\n",
    "# Convert lists to numpy arrays for easier operations\n",
    "bic_model_1_list = np.array(bic_model_1_list)\n",
    "bic_model_2_list = np.array(bic_model_2_list)\n",
    "\n",
    "# Calculate average BIC for both models\n",
    "avg_bic_model_1 = np.mean(bic_model_1_list)\n",
    "avg_bic_model_2 = np.mean(bic_model_2_list)\n",
    "\n",
    "# Output BIC results\n",
    "print(f\"Average BIC for Model X -> Y -> Z: {avg_bic_model_1}\")\n",
    "print(f\"Average BIC for Model Y -> Z: {avg_bic_model_2}\")\n",
    "\n",
    "# Compare the models\n",
    "if avg_bic_model_1 < avg_bic_model_2:\n",
    "    print(\"Model X -> Y -> Z is better on average.\")\n",
    "else:\n",
    "    print(\"Model Y -> Z is better on average.\")\n"
   ]
  },
  {
   "cell_type": "code",
   "execution_count": null,
   "metadata": {},
   "outputs": [],
   "source": [
    "import seaborn as sns\n",
    "\n",
    "# plot the violin plot for bic_model_1_list and bic_model_2_list\n",
    "import matplotlib.pyplot as plt\n",
    "\n",
    "# Create a DataFrame for the violin plot\n",
    "data = pd.DataFrame({'Model 1: X->Y->Z': bic_model_1_list, 'Model 2: Y->Z': bic_model_2_list})\n",
    "\n",
    "# Plot the violin plot\n",
    "sns.violinplot(data=data)\n",
    "plt.xlabel('Model')\n",
    "plt.ylabel('BIC')\n",
    "plt.title('BIC Comparison between Model 1 and Model 2')\n",
    "plt.show()\n"
   ]
  },
  {
   "cell_type": "code",
   "execution_count": null,
   "metadata": {},
   "outputs": [],
   "source": [
    "import pandas as pd\n",
    "import seaborn as sns\n",
    "import matplotlib.pyplot as plt\n",
    "import statsmodels.api as sm\n",
    "from scipy.stats import spearmanr, pearsonr\n",
    "\n",
    "def plot_CIT_DEGcorr(g1, g2, L, R, DEG_exp, pseudo_1, pseudo_2):\n",
    "    # Define a custom palette\n",
    "    palette = {'pre': \"#E69F00\", 'on': \"#56B4E9\"}\n",
    "    #replace the treatment column 0 pre and 1 on\n",
    "    gene_df['treatment'] = gene_df['treatment'].replace({0: 'pre', 1: 'on'})\n",
    "    # Set font sizes\n",
    "    title_fontsize = 14\n",
    "    axis_fontsize = 14\n",
    "    legend_fontsize = 12\n",
    "\n",
    "    def adjust_plot_limits(ax, x_data, y_data):\n",
    "        x_min, x_max = x_data.min(), x_data.max()\n",
    "        y_min, y_max = y_data.min(), y_data.max()\n",
    "        x_padding = (x_max - x_min) * 0.1\n",
    "        y_padding = (y_max - y_min) * 0.1\n",
    "        ax.set_xlim(x_min - x_padding, x_max + x_padding)\n",
    "        ax.set_ylim(y_min - y_padding, y_max + y_padding)\n",
    "\n",
    "    # Plot the jointplot between DEG of g1 and g2\n",
    "    g1_exp = DEG_exp[g1]\n",
    "    g2_exp = DEG_exp[g2]\n",
    "    df1 = pd.DataFrame({g1: g1_exp, g2: g2_exp, 'treatment': DEG_exp['treatment']})\n",
    "    df1 = df1.dropna()\n",
    "    g = sns.jointplot(x=g1, y=g2, data=df1, hue='treatment', palette=palette, kind='scatter', marginal_kws=dict(fill=True))\n",
    "    sns.regplot(x=g1, y=g2, data=df1, scatter=False, ax=g.ax_joint, color='black')\n",
    "    adjust_plot_limits(g.ax_joint, df1[g1], df1[g2])\n",
    "    \n",
    "    g.ax_joint.tick_params(left=False, bottom=False)\n",
    "    g.ax_marg_x.tick_params(bottom=False)\n",
    "    g.ax_marg_y.tick_params(left=False)\n",
    "    cor = pearsonr(df1[g1], df1[g2])[0]\n",
    "    plt.suptitle(f'Correlation between {g1} and {g2} is {cor:.3f}', fontsize=title_fontsize)\n",
    "    plt.subplots_adjust(top=0.95)\n",
    "    plt.show()\n",
    "\n",
    "     # Plot the jointplot between DEG of g1 and g2 residue\n",
    "    L_values = pseudo_1[:, L].X.toarray().flatten()\n",
    "    R_values = pseudo_2[:, R].X.toarray().flatten()\n",
    "    L_R = L_values * R_values\n",
    "    X = sm.add_constant(L_R)\n",
    "\n",
    "    # Fit OLS model for g2\n",
    "    model_g2 = sm.OLS(g2_exp, X).fit()\n",
    "    residuals_g2 = model_g2.resid\n",
    "\n",
    "    # Fit OLS model for g1\n",
    "    model_g1 = sm.OLS(g1_exp, X).fit()\n",
    "    residuals_g1 = model_g1.resid\n",
    "\n",
    "    #   Create DataFrame for residuals\n",
    "    df_res = pd.DataFrame({\n",
    "        'G_1_residual': residuals_g1,\n",
    "        'G_2_residual': residuals_g2,\n",
    "        'treatment': DEG_exp['treatment']\n",
    "    })\n",
    "\n",
    "    # Plot the residuals\n",
    "    g = sns.jointplot(x='G_1_residual', y='G_2_residual', data=df_res, hue='treatment', palette=palette, kind='scatter', marginal_kws=dict(fill=True))\n",
    "    sns.regplot(x='G_1_residual', y='G_2_residual', data=df_res, scatter=False, ax=g.ax_joint, color='black')\n",
    "\n",
    "    # Adjust plot limits if needed\n",
    "    adjust_plot_limits(g.ax_joint, df_res['G_1_residual'], df_res['G_2_residual'])\n",
    "\n",
    "    # Customize plot appearance\n",
    "    g.ax_joint.tick_params(left=False, bottom=False)\n",
    "    g.ax_marg_x.tick_params(bottom=False)\n",
    "    g.ax_marg_y.tick_params(left=False)\n",
    "\n",
    "    # Calculate and display correlation\n",
    "    corr_res = pearsonr(df_res['G_1_residual'], df_res['G_2_residual'])[0]\n",
    "    plt.suptitle(f'Correlation between residuals of G_1 and G_2 is {corr_res:.3f}', fontsize=title_fontsize)\n",
    "    plt.subplots_adjust(top=0.95)\n",
    "    plt.show()\n",
    "\n"
   ]
  },
  {
   "cell_type": "code",
   "execution_count": 8,
   "metadata": {},
   "outputs": [],
   "source": [
    "gene_df_pre = gene_df[gene_df['treatment'] == 0]\n",
    "gene_df_on = gene_df[gene_df['treatment'] == 1]"
   ]
  },
  {
   "cell_type": "code",
   "execution_count": null,
   "metadata": {},
   "outputs": [],
   "source": [
    "import statsmodels.api as sm\n",
    "\n",
    "X = gene_df_pre['TXNIP_T']\n",
    "Y = gene_df_pre['TSC22D3_M']\n",
    "# Add constant term to X for intercept\n",
    "X = sm.add_constant(X)\n",
    "# Fit the linear regression model\n",
    "model = sm.OLS(Y, X).fit()\n",
    "# Calculate the residuals\n",
    "residuals = model.resid\n",
    "\n",
    "# Fit the linear regression model\n",
    "model2 = sm.OLS(Y, X).fit()\n",
    "# Calculate the residuals\n",
    "residuals2 = model2.resid\n",
    "# combine the residuals and residuals2\n",
    "residual = pd.concat([residuals, residuals2], axis=0)\n",
    "# plot the residuals with X and also show color by treatment, 0 is orange and 1 is blue\n",
    "plt.scatter(gene_df_pre['TXNIP_T'], residuals, c='orange')\n",
    "plt.scatter(gene_df_on['TXNIP_T'], residuals2, c='skyblue')\n",
    "plt.xlabel('TXNIP_T')\n",
    "plt.ylabel('Residuals of TSC22D3_M')\n",
    "plt.title('Residuals of TSC22D3_M vs. TXNIP_T')\n",
    "plt.show()"
   ]
  },
  {
   "cell_type": "code",
   "execution_count": 9,
   "metadata": {},
   "outputs": [],
   "source": [
    "def adjust_plot_limits(ax, x_data, y_data):\n",
    "        x_min, x_max = x_data.min(), x_data.max()\n",
    "        y_min, y_max = y_data.min(), y_data.max()\n",
    "        x_padding = (x_max - x_min) * 0.1\n",
    "        y_padding = (y_max - y_min) * 0.1\n",
    "        ax.set_xlim(x_min - x_padding, x_max + x_padding)\n",
    "        ax.set_ylim(y_min - y_padding, y_max + y_padding)"
   ]
  },
  {
   "cell_type": "code",
   "execution_count": null,
   "metadata": {},
   "outputs": [],
   "source": [
    "import statsmodels.api as sm\n",
    "import matplotlib.pyplot as plt\n",
    "import pandas as pd\n",
    "import seaborn as sns\n",
    "palette = {'pre': \"#E69F00\", 'on': \"#56B4E9\"}\n",
    "# Assuming gene_df_pre and gene_df_on are your dataframes\n",
    "g1_pre = gene_df_pre['PRDM1_T']  # g1 corresponds to ZFP36_T\n",
    "g2_pre = gene_df_pre['TUBA1A_M']   # g2 corresponds to RHOB_M\n",
    "g1_on = gene_df_on['PRDM1_T']\n",
    "g2_on = gene_df_on['TUBA1A_M']\n",
    "\n",
    "# Add constant term to g1 for intercept\n",
    "g1_pre_with_const = sm.add_constant(g1_pre)\n",
    "g1_on_with_const = sm.add_constant(g1_on)\n",
    "\n",
    "# Fit the linear regression models\n",
    "model_pre = sm.OLS(g2_pre, g1_pre_with_const).fit()\n",
    "model_on = sm.OLS(g2_on, g1_on_with_const).fit()\n",
    "\n",
    "# Calculate the residuals\n",
    "residuals_pre = model_pre.resid\n",
    "residuals_on = model_on.resid\n",
    "\n",
    "# Combine both datasets into a single DataFrame\n",
    "combined_residuals_pre = pd.DataFrame({'g1': g1_pre, 'residuals': residuals_pre, 'treatment': 'pre'})\n",
    "combined_residuals_on = pd.DataFrame({'g1': g1_on, 'residuals': residuals_on, 'treatment': 'on'})\n",
    "combined_residuals = pd.concat([combined_residuals_pre, combined_residuals_on])\n",
    "\n",
    "# Create the joint plot with residuals\n",
    "g = sns.jointplot(data=combined_residuals, x='g1', y='residuals', hue='treatment', kind='scatter', height=6, palette=palette)\n",
    "\n",
    "# Add title\n",
    "g.fig.suptitle('Residuals of g2 (TUBA1A_M) vs. g1 (PRDM1_T) by Treatment', y=1.02)\n",
    "adjust_plot_limits(g.ax_joint, combined_residuals['g1'], combined_residuals['residuals'])\n",
    "# Adjust layout to fit the title\n",
    "plt.tight_layout()\n",
    "plt.show()\n"
   ]
  },
  {
   "cell_type": "markdown",
   "metadata": {},
   "source": [
    "# CIT using fisher-z"
   ]
  },
  {
   "cell_type": "code",
   "execution_count": null,
   "metadata": {},
   "outputs": [],
   "source": [
    "DEG_pairs"
   ]
  },
  {
   "cell_type": "code",
   "execution_count": null,
   "metadata": {},
   "outputs": [],
   "source": [
    "lrpair"
   ]
  },
  {
   "cell_type": "code",
   "execution_count": 16,
   "metadata": {},
   "outputs": [],
   "source": [
    "def CIT_test(DEG_pairs, lrpairs, adata_1_pseudo, adata_2_pseudo, gene_df, method=\"kci\", p_value_threshold=0.05):\n",
    "    results = pd.DataFrame(columns=['g1', 'g2', 'L', 'R', 'pValue'])\n",
    "\n",
    "    for index, row in DEG_pairs.iterrows():\n",
    "        g1 = row['g1']\n",
    "        g2 = row['g2']\n",
    "        for L, R in lrpairs.values:\n",
    "                # Check if L and R can be found in the DEG expression data\n",
    "                if L in adata_1_pseudo.var_names and R in adata_2_pseudo.var_names:\n",
    "                    # Get the L_T and R_B from pseudo_T and pseudo_M\n",
    "                    L_T = adata_1_pseudo[:, L].X\n",
    "                    L_T = pd.DataFrame(L_T, columns=[L], index=adata_1_pseudo.obs['sample_id']).dropna()\n",
    "                    R_M = adata_2_pseudo[:, R].X\n",
    "                    R_M = pd.DataFrame(R_M, columns=[R], index=adata_2_pseudo.obs['sample_id']).dropna()\n",
    "                    \n",
    "                    # Calculate L*R\n",
    "                    L_T.columns = [R + '_vs_' + L]\n",
    "                    R_M.columns = L_T.columns\n",
    "                    L_R = L_T.multiply(R_M, axis=0).iloc[:, 0]\n",
    "\n",
    "                    # Make a DataFrame g1, g2 and L*R\n",
    "                    if g1 not in gene_df.columns or g2 not in gene_df.columns:\n",
    "                        continue\n",
    "                    \n",
    "                    g1_T = gene_df[g1]\n",
    "                    g2_M = gene_df[g2]\n",
    "                    df = pd.DataFrame({g1: g1_T, g2: g2_M, 'L*R': L_R}).dropna()\n",
    "\n",
    "                    # Convert df to numpy array\n",
    "                    df_numpy = df.to_numpy()\n",
    "\n",
    "                    # Perform the chosen independence test\n",
    "                    if method == \"kci\":\n",
    "                        cit_obj = CIT(df_numpy, \"kci\")\n",
    "                    elif method == \"fisherz\":\n",
    "                        cit_obj = CIT(df_numpy, \"fisherz\")\n",
    "                    else:\n",
    "                        raise ValueError(\"Unsupported method. Use 'kci' or 'fisherz'.\")\n",
    "                    \n",
    "                    pValue = cit_obj(0, 1, [2])\n",
    "                    results = pd.concat([results, pd.DataFrame({'g1': [g1], 'g2': [g2], 'L': [L], 'R': [R], 'pValue': [pValue]})], ignore_index=True)\n",
    "\n",
    "    return results"
   ]
  },
  {
   "cell_type": "code",
   "execution_count": 17,
   "metadata": {},
   "outputs": [],
   "source": [
    "results = CIT_test(DEG_pairs, lrpair, adata_1_pseudo, adata_2_pseudo, gene_df, method = 'fisherz', p_value_threshold=0.05)"
   ]
  },
  {
   "cell_type": "code",
   "execution_count": null,
   "metadata": {},
   "outputs": [],
   "source": [
    "results"
   ]
  },
  {
   "cell_type": "code",
   "execution_count": null,
   "metadata": {},
   "outputs": [],
   "source": [
    "#calculate the correlation between g1 and g2\n",
    "calculate_gene_correlation(results, adata_1_pseudo, adata_2_pseudo)"
   ]
  },
  {
   "cell_type": "code",
   "execution_count": null,
   "metadata": {},
   "outputs": [],
   "source": [
    "results_filtered = results.loc[results.groupby(['g1', 'g2'])['pValue'].idxmax()]\n",
    "results_filtered"
   ]
  },
  {
   "cell_type": "code",
   "execution_count": null,
   "metadata": {},
   "outputs": [],
   "source": [
    "# combine g1_g2_L_R from the results_filtered as one column\n",
    "results_filtered['g1_g2_L_R'] = results_filtered['g1'] + '_' + results_filtered['g2'] + '_' + results_filtered['L'] + '_' + results_filtered['R']\n",
    "results_filtered.index = results_filtered['g1'] + '_' + results_filtered['g2'] + '_' + results_filtered['L'] + '_' + results_filtered['R']\n",
    "results_filtered"
   ]
  },
  {
   "cell_type": "code",
   "execution_count": null,
   "metadata": {},
   "outputs": [],
   "source": [
    "# plot the distribution g1vsg2_correlation vs log(pValue)\n",
    "# Calculate -log10(pValue) for each pair\n",
    "results_filtered['log_pValue'] = np.log10(results_filtered['pValue'])\n",
    "\n",
    "# Plot the distribution\n",
    "plt.figure(figsize=(10, 6))\n",
    "sns.scatterplot(x='g1vsg2_correlation', y='log_pValue', data=results_filtered)\n",
    "plt.xlabel('g1 vs g2 Correlation')\n",
    "plt.ylabel('-log10(pValue)')\n",
    "plt.title('Distribution of g1 vs g2 Correlation vs log10(pValue)')\n",
    "plt.show()\n"
   ]
  },
  {
   "cell_type": "code",
   "execution_count": null,
   "metadata": {},
   "outputs": [],
   "source": [
    "#calculate the correlation between g1 and g2\n",
    "calculate_gene_correlation(results, adata_1_pseudo, adata_2_pseudo)\n",
    "#calculate the residuals correlation between g1, g2 and LR\n",
    "calculate_residuals_correlation(results, adata_1_pseudo, adata_2_pseudo)"
   ]
  },
  {
   "cell_type": "code",
   "execution_count": 23,
   "metadata": {},
   "outputs": [],
   "source": [
    "results.to_excel('/home/qiuaodon/Desktop/project_data_new/CIT_results_PD1vsMyeloid_fisherz_corr03.xlsx')"
   ]
  },
  {
   "cell_type": "code",
   "execution_count": null,
   "metadata": {},
   "outputs": [],
   "source": [
    "# results = pd.read_excel('/home/qiuaodon/Desktop/project_data_new/CIT_results_CD4EXvsEndo_fisherz_nosamplefiltered.xlsx')"
   ]
  },
  {
   "cell_type": "markdown",
   "metadata": {},
   "source": [
    "## CIT using KCI\n"
   ]
  },
  {
   "cell_type": "code",
   "execution_count": null,
   "metadata": {},
   "outputs": [],
   "source": [
    "DEG_pairs"
   ]
  },
  {
   "cell_type": "code",
   "execution_count": null,
   "metadata": {},
   "outputs": [],
   "source": [
    "lrpair"
   ]
  },
  {
   "cell_type": "code",
   "execution_count": null,
   "metadata": {},
   "outputs": [],
   "source": [
    "results = CIT_test(DEG_pairs, lrpair, adata_1_pseudo, adata_2_pseudo, gene_df, method = 'kci', p_value_threshold=0.05)"
   ]
  },
  {
   "cell_type": "code",
   "execution_count": null,
   "metadata": {},
   "outputs": [],
   "source": [
    "#calculate the correlation between g1 and g2\n",
    "calculate_gene_correlation(results, adata_1_pseudo, adata_2_pseudo)\n",
    "#calculate the residuals correlation between g1, g2 and LR\n",
    "calculate_residuals_correlation(results, adata_1_pseudo, adata_2_pseudo)"
   ]
  },
  {
   "cell_type": "code",
   "execution_count": null,
   "metadata": {},
   "outputs": [],
   "source": [
    "# save results\n",
    "results.to_excel('/home/qiuaodon/Desktop/project_data_new/CIT_results_CD4EXvsMyeloid_KCI_nosamplefiltered.xlsx')"
   ]
  },
  {
   "cell_type": "markdown",
   "metadata": {},
   "source": [
    "# plot the corr For GEM"
   ]
  },
  {
   "cell_type": "code",
   "execution_count": null,
   "metadata": {},
   "outputs": [],
   "source": [
    "gene_1 = 'CD69'\n",
    "gene_2 = 'HERPUD1'\n",
    "L = 'ANXA1'\n",
    "R = 'CXCR4'\n",
    "# make the color for umap from grey to blue\n",
    "colors = [\"grey\", \"blue\"]\n",
    "cmap = mcolors.LinearSegmentedColormap.from_list(\"grey_to_blue\", colors)\n",
    "# plot the umap with the color of gene_1 and gene_2\n",
    "sc.pl.umap(adata_1, color = [gene_1, L], cmap = cmap)\n",
    "sc.pl.umap(adata_2, color = [gene_2, R], cmap = cmap)"
   ]
  },
  {
   "cell_type": "markdown",
   "metadata": {},
   "source": [
    "## group the DEGpairs together using L and R"
   ]
  },
  {
   "cell_type": "code",
   "execution_count": 36,
   "metadata": {},
   "outputs": [],
   "source": [
    "# results = pd.read_excel('/home/qiuaodon/Desktop/project_data_new/CIT_results_CD4EXvsDC_fisherz_nosamplefiltered.xlsx')\n",
    "# results = results.drop(columns=['Unnamed: 0'])\n",
    "# # Remove the suffix '_X' from g1 and g2\n",
    "results['g1'] = results['g1'].str.replace(r'_\\w+', '', regex=True)\n",
    "results['g2'] = results['g2'].str.replace(r'_\\w+', '', regex=True)"
   ]
  },
  {
   "cell_type": "code",
   "execution_count": null,
   "metadata": {},
   "outputs": [],
   "source": [
    "results"
   ]
  },
  {
   "cell_type": "code",
   "execution_count": null,
   "metadata": {},
   "outputs": [],
   "source": [
    "results['R'].unique()"
   ]
  },
  {
   "cell_type": "code",
   "execution_count": null,
   "metadata": {},
   "outputs": [],
   "source": [
    "results['R'].nunique()"
   ]
  },
  {
   "cell_type": "code",
   "execution_count": null,
   "metadata": {},
   "outputs": [],
   "source": [
    "import pandas as pd\n",
    "grouped_results = results.groupby([\"L\", \"R\"])\n",
    "\n",
    "# Display grouped data\n",
    "grouped_dict = { (ligand, receptor): group for (ligand, receptor), group in grouped_results }\n",
    "\n",
    "# Create a new DataFrame to hold the GEM1 and GEM2 groupings\n",
    "grouped_data = []\n",
    "tracked_gem1 = set()\n",
    "tracked_gem2 = set()\n",
    "\n",
    "min_gene_num = 3\n",
    "\n",
    "# Temporary list to hold data before creating DataFrame\n",
    "temp_data = []\n",
    "\n",
    "for (ligand, receptor), group in grouped_results:\n",
    "    gem1 = group[\"g1\"].drop_duplicates().tolist()\n",
    "    gem2 = group[\"g2\"].drop_duplicates().tolist()\n",
    "    \n",
    "    # Check the overlap between current GEM_g1 and previously tracked GEM_g1\n",
    "    overlap_gem1 = len(set(gem1) & tracked_gem1)\n",
    "    overlap_gem2 = len(set(gem2) & tracked_gem2)\n",
    "    \n",
    "    # Filter to include only those with at least three genes in GEM_g1 and GEM_g2\n",
    "    # and where the overlap is below the maximum allowable threshold\n",
    "    if len(gem1) > min_gene_num :\n",
    "        temp_data.append({\n",
    "            \"Ligand\": ligand,\n",
    "            \"Receptor\": receptor,\n",
    "            \"GEM_g1\": gem1,\n",
    "            \"GEM_g2\": gem2,\n",
    "            \"Num_genes_g1\": len(gem1),\n",
    "            \"Num_genes_g2\": len(gem2)\n",
    "        })\n",
    "        # Update the tracked GEM_g1 and GEM_g2 sets\n",
    "        tracked_gem1.update(gem1)\n",
    "        tracked_gem2.update(gem2)\n",
    "\n",
    "# Convert the temporary data to a DataFrame\n",
    "grouped_df = pd.DataFrame(temp_data)\n",
    "\n",
    "# Function to find overlapping rows\n",
    "def find_overlapping_rows(df, column_name):\n",
    "    overlap_info = []\n",
    "    for index, row in df.iterrows():\n",
    "        current_set = set(row[column_name])\n",
    "        overlapping_rows = []\n",
    "        for other_index, other_row in df.iterrows():\n",
    "            if index != other_index:\n",
    "                other_set = set(other_row[column_name])\n",
    "                overlap = len(current_set & other_set)\n",
    "                if overlap > len(current_set) / 3: # Set the threshold for overlap\n",
    "                    overlapping_rows.append(other_index)\n",
    "        overlap_info.append(overlapping_rows)\n",
    "    return overlap_info\n",
    "\n",
    "# Add columns for overlapping rows in GEM_g1 and GEM_g2\n",
    "grouped_df[\"Overlapping_g1\"] = find_overlapping_rows(grouped_df, \"GEM_g1\")\n",
    "grouped_df[\"Overlapping_g2\"] = find_overlapping_rows(grouped_df, \"GEM_g2\")\n",
    "\n",
    "grouped_df\n"
   ]
  },
  {
   "cell_type": "code",
   "execution_count": null,
   "metadata": {},
   "outputs": [],
   "source": [
    "grouped_df\n"
   ]
  },
  {
   "cell_type": "code",
   "execution_count": 50,
   "metadata": {},
   "outputs": [],
   "source": [
    "# rank each GEM_g1 by order of name inside\n",
    "grouped_df['GEM_g1'] = grouped_df['GEM_g1'].apply(lambda x: sorted(x))\n",
    "grouped_df['GEM_g2'] = grouped_df['GEM_g2'].apply(lambda x: sorted(x))"
   ]
  },
  {
   "cell_type": "code",
   "execution_count": 51,
   "metadata": {},
   "outputs": [],
   "source": [
    "# save the grouped_df to excel\n",
    "grouped_df.to_excel('/home/qiuaodon/Desktop/project_data_new/CIT_results_PD1vsM_grouped_corr04.xlsx')"
   ]
  },
  {
   "cell_type": "code",
   "execution_count": null,
   "metadata": {},
   "outputs": [],
   "source": [
    "# # Remove the suffix '_X' from g1 and g2\n",
    "grouped_df['GEM_g1'] = grouped_df['GEM_g1'].str.replace(r'_\\w+', '', regex=True)\n",
    "grouped_df['GEM_g2'] = grouped_df['GEM_g2'].str.replace(r'_\\w+', '', regex=True)"
   ]
  },
  {
   "cell_type": "code",
   "execution_count": null,
   "metadata": {},
   "outputs": [],
   "source": [
    "# remove the [] in GEM_g1 and GEM_g2\n",
    "grouped_df['GEM_g1'] = grouped_df['GEM_g1'].str.strip('[]')\n",
    "grouped_df['GEM_g2'] = grouped_df['GEM_g2'].str.strip('[]')\n"
   ]
  },
  {
   "cell_type": "code",
   "execution_count": null,
   "metadata": {},
   "outputs": [],
   "source": [
    "grouped_df"
   ]
  },
  {
   "cell_type": "code",
   "execution_count": null,
   "metadata": {},
   "outputs": [],
   "source": [
    "sc.pl.umap(adata_1, color =['SESN1', 'NFKBIA', 'PMAIP1', 'IL6ST', 'TXNIP', 'PELI1', 'PRDM1', 'CRYBG1', 'TSC22D3', 'TP53INP1'])"
   ]
  },
  {
   "cell_type": "markdown",
   "metadata": {},
   "source": [
    "## draw heatmap"
   ]
  },
  {
   "cell_type": "code",
   "execution_count": null,
   "metadata": {},
   "outputs": [],
   "source": [
    "# sort DEG1_1 and DEG1_2 by the p_value\n",
    "DEG_1 = DEG_1.sort_values(by='pval')\n",
    "DEG_2 = DEG_2.sort_values(by='pval')\n",
    "DEG_1"
   ]
  },
  {
   "cell_type": "code",
   "execution_count": 16,
   "metadata": {},
   "outputs": [],
   "source": [
    "# top 20 genes in DEG_1 and DEG_2 as top_genes_T and top_genes_M\n",
    "top_genes_T = DEG_1.index[:25]\n",
    "top_genes_M = DEG_2.index[:25]\n"
   ]
  },
  {
   "cell_type": "code",
   "execution_count": null,
   "metadata": {},
   "outputs": [],
   "source": [
    "# replace the ETS2 in top_genes_M with RHOB\n",
    "top_genes_M = top_genes_M.drop('ETS2')\n",
    "top_genes_M = top_genes_M.append(pd.Index(['RHOB']))\n",
    "top_genes_M"
   ]
  },
  {
   "cell_type": "code",
   "execution_count": 19,
   "metadata": {},
   "outputs": [],
   "source": [
    "top_genes_M = [\n",
    "    'TSC22D3', 'DDIT4', 'FKBP5', 'SLC1A3', 'AREG', 'ACSL1',\n",
    "    'RGS1', 'CH25H', 'SMIM3', 'TUBA1A', 'HERPUD1','RNF144B', 'KCNE1', 'TENT5A',\n",
    "    'SLC19A2', 'SOCS1', 'DUSP6', 'TNFAIP3', 'PFKFB3', 'RHOB', 'SESN1', 'PDK4',\n",
    "    'ARRDC2', 'MZF1-AS1', 'CEBPD'\n",
    "]\n"
   ]
  },
  {
   "cell_type": "code",
   "execution_count": null,
   "metadata": {},
   "outputs": [],
   "source": [
    "top_genes_T = [\n",
    "    'CH25H',\n",
    "    'TSC22D3',\n",
    "    'TNFAIP3',\n",
    "    'BIRC3',\n",
    "    'SPON2',\n",
    "    'ZFP36',\n",
    "    'SLA',\n",
    "    'ZFP36',\n",
    "    'TXNIP',\n",
    "    'IER2',\n",
    "    'KLF10'\n",
    "]"
   ]
  },
  {
   "cell_type": "code",
   "execution_count": null,
   "metadata": {},
   "outputs": [],
   "source": [
    "import seaborn as sns\n",
    "import scipy.stats as stats\n",
    "from scipy.stats import spearmanr \n",
    "# Remove the sample_id that are not in the adata_T_pseudo\n",
    "adata_T_pseudo = adata_1_pseudo\n",
    "adata_M_pseudo = adata_2_pseudo\n",
    "adata_M_pseudo = adata_M_pseudo[adata_M_pseudo.obs['sample_id'].isin(adata_T_pseudo.obs['sample_id'])]\n",
    "adata_T_pseudo = adata_T_pseudo[adata_T_pseudo.obs['sample_id'].isin(adata_M_pseudo.obs['sample_id'])]\n",
    "\n",
    "# Initialize an empty matrix to store the correlation values\n",
    "corr_matrix = np.zeros((len(top_genes_T), len(top_genes_M)))\n",
    "pval_matrix = np.zeros((len(top_genes_T), len(top_genes_M)))\n",
    "\n",
    "# Calculate the correlation between the top genes of T and M cells\n",
    "for i, gene_T in enumerate(top_genes_T):\n",
    "    for j, gene_M in enumerate(top_genes_M):\n",
    "        # remove the '_T' and '_M' from the gene names\n",
    "        gene_T = gene_T.replace('_T', '')\n",
    "        gene_M = gene_M.replace('_M', '')\n",
    "        # Get the expression data of the two genes and flatten them to 1D arrays\n",
    "        gene_T_expression = adata_T_pseudo[:, adata_T_pseudo.var_names == gene_T].X.flatten()\n",
    "        gene_M_expression = adata_M_pseudo[:, adata_M_pseudo.var_names == gene_M].X.flatten()\n",
    "        \n",
    "        # Calculate the correlation\n",
    "        corr, pval = spearmanr(gene_T_expression, gene_M_expression)\n",
    "        \n",
    "        # Store the correlation value in the matrix\n",
    "        corr_matrix[i, j] = corr\n",
    "        pval_matrix[i, j] = -np.log10(pval)\n",
    "\n",
    "\n",
    "# Plot the correlation matrix as a heatmap\n",
    "plt.figure(figsize=(10, 8))\n",
    "sns.heatmap(corr_matrix, annot=False, cmap='coolwarm', vmin=-1, vmax=1,\n",
    "            xticklabels=top_genes_M, yticklabels=top_genes_T)\n",
    "plt.title('Correlation between Highly Correlated DEGs in T and M cells')\n",
    "plt.xlabel('M Genes')\n",
    "plt.ylabel('PD1+ T Genes')\n",
    "plt.show()"
   ]
  },
  {
   "cell_type": "code",
   "execution_count": null,
   "metadata": {},
   "outputs": [],
   "source": []
  },
  {
   "cell_type": "code",
   "execution_count": null,
   "metadata": {},
   "outputs": [],
   "source": [
    "\n",
    "# Plotting the heatmap with correlation values\n",
    "plt.figure(figsize=(12, 10))\n",
    "heatmap = sns.heatmap(corr_matrix, cmap='coolwarm', vmin=-1, vmax=1,\n",
    "                      xticklabels=top_genes_M, yticklabels=top_genes_T,\n",
    "                      annot=False)  # Turn off default annotation\n",
    "\n",
    "# Overlaying the correlation values and -log10 of p-values\n",
    "for i in range(corr_matrix.shape[0]):\n",
    "    for j in range(corr_matrix.shape[1]):\n",
    "        plt.text(j + 0.5, i + 0.5, f'{corr_matrix[i, j]:.2f}\\n({pval_matrix[i, j]:.2f})',\n",
    "                 horizontalalignment='center', verticalalignment='center', fontsize=11, color='black' if abs(corr_matrix[i, j]) > 0.5 else 'black')\n",
    "\n",
    "plt.title('Correlation between Top DEGs of CD4EX and M')\n",
    "plt.xlabel('M Genes')\n",
    "plt.ylabel('CD4EX Genes')\n",
    "plt.show()"
   ]
  },
  {
   "cell_type": "code",
   "execution_count": null,
   "metadata": {},
   "outputs": [],
   "source": [
    "colors = [\"grey\", \"blue\"]  # Start with grey and end with blue\n",
    "cmap = mcolors.LinearSegmentedColormap.from_list(\"grey_to_blue\", colors)\n"
   ]
  },
  {
   "cell_type": "code",
   "execution_count": null,
   "metadata": {},
   "outputs": [],
   "source": [
    "sc.pl.umap(adata_CD4EX, color = ['SPON2', 'SELL'], color_map = cmap)"
   ]
  },
  {
   "cell_type": "code",
   "execution_count": null,
   "metadata": {},
   "outputs": [],
   "source": [
    "sc.pl.umap(adata_M, color = ['FKBP5', 'MADCAM1'], color_map = cmap)"
   ]
  },
  {
   "cell_type": "code",
   "execution_count": null,
   "metadata": {},
   "outputs": [],
   "source": [
    "sc.pl.umap(adata_CD4EX, color = 'timepoint')\n",
    "sc.pl.umap(adata_M, color = 'timepoint')"
   ]
  },
  {
   "cell_type": "code",
   "execution_count": null,
   "metadata": {},
   "outputs": [],
   "source": [
    "plot_CIT_DEGcorr('PRDM1', 'TUBA1A', 'ANXA1', 'CXCR4', gene_df, adata_1_pseudo, adata_2_pseudo)"
   ]
  },
  {
   "cell_type": "markdown",
   "metadata": {},
   "source": [
    "#### plot the scatter plots\n"
   ]
  },
  {
   "cell_type": "code",
   "execution_count": 21,
   "metadata": {},
   "outputs": [],
   "source": [
    "import pandas as pd\n",
    "import seaborn as sns\n",
    "import matplotlib.pyplot as plt\n",
    "import statsmodels.api as sm\n",
    "from scipy.stats import spearmanr, pearsonr\n",
    "\n",
    "def plot_CIT_DEGcorr(g1, g2, L, R, DEG_exp, pseudo_1, pseudo_2):\n",
    "    # Define a custom palette\n",
    "    palette = {'pre': \"#E69F00\", 'on': \"#56B4E9\"}\n",
    "    #replace the treatment column 0 pre and 1 on\n",
    "    gene_df['treatment'] = gene_df['treatment'].replace({0: 'pre', 1: 'on'})\n",
    "    # Set font sizes\n",
    "    title_fontsize = 14\n",
    "    axis_fontsize = 14\n",
    "    legend_fontsize = 12\n",
    "\n",
    "    def adjust_plot_limits(ax, x_data, y_data):\n",
    "        x_min, x_max = x_data.min(), x_data.max()\n",
    "        y_min, y_max = y_data.min(), y_data.max()\n",
    "        x_padding = (x_max - x_min) * 0.1\n",
    "        y_padding = (y_max - y_min) * 0.1\n",
    "        ax.set_xlim(x_min - x_padding, x_max + x_padding)\n",
    "        ax.set_ylim(y_min - y_padding, y_max + y_padding)\n",
    "\n",
    "    # Plot the jointplot between DEG of g1 and g2\n",
    "    g1_exp = DEG_exp[g1]\n",
    "    g2_exp = DEG_exp[g2]\n",
    "    df1 = pd.DataFrame({g1: g1_exp, g2: g2_exp, 'treatment': DEG_exp['treatment']})\n",
    "    df1 = df1.dropna()\n",
    "    g = sns.jointplot(x=g1, y=g2, data=df1, hue='treatment', palette=palette, kind='scatter', marginal_kws=dict(fill=True))\n",
    "    sns.regplot(x=g1, y=g2, data=df1, scatter=False, ax=g.ax_joint, color='black')\n",
    "    adjust_plot_limits(g.ax_joint, df1[g1], df1[g2])\n",
    "    \n",
    "    g.ax_joint.tick_params(left=False, bottom=False)\n",
    "    g.ax_marg_x.tick_params(bottom=False)\n",
    "    g.ax_marg_y.tick_params(left=False)\n",
    "    cor = pearsonr(df1[g1], df1[g2])[0]\n",
    "    plt.suptitle(f'Correlation between {g1} and {g2} is {cor:.3f}', fontsize=title_fontsize)\n",
    "    plt.subplots_adjust(top=0.95)\n",
    "    plt.show()\n",
    "\n",
    "     # Plot the jointplot between DEG of g1 and g2 residue\n",
    "    L_values = pseudo_1[:, L].X.toarray().flatten()\n",
    "    R_values = pseudo_2[:, R].X.toarray().flatten()\n",
    "    L_R = L_values * R_values\n",
    "    X = sm.add_constant(L_R)\n",
    "\n",
    "    # Fit OLS model for g2\n",
    "    model_g2 = sm.OLS(g2_exp, X).fit()\n",
    "    residuals_g2 = model_g2.resid\n",
    "\n",
    "    # Fit OLS model for g1\n",
    "    model_g1 = sm.OLS(g1_exp, X).fit()\n",
    "    residuals_g1 = model_g1.resid\n",
    "\n",
    "    #   Create DataFrame for residuals\n",
    "    df_res = pd.DataFrame({\n",
    "        'G_1_residual': residuals_g1,\n",
    "        'G_2_residual': residuals_g2,\n",
    "        'treatment': DEG_exp['treatment']\n",
    "    })\n",
    "\n",
    "    # Plot the residuals\n",
    "    g = sns.jointplot(x='G_1_residual', y='G_2_residual', data=df_res, hue='treatment', palette=palette, kind='scatter', marginal_kws=dict(fill=True))\n",
    "    sns.regplot(x='G_1_residual', y='G_2_residual', data=df_res, scatter=False, ax=g.ax_joint, color='black')\n",
    "\n",
    "    # Adjust plot limits if needed\n",
    "    adjust_plot_limits(g.ax_joint, df_res['G_1_residual'], df_res['G_2_residual'])\n",
    "\n",
    "    # Customize plot appearance\n",
    "    g.ax_joint.tick_params(left=False, bottom=False)\n",
    "    g.ax_marg_x.tick_params(bottom=False)\n",
    "    g.ax_marg_y.tick_params(left=False)\n",
    "\n",
    "    # Calculate and display correlation\n",
    "    corr_res = pearsonr(df_res['G_1_residual'], df_res['G_2_residual'])[0]\n",
    "    plt.suptitle(f'Correlation between residuals of G_1 and G_2 is {corr_res:.3f}', fontsize=title_fontsize)\n",
    "    plt.subplots_adjust(top=0.95)\n",
    "    plt.show()\n",
    "\n"
   ]
  },
  {
   "cell_type": "code",
   "execution_count": null,
   "metadata": {},
   "outputs": [],
   "source": [
    "plot_CIT_DEGcorr('GEM_T_3', 'GEM_M_3', 'ITGA4', 'TFRC', gene_df, adata_1_pseudo, adata_2_pseudo)"
   ]
  }
 ],
 "metadata": {
  "kernelspec": {
   "display_name": "base",
   "language": "python",
   "name": "python3"
  },
  "language_info": {
   "codemirror_mode": {
    "name": "ipython",
    "version": 3
   },
   "file_extension": ".py",
   "mimetype": "text/x-python",
   "name": "python",
   "nbconvert_exporter": "python",
   "pygments_lexer": "ipython3",
   "version": "3.11.5"
  }
 },
 "nbformat": 4,
 "nbformat_minor": 2
}
