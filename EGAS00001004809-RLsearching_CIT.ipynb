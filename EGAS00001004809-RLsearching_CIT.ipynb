{
 "cells": [
  {
   "cell_type": "code",
   "execution_count": null,
   "metadata": {},
   "outputs": [],
   "source": [
    "import rpy2.robjects as robjects\n",
    "import seaborn as sns\n",
    "import statsmodels.api as sm\n",
    "import matplotlib.pyplot as plt\n",
    "import scanpy as sc\n",
    "import pandas as pd\n",
    "import numpy as np\n",
    "import os\n",
    "import sys\n",
    "sys.path.append('/home/qiuaodon/Desktop/PanCancer_scRNA_analysis/utils/')\n",
    "from scRNA_utils import *\n",
    "data_dir = '/home/qiuaodon/Desktop/'"
   ]
  },
  {
   "cell_type": "code",
   "execution_count": null,
   "metadata": {},
   "outputs": [],
   "source": [
    "adata_T = sc.read(data_dir + 'project_data_new/1863-counts_cells_cohort1_T_cells.h5ad')\n",
    "adata_B = sc.read(data_dir + 'project_data_new/1863-counts_cells_cohort1_B_cells.h5ad')\n",
    "adata_M = sc.read(data_dir + 'project_data_new/1863-counts_cells_cohort1_M_cells.h5ad')\n",
    "adata_Epi = sc.read(data_dir + 'project_data_new/1863-counts_cells_cohort1_Epi_cells.h5ad')\n",
    "adata_Endo = sc.read(data_dir + 'project_data_new/1863-counts_cells_cohort1_Endo_cells.h5ad')\n",
    "adata_Fibro = sc.read(data_dir + 'project_data_new/1863-counts_cells_cohort1_Fibro_cells.h5ad')"
   ]
  },
  {
   "cell_type": "code",
   "execution_count": null,
   "metadata": {},
   "outputs": [],
   "source": [
    "pseudo_T = scRNA2PseudoBulkAnnData(adata_T, sample_id_col='sample_id')\n",
    "pseudo_B = scRNA2PseudoBulkAnnData(adata_B, sample_id_col='sample_id')\n",
    "pseudo_M = scRNA2PseudoBulkAnnData(adata_M, sample_id_col='sample_id')\n",
    "pseudo_Epi = scRNA2PseudoBulkAnnData(adata_Epi, sample_id_col='sample_id')\n",
    "pseudo_Endo = scRNA2PseudoBulkAnnData(adata_Endo, sample_id_col='sample_id')\n",
    "pseudo_Fibro = scRNA2PseudoBulkAnnData(adata_Fibro, sample_id_col='sample_id')"
   ]
  },
  {
   "cell_type": "code",
   "execution_count": null,
   "metadata": {},
   "outputs": [],
   "source": [
    "# remove patient_id BIOKEY_22 and BIOKEY_28 from the pseudo bulk data\n",
    "pseudo_T = pseudo_T[~pseudo_T.obs['patient_id'].isin(['BIOKEY_22', 'BIOKEY_28'])]\n",
    "pseudo_B = pseudo_B[~pseudo_B.obs['patient_id'].isin(['BIOKEY_22', 'BIOKEY_28'])]\n",
    "pseudo_M = pseudo_M[~pseudo_M.obs['patient_id'].isin(['BIOKEY_22', 'BIOKEY_28'])]\n",
    "pseudo_Epi = pseudo_Epi[~pseudo_Epi.obs['patient_id'].isin(['BIOKEY_22', 'BIOKEY_28'])]\n",
    "pseudo_Endo = pseudo_Endo[~pseudo_Endo.obs['patient_id'].isin(['BIOKEY_22', 'BIOKEY_28'])]\n",
    "pseudo_Fibro = pseudo_Fibro[~pseudo_Fibro.obs['patient_id'].isin(['BIOKEY_22', 'BIOKEY_28'])]"
   ]
  },
  {
   "cell_type": "code",
   "execution_count": null,
   "metadata": {},
   "outputs": [],
   "source": [
    "DEG_exp = pd.read_csv(data_dir + 'DEG-wholecelltype/DEG_exp.csv')"
   ]
  },
  {
   "cell_type": "code",
   "execution_count": null,
   "metadata": {},
   "outputs": [],
   "source": [
    "# use sample_id as index\n",
    "DEG_exp.index = DEG_exp['sample_id']"
   ]
  },
  {
   "cell_type": "code",
   "execution_count": null,
   "metadata": {},
   "outputs": [],
   "source": [
    "DEG_exp"
   ]
  },
  {
   "cell_type": "code",
   "execution_count": null,
   "metadata": {},
   "outputs": [],
   "source": [
    "def plot_CIT_DEGcorr(g1, g2, L, R, DEG_exp, pseudo_1, pseudo_2):\n",
    "    # g1, g2: pesudobulk data of DEG. g1 is the DEG of the first type of cell and g2 is the DEG of the second type of cell.\n",
    "    # L, R: pesudobulk data of ligand and receptor\n",
    "\n",
    "\n",
    "    # plot the scatterplot between DEG of g1 and g2\n",
    "    g1_exp = DEG_exp[g1]\n",
    "    g2_exp = DEG_exp[g2]\n",
    "    df1 = pd.DataFrame({g1: g1_exp, g2: g2_exp, 'treatment': DEG_exp['treatment']})\n",
    "    df1 = df1.dropna()\n",
    "    sns.scatterplot(x=g1, y=g2, data=df1, hue= 'treatment')\n",
    "    corr1 = df1[g1].corr(df1[g2])\n",
    "    plt.title('Correlation between ' + g1 + ' and ' + g2 + ' is ' + str(corr1))\n",
    "    plt.show()\n",
    "\n",
    "    # plot the scatterplot between DEG of g1 and L\n",
    "    L_exp = pseudo_1[:, L].X\n",
    "    L_exp = pd.DataFrame(L_exp, columns=[L], index=pseudo_1.obs['sample_id'])\n",
    "    L_exp = L_exp.dropna()\n",
    "    L_exp.columns = [L]\n",
    "    df2 = pd.DataFrame({g1: g1_exp, L: L_exp.iloc[:,0], 'treatment': DEG_exp['treatment']})\n",
    "    df2 = df2.dropna()\n",
    "    sns.scatterplot(x=g1, y=L, data=df2, hue= 'treatment')    \n",
    "    corr2 = g1_exp.corr(L_exp.squeeze())\n",
    "    plt.title('Correlation between ' + g1 + ' and ' + L + ' is ' + str(corr2))\n",
    "    plt.show()\n",
    "\n",
    "\n",
    "    # plot the scatterplot between DEG of R and g2\n",
    "    R_exp = pseudo_2[:, R].X\n",
    "    R_exp = pd.DataFrame(R_exp, columns=[R], index=pseudo_2.obs['sample_id'])\n",
    "    R_exp = R_exp.dropna()\n",
    "    df4 = pd.DataFrame({R: R_exp.iloc[:,0], g2: g2_exp, 'treatment': DEG_exp['treatment']})\n",
    "    df4 = df4.dropna()\n",
    "    sns.scatterplot(x=R, y=g2, data=df4, hue='treatment')\n",
    "    corr4 = df4[R].corr(df4[g2].squeeze())\n",
    "    plt.title('Correlation between ' + R + ' and ' + g2 + ' is ' + str(corr4))\n",
    "    plt.show()\n",
    "\n",
    "    # plot the scatterplot between DEG of g1 and g2 residue\n",
    "    L_values = pseudo_1[:, L].X\n",
    "    R_values = pseudo_2[:, R].X\n",
    "    L_R = L_values * R_values\n",
    "    X = sm.add_constant(L_R)\n",
    "    model = sm.OLS(g2_exp,X).fit()\n",
    "    residue = model.resid\n",
    "    condition = DEG_exp['treatment']\n",
    "    corr = g1_exp.corr(residue)\n",
    "    plt.scatter(g1_exp, residue, c= condition)\n",
    "    plt.title('Correlation between ' + g1 + ' and residue of ' + g2 + ' is ' + str(corr))\n",
    "    plt.show()\n",
    "\n",
    "\n",
    "\n",
    "    # plot the g1 and L*R\n",
    "    df3 = pd.DataFrame({g1: g1_exp, L + '*' + R: L_R.squeeze(), 'treatment': DEG_exp['treatment']})\n",
    "    df3 = df3.dropna()\n",
    "    sns.scatterplot(x=g1, y=L_R.squeeze(), data=df3, hue= 'treatment')\n",
    "    L_R = pd.Series(L_R.squeeze(), index=pseudo_1.obs['sample_id'])\n",
    "    corr3 = g1_exp.corr(L_R)\n",
    "    plt.title('Correlation between ' + g1 + ' and ' + L + '*' + R + ' is ' + str(corr3))\n",
    "    plt.show()\n",
    "\n",
    "    # plot the g2 and L*R\n",
    "    df5 = pd.DataFrame({g2: g2_exp, L + '*' + R: L_R.squeeze(), 'treatment': DEG_exp['treatment']})\n",
    "    df5 = df5.dropna()\n",
    "    L_R = pd.Series(L_R.squeeze(), index=pseudo_1.obs['sample_id'])\n",
    "    sns.scatterplot(x=L_R, y=g2, data=df5, hue= 'treatment')\n",
    "    corr5 = g2_exp.corr(L_R)\n",
    "    plt.title('Correlation between ' + g2 + ' and ' + L + '*' + R + ' is ' + str(corr5))\n",
    "    plt.show()\n"
   ]
  },
  {
   "cell_type": "code",
   "execution_count": null,
   "metadata": {},
   "outputs": [],
   "source": [
    "\n",
    "plot_CIT_DEGcorr('PMAIP1_T', 'TNFSF8_B', 'TNFSF10', 'TNFRSF10D', DEG_exp, pseudo_T, pseudo_B)"
   ]
  },
  {
   "cell_type": "code",
   "execution_count": null,
   "metadata": {},
   "outputs": [],
   "source": [
    "plot_CIT_DEGcorr('TXNIP_T', 'CLN8_M', 'CD40LG', 'CD40', DEG_exp, pseudo_T, pseudo_M)"
   ]
  },
  {
   "cell_type": "code",
   "execution_count": null,
   "metadata": {},
   "outputs": [],
   "source": [
    "# FKBP5_T\tAC025164.1_B\tFASLG\tFAS\n",
    "plot_CIT_DEGcorr('FKBP5_T', 'AC025164.1_B', 'FASLG', 'FAS', DEG_exp, pseudo_T, pseudo_B)"
   ]
  },
  {
   "cell_type": "code",
   "execution_count": null,
   "metadata": {},
   "outputs": [],
   "source": [
    "results_M = pd.read_excel('/home/qiuaodon/Desktop/project_data_new/data_IVtest_result/CIT_test_results_M.xlsx')\n"
   ]
  },
  {
   "cell_type": "code",
   "execution_count": null,
   "metadata": {},
   "outputs": [],
   "source": [
    "results_M['g1'].unique()"
   ]
  },
  {
   "cell_type": "code",
   "execution_count": null,
   "metadata": {},
   "outputs": [],
   "source": [
    "results_M['g2'].unique()"
   ]
  }
 ],
 "metadata": {
  "kernelspec": {
   "display_name": "base",
   "language": "python",
   "name": "python3"
  },
  "language_info": {
   "codemirror_mode": {
    "name": "ipython",
    "version": 3
   },
   "file_extension": ".py",
   "mimetype": "text/x-python",
   "name": "python",
   "nbconvert_exporter": "python",
   "pygments_lexer": "ipython3",
   "version": "3.11.5"
  }
 },
 "nbformat": 4,
 "nbformat_minor": 2
}
