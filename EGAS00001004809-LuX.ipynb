{
 "cells": [
  {
   "attachments": {},
   "cell_type": "markdown",
   "metadata": {},
   "source": [
    "# EGAS00001004809 scRNA Data Preprocessing \n"
   ]
  },
  {
   "cell_type": "code",
   "execution_count": null,
   "metadata": {},
   "outputs": [],
   "source": [
    "import numpy as np\n",
    "import matplotlib.pyplot as plt\n",
    "import pandas as pd\n",
    "import scanpy as sc\n",
    "import scipy.io as sio\n",
    "import anndata as ad\n",
    "import os as os\n",
    "import seaborn as sns\n",
    "import sys as sys\n",
    "sys.path.append('/home/xinghua/projects/PanCancer_scRNA_analysis/utils/')"
   ]
  },
  {
   "attachments": {},
   "cell_type": "markdown",
   "metadata": {},
   "source": [
    "### Read in data matrix and combine with meta-data"
   ]
  },
  {
   "cell_type": "code",
   "execution_count": null,
   "metadata": {},
   "outputs": [],
   "source": [
    "\n",
    "### Read in data in H5AD format\n",
    "data_dir = \"/home/data/ICI_exprs/EGAS00001004809/\"\n",
    "data_file =  data_dir + '1863-counts_cells_cohort1.h5ad'\n",
    "\n",
    "adata = sc.read_h5ad(data_file)\n",
    "\n",
    "print (\"Read in dataset with dimension: \" + str(adata.shape))"
   ]
  },
  {
   "cell_type": "code",
   "execution_count": null,
   "metadata": {},
   "outputs": [],
   "source": [
    "# read in the csv meta-data\n",
    "meta_file_pathname = data_dir + \"1872-BIOKEY_metaData_cohort1_web.csv\"\n",
    "cohort1_meta = pd.read_csv(meta_file_pathname, header = 0, index_col = 0)"
   ]
  },
  {
   "cell_type": "code",
   "execution_count": null,
   "metadata": {},
   "outputs": [],
   "source": [
    "adata.obs = cohort1_meta\n",
    "print(adata.obs.columns)\n",
    "print(adata.obs['patient_id'].unique())"
   ]
  },
  {
   "cell_type": "code",
   "execution_count": null,
   "metadata": {},
   "outputs": [],
   "source": [
    "adata.obs[\"timepoint\"].unique()"
   ]
  },
  {
   "cell_type": "code",
   "execution_count": null,
   "metadata": {},
   "outputs": [],
   "source": [
    "nPatients = adata.obs['patient_id'].unique()"
   ]
  },
  {
   "cell_type": "code",
   "execution_count": null,
   "metadata": {},
   "outputs": [],
   "source": [
    "# remove \"cellType\" column and turn it into \"cell_type\"\n",
    "adata.obs['cell_type'] = adata.obs['cellType']\n",
    "\n",
    "# drop 'cellType' column\n",
    "adata.obs.drop('cellType', axis=1, inplace=True)"
   ]
  },
  {
   "attachments": {},
   "cell_type": "markdown",
   "metadata": {},
   "source": [
    "## 1. Basic Filtering"
   ]
  },
  {
   "cell_type": "code",
   "execution_count": null,
   "metadata": {},
   "outputs": [],
   "source": [
    "sc.settings.verbosity = 3             # verbosity: errors (0), warnings (1), info (2), hints (3)\n",
    "sc.logging.print_header()\n",
    "sc.settings.set_figure_params(dpi=80, facecolor='white')"
   ]
  },
  {
   "attachments": {},
   "cell_type": "markdown",
   "metadata": {},
   "source": [
    "#### Removing cells expressing <500 || >5000 genes:"
   ]
  },
  {
   "cell_type": "code",
   "execution_count": null,
   "metadata": {},
   "outputs": [],
   "source": [
    "# removing cells expressing <500 || >5000 genes\n",
    "sc.pp.filter_cells(adata, min_genes=500)\n",
    "sc.pp.filter_cells(adata, max_genes=5000)"
   ]
  },
  {
   "cell_type": "code",
   "execution_count": null,
   "metadata": {},
   "outputs": [],
   "source": [
    "print ('Dimention of adata: ' + str(adata.shape))\n",
    "print ('columns for adata.obs: ' + str(adata.obs.columns))"
   ]
  },
  {
   "attachments": {},
   "cell_type": "markdown",
   "metadata": {},
   "source": [
    "#### Removing cells containing <400 || >25000 UMIs:"
   ]
  },
  {
   "cell_type": "code",
   "execution_count": null,
   "metadata": {},
   "outputs": [],
   "source": [
    "# removing cells containing <400 || >25000 UMIs\n",
    "sc.pp.filter_cells(adata, min_counts = 400)\n",
    "sc.pp.filter_cells(adata, max_counts = 25000)"
   ]
  },
  {
   "cell_type": "code",
   "execution_count": null,
   "metadata": {},
   "outputs": [],
   "source": [
    "print ('Dimention of adata: ' + str(adata.shape))\n",
    "print ('columns for adata.obs: ' + str(adata.obs.columns))"
   ]
  },
  {
   "attachments": {},
   "cell_type": "markdown",
   "metadata": {},
   "source": [
    "# Preprecess with respect to gene (var)\n",
    "#### Removing genes covered by <3 cells per sample\n"
   ]
  },
  {
   "cell_type": "code",
   "execution_count": null,
   "metadata": {},
   "outputs": [],
   "source": [
    "# removing genes covered by <3 cells\n",
    "sc.pp.filter_genes(adata, min_cells= 10)\n",
    "adata.var_names_make_unique()\n",
    "adata.shape"
   ]
  },
  {
   "attachments": {},
   "cell_type": "markdown",
   "metadata": {},
   "source": [
    "### Remove cells with high percentage of mitochondrial genes"
   ]
  },
  {
   "cell_type": "code",
   "execution_count": null,
   "metadata": {},
   "outputs": [],
   "source": [
    "# label genes as mt\n",
    "adata.var['mt'] = adata.var_names.str.startswith('MT-')  \n",
    "\n",
    "# annotate cells with the percent of genes assigned as mt\n",
    "sc.pp.calculate_qc_metrics(adata, qc_vars=['mt'], percent_top=None, log1p=False, inplace=True)\n",
    "\n",
    "# Here we keep cells with < 20% mito ratio\n",
    "adata = adata[adata.obs['pct_counts_mt'] < 20, :]\n",
    "adata.shape"
   ]
  },
  {
   "attachments": {},
   "cell_type": "markdown",
   "metadata": {},
   "source": [
    "### Attention: it appears that a total of 135311 cells has more than 20% MT genes. Need to check with the paper what percentage of cutoff they have used"
   ]
  },
  {
   "attachments": {},
   "cell_type": "markdown",
   "metadata": {},
   "source": [
    "Plot statistics regarding cells"
   ]
  },
  {
   "cell_type": "code",
   "execution_count": null,
   "metadata": {},
   "outputs": [],
   "source": [
    "sc.pl.violin(adata, ['n_genes_by_counts', 'total_counts', 'pct_counts_mt'],\n",
    "             jitter=0.0, multi_panel=True)"
   ]
  },
  {
   "attachments": {},
   "cell_type": "markdown",
   "metadata": {},
   "source": [
    "## 2. Integrating Samples"
   ]
  },
  {
   "attachments": {},
   "cell_type": "markdown",
   "metadata": {},
   "source": [
    "#### Normalization & Logarithmization:"
   ]
  },
  {
   "cell_type": "code",
   "execution_count": null,
   "metadata": {},
   "outputs": [],
   "source": [
    "# Log normalization scaled up to 10000\n",
    "print('Before normalization, the sum of first row of X: ' + str(adata.X[0,:].sum()))\n",
    "sc.pp.normalize_total(adata, target_sum=1e4)\n",
    "print('After normalization, the sum of first row of X: ' + str(adata.X[0,:].sum()))\n"
   ]
  },
  {
   "cell_type": "code",
   "execution_count": null,
   "metadata": {},
   "outputs": [],
   "source": [
    "print('Before log, the sum of first row of X: ' + str(adata.X[0,:].sum()))\n",
    "# Logarithmize adata\n",
    "sc.pp.log1p(adata)\n",
    "print('After log, the sum of first row of X: ' + str(adata.X[0,:].sum()))"
   ]
  },
  {
   "attachments": {},
   "cell_type": "markdown",
   "metadata": {},
   "source": [
    "## Save a pre-process version of the data"
   ]
  },
  {
   "cell_type": "code",
   "execution_count": null,
   "metadata": {},
   "outputs": [],
   "source": [
    "adata.obs"
   ]
  },
  {
   "cell_type": "code",
   "execution_count": null,
   "metadata": {},
   "outputs": [],
   "source": [
    "# write current adata to h5ad\n",
    "adata.write(data_dir + '1863-counts_cells_cohort1_filtered.h5ad')"
   ]
  },
  {
   "cell_type": "code",
   "execution_count": null,
   "metadata": {},
   "outputs": [],
   "source": [
    "# skip the loading and etc\n",
    "adata = sc.read('/home/data/ICI_exprs/EGAS00001004809/1863-counts_cells_cohort1_filtered.h5ad')"
   ]
  },
  {
   "cell_type": "code",
   "execution_count": null,
   "metadata": {},
   "outputs": [],
   "source": [
    "print(adata)"
   ]
  },
  {
   "cell_type": "code",
   "execution_count": null,
   "metadata": {},
   "outputs": [],
   "source": [
    "adata.obs"
   ]
  },
  {
   "attachments": {},
   "cell_type": "markdown",
   "metadata": {},
   "source": [
    "## Keep high variance genes "
   ]
  },
  {
   "cell_type": "code",
   "execution_count": null,
   "metadata": {},
   "outputs": [],
   "source": [
    "sc.pp.highly_variable_genes(adata, min_mean=0.0125, max_mean=3, min_disp=0.5)\n",
    "sc.pl.highly_variable_genes(adata)"
   ]
  },
  {
   "attachments": {},
   "cell_type": "markdown",
   "metadata": {},
   "source": [
    "### Keep track of original adata and update adata.X to  high variance genes only"
   ]
  },
  {
   "cell_type": "code",
   "execution_count": null,
   "metadata": {},
   "outputs": [],
   "source": [
    "adata.raw = adata\n",
    "adata = adata[:, adata.var.highly_variable]\n",
    "print('adata dimensions of high variance genes: ' + str(adata.shape))"
   ]
  },
  {
   "attachments": {},
   "cell_type": "markdown",
   "metadata": {},
   "source": [
    "## 3. Unsupervised cell clustering & identification of major cell types"
   ]
  },
  {
   "cell_type": "code",
   "execution_count": null,
   "metadata": {},
   "outputs": [],
   "source": [
    "# perform PCA   \n",
    "sc.tl.pca(adata, svd_solver='arpack', n_comps=30)"
   ]
  },
  {
   "cell_type": "code",
   "execution_count": null,
   "metadata": {},
   "outputs": [],
   "source": [
    "print(adata.obsm['X_pca'].shape)\n",
    "print(adata.varm['PCs'].shape)\n",
    "print(adata.uns['pca']['variance_ratio'].shape)\n",
    "print(adata.obs.columns)"
   ]
  },
  {
   "cell_type": "code",
   "execution_count": null,
   "metadata": {},
   "outputs": [],
   "source": [
    "sc.pp.neighbors(adata, n_neighbors=80, n_pcs=30)"
   ]
  },
  {
   "cell_type": "code",
   "execution_count": null,
   "metadata": {},
   "outputs": [],
   "source": [
    "# Use the Leiden algorithm to find clusters\n",
    "sc.tl.leiden(adata, resolution=0.5)\n"
   ]
  },
  {
   "cell_type": "code",
   "execution_count": null,
   "metadata": {},
   "outputs": [],
   "source": [
    "# load/find cell cycle markers: T-test/T-cells\n",
    "sc.tl.rank_genes_groups(adata, 'leiden', method='t-test')\n",
    "sc.pl.rank_genes_groups(adata, n_genes=25, sharey=False)"
   ]
  },
  {
   "cell_type": "code",
   "execution_count": null,
   "metadata": {},
   "outputs": [],
   "source": [
    "adata.obs.columns"
   ]
  },
  {
   "attachments": {},
   "cell_type": "markdown",
   "metadata": {},
   "source": [
    "## 3. Unsupervised cell clustering & identification of major cell types"
   ]
  },
  {
   "cell_type": "code",
   "execution_count": null,
   "metadata": {},
   "outputs": [],
   "source": [
    "# perform UMAP\n",
    "sc.tl.umap(adata)\n",
    "sc.pl.umap(adata, color='leiden',legend_loc='on data')\n",
    "\n"
   ]
  },
  {
   "cell_type": "code",
   "execution_count": null,
   "metadata": {},
   "outputs": [],
   "source": [
    "# color by gene expression of T cell markers\n",
    "sc.pl.umap(adata, color= ['CD3D', 'CD3E', 'TRAC', 'TRBC1'])"
   ]
  },
  {
   "cell_type": "code",
   "execution_count": null,
   "metadata": {},
   "outputs": [],
   "source": [
    "# color by gene expression of B cell markers\n",
    "sc.pl.umap(adata, color= ['CD19', 'CD79A', 'CD79B', 'MS4A1'])\n"
   ]
  },
  {
   "cell_type": "code",
   "execution_count": null,
   "metadata": {},
   "outputs": [],
   "source": [
    "# color by gene expression of myeloid cell markers\n",
    "sc.pl.umap(adata, color= ['CD14', 'CD68', 'CD163', 'CD33'])"
   ]
  },
  {
   "cell_type": "code",
   "execution_count": null,
   "metadata": {},
   "outputs": [],
   "source": [
    "# color by gene expression of epi cell markers\n",
    "sc.pl.umap(adata, color= ['EPCAM', 'CD24','KRT19', 'KRT7'])"
   ]
  },
  {
   "cell_type": "code",
   "execution_count": null,
   "metadata": {},
   "outputs": [],
   "source": [
    "# color by gene expression of fibroblast cell markers   \n",
    "sc.pl.umap(adata, color= ['COL1A1', 'COL1A2', 'COL3A1', 'ACTA2'])"
   ]
  },
  {
   "cell_type": "code",
   "execution_count": null,
   "metadata": {},
   "outputs": [],
   "source": [
    "# color by gene expression of endothelial cell markers  \n",
    "sc.pl.umap(adata, color= ['PECAM1', 'CD34', 'VWF', 'CDH5'])"
   ]
  },
  {
   "attachments": {},
   "cell_type": "markdown",
   "metadata": {},
   "source": [
    "## Label cells based on cell markers"
   ]
  },
  {
   "cell_type": "code",
   "execution_count": null,
   "metadata": {},
   "outputs": [],
   "source": [
    "cell_type_markers = {\n",
    "    'T cells': ['CD3D', 'CD3E', 'TRAC', 'TRBC1'],\n",
    "    'B cells': ['CD79A', 'CD79B', 'MS4A1', 'TNFRSF17', 'MZB1'],\n",
    "    'Myeloid': ['CD14', 'CD68'],\n",
    "    'Epithelial': ['EPCAM', 'CD24'],\n",
    "    'Fibroblast': ['COL1A2', 'COL3A1', 'MYH11', 'ACTA2'],\n",
    "    'Endothelial': ['VWF', 'PECAM1']\n",
    "}\n",
    "sc.tl.dendrogram(adata, groupby='leiden')\n",
    "sc.pl.dotplot(adata, cell_type_markers, 'leiden', dendrogram=True)\n",
    "#sc.pl.umap(adata, color='clusters', legend_loc='on data')\n"
   ]
  },
  {
   "attachments": {},
   "cell_type": "markdown",
   "metadata": {},
   "source": [
    "### Function to annotate clusters with cell type"
   ]
  },
  {
   "cell_type": "code",
   "execution_count": null,
   "metadata": {},
   "outputs": [],
   "source": [
    "def labelClusterWithCellType(adata, cell_type_markers, cluster_column='leiden'):\n",
    "    '''\n",
    "    This function will label each cluster with the cell type that is most abundant in that cluster.\n",
    "\n",
    "    Parameters:\n",
    "        adata: AnnData object\n",
    "        cell_type_markers: a dictionary where the key is the cell type and the value is a list of markers for that cell type\n",
    "        cluster_column: the column in adata.obs that contains the cluster labels\n",
    "\n",
    "    Returns:\n",
    "        adata: AnnData object with a new column in adata.obs called 'cell_type' that contains the cell type label for each cell\n",
    "    \n",
    "    '''\n",
    "\n",
    "    # find total number of clusters   \n",
    "    cls_ids = adata.obs[cluster_column].unique()\n",
    "    \n",
    "    # iterate through all cluster\n",
    "    for i in cls_ids:\n",
    "        # find cells in cluster i        \n",
    "        cell_in_cls_i = adata.obs[cluster_column] == i  \n",
    "        # this will return a vector of True/False where True means the cell is in cluster i\n",
    "        # print('processing cluster: ' + str(i) + ' with ' + str(sum(cell_in_cls_i)) + ' cells')\n",
    "\n",
    "        # keep track of which cell type is most abundant in cluster i\n",
    "        cell_type_cluster_overlapp_pct = dict()\n",
    "\n",
    "        #iterate through key and value of cell_type_markers\n",
    "        for cell_type, marker_genes in cell_type_markers.items():   \n",
    "            # Extract the expression of all marker genes for cells in cluster i\n",
    "            # this will return a sparse matrix of cells x markers\n",
    "            cell_w_marker_genes = adata.raw.X[:, adata.raw.var_names.isin(marker_genes)] > 0  \n",
    "            \n",
    "            # change cell_in_cls_i to numpy array and repeat it to match the shape of cell_w_marker_genes\n",
    "            cell_in_cls_i_m = np.tile(cell_in_cls_i.to_numpy(), (cell_w_marker_genes.shape[1], 1)).T\n",
    "\n",
    "            # find cells in cluster i that express the marker\n",
    "            # this create a matrix of cells x markers where True means the cell express the marker and in cluster i\n",
    "            cell_w_marker_genes = cell_w_marker_genes.toarray() & cell_in_cls_i_m\n",
    "\n",
    "            # caclualte average markers expressed in each cell in Marker_genes_i\n",
    "            nmarker_per_cell = np.sum(cell_w_marker_genes, axis=0) / cell_w_marker_genes.shape[1]\n",
    "            #print(nmarker_per_cell)\n",
    "\n",
    "            # keep track of which cell type is most abundant in cluster i\n",
    "            # assuming the cell type with the highest average marker present is the most abundant         \n",
    "            cell_type_cluster_overlapp_pct[cell_type] = np.sum(nmarker_per_cell) / sum(cell_in_cls_i)\n",
    "\n",
    "        # check with cell type is most abundant in cluster i\n",
    "        max_type = max(cell_type_cluster_overlapp_pct, key=cell_type_cluster_overlapp_pct.get)\n",
    "        print('Cluster ' + str(i) + ' is most likely ' + max_type + ' with ' + str(cell_type_cluster_overlapp_pct[max_type]) + ' overlap')\n",
    "        adata.obs.loc[cell_in_cls_i, 'cell_type'] = max_type           \n",
    "        \n"
   ]
  },
  {
   "cell_type": "code",
   "execution_count": null,
   "metadata": {},
   "outputs": [],
   "source": [
    "adata.obs.drop(columns=\"cell_type\", inplace=True)"
   ]
  },
  {
   "cell_type": "code",
   "execution_count": null,
   "metadata": {},
   "outputs": [],
   "source": [
    "labelClusterWithCellType(adata, cell_type_markers)"
   ]
  },
  {
   "cell_type": "code",
   "execution_count": null,
   "metadata": {},
   "outputs": [],
   "source": [
    "sc.pl.umap(adata, color='cell_type')"
   ]
  },
  {
   "attachments": {},
   "cell_type": "markdown",
   "metadata": {},
   "source": [
    "sc.pl.umap(adata, color='clusters', legend_loc='on data')"
   ]
  },
  {
   "attachments": {},
   "cell_type": "markdown",
   "metadata": {},
   "source": [
    "## Extract T cells and create a new AnnData object"
   ]
  },
  {
   "cell_type": "code",
   "execution_count": null,
   "metadata": {},
   "outputs": [],
   "source": [
    "## Extract T cells and create a new AnnData object\n",
    "adata_T = adata[adata.obs['cell_type'] == 'T cells'].copy()\n",
    "adata_T.shape"
   ]
  },
  {
   "cell_type": "code",
   "execution_count": null,
   "metadata": {},
   "outputs": [],
   "source": [
    "# restore the X to original raw.X for re-processing \n",
    "adata_T  = ad.AnnData(X=adata_T.raw.X, obs=adata_T.obs, var=adata_T.raw.var, obsm=adata_T.obsm, uns=adata_T.uns)\n",
    "adata_T.raw = adata_T\n",
    "adata_T.write(data_dir + '1863-counts_cells_cohort1_T_cells.h5ad')\n",
    "print(str(adata_T.shape))\n"
   ]
  },
  {
   "attachments": {},
   "cell_type": "markdown",
   "metadata": {},
   "source": [
    "Re-select high variance genes"
   ]
  },
  {
   "cell_type": "code",
   "execution_count": null,
   "metadata": {},
   "outputs": [],
   "source": [
    "# re-caculate high variance genes\n",
    "sc.pp.highly_variable_genes(adata_T, min_mean=0.0125, max_mean=3, min_disp=0.5)\n",
    "sc.pl.highly_variable_genes(adata_T)\n",
    "len(adata_T.var_names)"
   ]
  },
  {
   "attachments": {},
   "cell_type": "markdown",
   "metadata": {},
   "source": [
    "### Reclustering T cells and find where PD-1 and its target express"
   ]
  },
  {
   "cell_type": "code",
   "execution_count": null,
   "metadata": {},
   "outputs": [],
   "source": [
    "# cluster T cells \n",
    "sc.tl.pca(adata_T, svd_solver='arpack', n_comps=40)\n",
    "sc.pp.neighbors(adata_T, n_neighbors=80, n_pcs=40)"
   ]
  },
  {
   "cell_type": "code",
   "execution_count": null,
   "metadata": {},
   "outputs": [],
   "source": [
    "sc.tl.leiden(adata_T, resolution=.25)\n",
    "sc.tl.umap(adata_T)\n",
    "sc.pl.umap(adata_T, color='leiden',legend_loc='on data')"
   ]
  },
  {
   "attachments": {},
   "cell_type": "markdown",
   "metadata": {},
   "source": [
    "### Label TNK subtypes"
   ]
  },
  {
   "cell_type": "code",
   "execution_count": null,
   "metadata": {},
   "outputs": [],
   "source": [
    "T_cell_makers = {\n",
    "    'CD4'\t: ['CD4', 'IL7R'],\n",
    "    'CD8'\t: [ 'CD8A', 'CD8B'],\n",
    "    'Naïve'\t: ['TCF7', 'SELL', 'LEF1', 'CCR7'],\n",
    "    'Exhausted' : ['LAG3', 'TIGIT', 'PDCD1', 'HAVCR2', 'CTLA4'],\n",
    "    'Cytotoxic' : ['IL2', 'GZMA', 'GNLY', 'PRF1', 'GZMB', 'GZMK', 'IFNG', 'NKG7'],\n",
    "    'Treg' : ['IL2RA', 'FOXP3', 'IKZF2', 'IKZF4',  'TNFRSF18'],\n",
    "    'Gamma-delta' : ['TRGC1', 'TRGC2', 'TRDC'],\n",
    "    'Th17' : ['IL17A',  'CCR6', 'KLRB1'],  #'IL22',\n",
    "    'MAIT' : ['SLC4A10', 'KLRB1', 'IL7R', 'DPP4'],  \n",
    "    'ILC' :\t['KIT', 'IL1R1'],\n",
    "    'Th1' :\t['STAT4', 'IL12RB2', 'IFNG'],\n",
    "    'Th2' :\t['GATA3', 'STAT6', 'IL4'],\n",
    "    'Tfh'\t: ['MAF', 'CXCL13', 'CXCR5', 'PDCD1'],\n",
    "    'NK' :  ['XCL1', 'FCGR3A', 'KLRD1', 'KLRF1', 'NCAM1'],\n",
    "    'Proliferation' : ['MKI67', 'PCNA', 'STMN1']\n",
    "}"
   ]
  },
  {
   "attachments": {},
   "cell_type": "markdown",
   "metadata": {},
   "source": [
    "### Plot"
   ]
  },
  {
   "cell_type": "code",
   "execution_count": null,
   "metadata": {},
   "outputs": [],
   "source": [
    "sc.tl.dendrogram(adata_T, groupby='leiden')\n",
    "sc.pl.dotplot(adata_T, T_cell_makers, 'leiden', dendrogram=True)"
   ]
  },
  {
   "cell_type": "code",
   "execution_count": null,
   "metadata": {},
   "outputs": [],
   "source": [
    "for cell_type, markers in T_cell_makers.items():\n",
    "    print (cell_type, \":\", markers)\n",
    "    sc.pl.umap(adata_T, color=markers)"
   ]
  },
  {
   "cell_type": "code",
   "execution_count": null,
   "metadata": {},
   "outputs": [],
   "source": [
    "adata_T.obs.drop(columns=\"cell_type\", inplace = True )\n",
    "labelClusterWithCellType(adata_T, T_cell_makers, cluster_column='leiden')\n",
    "sc.pl.umap(adata_T, color='cell_type')"
   ]
  },
  {
   "attachments": {},
   "cell_type": "markdown",
   "metadata": {},
   "source": [
    "Plot PD-1 and potential target genes"
   ]
  },
  {
   "cell_type": "code",
   "execution_count": null,
   "metadata": {},
   "outputs": [],
   "source": [
    "sc.pl.umap(adata_T, color= ['PDCD1', 'CXCL13', 'HAVCR2','CTLA4'])"
   ]
  },
  {
   "attachments": {},
   "cell_type": "markdown",
   "metadata": {},
   "source": [
    "The enriched genes for each cluster"
   ]
  },
  {
   "cell_type": "code",
   "execution_count": null,
   "metadata": {},
   "outputs": [],
   "source": [
    "# load/find cell cycle markers: T-test/T-cells\n",
    "sc.tl.rank_genes_groups(adata_T, 'leiden', method='t-test')\n",
    "sc.pl.rank_genes_groups(adata_T, n_genes=25, sharey=False)"
   ]
  },
  {
   "attachments": {},
   "cell_type": "markdown",
   "metadata": {},
   "source": [
    "### Examine the distribution of PDCD1 and potential target genes"
   ]
  },
  {
   "cell_type": "code",
   "execution_count": null,
   "metadata": {},
   "outputs": [],
   "source": [
    "# extract cells belonging to cluster 3, 4\n",
    "adata_T_34 = adata_T[adata_T.obs['leiden'].isin(['3', '4'])].copy()"
   ]
  },
  {
   "cell_type": "code",
   "execution_count": null,
   "metadata": {},
   "outputs": [],
   "source": [
    "# compare distribution of PDCD1, CXCL13, HAVCR2, CTLA4 conditioning on timepoint\n",
    "sc.pl.violin(adata_T_34, ['PDCD1', 'CXCL13', 'CCL3', 'HAVCR2','CTLA4'], groupby='timepoint')\n"
   ]
  },
  {
   "cell_type": "code",
   "execution_count": null,
   "metadata": {},
   "outputs": [],
   "source": [
    "# plot the umap with the timepoint\n",
    "sc.pl.umap(adata_T_34, color=['timepoint', 'PDCD1', 'CXCL13', 'HAVCR2','CTLA4'])"
   ]
  },
  {
   "cell_type": "code",
   "execution_count": null,
   "metadata": {},
   "outputs": [],
   "source": [
    "# show the distribution of the timepoint\n",
    "sc.pl.umap(adata_T, color = ['timepoint'])"
   ]
  },
  {
   "cell_type": "code",
   "execution_count": null,
   "metadata": {},
   "outputs": [],
   "source": [
    "adata_T.obs.columns"
   ]
  },
  {
   "attachments": {},
   "cell_type": "markdown",
   "metadata": {},
   "source": [
    "## Extract Myeloid and B cells  "
   ]
  },
  {
   "attachments": {},
   "cell_type": "markdown",
   "metadata": {},
   "source": [
    "## myeloid"
   ]
  },
  {
   "cell_type": "code",
   "execution_count": null,
   "metadata": {},
   "outputs": [],
   "source": [
    "adata.obs['cell_type']"
   ]
  },
  {
   "cell_type": "code",
   "execution_count": null,
   "metadata": {},
   "outputs": [],
   "source": [
    "## Extract myeloid cells and create a new AnnData object\n",
    "adata_M = adata[adata.obs['cell_type'] == 'Myeloid'].copy()\n"
   ]
  },
  {
   "cell_type": "code",
   "execution_count": null,
   "metadata": {},
   "outputs": [],
   "source": [
    "# restore the X to original raw.X for re-processing \n",
    "adata_M  = ad.AnnData(X=adata_M.raw.X, obs=adata_M.obs, var=adata_M.raw.var, obsm=adata_M.obsm, uns=adata_M.uns)\n",
    "adata_M.raw = adata_M\n",
    "print(str(adata_M.shape))\n",
    "\n",
    "adata_M.shape"
   ]
  },
  {
   "attachments": {},
   "cell_type": "markdown",
   "metadata": {},
   "source": [
    "re-calculate high variance genes"
   ]
  },
  {
   "cell_type": "code",
   "execution_count": null,
   "metadata": {},
   "outputs": [],
   "source": [
    "# re-caculate high variance genes-- from Dr. Lu's EGAS00001004809\n",
    "\n",
    "sc.pp.highly_variable_genes(adata_M, min_mean=0.0125, max_mean=3, min_disp=0.5)\n",
    "sc.pl.highly_variable_genes(adata_M)\n",
    "len(adata_M.var_names)"
   ]
  },
  {
   "attachments": {},
   "cell_type": "markdown",
   "metadata": {},
   "source": [
    "re-clustering Myeloid"
   ]
  },
  {
   "cell_type": "code",
   "execution_count": null,
   "metadata": {},
   "outputs": [],
   "source": [
    "# cluster myeloid \n",
    "sc.tl.pca(adata_M, svd_solver='arpack', n_comps=40)\n",
    "sc.pp.neighbors(adata_M, n_neighbors=80, n_pcs=40)"
   ]
  },
  {
   "cell_type": "code",
   "execution_count": null,
   "metadata": {},
   "outputs": [],
   "source": [
    "sc.tl.leiden(adata_M, resolution=.5)\n",
    "sc.tl.umap(adata_M)\n",
    "sc.pl.umap(adata_M, color='leiden',legend_loc='on data')"
   ]
  },
  {
   "cell_type": "code",
   "execution_count": null,
   "metadata": {},
   "outputs": [],
   "source": [
    "# myeloid_markers = {\n",
    "#     'Monocyte': ['CD14', 'CD16', 'FCGR3A', 'CSF1R'],\n",
    "#     'Macrophage': ['CD68', 'CD163', 'CD206', 'CD11b', 'CD11c'],\n",
    "#     'Dendritic': ['CD11c', 'HLA-DR', 'CD86', 'CD209'],\n",
    "#     'Neutrophil': ['CD66b', 'CD16', 'CD11b', 'MPO', 'CXCR2'],\n",
    "#     'Mast Cell': ['FCER1A', 'TPSAB1', 'TPSB2', 'CPA3'],\n",
    "#     'Eosinophil': ['SIGLEC8', 'CCL26', 'PRG2', 'RNASE2'],\n",
    "#     'Basophil': ['CD203c', 'TPT1', 'HLA-DR'],\n",
    "#     'Monocyte-derived DC': ['CD1c', 'CD1a', 'CD14', 'CD16', 'CD11c', 'CD11b'],\n",
    "#     'Plasmacytoid DC': ['CD303', 'CD304', 'IL3RA', 'HLA-DR'],\n",
    "#     'Osteoclast': ['ACP5', 'CALCR', 'CSTK', 'CD14', 'CD68'],\n",
    "#     'Microglia': ['CD11b', 'CD45', 'TMEM119', 'P2RY12'],\n",
    "#     'Histiocyte': ['CD163', 'CD68', 'CD14'],\n",
    "#     'MDC-1': ['CLEC9A', 'CD1c', 'CD141', 'CD11c', 'HLA-DR'],\n",
    "#     'MDC-2': ['CD1a', 'CD207', 'CD11c', 'HLA-DR'],\n",
    "#     'Langerhans': ['CD207', 'CD1a', 'CD207', 'CD11c', 'HLA-DR']\n",
    "# }\n",
    "\n",
    "myeloid_markers = {\n",
    "    'Monocyte': ['CD14', 'CD16', 'FCGR3A', 'CSF1R'],\n",
    "    'Macrophage': ['CD68', 'CD163', 'CD206', 'CD11b'],\n",
    "    'Dendritic': ['HLA-DR', 'CD86', 'CD209'],\n",
    "    'Neutrophil': ['CD16', 'CD11b', 'CXCR2'],\n",
    "    'Mast Cell': ['FCER1A'],\n",
    "    'Eosinophil': ['CCL26', 'PRG2'],\n",
    "    'Basophil': ['CD203c'],\n",
    "    'Monocyte-derived DC': ['CD1c', 'CD1a', 'CD14', 'CD16', 'CD11c', 'CD11b'],\n",
    "    'Plasmacytoid DC': ['CD303', 'CD304', 'IL3RA', 'HLA-DR'],\n",
    "    'Histiocyte': ['CD163', 'CD68', 'CD14'],\n",
    "    'MDC-1': ['CLEC9A', 'CD1c', 'CD141', 'CD11c', 'HLA-DR'],\n",
    "    'MDC-2': ['CD1a', 'CD207', 'CD11c', 'HLA-DR'],\n",
    "    'Langerhans': ['CD207', 'CD1a', 'CD11c', 'HLA-DR']\n",
    "}\n",
    "\n"
   ]
  },
  {
   "cell_type": "code",
   "execution_count": null,
   "metadata": {},
   "outputs": [],
   "source": [
    "adata_M.obs.drop(columns=\"cell_type\", inplace = True )\n",
    "labelClusterWithCellType(adata_M, myeloid_markers, cluster_column='leiden')\n",
    "sc.pl.umap(adata_M, color='cell_type')"
   ]
  },
  {
   "cell_type": "code",
   "execution_count": null,
   "metadata": {},
   "outputs": [],
   "source": [
    "sc.pl.umap(adata_M, color=['timepoint'], palette = 'Set1')"
   ]
  },
  {
   "cell_type": "code",
   "execution_count": null,
   "metadata": {},
   "outputs": [],
   "source": [
    "sc.pl.umap(adata_M, color=['timepoint', 'cell_type'])\n"
   ]
  },
  {
   "cell_type": "code",
   "execution_count": null,
   "metadata": {},
   "outputs": [],
   "source": [
    "adata_M.obs"
   ]
  },
  {
   "cell_type": "code",
   "execution_count": null,
   "metadata": {},
   "outputs": [],
   "source": [
    "adata_M.var"
   ]
  },
  {
   "attachments": {},
   "cell_type": "markdown",
   "metadata": {},
   "source": [
    "plot"
   ]
  },
  {
   "cell_type": "code",
   "execution_count": null,
   "metadata": {},
   "outputs": [],
   "source": [
    "# save adata_M to a file \n",
    "\n",
    "adata_M.write('/home/data/ICI_exprs/ICI_Myeloid_cell_collection/1863-counts_cells_cohort1_M_cells.h5ad')"
   ]
  },
  {
   "attachments": {},
   "cell_type": "markdown",
   "metadata": {},
   "source": [
    "## B-cells"
   ]
  },
  {
   "cell_type": "code",
   "execution_count": null,
   "metadata": {},
   "outputs": [],
   "source": [
    "## Extract B cells and create a new AnnData object\n",
    "adata_B = adata[adata.obs['cell_type'] == 'B cells'].copy()"
   ]
  },
  {
   "attachments": {},
   "cell_type": "markdown",
   "metadata": {},
   "source": [
    "re-calculate high variance genes"
   ]
  },
  {
   "cell_type": "code",
   "execution_count": null,
   "metadata": {},
   "outputs": [],
   "source": [
    "# re-caculate high variance genes-- from Dr. Lu's EGAS00001004809\n",
    "\n",
    "sc.pp.highly_variable_genes(adata_B, min_mean=0.0125, max_mean=3, min_disp=0.5)\n",
    "sc.pl.highly_variable_genes(adata_B)\n",
    "len(adata_B.var_names)"
   ]
  },
  {
   "attachments": {},
   "cell_type": "markdown",
   "metadata": {},
   "source": [
    "re-clustering B-cells"
   ]
  },
  {
   "cell_type": "code",
   "execution_count": null,
   "metadata": {},
   "outputs": [],
   "source": [
    "# cluster B cells \n",
    "sc.tl.pca(adata_B, svd_solver='arpack', n_comps=40)\n",
    "sc.pp.neighbors(adata_B, n_neighbors=80, n_pcs=40)"
   ]
  },
  {
   "cell_type": "code",
   "execution_count": null,
   "metadata": {},
   "outputs": [],
   "source": [
    "sc.tl.leiden(adata_B, resolution=.5)\n",
    "sc.tl.umap(adata_B)\n",
    "sc.pl.umap(adata_B, color='leiden',legend_loc='on data')"
   ]
  },
  {
   "cell_type": "code",
   "execution_count": null,
   "metadata": {},
   "outputs": [],
   "source": [
    "b_cell_markers = {\n",
    "    'B_cell' : ['CD19', 'CD20', 'CD79A', 'CD79B', 'MS4A1', 'IGHM', 'IGLC2', 'IGLC3', 'IGHG1'],\n",
    "    'Plasma_cell' : ['CD38', 'CD138', 'XBP1', 'PRDM1', 'IRF4', 'MUM1'],\n",
    "    'Memory_B_cell' : ['CD27', 'CD21', 'CD23', 'CD24', 'CD5'],\n",
    "    'Naive_B_cell' : ['CD27', 'CD21', 'CD23', 'CD24', 'CD5', 'CD38'],\n",
    "    'Germinal_center_B_cell' : ['BCL6', 'PAX5', 'CD10', 'CD38'],\n",
    "    'Follicular_B_cell' : ['CD21', 'CD35', 'CXCR4', 'CD23'],\n",
    "    'Marginal_zone_B_cell' : ['CD27', 'CD21', 'CD35', 'IgM', 'IgD'],\n",
    "    'B1_cell' : ['CD20', 'CD43', 'CD5', 'IgM', 'IgD'],\n",
    "    'B_regulatory_cell' : ['CD19', 'CD20', 'CD24', 'CD38', 'CD5', 'CD27', 'CD1d', 'CD21'],\n",
    "    'Plasmablast' : ['CD38', 'CD138', 'IRF4', 'XBP1', 'PRDM1', 'MUM1'],\n",
    "    'Transitional_B_cell' : ['CD10', 'CD24', 'CD38', 'CD21', 'CD23'],\n",
    "    'IgM_B_cell' : ['IgM'],\n",
    "    'IgD_B_cell' : ['IgD']\n",
    "}\n"
   ]
  },
  {
   "cell_type": "code",
   "execution_count": null,
   "metadata": {},
   "outputs": [],
   "source": [
    "adata_B.obs.drop(columns=\"cell_type\", inplace = True )\n",
    "labelClusterWithCellType(adata_B, b_cell_markers, cluster_column='leiden')\n",
    "sc.pl.umap(adata_B, color='cell_type')"
   ]
  },
  {
   "cell_type": "code",
   "execution_count": null,
   "metadata": {},
   "outputs": [],
   "source": [
    "sc.pl.umap(adata_B, color=['timepoint'], palette = 'Set1')"
   ]
  },
  {
   "cell_type": "code",
   "execution_count": null,
   "metadata": {},
   "outputs": [],
   "source": [
    "sc.pl.umap(adata_B, color=['timepoint', 'cell_type'])\n"
   ]
  },
  {
   "cell_type": "code",
   "execution_count": null,
   "metadata": {},
   "outputs": [],
   "source": [
    "adata_B.shape"
   ]
  },
  {
   "cell_type": "code",
   "execution_count": null,
   "metadata": {},
   "outputs": [],
   "source": [
    "adata_B.obs"
   ]
  },
  {
   "cell_type": "code",
   "execution_count": null,
   "metadata": {},
   "outputs": [],
   "source": [
    "adata_B.var"
   ]
  },
  {
   "cell_type": "code",
   "execution_count": null,
   "metadata": {},
   "outputs": [],
   "source": [
    "# save adata_B to a file \n",
    "\n",
    "adata_B.write('/data/ICI_exprs/ICI_B_cell_collection/1863-counts_cells_cohort1_B_cells.h5ad')"
   ]
  },
  {
   "attachments": {},
   "cell_type": "markdown",
   "metadata": {},
   "source": [
    "# epithelial cells"
   ]
  },
  {
   "cell_type": "code",
   "execution_count": null,
   "metadata": {},
   "outputs": [],
   "source": [
    "## Extract epithelial cells and create a new AnnData object\n",
    "adata_Ep = adata[adata.obs['cell_type'] == 'Epithelial'].copy()\n"
   ]
  },
  {
   "cell_type": "code",
   "execution_count": null,
   "metadata": {},
   "outputs": [],
   "source": [
    "# restore the X to original raw.X for re-processing \n",
    "adata_Ep  = ad.AnnData(X=adata_Ep.raw.X, obs=adata_Ep.obs, var=adata_Ep.raw.var, obsm=adata_Ep.obsm, uns=adata_Ep.uns)\n",
    "adata_Ep.raw = adata_Ep\n",
    "print(str(adata_Ep.shape))\n",
    "\n",
    "adata_Ep.shape"
   ]
  },
  {
   "attachments": {},
   "cell_type": "markdown",
   "metadata": {},
   "source": [
    "re-calculate high variance genes"
   ]
  },
  {
   "cell_type": "code",
   "execution_count": null,
   "metadata": {},
   "outputs": [],
   "source": [
    "# re-caculate high variance genes-- from Dr. Lu's EGAS00001004809\n",
    "\n",
    "sc.pp.highly_variable_genes(adata_Ep, min_mean=0.0125, max_mean=3, min_disp=0.5)\n",
    "sc.pl.highly_variable_genes(adata_Ep)\n",
    "len(adata_Ep.var_names)"
   ]
  },
  {
   "attachments": {},
   "cell_type": "markdown",
   "metadata": {},
   "source": [
    "re-clustering epithelial"
   ]
  },
  {
   "cell_type": "code",
   "execution_count": null,
   "metadata": {},
   "outputs": [],
   "source": [
    "# cluster epithelial \n",
    "sc.tl.pca(adata_Ep, svd_solver='arpack', n_comps=40)\n",
    "sc.pp.neighbors(adata_Ep, n_neighbors=80, n_pcs=40)"
   ]
  },
  {
   "cell_type": "code",
   "execution_count": null,
   "metadata": {},
   "outputs": [],
   "source": [
    "sc.tl.leiden(adata_Ep, resolution=.5)\n",
    "sc.tl.umap(adata_Ep)\n",
    "sc.pl.umap(adata_Ep, color='leiden',legend_loc='on data')"
   ]
  },
  {
   "cell_type": "code",
   "execution_count": null,
   "metadata": {},
   "outputs": [],
   "source": [
    "epithelial_markers = {\n",
    "    'Epithelial_cell': ['EPCAM', 'KRT5', 'KRT8', 'KRT18', 'KRT19'],\n",
    "    'Basal_cell': ['KRT5', 'CD44', 'ITGA6', 'TP63'],\n",
    "    'Luminal_cell': ['KRT8', 'KRT18', 'KRT19', 'CD24', 'CDH1', 'ESR1'],\n",
    "    'Club_cell': ['SCGB1A1', 'CC10', 'UTP4', 'Foxj1'],\n",
    "    'Ciliated_cell': ['FOXJ1', 'DNAH5', 'CCNO', 'RSPH4A'],\n",
    "    'Goblet_cell': ['MUC5AC', 'MUC2', 'TFF3', 'SPDEF'],\n",
    "    'Neuroendocrine_cell': ['CHGA', 'SYP', 'NCAM1', 'CD56'],\n",
    "    'Secretory_cell': ['MUC5B', 'LYZ', 'SPINK4', 'SCGB3A2'],\n",
    "    'Transitional_cell': ['KRT5', 'KRT8', 'KRT18', 'KRT19', 'KRT14']\n",
    "}\n"
   ]
  },
  {
   "cell_type": "code",
   "execution_count": null,
   "metadata": {},
   "outputs": [],
   "source": [
    "adata_Ep.obs.drop(columns=\"cell_type\", inplace = True )\n",
    "labelClusterWithCellType(adata_Ep, epithelial_markers, cluster_column='leiden')\n",
    "sc.pl.umap(adata_Ep, color='cell_type')"
   ]
  },
  {
   "cell_type": "code",
   "execution_count": null,
   "metadata": {},
   "outputs": [],
   "source": [
    "sc.pl.umap(adata_Ep, color=['timepoint'], palette = 'Set1')"
   ]
  },
  {
   "cell_type": "code",
   "execution_count": null,
   "metadata": {},
   "outputs": [],
   "source": [
    "sc.pl.umap(adata_Ep, color=['timepoint', 'cell_type'])\n"
   ]
  },
  {
   "cell_type": "code",
   "execution_count": null,
   "metadata": {},
   "outputs": [],
   "source": [
    "adata_Ep.obs"
   ]
  },
  {
   "cell_type": "code",
   "execution_count": null,
   "metadata": {},
   "outputs": [],
   "source": [
    "adata_Ep.var"
   ]
  },
  {
   "attachments": {},
   "cell_type": "markdown",
   "metadata": {},
   "source": [
    "plot"
   ]
  },
  {
   "cell_type": "code",
   "execution_count": null,
   "metadata": {},
   "outputs": [],
   "source": [
    "# save adata_Ep to a file \n",
    "\n",
    "adata_Ep.write('/home/data/ICI_exprs/ICI_Epi_cell_collection/1863-counts_cells_cohort1_Epithelial_cells.h5ad')"
   ]
  },
  {
   "attachments": {},
   "cell_type": "markdown",
   "metadata": {},
   "source": [
    "# function for extracting cell types"
   ]
  },
  {
   "cell_type": "code",
   "execution_count": null,
   "metadata": {},
   "outputs": [],
   "source": [
    "def analyze_cell_type(adata, cell_type, markers, adata_name):\n",
    "    '''\n",
    "    this function should automatically extract a desired cell type for the user to save to a .h5ad file.  \n",
    "\n",
    "    '''\n",
    "\n",
    "    # set Scanpy plotting parameters\n",
    "    sc.set_figure_params()\n",
    "\n",
    "    # make a copy of adata\n",
    "    adata = adata.copy()\n",
    "\n",
    "    # extract cells and create a new AnnData object\n",
    "    adata_type = adata[adata.obs['cell_type'] == cell_type].copy()\n",
    "\n",
    "    # restore the X to the original raw.X for re-processing\n",
    "    adata_type = ad.AnnData(X=adata_type.raw.X, obs=adata_type.obs, var=adata_type.raw.var, obsm=adata_type.obsm, uns=adata_type.uns)\n",
    "    adata_type.raw = adata_type\n",
    "    print(str(adata_type.shape))\n",
    "\n",
    "    # re-calculate highly variable genes\n",
    "    sc.pp.highly_variable_genes(adata_type, min_mean=0.0125, max_mean=3, min_disp=0.5)\n",
    "    sc.pl.highly_variable_genes(adata_type)\n",
    "    len(adata_type.var_names)\n",
    "\n",
    "    # re-cluster the specified cell type\n",
    "    sc.tl.pca(adata_type, svd_solver='arpack', n_comps=40)\n",
    "    sc.pp.neighbors(adata_type, n_neighbors=80, n_pcs=40)\n",
    "    sc.tl.leiden(adata_type, resolution=.5)\n",
    "    \n",
    "    sc.tl.umap(adata_type)\n",
    "    sc.pl.umap(adata_type, color='leiden', legend_loc='on data')\n",
    "\n",
    "    \n",
    "\n",
    "    # apply cell type labels using the marker dictionary\n",
    "    adata_type.obs.drop(columns=\"cell_type\", inplace=True)\n",
    "    labelClusterWithCellType(adata_type, markers, cluster_column='leiden')\n",
    "\n",
    "    # UMAP\n",
    "    sc.pl.umap(adata_type, color='cell_type')\n",
    "\n",
    "    # more UMAPs\n",
    "    sc.pl.umap(adata_type, color=['timepoint', 'cell_type'])\n",
    "\n",
    "    # save a copy of adata_type under custom name\n",
    "    globals()[adata_name] = adata_type\n"
   ]
  },
  {
   "cell_type": "code",
   "execution_count": null,
   "metadata": {},
   "outputs": [],
   "source": [
    "adata.obs['cell_type']"
   ]
  },
  {
   "attachments": {},
   "cell_type": "markdown",
   "metadata": {},
   "source": [
    "T-cells"
   ]
  },
  {
   "cell_type": "code",
   "execution_count": null,
   "metadata": {},
   "outputs": [],
   "source": [
    "# T cell \n",
    "\n",
    "cell_type = 'T cells'\n",
    "\n",
    "markers = {\n",
    "    'CD4'\t: ['CD4', 'IL7R'],\n",
    "    'CD8'\t: [ 'CD8A', 'CD8B'],\n",
    "    'Naïve'\t: ['TCF7', 'SELL', 'LEF1', 'CCR7'],\n",
    "    'Exhausted' : ['LAG3', 'TIGIT', 'PDCD1', 'HAVCR2', 'CTLA4'],\n",
    "    'Cytotoxic' : ['IL2', 'GZMA', 'GNLY', 'PRF1', 'GZMB', 'GZMK', 'IFNG', 'NKG7'],\n",
    "    'Treg' : ['IL2RA', 'FOXP3', 'IKZF2', 'IKZF4',  'TNFRSF18'],\n",
    "    'Gamma-delta' : ['TRGC1', 'TRGC2', 'TRDC'],\n",
    "    'Th17' : ['IL17A',  'CCR6', 'KLRB1'],  #'IL22',\n",
    "    'MAIT' : ['SLC4A10', 'KLRB1', 'IL7R', 'DPP4'],  \n",
    "    'ILC' :\t['KIT', 'IL1R1'],\n",
    "    'Th1' :\t['STAT4', 'IL12RB2', 'IFNG'],\n",
    "    'Th2' :\t['GATA3', 'STAT6', 'IL4'],\n",
    "    'Tfh'\t: ['MAF', 'CXCL13', 'CXCR5', 'PDCD1'],\n",
    "    'NK' :  ['XCL1', 'FCGR3A', 'KLRD1', 'KLRF1', 'NCAM1'],\n",
    "    'Proliferation' : ['MKI67', 'PCNA', 'STMN1']\n",
    "}\n",
    "\n",
    "\n",
    "adata_name = 'adata_Tcell'\n",
    "\n",
    "analyze_cell_type(adata, cell_type, markers, adata_name)"
   ]
  },
  {
   "cell_type": "code",
   "execution_count": null,
   "metadata": {},
   "outputs": [],
   "source": [
    "adata_Tcell.obs"
   ]
  },
  {
   "attachments": {},
   "cell_type": "markdown",
   "metadata": {},
   "source": [
    "# myeloid cells"
   ]
  },
  {
   "cell_type": "code",
   "execution_count": null,
   "metadata": {},
   "outputs": [],
   "source": [
    "# myeloid \n",
    "\n",
    "cell_type = 'Myeloid'\n",
    "\n",
    "markers = {\n",
    "    'Monocyte': ['CD14', 'CD16', 'FCGR3A', 'CSF1R'],\n",
    "    'Macrophage': ['CD68', 'CD163', 'CD206', 'CD11b'],\n",
    "    'Dendritic': ['HLA-DR', 'CD86', 'CD209'],\n",
    "    'Neutrophil': ['CD16', 'CD11b', 'CXCR2'],\n",
    "    'Mast Cell': ['FCER1A'],\n",
    "    'Eosinophil': ['CCL26', 'PRG2'],\n",
    "    'Basophil': ['CD203c'],\n",
    "    'Monocyte-derived DC': ['CD1c', 'CD1a', 'CD14', 'CD16', 'CD11c', 'CD11b'],\n",
    "    'Plasmacytoid DC': ['CD303', 'CD304', 'IL3RA', 'HLA-DR'],\n",
    "    'Histiocyte': ['CD163', 'CD68', 'CD14'],\n",
    "    'MDC-1': ['CLEC9A', 'CD1c', 'CD141', 'CD11c', 'HLA-DR'],\n",
    "    'MDC-2': ['CD1a', 'CD207', 'CD11c', 'HLA-DR'],\n",
    "    'Langerhans': ['CD207', 'CD1a', 'CD11c', 'HLA-DR']\n",
    "}\n",
    "\n",
    "\n",
    "adata_name = 'adata_My'\n",
    "\n",
    "analyze_cell_type(adata, cell_type, markers, adata_name)"
   ]
  },
  {
   "cell_type": "code",
   "execution_count": null,
   "metadata": {},
   "outputs": [],
   "source": [
    "adata_My.shape"
   ]
  },
  {
   "cell_type": "code",
   "execution_count": null,
   "metadata": {},
   "outputs": [],
   "source": [
    "adata_My.obs"
   ]
  },
  {
   "attachments": {},
   "cell_type": "markdown",
   "metadata": {},
   "source": [
    "# B-cells"
   ]
  },
  {
   "cell_type": "code",
   "execution_count": null,
   "metadata": {},
   "outputs": [],
   "source": [
    "# B cells \n",
    "\n",
    "cell_type = 'B cells'\n",
    "\n",
    "markers = {\n",
    "    'B_cell' : ['CD19', 'CD20', 'CD79A', 'CD79B', 'MS4A1', 'IGHM', 'IGLC2', 'IGLC3', 'IGHG1'],\n",
    "    'Plasma_cell' : ['CD38', 'CD138', 'XBP1', 'PRDM1', 'IRF4', 'MUM1'],\n",
    "    'Memory_B_cell' : ['CD27', 'CD21', 'CD23', 'CD24', 'CD5'],\n",
    "    'Naive_B_cell' : ['CD27', 'CD21', 'CD23', 'CD24', 'CD5', 'CD38'],\n",
    "    'Germinal_center_B_cell' : ['BCL6', 'PAX5', 'CD10', 'CD38'],\n",
    "    'Follicular_B_cell' : ['CD21', 'CD35', 'CXCR4', 'CD23'],\n",
    "    'Marginal_zone_B_cell' : ['CD27', 'CD21', 'CD35', 'IgM', 'IgD'],\n",
    "    'B1_cell' : ['CD20', 'CD43', 'CD5', 'IgM', 'IgD'],\n",
    "    'B_regulatory_cell' : ['CD19', 'CD20', 'CD24', 'CD38', 'CD5', 'CD27', 'CD1d', 'CD21'],\n",
    "    'Plasmablast' : ['CD38', 'CD138', 'IRF4', 'XBP1', 'PRDM1', 'MUM1'],\n",
    "    'Transitional_B_cell' : ['CD10', 'CD24', 'CD38', 'CD21', 'CD23'],\n",
    "    'IgM_B_cell' : ['IgM'],\n",
    "    'IgD_B_cell' : ['IgD']\n",
    "}\n",
    "\n",
    "\n",
    "\n",
    "adata_name = 'adata_Bcell'\n",
    "\n",
    "analyze_cell_type(adata, cell_type, markers, adata_name)"
   ]
  },
  {
   "cell_type": "code",
   "execution_count": null,
   "metadata": {},
   "outputs": [],
   "source": [
    "adata_Bcell.shape"
   ]
  },
  {
   "cell_type": "code",
   "execution_count": null,
   "metadata": {},
   "outputs": [],
   "source": [
    "adata_Bcell.obs"
   ]
  },
  {
   "attachments": {},
   "cell_type": "markdown",
   "metadata": {},
   "source": [
    "# epithelial cells"
   ]
  },
  {
   "cell_type": "code",
   "execution_count": null,
   "metadata": {},
   "outputs": [],
   "source": [
    "# epithelial \n",
    "\n",
    "cell_type = 'Epithelial'\n",
    "\n",
    "markers = {\n",
    "    'Epithelial_cell': ['EPCAM', 'KRT5', 'KRT8', 'KRT18', 'KRT19'],\n",
    "    'Basal_cell': ['KRT5', 'CD44', 'ITGA6', 'TP63'],\n",
    "    'Luminal_cell': ['KRT8', 'KRT18', 'KRT19', 'CD24', 'CDH1', 'ESR1'],\n",
    "    'Club_cell': ['SCGB1A1', 'CC10', 'UTP4', 'Foxj1'],\n",
    "    'Ciliated_cell': ['FOXJ1', 'DNAH5', 'CCNO', 'RSPH4A'],\n",
    "    'Goblet_cell': ['MUC5AC', 'MUC2', 'TFF3', 'SPDEF'],\n",
    "    'Neuroendocrine_cell': ['CHGA', 'SYP', 'NCAM1', 'CD56'],\n",
    "    'Secretory_cell': ['MUC5B', 'LYZ', 'SPINK4', 'SCGB3A2'],\n",
    "    'Transitional_cell': ['KRT5', 'KRT8', 'KRT18', 'KRT19', 'KRT14']\n",
    "}\n",
    "\n",
    "\n",
    "adata_name = 'adata_Epi'\n",
    "\n",
    "analyze_cell_type(adata, cell_type, markers, adata_name)"
   ]
  },
  {
   "cell_type": "code",
   "execution_count": null,
   "metadata": {},
   "outputs": [],
   "source": [
    "adata_Epi.obs"
   ]
  },
  {
   "attachments": {},
   "cell_type": "markdown",
   "metadata": {},
   "source": [
    "# endothelial cells"
   ]
  },
  {
   "cell_type": "code",
   "execution_count": null,
   "metadata": {},
   "outputs": [],
   "source": [
    "def analyze_cell_type(adata, cell_type, markers, adata_name):\n",
    "    '''\n",
    "    this function should automatically extract a desired cell type for the user to save to a .h5ad file.  \n",
    "\n",
    "    '''\n",
    "\n",
    "    # set Scanpy plotting parameters\n",
    "    sc.set_figure_params()\n",
    "\n",
    "    # make a copy of adata\n",
    "    adata = adata.copy()\n",
    "\n",
    "    # extract cells and create a new AnnData object\n",
    "    adata_type = adata[adata.obs['cell_type'] == cell_type].copy()\n",
    "\n",
    "    # restore the X to the original raw.X for re-processing\n",
    "    adata_type = ad.AnnData(X=adata_type.raw.X, obs=adata_type.obs, var=adata_type.raw.var, obsm=adata_type.obsm, uns=adata_type.uns)\n",
    "    adata_type.raw = adata_type\n",
    "    print(str(adata_type.shape))\n",
    "\n",
    "    # re-calculate highly variable genes\n",
    "    sc.pp.highly_variable_genes(adata_type, min_mean=0.0125, max_mean=3, min_disp=0.5)\n",
    "    sc.pl.highly_variable_genes(adata_type)\n",
    "    len(adata_type.var_names)\n",
    "\n",
    "    # re-cluster the specified cell type\n",
    "    sc.tl.pca(adata_type, svd_solver='arpack', n_comps=40)\n",
    "    sc.pp.neighbors(adata_type, n_neighbors=80, n_pcs=40)\n",
    "    sc.tl.leiden(adata_type, resolution=.5)\n",
    "    \n",
    "    sc.tl.umap(adata_type)\n",
    "    sc.pl.umap(adata_type, color='leiden', legend_loc='on data')\n",
    "\n",
    "    \n",
    "\n",
    "    # apply cell type labels using the marker dictionary\n",
    "    adata_type.obs.drop(columns=\"cell_type\", inplace=True)\n",
    "    labelClusterWithCellType(adata_type, markers, cluster_column='leiden')\n",
    "\n",
    "    # UMAP\n",
    "    sc.pl.umap(adata_type, color='cell_type')\n",
    "\n",
    "    # more UMAPs\n",
    "    sc.pl.umap(adata_type, color=['timepoint', 'cell_type'])\n",
    "\n",
    "    # save a copy of adata_type under custom name\n",
    "    globals()[adata_name] = adata_type\n"
   ]
  },
  {
   "cell_type": "code",
   "execution_count": null,
   "metadata": {},
   "outputs": [],
   "source": [
    "adata.obs.rename(columns={'cellType': 'cell_type'}, inplace=True)\n"
   ]
  },
  {
   "cell_type": "code",
   "execution_count": null,
   "metadata": {},
   "outputs": [],
   "source": [
    "# endothelial \n",
    "\n",
    "cell_type = 'Endothelial_cell'\n",
    "\n",
    "markers = {\n",
    "    'Endothelial_cell': ['PECAM1', 'VWF', 'CD34', 'CDH5'],\n",
    "    'Arterial_cell': ['DLL4', 'NOTCH1', 'EphrinB2', 'HEY2'],\n",
    "    'Venous_cell': ['NR2F2', 'EFNB2', 'COUP-TFII', 'PROX1'],\n",
    "    'Lymphatic_cell': ['LYVE1', 'PROX1', 'PDPN', 'FLT4'],\n",
    "    'Capillary_cell': ['CDH5', 'CD34', 'PLVAP', 'CLDN5'],\n",
    "    'Pericyte': ['PDGFRB', 'NG2', 'ACTA2', 'PDGFB'],\n",
    "    'Smooth_muscle_cell': ['ACTA2', 'TAGLN', 'CNN1', 'MYH11'],\n",
    "    'Fibroblast': ['COL1A1', 'COL3A1', 'DCN', 'FSP1'],\n",
    "    'Macrophage': ['CD68', 'CD163', 'CD206', 'CD11b'],\n",
    "    'Mast_cell': ['FCER1A', 'TPSAB1', 'TPSB2', 'KIT'],\n",
    "    'Neutrophil': ['CD66b', 'MPO', 'ELANE', 'CD11b'],\n",
    "    'NK_cell': ['CD56', 'NCAM1', 'KLRD1', 'KLRF1'],\n",
    "    'Plasma_cell': ['CD38', 'CD138', 'XBP1', 'PRDM1'],\n",
    "}\n",
    "\n",
    "adata_name = 'adata_End'\n",
    "\n",
    "analyze_cell_type(adata, cell_type, markers, adata_name)"
   ]
  },
  {
   "cell_type": "code",
   "execution_count": null,
   "metadata": {},
   "outputs": [],
   "source": [
    "adata_End.obs"
   ]
  },
  {
   "cell_type": "code",
   "execution_count": null,
   "metadata": {},
   "outputs": [],
   "source": [
    "adata_End.write('/home/data/ICI_exprs/ICI_End_cell_collection/1863-counts_cells_cohort1_End_cells_raw.h5ad')"
   ]
  },
  {
   "attachments": {},
   "cell_type": "markdown",
   "metadata": {},
   "source": [
    "# fibroblast"
   ]
  },
  {
   "cell_type": "code",
   "execution_count": null,
   "metadata": {},
   "outputs": [],
   "source": [
    "# fibroblast \n",
    "\n",
    "cell_type = 'Fibroblast'\n",
    "\n",
    "fibroblast_markers = {\n",
    "    'Fibroblast': ['COL1A1', 'COL1A2', 'ACTA2', 'FN1', 'POSTN', 'DCN', 'VIM', 'THY1'],\n",
    "    'Myofibroblast': ['TAGLN', 'CNN1', 'MYH11', 'ACTA2', 'COL1A1'],\n",
    "    'Fibrocyte': ['CX3CR1', 'CD34', 'COL1A1', 'COL3A1'],\n",
    "    'Fibroblast-like Synoviocyte': ['CD55', 'CD90', 'CD248', 'CD106'],\n",
    "    'Pericyte': ['PDGFRB', 'RGS5', 'MCAM', 'ACTA2'],\n",
    "    'Smooth Muscle Cell': ['ACTA2', 'MYH11', 'TAGLN'],\n",
    "    'Cancer-Associated Fibroblast': ['FAP', 'PDGFRB', 'ACTA2', 'COL1A1', 'COL3A1'],\n",
    "    'Cardiac Fibroblast': ['COL1A1', 'COL3A1', 'POSTN', 'DCN', 'ACTA2'],\n",
    "    'Lung Fibroblast': ['COL1A1', 'COL3A1', 'POSTN', 'DCN', 'ACTA2', 'SFTPC', 'SCGB1A1'],\n",
    "    'Dermal Fibroblast': ['COL1A1', 'COL3A1', 'POSTN', 'DCN', 'ACTA2', 'CD90'],\n",
    "    'Pancreatic Stellate Cell': ['ACTA2', 'VIM', 'DES', 'PDGFRB'],\n",
    "    'Hepatic Stellate Cell': ['GFAP', 'DES', 'ACTA2', 'VIM', 'COL1A1'],\n",
    "    'Intestinal Subepithelial Myofibroblast': ['ACTA2', 'VIM', 'TAGLN', 'COL1A1'],\n",
    "    'Renal Fibroblast': ['ACTA2', 'VIM', 'COL1A1', 'COL3A1', 'PDGFRB'],\n",
    "}\n",
    "\n",
    "\n",
    "adata_name = 'adata_F'\n",
    "\n",
    "analyze_cell_type(adata, cell_type, markers, adata_name)"
   ]
  },
  {
   "cell_type": "code",
   "execution_count": null,
   "metadata": {},
   "outputs": [],
   "source": [
    "adata_F.obs"
   ]
  },
  {
   "cell_type": "markdown",
   "metadata": {},
   "source": [
    "## write to files"
   ]
  },
  {
   "cell_type": "code",
   "execution_count": null,
   "metadata": {},
   "outputs": [],
   "source": [
    "# save adata_Tcell to a file \n",
    "\n",
    "adata_Tcell.write('/home/data/ICI_exprs/ICI_T_cell_collection/1863-counts_cells_cohort1_T_cells.h5ad')"
   ]
  },
  {
   "cell_type": "code",
   "execution_count": null,
   "metadata": {},
   "outputs": [],
   "source": [
    "# save adata_My to a file \n",
    "\n",
    "adata_My.write('/home/data/ICI_exprs/ICI_Myeloid_cell_collection/1863-counts_cells_cohort1_Myeloid_cells.h5ad')"
   ]
  },
  {
   "cell_type": "code",
   "execution_count": null,
   "metadata": {},
   "outputs": [],
   "source": [
    "# save adata_Bcell to a file \n",
    "\n",
    "adata_Bcell.write('/home/data/ICI_exprs/ICI_B_cell_collection/1863-counts_cells_cohort1_B_cells.h5ad')"
   ]
  },
  {
   "cell_type": "code",
   "execution_count": null,
   "metadata": {},
   "outputs": [],
   "source": [
    "# save adata_Epi to a file \n",
    "\n",
    "adata_Epi.write('/home/data/ICI_exprs/ICI_Epi_cell_collection/1863-counts_cells_cohort1_Epithelial_cells.h5ad')"
   ]
  },
  {
   "cell_type": "code",
   "execution_count": null,
   "metadata": {},
   "outputs": [],
   "source": [
    "# save adata_End to a file"
   ]
  },
  {
   "cell_type": "code",
   "execution_count": null,
   "metadata": {},
   "outputs": [],
   "source": [
    "# save adata_F to a file"
   ]
  }
 ],
 "metadata": {
  "kernelspec": {
   "display_name": "base",
   "language": "python",
   "name": "python3"
  },
  "language_info": {
   "codemirror_mode": {
    "name": "ipython",
    "version": 3
   },
   "file_extension": ".py",
   "mimetype": "text/x-python",
   "name": "python",
   "nbconvert_exporter": "python",
   "pygments_lexer": "ipython3",
   "version": "3.11.7"
  },
  "vscode": {
   "interpreter": {
    "hash": "6099bf950c4e2d0da650f89b132257c4802c810b0835ed278af9d4dcc1b49a4c"
   }
  }
 },
 "nbformat": 4,
 "nbformat_minor": 2
}
