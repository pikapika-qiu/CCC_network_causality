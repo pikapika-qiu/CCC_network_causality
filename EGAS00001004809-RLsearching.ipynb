{
 "cells": [
  {
   "cell_type": "markdown",
   "metadata": {},
   "source": [
    "# EGAS00001004809-RLsearching"
   ]
  },
  {
   "cell_type": "code",
   "execution_count": null,
   "metadata": {},
   "outputs": [],
   "source": [
    "import rpy2.robjects as robjects\n",
    "import scanpy as sc\n",
    "import pandas as pd\n",
    "import numpy as np\n",
    "import os\n",
    "import sys\n",
    "sys.path.append('/home/qiuaodon/Desktop/PanCancer_scRNA_analysis/utils/')\n",
    "from scRNA_utils import *\n",
    "data_dir = '/home/qiuaodon/Desktop/'"
   ]
  },
  {
   "cell_type": "code",
   "execution_count": null,
   "metadata": {},
   "outputs": [],
   "source": [
    "# read in the DEG results\n",
    "DEG_T = pd.read_excel(data_dir + 'DEG-wholecelltype/EGAS00001004809_whole_T_cell.xlsx')\n",
    "DEG_B = pd.read_excel(data_dir + 'DEG-wholecelltype/EGAS00001004809_whole_B_cell.xlsx')\n",
    "DEG_M = pd.read_excel(data_dir + 'DEG-wholecelltype/EGAS00001004809_whole_M_cell.xlsx')\n",
    "DEG_Epi = pd.read_excel(data_dir + 'DEG-wholecelltype/EGAS00001004809_whole_Epi_cell.xlsx')\n",
    "DEG_Endo = pd.read_excel(data_dir + 'DEG-wholecelltype/EGAS00001004809_whole_Endo_cell.xlsx')\n",
    "DEG_Fibro = pd.read_excel(data_dir + 'DEG-wholecelltype/EGAS00001004809_whole_Fibro_cell.xlsx')"
   ]
  },
  {
   "cell_type": "code",
   "execution_count": null,
   "metadata": {},
   "outputs": [],
   "source": [
    "adata_T = sc.read(data_dir + 'project_data_new/1863-counts_cells_cohort1_T_cells.h5ad')\n",
    "adata_B = sc.read(data_dir + 'project_data_new/1863-counts_cells_cohort1_B_cells.h5ad')\n",
    "adata_M = sc.read(data_dir + 'project_data_new/1863-counts_cells_cohort1_M_cells.h5ad')\n",
    "adata_Epi = sc.read(data_dir + 'project_data_new/1863-counts_cells_cohort1_Epi_cells.h5ad')\n",
    "adata_Endo = sc.read(data_dir + 'project_data_new/1863-counts_cells_cohort1_Endo_cells.h5ad')\n",
    "adata_Fibro = sc.read(data_dir + 'project_data_new/1863-counts_cells_cohort1_Fibro_cells.h5ad')"
   ]
  },
  {
   "cell_type": "code",
   "execution_count": null,
   "metadata": {},
   "outputs": [],
   "source": [
    "sc.pl.umap(adata_M, color = 'CD40')"
   ]
  },
  {
   "cell_type": "code",
   "execution_count": null,
   "metadata": {},
   "outputs": [],
   "source": [
    "sc.pl.umap(adata_B, color = 'CD40')"
   ]
  },
  {
   "cell_type": "code",
   "execution_count": null,
   "metadata": {},
   "outputs": [],
   "source": [
    "sc.pl.umap(adata_T, color = 'CD40LG')"
   ]
  },
  {
   "cell_type": "code",
   "execution_count": null,
   "metadata": {},
   "outputs": [],
   "source": [
    "adata = sc.read(data_dir + 'project_data_new/whole_cohort1_processed.h5ad')"
   ]
  },
  {
   "cell_type": "code",
   "execution_count": null,
   "metadata": {},
   "outputs": [],
   "source": [
    "sc.pl.umap(adata, color = 'CD40')"
   ]
  },
  {
   "cell_type": "code",
   "execution_count": null,
   "metadata": {},
   "outputs": [],
   "source": [
    "sc.pl.umap(adata, color = 'CD40LG')"
   ]
  },
  {
   "cell_type": "code",
   "execution_count": null,
   "metadata": {},
   "outputs": [],
   "source": [
    "pseudo_T = scRNA2PseudoBulkAnnData(adata_T, sample_id_col='sample_id')\n",
    "pseudo_B = scRNA2PseudoBulkAnnData(adata_B, sample_id_col='sample_id')\n",
    "pseudo_M = scRNA2PseudoBulkAnnData(adata_M, sample_id_col='sample_id')\n",
    "pseudo_Epi = scRNA2PseudoBulkAnnData(adata_Epi, sample_id_col='sample_id')\n",
    "pseudo_Endo = scRNA2PseudoBulkAnnData(adata_Endo, sample_id_col='sample_id')\n",
    "pseudo_Fibro = scRNA2PseudoBulkAnnData(adata_Fibro, sample_id_col='sample_id')"
   ]
  },
  {
   "cell_type": "code",
   "execution_count": null,
   "metadata": {},
   "outputs": [],
   "source": [
    "pseudo_B"
   ]
  },
  {
   "cell_type": "code",
   "execution_count": null,
   "metadata": {},
   "outputs": [],
   "source": [
    "# remove patient_id BIOKEY_22 and BIOKEY_28 from the pseudo bulk data\n",
    "pseudo_T = pseudo_T[~pseudo_T.obs['patient_id'].isin(['BIOKEY_22', 'BIOKEY_28'])]\n",
    "pseudo_B = pseudo_B[~pseudo_B.obs['patient_id'].isin(['BIOKEY_22', 'BIOKEY_28'])]\n",
    "pseudo_M = pseudo_M[~pseudo_M.obs['patient_id'].isin(['BIOKEY_22', 'BIOKEY_28'])]\n",
    "pseudo_Epi = pseudo_Epi[~pseudo_Epi.obs['patient_id'].isin(['BIOKEY_22', 'BIOKEY_28'])]\n",
    "pseudo_Endo = pseudo_Endo[~pseudo_Endo.obs['patient_id'].isin(['BIOKEY_22', 'BIOKEY_28'])]\n",
    "pseudo_Fibro = pseudo_Fibro[~pseudo_Fibro.obs['patient_id'].isin(['BIOKEY_22', 'BIOKEY_28'])]"
   ]
  },
  {
   "cell_type": "code",
   "execution_count": null,
   "metadata": {},
   "outputs": [],
   "source": [
    "pseudo_B.obs['patient_id'].unique()"
   ]
  },
  {
   "cell_type": "code",
   "execution_count": null,
   "metadata": {},
   "outputs": [],
   "source": [
    "DEG_T"
   ]
  },
  {
   "cell_type": "code",
   "execution_count": null,
   "metadata": {},
   "outputs": [],
   "source": [
    "# get the DEG names from the first column of the DEG results\n",
    "DEG_T_names = DEG_T.iloc[:,0].values\n",
    "DEG_B_names = DEG_B.iloc[:,0].values\n",
    "DEG_M_names = DEG_M.iloc[:,0].values\n",
    "DEG_Epi_names = DEG_Epi.iloc[:,0].values\n",
    "DEG_Endo_names = DEG_Endo.iloc[:,0].values\n",
    "DEG_Fibro_names = DEG_Fibro.iloc[:,0].values\n"
   ]
  },
  {
   "cell_type": "code",
   "execution_count": null,
   "metadata": {},
   "outputs": [],
   "source": [
    "# draw the veen diagram for the varnames of pseudo_X and DEG_X\n",
    "import matplotlib.pyplot as plt\n",
    "from matplotlib_venn import venn2\n",
    "venn2([set(pseudo_Endo.var_names), set(DEG_Endo_names)], set_labels = ('pseudo', 'DEG'))\n",
    "plt.show()"
   ]
  },
  {
   "cell_type": "code",
   "execution_count": null,
   "metadata": {},
   "outputs": [],
   "source": [
    "# get the common genes between the pseudo and DEG of endo\n",
    "common_genes_endo = list(set(pseudo_Endo.var_names) & set(DEG_Endo_names))"
   ]
  },
  {
   "cell_type": "code",
   "execution_count": null,
   "metadata": {},
   "outputs": [],
   "source": [
    "venn2([set(pseudo_Fibro.var_names), set(DEG_Fibro_names)], set_labels = ('pseudo', 'DEG'))\n",
    "plt.show()"
   ]
  },
  {
   "cell_type": "code",
   "execution_count": null,
   "metadata": {},
   "outputs": [],
   "source": [
    "# extract the DEG expression from the pseudo-bulk data\n",
    "DEG_T_exp = pseudo_T[:, DEG_T_names].X\n",
    "DEG_T_exp = pd.DataFrame(DEG_T_exp, columns=DEG_T_names, index=pseudo_T.obs['sample_id'])\n",
    "DEG_B_exp = pseudo_B[:, DEG_B_names].X\n",
    "DEG_B_exp = pd.DataFrame(DEG_B_exp, columns=DEG_B_names, index=pseudo_B.obs['sample_id'])\n",
    "DEG_M_exp = pseudo_M[:, DEG_M_names].X\n",
    "DEG_M_exp = pd.DataFrame(DEG_M_exp, columns=DEG_M_names, index=pseudo_M.obs['sample_id'])\n",
    "DEG_Epi_exp = pseudo_Epi[:, DEG_Epi_names].X\n",
    "DEG_Epi_exp = pd.DataFrame(DEG_Epi_exp, columns=DEG_Epi_names, index=pseudo_Epi.obs['sample_id'])\n",
    "# some of the DEG genes of endo are not in the pseudo-bulk data\n",
    "DEG_Endo_exp = pseudo_Endo[:, common_genes_endo].X\n",
    "DEG_Endo_exp = pd.DataFrame(DEG_Endo_exp, columns=common_genes_endo, index=pseudo_Endo.obs['sample_id'])\n",
    "DEG_Fibro_exp = pseudo_Fibro[:, DEG_Fibro_names].X\n",
    "DEG_Fibro_exp = pd.DataFrame(DEG_Fibro_exp, columns=DEG_Fibro_names, index=pseudo_Fibro.obs['sample_id'])"
   ]
  },
  {
   "cell_type": "code",
   "execution_count": null,
   "metadata": {},
   "outputs": [],
   "source": [
    "cell_types = {\n",
    "    'T': {'pseudo': pseudo_T, 'DEG_names': DEG_T_names},\n",
    "    'B': {'pseudo': pseudo_B, 'DEG_names': DEG_B_names},\n",
    "    'M': {'pseudo': pseudo_M, 'DEG_names': DEG_M_names},\n",
    "    'Epi': {'pseudo': pseudo_Epi, 'DEG_names': DEG_Epi_names},\n",
    "    'Endo': {'pseudo': pseudo_Endo, 'DEG_names': common_genes_endo},\n",
    "    'Fibro': {'pseudo': pseudo_Fibro, 'DEG_names': DEG_Fibro_names}\n",
    "}\n",
    "DEG_exp_dfs = {}\n",
    "for cell_type, info in cell_types.items():\n",
    "    DEG_names = [name + f'_{cell_type}' for name in info['DEG_names']]\n",
    "    DEG_exp = info['pseudo'][:, info['DEG_names']].X\n",
    "    if hasattr(DEG_exp, \"toarray\"):\n",
    "        DEG_exp = DEG_exp.toarray()\n",
    "    \n",
    "    DEG_exp_df = pd.DataFrame(DEG_exp, columns=DEG_names, index=info['pseudo'].obs['sample_id'])\n",
    "    \n",
    "    DEG_exp_dfs[cell_type] = DEG_exp_df"
   ]
  },
  {
   "cell_type": "code",
   "execution_count": null,
   "metadata": {},
   "outputs": [],
   "source": [
    "# merge the DEG expression data\n",
    "DEG_exp = pd.concat(DEG_exp_dfs.values(), axis=1)\n",
    "# remove the sample_id with NA\n",
    "DEG_exp = DEG_exp.dropna()\n",
    "# add one column for the treatment, 0 for sample with 'Pre' and 1 for sample with 'On'\n",
    "DEG_exp['treatment'] = DEG_exp.index.str.contains('On').astype(int)\n",
    "DEG_exp"
   ]
  },
  {
   "cell_type": "code",
   "execution_count": null,
   "metadata": {},
   "outputs": [],
   "source": [
    "# save the DEG expression data\n",
    "DEG_exp.to_csv(data_dir + 'DEG-wholecelltype/DEG_exp.csv')\n"
   ]
  },
  {
   "cell_type": "code",
   "execution_count": null,
   "metadata": {},
   "outputs": [],
   "source": [
    "from rpy2.robjects import pandas2ri\n",
    "pandas2ri.activate()\n",
    "# convert the DEG expression to R\n",
    "DEG_exp_r = pandas2ri.py2rpy(DEG_exp)\n",
    "robjects.r.assign('DEG_exp', DEG_exp_r)\n",
    "\n",
    "# run the IV regression in R\n",
    "r_string = \"\"\"\n",
    "DEG_exp\n",
    "\n",
    "\"\"\"\n",
    "\n",
    "robjects.r(r_string)"
   ]
  },
  {
   "cell_type": "markdown",
   "metadata": {},
   "source": [
    "# load in the LR pairs"
   ]
  },
  {
   "cell_type": "code",
   "execution_count": null,
   "metadata": {},
   "outputs": [],
   "source": [
    "lrpair = pd.read_csv(data_dir + 'project_data_new/lr_network_unique.tsv', sep='\\t')"
   ]
  },
  {
   "cell_type": "code",
   "execution_count": null,
   "metadata": {},
   "outputs": [],
   "source": [
    "lrpair"
   ]
  },
  {
   "cell_type": "code",
   "execution_count": null,
   "metadata": {},
   "outputs": [],
   "source": [
    "# get the lr pairs including ligand(from) and receptor(to) from the lrpair file with database as 'kegg'\n",
    "lrpair_kegg = lrpair[lrpair['database'] == 'kegg']\n",
    "lrpair_kegg = lrpair_kegg[['from', 'to']]\n",
    "# change from as L and to as R\n",
    "lrpair_kegg.columns = ['L', 'R']\n",
    "lrpair_kegg"
   ]
  },
  {
   "cell_type": "code",
   "execution_count": null,
   "metadata": {},
   "outputs": [],
   "source": [
    "# get the L(from) value in the pseudo_T only if the L can be found in pseudo_T\n",
    "valid_columns = [col for col in lrpair_kegg['L'] if col in pseudo_T.var_names]\n",
    "L_T = pseudo_T[:, valid_columns].X\n",
    "L_T = pd.DataFrame(L_T, columns=valid_columns, index=pseudo_T.obs['sample_id'])\n",
    "L_T = L_T.dropna()\n",
    "\n",
    "# drop the columns with the same name\n",
    "L_T = L_T.loc[:,~L_T.columns.duplicated()]\n",
    "L_T\n"
   ]
  },
  {
   "cell_type": "code",
   "execution_count": null,
   "metadata": {},
   "outputs": [],
   "source": [
    "# get the R(to) values in the pseudo_B, M, Epi, Endo, Fibro only if the R can be found in the corresponding pseudo-bulk data\n",
    "valid_columns = [col for col in lrpair_kegg['L'] if col in pseudo_B.var_names]\n",
    "R_B = pseudo_B[:, valid_columns].X\n",
    "R_B = pd.DataFrame(R_B, columns=valid_columns, index=pseudo_B.obs['sample_id'])\n",
    "R_B = R_B.dropna()\n",
    "R_B = R_B.loc[:,~R_B.columns.duplicated()]\n",
    "\n",
    "valid_columns = [col for col in lrpair_kegg['L'] if col in pseudo_M.var_names]\n",
    "R_M = pseudo_M[:, valid_columns].X\n",
    "R_M = pd.DataFrame(R_M, columns=valid_columns, index=pseudo_M.obs['sample_id'])\n",
    "R_M = R_M.dropna()\n",
    "R_M = R_M.loc[:,~R_M.columns.duplicated()]\n",
    "\n",
    "valid_columns = [col for col in lrpair_kegg['L'] if col in pseudo_Epi.var_names]\n",
    "R_Epi = pseudo_Epi[:, valid_columns].X\n",
    "R_Epi = pd.DataFrame(R_Epi, columns=valid_columns, index=pseudo_Epi.obs['sample_id'])\n",
    "R_Epi = R_Epi.dropna()\n",
    "R_Epi = R_Epi.loc[:,~R_Epi.columns.duplicated()]\n",
    "\n",
    "valid_columns = [col for col in lrpair_kegg['L'] if col in pseudo_Endo.var_names]\n",
    "R_Endo = pseudo_Endo[:, valid_columns].X\n",
    "R_Endo = pd.DataFrame(R_Endo, columns=valid_columns, index=pseudo_Endo.obs['sample_id'])\n",
    "R_Endo = R_Endo.dropna()\n",
    "R_Endo = R_Endo.loc[:,~R_Endo.columns.duplicated()]\n",
    "\n",
    "valid_columns = [col for col in lrpair_kegg['L'] if col in pseudo_Fibro.var_names]\n",
    "R_Fibro = pseudo_Fibro[:, valid_columns].X\n",
    "R_Fibro = pd.DataFrame(R_Fibro, columns=valid_columns, index=pseudo_Fibro.obs['sample_id'])\n",
    "R_Fibro = R_Fibro.dropna()\n",
    "R_Fibro = R_Fibro.loc[:,~R_Fibro.columns.duplicated()]\n"
   ]
  },
  {
   "cell_type": "markdown",
   "metadata": {},
   "source": [
    "# find the significant pairs "
   ]
  },
  {
   "cell_type": "markdown",
   "metadata": {},
   "source": [
    "### test"
   ]
  },
  {
   "cell_type": "code",
   "execution_count": null,
   "metadata": {},
   "outputs": [],
   "source": [
    "# read in DEG pairs\n",
    "DEG_pairs = pd.read_csv(data_dir + 'project_data_new/gene_pairs.csv')"
   ]
  },
  {
   "cell_type": "code",
   "execution_count": null,
   "metadata": {},
   "outputs": [],
   "source": [
    "DEG_pairs"
   ]
  },
  {
   "cell_type": "code",
   "execution_count": null,
   "metadata": {},
   "outputs": [],
   "source": [
    "# only change Gene2 which is TNKS2.AS1_B to TNKS2-AS1_B\n",
    "DEG_pairs['Gene2'] = DEG_pairs['Gene2'].str.replace('TNKS2.AS1_B', 'TNKS2-AS1_B')\n",
    "\n"
   ]
  },
  {
   "cell_type": "markdown",
   "metadata": {},
   "source": [
    "### load in the IVtest pairs"
   ]
  },
  {
   "cell_type": "code",
   "execution_count": null,
   "metadata": {},
   "outputs": [],
   "source": [
    "# read in DEG_B pairs\n",
    "DEG_B_pairs = pd.read_csv('/home/qiuaodon/Desktop/project_data_new/data_IVtest_result/B_significant_gene_pairs.csv')\n",
    "DEG_M_pairs = pd.read_csv('/home/qiuaodon/Desktop/project_data_new/data_IVtest_result/M_significant_gene_pairs.csv')\n",
    "DEG_Epi_pairs = pd.read_csv('/home/qiuaodon/Desktop/project_data_new/data_IVtest_result/Epi_significant_gene_pairs.csv')\n",
    "DEG_Endo_pairs = pd.read_csv('/home/qiuaodon/Desktop/project_data_new/data_IVtest_result/Endo_significant_gene_pairs.csv')\n",
    "DEG_Fibro_pairs = pd.read_csv('/home/qiuaodon/Desktop/project_data_new/data_IVtest_result/Fibro_significant_gene_pairs.csv')"
   ]
  },
  {
   "cell_type": "code",
   "execution_count": null,
   "metadata": {},
   "outputs": [],
   "source": [
    "DEG_B_pairs"
   ]
  },
  {
   "cell_type": "code",
   "execution_count": null,
   "metadata": {},
   "outputs": [],
   "source": [
    "DEG_B_pairs = DEG_B_pairs[DEG_B_pairs['p_value'] < 0.001]\n"
   ]
  },
  {
   "cell_type": "code",
   "execution_count": null,
   "metadata": {},
   "outputs": [],
   "source": [
    "# get the Gene1 and Gene2 from the gene_pair column, they are separated by '_vs_'\n",
    "DEG_B_pairs['Gene1'] = DEG_B_pairs['gene_pair'].str.split('_vs_').str[0]\n",
    "DEG_B_pairs['Gene2'] = DEG_B_pairs['gene_pair'].str.split('_vs_').str[1]\n",
    "DEG_M_pairs['Gene1'] = DEG_M_pairs['gene_pair'].str.split('_vs_').str[0]\n",
    "DEG_M_pairs['Gene2'] = DEG_M_pairs['gene_pair'].str.split('_vs_').str[1]\n",
    "DEG_Epi_pairs['Gene1'] = DEG_Epi_pairs['gene_pair'].str.split('_vs_').str[0]\n",
    "DEG_Epi_pairs['Gene2'] = DEG_Epi_pairs['gene_pair'].str.split('_vs_').str[1]\n",
    "DEG_Endo_pairs['Gene1'] = DEG_Endo_pairs['gene_pair'].str.split('_vs_').str[0]\n",
    "DEG_Endo_pairs['Gene2'] = DEG_Endo_pairs['gene_pair'].str.split('_vs_').str[1]\n",
    "DEG_Fibro_pairs['Gene1'] = DEG_Fibro_pairs['gene_pair'].str.split('_vs_').str[0]\n",
    "DEG_Fibro_pairs['Gene2'] = DEG_Fibro_pairs['gene_pair'].str.split('_vs_').str[1]\n",
    "# get the Gene1 and Gene2 from the DEG_pairs\n",
    "DEG_B_pairs = DEG_B_pairs[['Gene1', 'Gene2']]\n",
    "DEG_M_pairs = DEG_M_pairs[['Gene1', 'Gene2']]\n",
    "DEG_Epi_pairs = DEG_Epi_pairs[['Gene1', 'Gene2']]\n",
    "DEG_Endo_pairs = DEG_Endo_pairs[['Gene1', 'Gene2']]\n",
    "DEG_Fibro_pairs = DEG_Fibro_pairs[['Gene1', 'Gene2']]\n"
   ]
  },
  {
   "cell_type": "code",
   "execution_count": null,
   "metadata": {},
   "outputs": [],
   "source": [
    "DEG_M_pairs['Gene2'].nunique()"
   ]
  },
  {
   "cell_type": "markdown",
   "metadata": {},
   "source": [
    "## find the significant pairs between T and B"
   ]
  },
  {
   "cell_type": "code",
   "execution_count": null,
   "metadata": {},
   "outputs": [],
   "source": [
    "from causallearn.utils.cit import CIT\n",
    "\n",
    "# Initialize a dataframe to save the results\n",
    "results_B = pd.DataFrame(columns=['g1', 'g2', 'L', 'R', 'pValue'])\n",
    "\n",
    "# Iterate through each pair of DEGs\n",
    "for g1, g2 in DEG_B_pairs.values:\n",
    "    # Check if g2 ends with '_B'\n",
    "    if g2.endswith('_B'):\n",
    "        # Iterate through each ligand-receptor pair\n",
    "        for L, R in lrpair_kegg.values:\n",
    "            # Check if L and R are in the DEG expression data\n",
    "            if L in pseudo_T.var_names and R in pseudo_B.var_names:\n",
    "                # Extract and clean the expression data for L and R\n",
    "                L_T = pseudo_T[:, L].X\n",
    "                L_T = pd.DataFrame(L_T, columns=[L], index=pseudo_T.obs['sample_id']).dropna()\n",
    "                R_B = pseudo_B[:, R].X\n",
    "                R_B = pd.DataFrame(R_B, columns=[R], index=pseudo_B.obs['sample_id']).dropna()\n",
    "\n",
    "                # Rename columns to ensure they match for multiplication\n",
    "                L_T.columns = [R + '_vs_' + L]\n",
    "                R_B.columns = L_T.columns\n",
    "\n",
    "                # Perform the multiplication and flatten to 1-dimensional\n",
    "                L_R = L_T.multiply(R_B, axis=0).iloc[:, 0]\n",
    "\n",
    "                # Check if g1 and g2 are in the DEG expression data\n",
    "                if g1 not in DEG_exp.columns or g2 not in DEG_exp.columns:\n",
    "                    # Replace '.' with '-' if necessary\n",
    "                    g1 = g1.replace('.', '-')\n",
    "                    g2 = g2.replace('.', '-')\n",
    "                    if g1 not in DEG_exp.columns or g2 not in DEG_exp.columns:\n",
    "                        continue\n",
    "\n",
    "                # Extract the expression data for g1 and g2\n",
    "                g1_T = DEG_exp[g1]\n",
    "                g2_B = DEG_exp[g2]\n",
    "\n",
    "                # Create a dataframe with g1, g2, and L*R\n",
    "                df = pd.DataFrame({g1: g1_T, g2: g2_B, 'L*R': L_R}).dropna()\n",
    "\n",
    "                # Convert the dataframe to a numpy array\n",
    "                df_numpy = df.to_numpy()\n",
    "\n",
    "                # Perform the Fisher-Z test\n",
    "                fisherz_obj = CIT(df_numpy, \"fisherz\")\n",
    "                pValue = fisherz_obj(0, 1, [2])\n",
    "\n",
    "                # Save results if the p-value is greater than 0.1\n",
    "                if pValue > 0.1:\n",
    "                    new_row = {'g1': g1, 'g2': g2, 'L1': L, 'R1': R,'L2': L2, 'R2': R2, 'pValue': pValue}\n",
    "                    results_B = pd.concat([results_B, pd.DataFrame(new_row, index=[0])], ignore_index=True)\n",
    "\n",
    "# Print the results\n",
    "print(results_B)\n"
   ]
  },
  {
   "cell_type": "code",
   "execution_count": null,
   "metadata": {},
   "outputs": [],
   "source": []
  },
  {
   "cell_type": "code",
   "execution_count": null,
   "metadata": {},
   "outputs": [],
   "source": [
    "from causallearn.utils.cit import CIT\n",
    "# make a dataframe prepared to save the results\n",
    "results_B = pd.DataFrame(columns=['g1', 'g2', 'L', 'R', 'pValue'])\n",
    "\n",
    "for g1, g2 in DEG_B_pairs.values:\n",
    "    # check if g2 is ended with '_B'\n",
    "    if g2.endswith('_B'):\n",
    "\n",
    "        for L, R in lrpair_kegg.values:\n",
    "            # check if L and R can be found in the DEG expression data\n",
    "            if L in pseudo_T.var_names and R  in pseudo_B.var_names:\n",
    "                # get the L_T and R_B from pseudo_T and pseudo_B\n",
    "                L_T = pseudo_T[:, L].X\n",
    "                L_T = pd.DataFrame(L_T, columns=[L], index=pseudo_T.obs['sample_id'])\n",
    "                L_T = L_T.dropna()\n",
    "                R_B = pseudo_B[:, R].X\n",
    "                R_B = pd.DataFrame(R_B, columns=[R], index=pseudo_B.obs['sample_id'])\n",
    "                R_B = R_B.dropna()\n",
    "                # calculate the L*R\n",
    "                # Ensure the column names match\n",
    "                L_T.columns = [R+'_vs_'+L]\n",
    "                R_B.columns = L_T.columns\n",
    "\n",
    "                # perform the multiplication and change L_R to 1-dimensional\n",
    "                L_R = L_T.multiply(R_B, axis=0)\n",
    "                L_R = L_R.iloc[:,0]\n",
    "\n",
    "                # make a dataframe g1, g2 and L*R\n",
    "                if g1 not in DEG_exp.columns or g2 not in DEG_exp.columns:\n",
    "                    # change '.' to '_'\n",
    "                    g1 = g1.replace('.', '-')\n",
    "                    g2 = g2.replace('.', '-')\n",
    "                    if g1 not in DEG_exp.columns or g2 not in DEG_exp.columns:\n",
    "                        continue\n",
    "                \n",
    "                g1_T = DEG_exp[g1]\n",
    "                g2_B = DEG_exp[g2]\n",
    "                df = pd.DataFrame({g1: g1_T, g2: g2_B, 'L*R': L_R})\n",
    "                # remove the rows with NA\n",
    "                df = df.dropna()\n",
    "\n",
    "                # convert df to numpy array\n",
    "                df_numpy = df.to_numpy()\n",
    "\n",
    "                fisherz_obj = CIT(df_numpy, \"fisherz\") # construct a CIT instance with data and method name\n",
    "                pValue = fisherz_obj( 0, 1, [2] )\n",
    "                if pValue > 0.1:\n",
    "                    # save the g1, g2, L, R, pValue to a dataframe\n",
    "                    results_B = pd.concat([results_B, pd.DataFrame({'g1': [g1], 'g2': [g2], 'L': [L], 'R': [R], 'pValue': [pValue]})], ignore_index=True)\n",
    "                    \n",
    "print(results_B)"
   ]
  },
  {
   "cell_type": "code",
   "execution_count": null,
   "metadata": {},
   "outputs": [],
   "source": [
    "gene1 = results_B['g1'].unique()\n",
    "# convert gene1 to a string and remove the _T in the gene1\n",
    "gene1 = str(gene1).replace('_T', '')\n",
    "print(gene1)\n",
    "\n",
    "gene2 = results_B['g2'].unique()\n",
    "# convert gene2 to a string and remove the _B in the gene2\n",
    "gene2 = str(gene2).replace('_B', '')\n",
    "print(gene2)"
   ]
  },
  {
   "cell_type": "code",
   "execution_count": null,
   "metadata": {},
   "outputs": [],
   "source": [
    "# add columns for correlation between g1 and g2\n",
    "results_B['correlation(T vs B)'] = np.nan\n",
    "results_B['correlation(T vs B)'] = results_B['correlation(T vs B)'].astype('object')\n",
    "# add in the values for correlation, g1 from pseudo_T and g2 from pseudo_B\n",
    "for i, row in results_B.iterrows():\n",
    "    g1 = row['g1']\n",
    "    g2 = row['g2']\n",
    "    g1_T = DEG_exp[g1]\n",
    "    g2_B = DEG_exp[g2]  \n",
    "    corr = g1_T.corr(g2_B)\n",
    "    results_B.at[i, 'correlation(T vs B)'] = corr\n"
   ]
  },
  {
   "cell_type": "code",
   "execution_count": null,
   "metadata": {},
   "outputs": [],
   "source": [
    "\n",
    "# add columns for correlation between g1 and L\n",
    "results_B['correlation(T vs L)'] = np.nan\n",
    "results_B['correlation(T vs L)'] = results_B['correlation(T vs L)'].astype('object')\n",
    "# add in the values for correlation, g1 from pseudo_T and L from pseudo_T\n",
    "for i, row in results_B.iterrows():\n",
    "    g1 = row['g1']\n",
    "    L = row['L']\n",
    "    g1_T = DEG_exp[g1]\n",
    "    L_T = pd.DataFrame(pseudo_T[:, L].X, columns=[L], index=pseudo_T.obs['sample_id']) \n",
    "    # Convert ArrayView to DataFrame\n",
    "    L_T.columns = [L]  # Ensure column names match\n",
    "    corr = g1_T.corr(L_T.squeeze())  # Use squeeze() to convert 1-dimensional DataFrame to Series\n",
    "    results_B.at[i, 'correlation(T vs L)'] = corr\n",
    "    if g1 == 'PMAIP1_T':\n",
    "        print(g1_T)\n"
   ]
  },
  {
   "cell_type": "code",
   "execution_count": null,
   "metadata": {},
   "outputs": [],
   "source": [
    "\n",
    "# add columns for correlation between R and g2\n",
    "results_B['correlation(R vs B)'] = np.nan\n",
    "results_B['correlation(R vs B)'] = results_B['correlation(R vs B)'].astype('object')\n",
    "# add in the values for correlation, R from pseudo_B and g2 from pseudo_B\n",
    "for i, row in results_B.iterrows():\n",
    "    g2 = row['g2']\n",
    "    R = row['R']\n",
    "    g2_B = DEG_exp[g2]\n",
    "    R_B = pd.DataFrame(pseudo_B[:, R].X, columns=[R], index=pseudo_B.obs['sample_id'])\n",
    "    # Convert ArrayView to DataFrame\n",
    "    R_B.columns = [R]  # Ensure column names match\n",
    "    corr = R_B.squeeze().corr(g2_B)\n",
    "    results_B.at[i, 'correlation(R vs B)'] = corr"
   ]
  },
  {
   "cell_type": "code",
   "execution_count": null,
   "metadata": {},
   "outputs": [],
   "source": [
    "\n",
    "# add columns for correlation between L*R and g2\n",
    "results_B['correlation(L*R vs B)'] = np.nan\n",
    "results_B['correlation(L*R vs B)'] = results_B['correlation(L*R vs B)'].astype('object')\n",
    "# add in the values for correlation, L*R from pseudo_T and g2 from pseudo_B\n",
    "for i, row in results_B.iterrows():\n",
    "    g2 = row['g2']\n",
    "    g2_B = DEG_exp[g2]\n",
    "    L_T = pd.DataFrame(pseudo_T[:, row['L']].X, columns=[row['L']], index=pseudo_T.obs['sample_id'])\n",
    "    R_B = pd.DataFrame(pseudo_B[:, row['R']].X, columns=[row['R']], index=pseudo_B.obs['sample_id'])\n",
    "    # get L*R from L_T and R_B based on sample_id\n",
    "    # make sure the column names match\n",
    "    L_T.columns = [row['R']+'_vs_'+row['L']]\n",
    "    R_B.columns = L_T.columns\n",
    "    g2_B.columns = L_T.columns\n",
    "    L_R = L_T.multiply(R_B, axis=0)\n",
    "    corr = L_R.squeeze().corr(g2_B)\n",
    "    results_B.at[i, 'correlation(L*R vs B)'] = corr\n"
   ]
  },
  {
   "cell_type": "code",
   "execution_count": null,
   "metadata": {},
   "outputs": [],
   "source": [
    "results_B"
   ]
  },
  {
   "cell_type": "markdown",
   "metadata": {},
   "source": [
    "### example"
   ]
  },
  {
   "cell_type": "code",
   "execution_count": null,
   "metadata": {},
   "outputs": [],
   "source": [
    "g1 = 'TSC22D3_T'\n",
    "g2 = 'TNKS_B'\n",
    "g1_T = DEG_exp[g1]\n",
    "g2_B = DEG_exp[g2]\n",
    "df = pd.DataFrame({g1: g1_T, g2: g2_B})"
   ]
  },
  {
   "cell_type": "code",
   "execution_count": null,
   "metadata": {},
   "outputs": [],
   "source": [
    "from causallearn.utils.cit import CIT\n",
    "\n",
    "L = 'CXCL1'\n",
    "R = 'CXCR3'\n",
    "L_T = pseudo_T[:, L].X\n",
    "L_T = pd.DataFrame(L_T, columns=[L], index=pseudo_T.obs['sample_id'])\n",
    "L_T = L_T.dropna()\n",
    "R_B = pseudo_B[:, R].X\n",
    "R_B = pd.DataFrame(R_B, columns=[R], index=pseudo_B.obs['sample_id'])\n",
    "R_B = R_B.dropna()\n",
    "\n",
    "# Ensure the column names match\n",
    "L_T.columns = [R+'_vs_'+L]\n",
    "R_B.columns = L_T.columns\n",
    "\n",
    "# perform the multiplication and change L_R to 1-dimensional\n",
    "L_R = L_T.multiply(R_B, axis=0)\n",
    "L_R = L_R.iloc[:,0]\n",
    "\n",
    "# make a dataframe g1, g2 and L*R\n",
    "g1_T = DEG_exp[g1]\n",
    "g2_B = DEG_exp[g2]\n",
    "df = pd.DataFrame({g1: g1_T, g2: g2_B, 'L*R': L_R})\n",
    "# remove the rows with NA\n",
    "df = df.dropna()\n",
    "\n",
    "# convert df to numpy array\n",
    "df_numpy = df.to_numpy()\n",
    "\n",
    "fisherz_obj = CIT(df_numpy, \"fisherz\") # construct a CIT instance with data and method name\n",
    "pValue = fisherz_obj( 0, 1, [2] )\n",
    "pValue"
   ]
  },
  {
   "cell_type": "code",
   "execution_count": null,
   "metadata": {},
   "outputs": [],
   "source": [
    "df \n"
   ]
  },
  {
   "cell_type": "code",
   "execution_count": null,
   "metadata": {},
   "outputs": [],
   "source": [
    "#find the R genes that is in the pseudo_B.var_names\n",
    "valid_columns = [col for col in lrpair_kegg['R'] if col in pseudo_B.var_names]\n",
    "valid_columns"
   ]
  },
  {
   "cell_type": "code",
   "execution_count": null,
   "metadata": {},
   "outputs": [],
   "source": [
    "L_R = L_T.multiply(R_B, axis=0)"
   ]
  },
  {
   "cell_type": "markdown",
   "metadata": {},
   "source": [
    "### plot figures: G_B vs G_T, G_B res vs G_T, L vs G_T, G_B vs R"
   ]
  },
  {
   "cell_type": "code",
   "execution_count": null,
   "metadata": {},
   "outputs": [],
   "source": [
    "# plot the figure of all g1 and g2 scatter plot and also add the treatment as color\n",
    "import seaborn as sns\n",
    "import matplotlib.pyplot as plt\n",
    "# all g1 and g2 in result_B scatter plot and also add the treatment as color\n",
    "for g1, g2 in results_B[['g1', 'g2']].values:\n",
    "    g1_T = DEG_exp[g1]\n",
    "    g2_B = DEG_exp[g2]\n",
    "    df = pd.DataFrame({g1: g1_T, g2: g2_B, 'treatment': DEG_exp['treatment']})\n",
    "    df = df.dropna()\n",
    "    sns.scatterplot(data=df, x=g1, y=g2, hue='treatment')\n",
    "    # add the correalation coefficient\n",
    "    corr = df[g1].corr(df[g2])\n",
    "    plt.title(f'g1: {g1}, g2: {g2}, corr: {corr}')\n",
    "    plt.show()\n",
    "\n"
   ]
  },
  {
   "cell_type": "code",
   "execution_count": null,
   "metadata": {},
   "outputs": [],
   "source": [
    "# plot the figure of all R and g2 scatter plot and also add the treatment as color\n",
    "for R, g2 in results_B[['R', 'g2']].values:\n",
    "    R_B = pseudo_B[:, R].X\n",
    "    R_B = pd.DataFrame(R_B, columns=[R], index=pseudo_B.obs['sample_id'])\n",
    "    R_B = R_B.dropna()\n",
    "    g2_B = DEG_exp[g2]\n",
    "    df = pd.DataFrame({R: R_B.iloc[:,0], g2: g2_B, 'treatment': DEG_exp['treatment']})\n",
    "    df = df.dropna()\n",
    "    sns.scatterplot(data=df, x=R, y=g2, hue='treatment')\n",
    "    plt.show()"
   ]
  },
  {
   "cell_type": "code",
   "execution_count": null,
   "metadata": {},
   "outputs": [],
   "source": [
    "# plot the figure of all g1 and L scatter plot and also add the treatment as color\n",
    "for g1, L in results_B[['g1', 'L']].values:\n",
    "    g1_T = DEG_exp[g1]\n",
    "    L_T = pseudo_T[:, L].X\n",
    "    L_T = pd.DataFrame(L_T, columns=[L], index=pseudo_T.obs['sample_id'])\n",
    "    L_T = L_T.dropna()\n",
    "    df = pd.DataFrame({g1: g1_T, L: L_T.iloc[:,0], 'treatment': DEG_exp['treatment']})\n",
    "    df = df.dropna()\n",
    "    sns.scatterplot(data=df, x=g1, y=L, hue='treatment')\n",
    "    plt.show()\n"
   ]
  },
  {
   "cell_type": "code",
   "execution_count": null,
   "metadata": {},
   "outputs": [],
   "source": [
    "import statsmodels.api as sm\n",
    "import matplotlib.pyplot as plt\n",
    "#add one column for correlation between residuals and g1\n",
    "results_B['correlation(residuals vs g1)'] = np.nan\n",
    "results_B['correlation(residuals vs g1)'] = results_B['correlation(residuals vs g1)'].astype('object')\n",
    "for index, row in results_B.iterrows():\n",
    "    L = row['L']\n",
    "    R = row['R']\n",
    "\n",
    "    # Calculate L*R\n",
    "    L_values = pseudo_T[:, L].X\n",
    "    R_values = pseudo_B[:, R].X\n",
    "    L_R = L_values * R_values\n",
    "\n",
    "    # Prepare the data for regression\n",
    "    X = sm.add_constant(L_R)  # add a constant term for the intercept\n",
    "    DEG_B = row['g2']  # DEG_B column name from results_B\n",
    "    Y_B = DEG_exp[DEG_B]\n",
    "\n",
    "    # Regress DEG_B on L*R to get residuals\n",
    "    model_B = sm.OLS(Y_B, X).fit()\n",
    "    residuals_B = model_B.resid\n",
    "    # add correlation between residuals and g1\n",
    "    corr = residuals_B.corr(DEG_exp[row['g1']])\n",
    "    # add the correlation to the results_B\n",
    "    results_B.at[index, 'correlation(residuals vs g1)'] = corr\n",
    "    # show color for the treatment\n",
    "    treatment = DEG_exp['treatment']\n",
    "    # show which color is pre and after treatment\n",
    "    treatment = treatment.map({0: 'blue', 1: 'orange'})\n",
    "    # Plot the residuals against DEG_T\n",
    "    plt.scatter(DEG_exp[row['g1']], residuals_B, c=treatment)\n",
    "    plt.title(f'{row[\"g1\"]} vs residuals of {row[\"g2\"]}, corr: {corr}')\n",
    "    plt.xlabel(row['g1'])\n",
    "    plt.ylabel(f'Residuals of {row[\"g2\"]}')\n",
    "    plt.show()\n",
    "    \n"
   ]
  },
  {
   "cell_type": "code",
   "execution_count": null,
   "metadata": {},
   "outputs": [],
   "source": [
    "# save the results_B to excel\n",
    "with pd.ExcelWriter(data_dir + 'project_data_new/data_IVtest_result/CIT_test_results_B.xlsx') as writer:\n",
    "    results_B.to_excel(writer, sheet_name='B')"
   ]
  },
  {
   "cell_type": "markdown",
   "metadata": {},
   "source": [
    "## find the significant pairs between T and M"
   ]
  },
  {
   "cell_type": "code",
   "execution_count": null,
   "metadata": {},
   "outputs": [],
   "source": [
    "from causallearn.utils.cit import CIT\n",
    "results_M = pd.DataFrame(columns=['g1', 'g2', 'L', 'R', 'pValue'])\n",
    "for g1, g2 in DEG_M_pairs.values:\n",
    "    # check if g2 is ended with '_M'\n",
    "    if g2.endswith('_M'):\n",
    "        for L, R in lrpair_kegg.values:\n",
    "            # check if L and R can be found in the DEG expression data\n",
    "            if L in pseudo_T.var_names and R  in pseudo_M.var_names:\n",
    "                # get the L_T and R_B from pseudo_T and pseudo_M\n",
    "                L_T = pseudo_T[:, L].X\n",
    "                L_T = pd.DataFrame(L_T, columns=[L], index=pseudo_T.obs['sample_id'])\n",
    "                L_T = L_T.dropna()\n",
    "                R_M = pseudo_M[:, R].X\n",
    "                R_M = pd.DataFrame(R_M, columns=[R], index=pseudo_M.obs['sample_id'])\n",
    "                R_M = R_M.dropna()\n",
    "                # calculate the L*R\n",
    "                # Ensure the column names match\n",
    "                L_T.columns = [R+'_vs_'+L]\n",
    "                R_M.columns = L_T.columns\n",
    "\n",
    "                # perform the multiplication and change L_R to 1-dimensional\n",
    "                L_R = L_T.multiply(R_M, axis=0)\n",
    "                L_R = L_R.iloc[:,0]\n",
    "\n",
    "                # make a dataframe g1, g2 and L*R\n",
    "                if g1 not in DEG_exp.columns or g2 not in DEG_exp.columns:\n",
    "                    continue\n",
    "                \n",
    "                g1_T = DEG_exp[g1]\n",
    "                g2_M = DEG_exp[g2]\n",
    "                df = pd.DataFrame({g1: g1_T, g2: g2_M, 'L*R': L_R})\n",
    "                # remove the rows with NA\n",
    "                df = df.dropna()\n",
    "\n",
    "                # convert df to numpy array\n",
    "                df_numpy = df.to_numpy()\n",
    "\n",
    "                fisherz_obj = CIT(df_numpy, \"fisherz\")\n",
    "                pValue = fisherz_obj( 0, 1, [2] )\n",
    "                if pValue > 0.1:\n",
    "                    results_M = pd.concat([results_M, pd.DataFrame({'g1': [g1], 'g2': [g2], 'L': [L], 'R': [R], 'pValue': [pValue]})], ignore_index=True)\n",
    "                \n",
    "print(results_M)"
   ]
  },
  {
   "cell_type": "code",
   "execution_count": null,
   "metadata": {},
   "outputs": [],
   "source": [
    "gene1 = results_M['g1'].unique()\n",
    "# convert gene1 to a string and remove the _T in the gene1\n",
    "gene1 = str(gene1).replace('_T', '')\n",
    "print(gene1)\n",
    "\n",
    "gene2 = results_M['g2'].unique()\n",
    "# convert gene2 to a string and remove the _B in the gene2\n",
    "gene2 = str(gene2).replace('_M', '')\n",
    "print(gene2)"
   ]
  },
  {
   "cell_type": "code",
   "execution_count": null,
   "metadata": {},
   "outputs": [],
   "source": [
    "# add columns for correlation between\n",
    "\n",
    "# add columns for correlation between g1 and g2\n",
    "results_M['correlation(T vs M)'] = np.nan\n",
    "results_M['correlation(T vs M)'] = results_M['correlation(T vs M)'].astype('object')\n",
    "# add in the values for correlation, g1 from pseudo_T and g2 from pseudo_M\n",
    "for i, row in results_M.iterrows():\n",
    "    g1 = row['g1']\n",
    "    g2 = row['g2']\n",
    "    g1_T = DEG_exp[g1]\n",
    "    g2_M = DEG_exp[g2]  \n",
    "    corr = g1_T.corr(g2_M)\n",
    "    results_M.at[i, 'correlation(T vs M)'] = corr\n",
    "\n",
    "# add columns for correlation between g1 and L\n",
    "results_M['correlation(T vs L)'] = np.nan\n",
    "results_M['correlation(T vs L)'] = results_M['correlation(T vs L)'].astype('object')\n",
    "# add in the values for correlation, g1 from pseudo_T and L from pseudo_T\n",
    "for i, row in results_M.iterrows():\n",
    "    g1 = row['g1']\n",
    "    L = row['L']\n",
    "    g1_T = DEG_exp[g1]\n",
    "    L_T = pd.DataFrame(pseudo_T[:, L].X, columns=[L], index=pseudo_T.obs['sample_id']) \n",
    "    # Convert ArrayView to DataFrame\n",
    "    L_T.columns = [L]  # Ensure column names match\n",
    "    corr = g1_T.corr(L_T.squeeze())  # Use squeeze() to convert 1-dimensional DataFrame to Series\n",
    "    results_M.at[i, 'correlation(T vs L)'] = corr\n",
    "\n",
    "# add columns for correlation between R and g2\n",
    "results_M['correlation(R vs M)'] = np.nan\n",
    "results_M['correlation(R vs M)'] = results_M['correlation(R vs M)'].astype('object')\n",
    "# add in the values for correlation, R from pseudo_M and g2 from pseudo_M\n",
    "for i, row in results_M.iterrows():\n",
    "    g2 = row['g2']\n",
    "    R = row['R']\n",
    "    g2_M = DEG_exp[g2]\n",
    "    R_M = pd.DataFrame(pseudo_M[:, R].X, columns=[R], index=pseudo_M.obs['sample_id'])\n",
    "    # Convert ArrayView to DataFrame\n",
    "    R_M.columns = [R]  # Ensure column names match\n",
    "    corr = R_M.squeeze().corr(g2_M)\n",
    "    results_M.at[i, 'correlation(R vs M)'] = corr\n",
    "\n",
    "# add columns for correlation between L*R and g2\n",
    "results_M['correlation(L*R vs M)'] = np.nan\n",
    "results_M['correlation(L*R vs M)'] = results_M['correlation(L*R vs M)'].astype('object')\n",
    "# add in the values for correlation, L*R from pseudo_T and g2 from pseudo_M\n",
    "for i, row in results_M.iterrows():\n",
    "    g2 = row['g2']\n",
    "    g2_M = DEG_exp[g2]\n",
    "    L_T = pd.DataFrame(pseudo_T[:, row['L']].X, columns=[row['L']], index=pseudo_T.obs['sample_id'])\n",
    "    R_M = pd.DataFrame(pseudo_M[:, row['R']].X, columns=[row['R']], index=pseudo_M.obs['sample_id'])\n",
    "    # get L*R from L_T and R_M based on sample_id\n",
    "    # make sure the column names match\n",
    "    L_T.columns = [row['R']+'_vs_'+row['L']]\n",
    "    R_M.columns = L_T.columns\n",
    "    g2_M.columns = L_T.columns\n",
    "    L_R = L_T.multiply(R_M, axis=0)\n",
    "    corr = L_R.squeeze().corr(g2_M)\n",
    "    results_M.at[i, 'correlation(L*R vs M)'] = corr\n"
   ]
  },
  {
   "cell_type": "code",
   "execution_count": null,
   "metadata": {},
   "outputs": [],
   "source": [
    "results_M"
   ]
  },
  {
   "cell_type": "code",
   "execution_count": null,
   "metadata": {},
   "outputs": [],
   "source": [
    "# save the results_M to excel\n",
    "with pd.ExcelWriter(data_dir + 'project_data_new/data_IVtest_result/CIT_test_results_M.xlsx') as writer:\n",
    "    results_M.to_excel(writer, sheet_name='M')"
   ]
  },
  {
   "cell_type": "markdown",
   "metadata": {},
   "source": [
    "### plot figures"
   ]
  },
  {
   "cell_type": "code",
   "execution_count": null,
   "metadata": {},
   "outputs": [],
   "source": [
    "import seaborn as sns\n",
    "import matplotlib.pyplot as plt\n",
    "# plot the figure of all g1 and g2 scatter plot and also add the treatment as color\n",
    "for g1, g2 in results_M[['g1', 'g2']].values:\n",
    "    g1_T = DEG_exp[g1]\n",
    "    g2_M = DEG_exp[g2]\n",
    "    df = pd.DataFrame({g1: g1_T, g2: g2_M, 'treatment': DEG_exp['treatment']})\n",
    "    df = df.dropna()\n",
    "    sns.scatterplot(data=df, x=g1, y=g2, hue='treatment')\n",
    "    # add the correalation coefficient\n",
    "    corr = df[g1].corr(df[g2])\n",
    "    plt.title(f'g1: {g1}, g2: {g2}, corr: {corr}')\n",
    "    plt.show()"
   ]
  },
  {
   "cell_type": "code",
   "execution_count": null,
   "metadata": {},
   "outputs": [],
   "source": [
    "for R, g2 in results_M[['R', 'g2']].values:\n",
    "    R_B = pseudo_M[:, R].X\n",
    "    R_B = pd.DataFrame(R_B, columns=[R], index=pseudo_M.obs['sample_id'])\n",
    "    R_B = R_B.dropna()\n",
    "    g2_B = DEG_exp[g2]\n",
    "    df = pd.DataFrame({R: R_B.iloc[:,0], g2: g2_M, 'treatment': DEG_exp['treatment']})\n",
    "    df = df.dropna()\n",
    "    sns.scatterplot(data=df, x=R, y=g2, hue='treatment')\n",
    "    plt.show()"
   ]
  },
  {
   "cell_type": "code",
   "execution_count": null,
   "metadata": {},
   "outputs": [],
   "source": [
    "# plot the figure of all g1 and L scatter plot and also add the treatment as color\n",
    "for g1, L in results_M[['g1', 'L']].values:\n",
    "    g1_T = DEG_exp[g1]\n",
    "    L_T = pseudo_T[:, L].X\n",
    "    L_T = pd.DataFrame(L_T, columns=[L], index=pseudo_T.obs['sample_id'])\n",
    "    L_T = L_T.dropna()\n",
    "    df = pd.DataFrame({g1: g1_T, L: L_T.iloc[:,0], 'treatment': DEG_exp['treatment']})\n",
    "    df = df.dropna()\n",
    "    sns.scatterplot(data=df, x=g1, y=L, hue='treatment')\n",
    "    plt.show()\n"
   ]
  },
  {
   "cell_type": "code",
   "execution_count": null,
   "metadata": {},
   "outputs": [],
   "source": [
    "import statsmodels.api as sm\n",
    "import matplotlib.pyplot as plt \n",
    "for index, row in results_M.iterrows():\n",
    "    L = row['L']\n",
    "    R = row['R']\n",
    "\n",
    "    # Calculate L*R\n",
    "    L_values = pseudo_T[:, L].X\n",
    "    R_values = pseudo_M[:, R].X\n",
    "    L_R = L_values * R_values\n",
    "\n",
    "    # Prepare the data for regression\n",
    "    X = sm.add_constant(L_R)  # add a constant term for the intercept\n",
    "    DEG_M = row['g2']  # DEG_B column name from results_B\n",
    "    Y_M = DEG_exp[DEG_M]\n",
    "\n",
    "    # Regress DEG_B on L*R to get residuals\n",
    "    model_M = sm.OLS(Y_M, X).fit()\n",
    "    residuals_M = model_M.resid\n",
    "    # add correlation between residuals and g1\n",
    "    corr = residuals_M.corr(DEG_exp[row['g1']])\n",
    "    results_M.at[index, 'correlation(residuals vs g1)'] = corr\n",
    "    # show color for the treatment\n",
    "    treatment = DEG_exp['treatment']\n",
    "    # show which color is pre and after treatment\n",
    "    treatment = treatment.map({0: 'blue', 1: 'orange'})\n",
    "    # Plot the residuals against DEG_T\n",
    "    plt.scatter(DEG_exp[row['g1']], residuals_M, c=treatment)\n",
    "    plt.title(f'{row[\"g1\"]} vs residuals of {row[\"g2\"]}, corr: {corr}')\n",
    "    plt.xlabel(row['g1'])\n",
    "    plt.ylabel(f'Residuals of {row[\"g2\"]}')\n",
    "    plt.show()"
   ]
  },
  {
   "cell_type": "code",
   "execution_count": null,
   "metadata": {},
   "outputs": [],
   "source": [
    "import statsmodels.api as sm\n",
    "import matplotlib.pyplot as plt \n",
    "for index, row in results_M.iterrows():\n",
    "    L = row['L']\n",
    "    R = row['R']\n",
    "\n",
    "    # Calculate L*R\n",
    "    L_values = pseudo_T[:, L].X\n",
    "    R_values = pseudo_M[:, R].X\n",
    "    L_R = L_values * R_values\n",
    "\n",
    "    # Prepare the data for regression\n",
    "    X = sm.add_constant(L_R)  # add a constant term for the intercept\n",
    "    DEG_M = row['g2']  # DEG_B column name from results_B\n",
    "    Y_M = DEG_exp[DEG_M]\n",
    "\n",
    "    # Regress DEG_B on L*R to get residuals\n",
    "    model_M = sm.OLS(Y_M, X).fit()\n",
    "    residuals_M = model_M.resid\n",
    "    # add correlation between residuals and g1\n",
    "    corr = residuals_M.corr(DEG_exp[row['g1']])\n",
    "    results_M.at[index, 'correlation(residuals vs g1)'] = corr\n"
   ]
  },
  {
   "cell_type": "markdown",
   "metadata": {},
   "source": [
    "## find the significant pairs between T and Endo"
   ]
  },
  {
   "cell_type": "code",
   "execution_count": null,
   "metadata": {},
   "outputs": [],
   "source": [
    "# find the significant pairs between T and Endo\n",
    "results_T_Endo = pd.DataFrame(columns=['g1', 'g2', 'L', 'R', 'pValue'])\n",
    "for g1, g2 in DEG_Endo_pairs.values:\n",
    "    # check if g2 is ended with '_Endo'\n",
    "    if g2.endswith('_Endo'):\n",
    "        for L, R in lrpair_kegg.values:\n",
    "            # check if L and R can be found in the DEG expression data\n",
    "            if L in pseudo_T.var_names and R  in pseudo_Endo.var_names:\n",
    "                # get the L_T and R_Endo from pseudo_T and pseudo_Endo\n",
    "                L_T = pseudo_T[:, L].X\n",
    "                L_T = pd.DataFrame(L_T, columns=[L], index=pseudo_T.obs['sample_id'])\n",
    "                L_T = L_T.dropna()\n",
    "                R_Endo = pseudo_Endo[:, R].X\n",
    "                R_Endo = pd.DataFrame(R_Endo, columns=[R], index=pseudo_Endo.obs['sample_id'])\n",
    "                R_Endo = R_Endo.dropna()\n",
    "                # calculate the L*R\n",
    "                # Ensure the column names match\n",
    "                L_T.columns = [R+'_vs_'+L]\n",
    "                R_Endo.columns = L_T.columns\n",
    "\n",
    "                # perform the multiplication and change L_R to 1-dimensional\n",
    "                L_R = L_T.multiply(R_Endo, axis=0)\n",
    "                L_R = L_R.iloc[:,0]\n",
    "\n",
    "                # make a dataframe g1, g2 and L*R\n",
    "                if g1 not in DEG_exp.columns or g2 not in DEG_exp.columns:\n",
    "                    continue\n",
    "                \n",
    "                g1_T = DEG_exp[g1]\n",
    "                g2_Endo = DEG_exp[g2]\n",
    "                df = pd.DataFrame({g1: g1_T, g2: g2_Endo, 'L*R': L_R})\n",
    "                # remove the rows with NA\n",
    "                df = df.dropna()\n",
    "\n",
    "                # convert df to numpy array\n",
    "                df_numpy = df.to_numpy()\n",
    "\n",
    "                fisherz_obj = CIT(df_numpy, \"fisherz\")\n",
    "                pValue = fisherz_obj( 0, 1, [2] )\n",
    "                if pValue > 0.1:\n",
    "                    # save the g1, g2, L, R, pValue to a dataframe\n",
    "                    results_T_Endo = pd.concat([results_T_Endo, pd.DataFrame({'g1': [g1], 'g2': [g2], 'L': [L], 'R': [R], 'pValue': [pValue]})], ignore_index=True)\n",
    "\n",
    "print(results_T_Endo)"
   ]
  },
  {
   "cell_type": "code",
   "execution_count": null,
   "metadata": {},
   "outputs": [],
   "source": [
    "# add columns for correlation between\n",
    "\n",
    "# add columns for correlation between g1 and g2\n",
    "results_T_Endo['correlation(T vs Endo)'] = np.nan\n",
    "results_T_Endo['correlation(T vs Endo)'] = results_T_Endo['correlation(T vs Endo)'].astype('object')\n",
    "# add in the values for correlation, g1 from pseudo_T and g2 from pseudo_Endo\n",
    "for i, row in results_T_Endo.iterrows():\n",
    "    g1 = row['g1']\n",
    "    g2 = row['g2']\n",
    "    g1_T = DEG_exp[g1]\n",
    "    g2_Endo = DEG_exp[g2]  \n",
    "    corr = g1_T.corr(g2_Endo)\n",
    "    results_T_Endo.at[i, 'correlation(T vs Endo)'] = corr\n",
    "\n",
    "# add columns for correlation between g1 and L\n",
    "results_T_Endo['correlation(T vs L)'] = np.nan\n",
    "results_T_Endo['correlation(T vs L)'] = results_T_Endo['correlation(T vs L)'].astype('object')\n",
    "# add in the values for correlation, g1 from pseudo_T and L from pseudo_T\n",
    "for i, row in results_T_Endo.iterrows():\n",
    "    g1 = row['g1']\n",
    "    L = row['L']\n",
    "    g1_T = DEG_exp[g1]\n",
    "    L_T = pd.DataFrame(pseudo_T[:, L].X, columns=[L], index=pseudo_T.obs['sample_id']) \n",
    "    # Convert ArrayView to DataFrame\n",
    "    L_T.columns = [L]  # Ensure column names match\n",
    "    corr = g1_T.corr(L_T.squeeze())  # Use squeeze() to convert 1-dimensional DataFrame to Series\n",
    "    results_T_Endo.at[i, 'correlation(T vs L)'] = corr\n",
    "\n",
    "# add columns for correlation between R and g2\n",
    "results_T_Endo['correlation(R vs Endo)'] = np.nan\n",
    "results_T_Endo['correlation(R vs Endo)'] = results_T_Endo['correlation(R vs Endo)'].astype('object')\n",
    "# add in the values for correlation, R from pseudo_Endo and g2 from pseudo_Endo\n",
    "for i, row in results_T_Endo.iterrows():\n",
    "    g2 = row['g2']\n",
    "    R = row['R']\n",
    "    g2_Endo = DEG_exp[g2]\n",
    "    R_Endo = pd.DataFrame(pseudo_Endo[:, R].X, columns=[R], index=pseudo_Endo.obs['sample_id'])\n",
    "    # Convert ArrayView to DataFrame\n",
    "    R_Endo.columns = [R]  # Ensure column names match\n",
    "    corr = R_Endo.squeeze().corr(g2_Endo)\n",
    "    results_T_Endo.at[i, 'correlation(R vs Endo)'] = corr\n",
    "\n",
    "# add columns for correlation between L*R and g2\n",
    "results_T_Endo['correlation(L*R vs Endo)'] = np.nan\n",
    "results_T_Endo['correlation(L*R vs Endo)'] = results_T_Endo['correlation(L*R vs Endo)'].astype('object')\n",
    "# add in the values for correlation, L*R from pseudo_T and g2 from pseudo_Endo\n",
    "for i, row in results_T_Endo.iterrows():\n",
    "    g2 = row['g2']\n",
    "    g2_Endo = DEG_exp[g2]\n",
    "    L_T = pd.DataFrame(pseudo_T[:, row['L']].X, columns=[row['L']], index=pseudo_T.obs['sample_id'])\n",
    "    R_Endo = pd.DataFrame(pseudo_Endo[:, row['R']].X, columns=[row['R']], index=pseudo_Endo.obs['sample_id'])\n",
    "    # get L*R from L_T and R_Endo based on sample_id\n",
    "    # make sure the column names match\n",
    "    L_T.columns = [row['R']+'_vs_'+row['L']]\n",
    "    R_Endo.columns = L_T.columns\n",
    "    g2_Endo.columns = L_T.columns\n",
    "    L_R = L_T.multiply(R_Endo, axis=0)\n",
    "    corr = L_R.squeeze().corr(g2_Endo)\n",
    "    results_T_Endo.at[i, 'correlation(L*R vs Endo)'] = corr"
   ]
  },
  {
   "cell_type": "code",
   "execution_count": null,
   "metadata": {},
   "outputs": [],
   "source": [
    "import statsmodels.api as sm\n",
    "import matplotlib.pyplot as plt \n",
    "for index, row in results_T_Endo.iterrows():\n",
    "    L = row['L']\n",
    "    R = row['R']\n",
    "\n",
    "    # Calculate L*R\n",
    "    L_values = pseudo_T[:, L].X\n",
    "    R_values = pseudo_Endo[:, R].X\n",
    "    L_R = L_values * R_values\n",
    "\n",
    "    # Prepare the data for regression\n",
    "    X = sm.add_constant(L_R)  # add a constant term for the intercept\n",
    "    DEG_Endo = row['g2']  # DEG_B column name from results_B\n",
    "    Y_Endo = DEG_exp[DEG_Endo]\n",
    "\n",
    "    # Regress DEG_B on L*R to get residuals\n",
    "    model_Endo = sm.OLS(Y_Endo, X).fit()\n",
    "    residuals_Endo = model_Endo.resid\n",
    "    # add correlation between residuals and g1\n",
    "    corr = residuals_Endo.corr(DEG_exp[row['g1']])\n",
    "    results_T_Endo.at[index, 'correlation(residuals vs g1)'] = corr\n",
    "  "
   ]
  },
  {
   "cell_type": "code",
   "execution_count": null,
   "metadata": {},
   "outputs": [],
   "source": [
    "results_T_Endo"
   ]
  },
  {
   "cell_type": "code",
   "execution_count": null,
   "metadata": {},
   "outputs": [],
   "source": [
    "# save the results_T_Endo to excel\n",
    "with pd.ExcelWriter(data_dir + 'project_data_new/data_IVtest_result/CIT_test_results_Endo.xlsx') as writer:\n",
    "    results_T_Endo.to_excel(writer, sheet_name='Endo')"
   ]
  },
  {
   "cell_type": "markdown",
   "metadata": {},
   "source": [
    "## find the significant pairs between T and Epi"
   ]
  },
  {
   "cell_type": "code",
   "execution_count": null,
   "metadata": {},
   "outputs": [],
   "source": [
    "# find the significant pairs between T and Epi\n",
    "results_T_Epi = pd.DataFrame(columns=['g1', 'g2', 'L', 'R', 'pValue'])\n",
    "for g1, g2 in DEG_Epi_pairs.values:\n",
    "    # check if g2 is ended with '_Epi'\n",
    "    if g2.endswith('_Epi'):\n",
    "        for L, R in lrpair_kegg.values:\n",
    "            # check if L and R can be found in the DEG expression data\n",
    "            if L in pseudo_T.var_names and R in pseudo_Epi.var_names:\n",
    "                # get the L_T and R_Epi from pseudo_T and pseudo_Epi\n",
    "                L_T = pseudo_T[:, L].X\n",
    "                L_T = pd.DataFrame(L_T, columns=[L], index=pseudo_T.obs['sample_id'])\n",
    "                L_T = L_T.dropna()\n",
    "                R_Epi = pseudo_Epi[:, R].X\n",
    "                R_Epi = pd.DataFrame(R_Epi, columns=[R], index=pseudo_Epi.obs['sample_id'])\n",
    "                R_Epi = R_Epi.dropna()\n",
    "                # calculate the L*R\n",
    "                # Ensure the column names match\n",
    "                L_T.columns = [R+'_vs_'+L]\n",
    "                R_Epi.columns = L_T.columns\n",
    "\n",
    "                # perform the multiplication and change L_R to 1-dimensional\n",
    "                L_R = L_T.multiply(R_Epi, axis=0)\n",
    "                L_R = L_R.iloc[:,0]\n",
    "\n",
    "                # make a dataframe g1, g2 and L*R\n",
    "                if g1 not in DEG_exp.columns or g2 not in DEG_exp.columns:\n",
    "                    continue\n",
    "                \n",
    "                g1_T = DEG_exp[g1]\n",
    "                g2_Epi = DEG_exp[g2]\n",
    "                df = pd.DataFrame({g1: g1_T, g2: g2_Epi, 'L*R': L_R})\n",
    "                # remove the rows with NA\n",
    "                df = df.dropna()\n",
    "\n",
    "                # convert df to numpy array\n",
    "                df_numpy = df.to_numpy()\n",
    "\n",
    "                fisherz_obj = CIT(df_numpy, \"fisherz\")\n",
    "                pValue = fisherz_obj( 0, 1, [2] )\n",
    "                if pValue > 0.01:\n",
    "                    # save the g1, g2, L, R, pValue to a dataframe\n",
    "                    results_T_Epi = pd.concat([results_T_Epi, pd.DataFrame({'g1': [g1], 'g2': [g2], 'L': [L], 'R': [R], 'pValue': [pValue]})], ignore_index=True)\n",
    "\n",
    "print(results_T_Epi)"
   ]
  },
  {
   "cell_type": "markdown",
   "metadata": {},
   "source": [
    "## find the significant pairs between T and Fibro"
   ]
  },
  {
   "cell_type": "code",
   "execution_count": null,
   "metadata": {},
   "outputs": [],
   "source": [
    "# find the significant pairs between T and Fibro\n",
    "results_T_Fibro = pd.DataFrame(columns=['g1', 'g2', 'L', 'R', 'pValue'])\n",
    "for g1, g2 in DEG_Fibro_pairs.values:\n",
    "    # check if g2 is ended with '_Fibro'\n",
    "    if g2.endswith('_Fibro'):\n",
    "        for L, R in lrpair_kegg.values:\n",
    "            # check if L and R can be found in the DEG expression data\n",
    "            if L in pseudo_T.var_names and R in pseudo_Fibro.var_names:\n",
    "                # get the L_T and R_Fibro from pseudo_T and pseudo_Fibro\n",
    "                L_T = pseudo_T[:, L].X\n",
    "                L_T = pd.DataFrame(L_T, columns=[L], index=pseudo_T.obs['sample_id'])\n",
    "                L_T = L_T.dropna()\n",
    "                R_Fibro = pseudo_Fibro[:, R].X\n",
    "                R_Fibro = pd.DataFrame(R_Fibro, columns=[R], index=pseudo_Fibro.obs['sample_id'])\n",
    "                R_Fibro = R_Fibro.dropna()\n",
    "                # calculate the L*R\n",
    "                # Ensure the column names match\n",
    "                L_T.columns = [R+'_vs_'+L]\n",
    "                R_Fibro.columns = L_T.columns\n",
    "\n",
    "                # perform the multiplication and change L_R to 1-dimensional\n",
    "                L_R = L_T.multiply(R_Fibro, axis=0)\n",
    "                L_R = L_R.iloc[:,0]\n",
    "\n",
    "                # make a dataframe g1, g2 and L*R\n",
    "                if g1 not in DEG_exp.columns or g2 not in DEG_exp.columns:\n",
    "                    # change the '.' to '-'\n",
    "                    g1 = g1.replace('.', '-')\n",
    "                    g2 = g2.replace('.', '-')\n",
    "                \n",
    "                g1_T = DEG_exp[g1]\n",
    "                g2_Fibro = DEG_exp[g2]\n",
    "                df = pd.DataFrame({g1: g1_T, g2: g2_Fibro, 'L*R': L_R})\n",
    "                # remove the rows with NA\n",
    "                df = df.dropna()\n",
    "\n",
    "                # convert df to numpy array\n",
    "                df_numpy = df.to_numpy()\n",
    "\n",
    "                fisherz_obj = CIT(df_numpy, \"fisherz\")\n",
    "                pValue = fisherz_obj( 0, 1, [2] )\n",
    "                if pValue > 0.1:\n",
    "                    # save the g1, g2, L, R, pValue to a dataframe\n",
    "                    results_T_Fibro = pd.concat([results_T_Fibro, pd.DataFrame({'g1': [g1], ' g2': [g2], 'L': [L], 'R': [R], 'pValue': [pValue]})], ignore_index=True)\n",
    "\n",
    "print(results_T_Fibro)"
   ]
  },
  {
   "cell_type": "code",
   "execution_count": null,
   "metadata": {},
   "outputs": [],
   "source": [
    "DEG_Fibro_pairs"
   ]
  },
  {
   "cell_type": "code",
   "execution_count": null,
   "metadata": {},
   "outputs": [],
   "source": [
    "# add columns for correlation between\n",
    "\n",
    "# add columns for correlation between g1 and g2\n",
    "results_T_Fibro['correlation(T vs Fibro)'] = np.nan\n",
    "results_T_Fibro['correlation(T vs Fibro)'] = results_T_Fibro['correlation(T vs Fibro)'].astype('object')\n",
    "# add in the values for correlation, g1 from pseudo_T and g2 from pseudo_Fibro\n",
    "for i, row in results_T_Fibro.iterrows():\n",
    "    g1 = row['g1']\n",
    "    g2 = row['g2']\n",
    "    if g1 not in DEG_exp.columns or g2 not in DEG_exp.columns:\n",
    "        continue\n",
    "    g1_T = DEG_exp[g1]\n",
    "    g2_Fibro = DEG_exp[g2]  \n",
    "    corr = g1_T.corr(g2_Fibro)\n",
    "    results_T_Fibro.at[i, 'correlation(T vs Fibro)'] = corr\n",
    "\n",
    "# add columns for correlation between g1 and L\n",
    "results_T_Fibro['correlation(T vs L)'] = np.nan\n",
    "results_T_Fibro['correlation(T vs L)'] = results_T_Fibro['correlation(T vs L)'].astype('object')\n",
    "# add in the values for correlation, g1 from pseudo_T and L from pseudo_T\n",
    "for i, row in results_T_Fibro.iterrows():\n",
    "    g1 = row['g1']\n",
    "    L = row['L']\n",
    "    if g1 not in DEG_exp.columns:\n",
    "        continue\n",
    "    g1_T = DEG_exp[g1]\n",
    "    L_T = pd.DataFrame(pseudo_T[:, L].X, columns=[L], index=pseudo_T.obs['sample_id']) \n",
    "    # Convert ArrayView to DataFrame\n",
    "    L_T.columns = [L]  # Ensure column names match\n",
    "    corr = g1_T.corr(L_T.squeeze())  # Use squeeze() to convert 1-dimensional DataFrame to Series\n",
    "    results_T_Fibro.at[i, 'correlation(T vs L)'] = corr\n",
    "\n",
    "# add columns for correlation between R and g2\n",
    "results_T_Fibro['correlation(R vs Fibro)'] = np.nan\n",
    "results_T_Fibro['correlation(R vs Fibro)'] = results_T_Fibro['correlation(R vs Fibro)'].astype('object')\n",
    "# add in the values for correlation, R from pseudo_Fibro and g2 from pseudo_Fibro\n",
    "for i, row in results_T_Fibro.iterrows():\n",
    "    g2 = row['g2']\n",
    "    R = row['R']\n",
    "    if g2 not in DEG_exp.columns:\n",
    "        continue\n",
    "    g2_Fibro = DEG_exp[g2]\n",
    "    R_Fibro = pd.DataFrame(pseudo_Fibro[:, R].X, columns=[R], index=pseudo_Fibro.obs['sample_id'])\n",
    "    # Convert ArrayView to DataFrame\n",
    "    R_Fibro.columns = [R]  # Ensure column names match\n",
    "    corr = R_Fibro.squeeze().corr(g2_Fibro)\n",
    "    results_T_Fibro.at[i, 'correlation(R vs Fibro)'] = corr\n",
    "\n",
    "# add columns for correlation between L*R and g2\n",
    "results_T_Fibro['correlation(L*R vs Fibro)'] = np.nan\n",
    "results_T_Fibro['correlation(L*R vs Fibro)'] = results_T_Fibro['correlation(L*R vs Fibro)'].astype('object')\n",
    "# add in the values for correlation, L*R from pseudo_T and g2 from pseudo_Fibro\n",
    "for i, row in results_T_Fibro.iterrows():\n",
    "    if g2 not in DEG_exp.columns:\n",
    "        continue\n",
    "    g2 = row['g2']\n",
    "    g2_Fibro = DEG_exp[g2]\n",
    "    L_T = pd.DataFrame(pseudo_T[:, row['L']].X, columns=[row['L']], index=pseudo_T.obs['sample_id'])\n",
    "    R_Fibro = pd.DataFrame(pseudo_Fibro[:, row['R']].X, columns=[row['R']], index=pseudo_Fibro.obs['sample_id'])\n",
    "    # get L*R from L_T and R_Fibro based on sample_id\n",
    "    # make sure the column names match\n",
    "    L_T.columns = [row['R']+'_vs_'+row['L']]\n",
    "    R_Fibro.columns = L_T.columns\n",
    "    g2_Fibro.columns = L_T.columns\n",
    "    L_R = L_T.multiply(R_Fibro, axis=0)\n",
    "    corr = L_R.squeeze().corr(g2_Fibro)\n",
    "    results_T_Fibro.at[i, 'correlation(L*R vs Fibro)'] = corr\n",
    "\n"
   ]
  },
  {
   "cell_type": "code",
   "execution_count": null,
   "metadata": {},
   "outputs": [],
   "source": [
    "import statsmodels.api as sm\n",
    "import matplotlib.pyplot as plt \n",
    "for index, row in results_T_Fibro.iterrows():\n",
    "    L = row['L']\n",
    "    R = row['R']\n",
    "\n",
    "    # Calculate L*R\n",
    "    L_values = pseudo_T[:, L].X\n",
    "    R_values = pseudo_Fibro[:, R].X\n",
    "    L_R = L_values * R_values\n",
    "\n",
    "    # Prepare the data for regression\n",
    "    X = sm.add_constant(L_R)  # add a constant term for the intercept\n",
    "    DEG_Fibro = row['g2']  # DEG_B column name from results_B\n",
    "    if DEG_Fibro not in DEG_exp.columns:\n",
    "        continue\n",
    "    Y_Fibro = DEG_exp[DEG_Fibro]\n",
    "\n",
    "    # Regress DEG_B on L*R to get residuals\n",
    "    model_Fibro = sm.OLS(Y_Fibro, X).fit()\n",
    "    residuals_Fibro = model_Fibro.resid\n",
    "    # add correlation between residuals and g1\n",
    "    corr = residuals_Fibro.corr(DEG_exp[row['g1']])\n",
    "    results_T_Fibro.at[index, 'correlation(residuals vs g1)'] = corr"
   ]
  },
  {
   "cell_type": "code",
   "execution_count": null,
   "metadata": {},
   "outputs": [],
   "source": [
    "pseudo_Fibro"
   ]
  },
  {
   "cell_type": "code",
   "execution_count": null,
   "metadata": {},
   "outputs": [],
   "source": [
    "with pd.ExcelWriter(data_dir + 'project_data_new/data_IVtest_result/CIT_test_results_Fibro.xlsx') as writer:\n",
    "    results_T_Fibro.to_excel(writer, sheet_name='T_Fibro')"
   ]
  },
  {
   "cell_type": "code",
   "execution_count": null,
   "metadata": {},
   "outputs": [],
   "source": [
    "# save the result of B, M, Endo together to excel\n",
    "with pd.ExcelWriter(data_dir + 'project_data_new/data_IVtest_result/CIT_test_results.xlsx') as writer:\n",
    "    results_B.to_excel(writer, sheet_name='B')\n",
    "    results_M.to_excel(writer, sheet_name='M')\n",
    "    results_T_Endo.to_excel(writer, sheet_name='T_Endo')\n",
    "    results_T_Epi.to_excel(writer, sheet_name='T_Epi')\n",
    "    results_T_Fibro.to_excel(writer, sheet_name='T_Fibro')"
   ]
  },
  {
   "cell_type": "markdown",
   "metadata": {},
   "source": [
    "# visualize data with plots"
   ]
  },
  {
   "cell_type": "code",
   "execution_count": null,
   "metadata": {},
   "outputs": [],
   "source": []
  }
 ],
 "metadata": {
  "kernelspec": {
   "display_name": "base",
   "language": "python",
   "name": "python3"
  },
  "language_info": {
   "codemirror_mode": {
    "name": "ipython",
    "version": 3
   },
   "file_extension": ".py",
   "mimetype": "text/x-python",
   "name": "python",
   "nbconvert_exporter": "python",
   "pygments_lexer": "ipython3",
   "version": "3.11.5"
  }
 },
 "nbformat": 4,
 "nbformat_minor": 2
}
