{
 "cells": [
  {
   "cell_type": "code",
   "execution_count": null,
   "metadata": {},
   "outputs": [],
   "source": [
    "import numpy as np\n",
    "import scanpy as sc\n",
    "import matplotlib.pyplot as plt\n",
    "import pandas as pd\n",
    "import scanpy as sc\n",
    "import scipy.io as sio\n",
    "import anndata as ad\n",
    "import os as os\n",
    "import sys as sys\n",
    "sys.path.append('/home/qiuaodon/Desktop/PanCancer_scRNA_analysis/utils/')\n",
    "from scRNA_utils import *"
   ]
  },
  {
   "cell_type": "code",
   "execution_count": null,
   "metadata": {},
   "outputs": [],
   "source": [
    "# load in the data\n",
    "data_dir_NHDP = \"/home/qiuaodon/Desktop/project_data_new/\"\n",
    "# read in the adata h5ad file\n",
    "adata = sc.read(data_dir_NHDP + 'whole_cohort1_processed.h5ad')"
   ]
  },
  {
   "cell_type": "code",
   "execution_count": null,
   "metadata": {},
   "outputs": [],
   "source": [
    "adata_pre = adata[adata.obs['timepoint']=='pre']\n",
    "adata_on = adata[adata.obs['timepoint']=='on']"
   ]
  },
  {
   "cell_type": "code",
   "execution_count": null,
   "metadata": {},
   "outputs": [],
   "source": [
    "adata = adata_on"
   ]
  },
  {
   "cell_type": "code",
   "execution_count": null,
   "metadata": {},
   "outputs": [],
   "source": [
    "\n",
    "cell_types = adata.obs['cell_type']\n",
    "\n",
    "patients = adata.obs['patient_id']\n",
    "\n",
    "# Set the desired order for cell types\n",
    "desired_order = [\"T cells\", \"Myeloid\", \"Fibroblast\", \"Epithelial\", \"Endothelial\", \"B cells\"]\n",
    "\n",
    "# Convert cell_types to a categorical type with the specified order\n",
    "adata.obs['cell_type'] = pd.Categorical(cell_types, categories=desired_order, ordered=True)\n",
    "\n",
    "# Create a DataFrame with the counts of each cell type per patient\n",
    "cell_type_counts = pd.crosstab(patients, adata.obs['cell_type'])\n",
    "\n",
    "\n",
    "# Normalize counts to get proportions\n",
    "cell_type_proportions = cell_type_counts.div(cell_type_counts.sum(axis=1), axis=0)\n",
    "\n",
    "# Plotting\n",
    "categories = cell_type_proportions.columns\n",
    "barWidth = 0.85\n",
    "r = range(len(cell_type_proportions))\n",
    "plt.figure(figsize=(8, 8))  # Adjust the size as needed\n",
    "\n",
    "colors = sns.color_palette(\"Set3\", len(categories))\n",
    "\n",
    "# Create horizontal bars\n",
    "bottom = np.zeros(len(cell_type_proportions))\n",
    "for i, cat in enumerate(categories):\n",
    "    plt.barh(r, cell_type_proportions[cat], left=bottom, label=cat, edgecolor='white', height=barWidth, color=colors[i])\n",
    "    bottom += cell_type_proportions[cat]\n",
    "\n",
    "# Customizing the plot\n",
    "plt.ylabel('Patient', fontweight='bold')\n",
    "plt.yticks(r, cell_type_proportions.index)\n",
    "plt.xlabel('Proportion')\n",
    "plt.title('Stacked Bar Plot of Different Cell Types Across Patients')\n",
    "# Place the legend outside of the plot\n",
    "plt.legend(loc='center left', bbox_to_anchor=(1.05, 0.5), title='Cell Type')\n",
    "\n",
    "\n",
    "# Remove the box lines (spines)\n",
    "ax = plt.gca()\n",
    "ax.spines['top'].set_visible(False)\n",
    "ax.spines['right'].set_visible(False)\n",
    "ax.spines['left'].set_visible(False)\n",
    "ax.spines['bottom'].set_visible(False)\n",
    "\n",
    "plt.tight_layout()\n",
    "plt.show()\n"
   ]
  },
  {
   "cell_type": "code",
   "execution_count": null,
   "metadata": {},
   "outputs": [],
   "source": [
    "import pandas as pd\n",
    "import numpy as np\n",
    "import matplotlib.pyplot as plt\n",
    "import seaborn as sns\n",
    "\n",
    "# Assuming 'adata' is your AnnData object\n",
    "cell_types = adata.obs['cell_type']\n",
    "patients = adata.obs['patient_id']\n",
    "\n",
    "# Create a DataFrame with the counts of each cell type per patient\n",
    "cell_type_counts = pd.crosstab(patients, cell_types)\n",
    "\n",
    "# Normalize counts to get proportions\n",
    "cell_type_proportions = cell_type_counts.div(cell_type_counts.sum(axis=1), axis=0)\n",
    "\n",
    "# Plotting\n",
    "categories = cell_type_proportions.columns\n",
    "barWidth = 0.85\n",
    "r = range(len(cell_type_proportions))\n",
    "plt.figure(figsize=(12, 8))  # Adjust the size as needed\n",
    "\n",
    "# Create a color palette\n",
    "colors = sns.color_palette(\"Set3\", len(categories))\n",
    "\n",
    "# Create horizontal bars\n",
    "bottom = np.zeros(len(cell_type_proportions))\n",
    "for i, cat in enumerate(categories):\n",
    "    plt.barh(r, cell_type_proportions[cat], left=bottom, label=cat, edgecolor='white', height=barWidth, color=colors[i])\n",
    "    bottom += cell_type_proportions[cat]\n",
    "\n",
    "# Customizing the plot\n",
    "plt.ylabel('Patient', fontweight='bold', fontsize=14)\n",
    "plt.yticks(r, cell_type_proportions.index, fontsize=12)\n",
    "plt.xlabel('Proportion', fontweight='bold', fontsize=14)\n",
    "plt.title('Stacked Bar Plot of Different Cell Types Across Patients', fontsize=16, fontweight='bold')\n",
    "\n",
    "# Place the legend outside of the plot\n",
    "plt.legend(loc='center left', bbox_to_anchor=(1.05, 0.5), title='Cell Type', title_fontsize=14, fontsize=12)\n",
    "\n",
    "\n",
    "plt.tight_layout()\n",
    "plt.show()\n"
   ]
  },
  {
   "cell_type": "code",
   "execution_count": null,
   "metadata": {},
   "outputs": [],
   "source": [
    "adata_pseudobulk = scRNA2PseudoBulkAnnData(adata, sample_id_col='sample_id')"
   ]
  },
  {
   "cell_type": "code",
   "execution_count": null,
   "metadata": {},
   "outputs": [],
   "source": [
    "adata_pseudobulk"
   ]
  },
  {
   "cell_type": "code",
   "execution_count": null,
   "metadata": {},
   "outputs": [],
   "source": [
    "# show the distribution of BC_type\n",
    "adata_pseudobulk.obs['BC_type'].value_counts()"
   ]
  },
  {
   "cell_type": "code",
   "execution_count": null,
   "metadata": {},
   "outputs": [],
   "source": [
    "# show a plot of PDCD1 according to BC_type\n",
    "sc.pl.dotplot(adata_pseudobulk, groupby='BC_type', var_names='PDCD1')\n"
   ]
  },
  {
   "cell_type": "code",
   "execution_count": null,
   "metadata": {},
   "outputs": [],
   "source": [
    "adata.obs['cellType'].value_counts()"
   ]
  },
  {
   "cell_type": "code",
   "execution_count": null,
   "metadata": {},
   "outputs": [],
   "source": [
    "# show the PDCD1 expression in different cell types\n",
    "sc.pl.dotplot(adata, groupby='cellType', var_names='PDCD1')"
   ]
  },
  {
   "cell_type": "code",
   "execution_count": null,
   "metadata": {},
   "outputs": [],
   "source": [
    "# show the distribution of PDCD1 expression in different bc_type\n",
    "sc.pl.dotplot(adata, groupby='BC_type', var_names='PDCD1')"
   ]
  },
  {
   "cell_type": "markdown",
   "metadata": {},
   "source": [
    "# extended fig 1\n"
   ]
  },
  {
   "cell_type": "code",
   "execution_count": null,
   "metadata": {},
   "outputs": [],
   "source": [
    "data_dir_NHDP = \"/home/qiuaodon/Desktop/project_data_new/\"\n",
    "adata_T = sc.read(data_dir_NHDP + '1863-counts_cells_cohort1_T_cells.h5ad')\n",
    "adata_M = sc.read(data_dir_NHDP + '1863-counts_cells_cohort1_M_cells.h5ad')"
   ]
  },
  {
   "cell_type": "code",
   "execution_count": null,
   "metadata": {},
   "outputs": [],
   "source": [
    "adata_T_CD8 = sc.read(data_dir_NHDP + '1863-counts_cells_cohort1_T_CD8.h5ad')"
   ]
  },
  {
   "cell_type": "code",
   "execution_count": null,
   "metadata": {},
   "outputs": [],
   "source": [
    "sc.pl.umap(adata_T_CD8, color='leiden', cmap = 'Set1', size=20)"
   ]
  },
  {
   "cell_type": "code",
   "execution_count": null,
   "metadata": {},
   "outputs": [],
   "source": [
    "sc.pl.umap(adata_T_CD8, color='CCR7', size=2, cmap = 'Blues')"
   ]
  },
  {
   "cell_type": "code",
   "execution_count": null,
   "metadata": {},
   "outputs": [],
   "source": [
    "adata_T_pseudo = scRNA2PseudoBulkAnnData(adata_T, sample_id_col='sample_id')\n",
    "adata_M_pseudo = scRNA2PseudoBulkAnnData(adata_M, sample_id_col='sample_id')"
   ]
  },
  {
   "cell_type": "code",
   "execution_count": null,
   "metadata": {},
   "outputs": [],
   "source": [
    "adata_1_pseudo = adata_T_pseudo"
   ]
  },
  {
   "cell_type": "code",
   "execution_count": null,
   "metadata": {},
   "outputs": [],
   "source": [
    "adata_T_pre = adata_T[adata_T.obs['timepoint'] == 'pre', :]\n",
    "adata_T_on = adata_T[adata_T.obs['timepoint'] == 'on', :]"
   ]
  },
  {
   "cell_type": "code",
   "execution_count": null,
   "metadata": {},
   "outputs": [],
   "source": [
    "adata_T_pseudo_pre = scRNA2PseudoBulkAnnData(adata_T_pre, sample_id_col='sample_id')\n",
    "adata_T_pseudo_on = scRNA2PseudoBulkAnnData(adata_T_on, sample_id_col='sample_id')"
   ]
  },
  {
   "cell_type": "code",
   "execution_count": null,
   "metadata": {},
   "outputs": [],
   "source": [
    "prdm1_diff"
   ]
  },
  {
   "cell_type": "code",
   "execution_count": null,
   "metadata": {},
   "outputs": [],
   "source": [
    "import matplotlib.pyplot as plt\n",
    "import numpy as np\n",
    "import pandas as pd\n",
    "\n",
    "# Step 1: Extract gene expression for PRDM1 and PDCD1\n",
    "# Get PRDM1 expression values for pre and on conditions\n",
    "prdm1_pre = adata_T_pseudo_pre[:, 'TSC22D3'].X.toarray().flatten()\n",
    "prdm1_on = adata_T_pseudo_on[:, 'TSC22D3'].X.toarray().flatten()\n",
    "\n",
    "# Get PDCD1 expression values from adata_T_pseudo_on\n",
    "pdcd1_expression_pre = adata_T_pseudo_pre[:, 'PDCD1'].X.toarray().flatten()\n",
    "\n",
    "# Get patient IDs (assuming the same patients are in both datasets)\n",
    "patient_ids_pre = adata_T_pseudo_pre.obs['patient_id']\n",
    "patient_ids_on = adata_T_pseudo_on.obs['patient_id']\n",
    "\n",
    "# Step 2: Ensure the patient IDs match and align the data accordingly\n",
    "# Align pre and on datasets using the same patient ID\n",
    "pre_df = pd.DataFrame({'prdm1_pre': prdm1_pre, 'patient_id': patient_ids_pre})\n",
    "on_df = pd.DataFrame({'prdm1_on': prdm1_on, 'pdcd1_expression_on': pdcd1_expression_pre, 'patient_id': patient_ids_pre})\n",
    "\n",
    "# Merge pre and on dataframes on patient_id\n",
    "merged_df = pd.merge(pre_df, on_df, on='patient_id')\n",
    "\n",
    "# Step 3: Calculate the PRDM1 difference (on - pre) and PDCD1 ranks for each patient\n",
    "merged_df['prdm1_diff'] = merged_df['prdm1_on'] - merged_df['prdm1_pre']\n",
    "merged_df['pdcd1_rank'] = merged_df['pdcd1_expression_on'].rank()\n",
    "\n",
    "# Step 4: Sort the PRDM1 differences by PDCD1 ranks\n",
    "merged_df_sorted = merged_df.sort_values(by='pdcd1_rank')\n",
    "\n",
    "# Step 5: Plot the histogram of PDCD1 ranks (x-axis) and PRDM1 differences (y-axis)\n",
    "plt.figure(figsize=(8, 6))\n",
    "\n",
    "# Plot PRDM1 differences (y-axis) sorted by PDCD1 rank (x-axis)\n",
    "plt.bar(merged_df_sorted['pdcd1_rank'], merged_df_sorted['prdm1_diff'], color='blue', alpha=0.7)\n",
    "\n",
    "# Add labels and title\n",
    "plt.xlabel('PDCD1 Rank (in adata_T_pseudo_on)')\n",
    "plt.ylabel('PRDM1 Expression Difference (on - pre)')\n",
    "plt.title('PRDM1 Expression Difference Sorted by PDCD1 Rank')\n",
    "\n",
    "# Show the plot\n",
    "plt.show()\n"
   ]
  },
  {
   "cell_type": "code",
   "execution_count": null,
   "metadata": {},
   "outputs": [],
   "source": [
    "import matplotlib.pyplot as plt\n",
    "import numpy as np\n",
    "import pandas as pd\n",
    "\n",
    "# Step 1: Extract gene expression for PRDM1 and PDCD1\n",
    "# Get PRDM1 expression values for pre and on conditions\n",
    "prdm1_pre = adata_T_pseudo_pre[:, 'ZFP36'].X.toarray().flatten()\n",
    "prdm1_on = adata_T_pseudo_on[:, 'ZFP36'].X.toarray().flatten()\n",
    "\n",
    "# Get PDCD1 expression values from adata_T_pseudo_pre\n",
    "pdcd1_expression_pre = adata_T_pseudo_pre[:, 'PDCD1'].X.toarray().flatten()\n",
    "\n",
    "# Get patient IDs and expansion values\n",
    "patient_ids_pre = adata_T_pseudo_pre.obs['patient_id']\n",
    "expansion_pre = adata_T_pseudo_pre.obs['expansion']  # Assuming expansion is available in both\n",
    "\n",
    "# Step 2: Ensure the patient IDs match and align the data accordingly\n",
    "# Align pre and on datasets using the same patient ID\n",
    "pre_df = pd.DataFrame({'prdm1_pre': prdm1_pre, 'patient_id': patient_ids_pre, 'expansion': expansion_pre})\n",
    "on_df = pd.DataFrame({'prdm1_on': prdm1_on, 'pdcd1_expression_on': pdcd1_expression_pre, 'patient_id': patient_ids_pre})\n",
    "\n",
    "# Merge pre and on dataframes on patient_id\n",
    "merged_df = pd.merge(pre_df, on_df, on='patient_id')\n",
    "\n",
    "# Step 3: Calculate the PRDM1 difference (on - pre) and PDCD1 ranks for each patient\n",
    "merged_df['prdm1_diff'] = merged_df['prdm1_on'] - merged_df['prdm1_pre']\n",
    "merged_df['pdcd1_rank'] = merged_df['pdcd1_expression_on'].rank()\n",
    "\n",
    "# Step 4: Handle NaN values in the expansion column and treat them as a separate category\n",
    "merged_df['expansion'] = merged_df['expansion'].fillna('NaN')\n",
    "\n",
    "# Step 5: Sort the PRDM1 differences by PDCD1 ranks\n",
    "merged_df_sorted = merged_df.sort_values(by='pdcd1_rank')\n",
    "\n",
    "# Step 6: Plot the histogram of PDCD1 ranks (x-axis) and PRDM1 differences (y-axis)\n",
    "plt.figure(figsize=(10, 6))\n",
    "\n",
    "# Get unique categories of expansion for coloring, including NaN\n",
    "expansion_categories = merged_df_sorted['expansion'].unique()\n",
    "colors = plt.cm.viridis(np.linspace(0, 1, len(expansion_categories)))\n",
    "\n",
    "# Plot bars with colors based on expansion values, including NaN\n",
    "for i, expansion in enumerate(expansion_categories):\n",
    "    category_data = merged_df_sorted[merged_df_sorted['expansion'] == expansion]\n",
    "    plt.bar(category_data['pdcd1_rank'], category_data['prdm1_diff'], \n",
    "            color=colors[i], alpha=0.7, label=f'Expansion: {expansion}')\n",
    "\n",
    "# Add labels and title\n",
    "plt.xlabel('PDCD1 Rank (in adata_T_pseudo_on)')\n",
    "plt.ylabel('TXNIP Expression Difference (on - pre)')\n",
    "plt.title('TXNIP Expression Difference Sorted by PDCD1 Rank with Expansion Categories')\n",
    "\n",
    "# Add legend for expansion categories\n",
    "plt.legend(title='Expansion')\n",
    "\n",
    "# Show the plot\n",
    "plt.show()\n"
   ]
  },
  {
   "cell_type": "code",
   "execution_count": null,
   "metadata": {},
   "outputs": [],
   "source": [
    "sc.pl.umap(adata_T, color = 'expansion')"
   ]
  },
  {
   "cell_type": "code",
   "execution_count": null,
   "metadata": {},
   "outputs": [],
   "source": [
    "adata_T_pre"
   ]
  },
  {
   "cell_type": "code",
   "execution_count": null,
   "metadata": {},
   "outputs": [],
   "source": [
    "adata_T_on"
   ]
  },
  {
   "cell_type": "code",
   "execution_count": null,
   "metadata": {},
   "outputs": [],
   "source": [
    "gene = 'TSC22D3'\n",
    "sc.pl.umap(adata_T, color = gene, cmap = 'Blues')\n",
    "sc.pl.umap(adata_T_pre, color = gene, cmap = 'Blues')\n",
    "sc.pl.umap(adata_T_on, color = gene, cmap = 'Blues')"
   ]
  },
  {
   "cell_type": "code",
   "execution_count": null,
   "metadata": {},
   "outputs": [],
   "source": [
    "g1 = 'PRDM1'\n",
    "g2 = 'TUBA1A'\n",
    "\n",
    "palette = {'pre': \"#E69F00\", 'on': \"#56B4E9\"}\n",
    "title_fontsize = 14\n",
    "axis_fontsize = 14\n",
    "legend_fontsize = 12\n",
    "\n",
    "def adjust_plot_limits(ax, x_data, y_data):\n",
    "        x_min, x_max = x_data.min(), x_data.max()\n",
    "        y_min, y_max = y_data.min(), y_data.max()\n",
    "        x_padding = (x_max - x_min) * 0.1\n",
    "        y_padding = (y_max - y_min) * 0.1\n",
    "        ax.set_xlim(x_min - x_padding, x_max + x_padding)\n",
    "        ax.set_ylim(y_min - y_padding, y_max + y_padding)\n",
    "\n",
    "    # Plot the jointplot between DEG of g1 and g2\n",
    "g1_exp = adata_T_pseudo[:, g1].X.toarray().flatten()\n",
    "g2_exp = adata_M_pseudo[:, g2].X.toarray().flatten()\n",
    "df1 = pd.DataFrame({g1: g1_exp, g2: g2_exp, 'treatment': adata_T_pseudo.obs['timepoint']})\n",
    "df1 = df1.dropna()\n",
    "g = sns.jointplot(x=g1, y=g2, data=df1, hue='treatment', palette=palette, kind='scatter', marginal_kws=dict(fill=True))\n",
    "sns.regplot(x=g1, y=g2, data=df1, scatter=False, ax=g.ax_joint, color='black')\n",
    "adjust_plot_limits(g.ax_joint, df1[g1], df1[g2])\n",
    "    \n",
    "g.ax_joint.tick_params(left=False, bottom=False)\n",
    "g.ax_marg_x.tick_params(bottom=False)\n",
    "g.ax_marg_y.tick_params(left=False)\n",
    "cor = pearsonr(df1[g1], df1[g2])[0]\n",
    "plt.suptitle(f'Correlation between {g1} and {g2} is {cor:.3f}', fontsize=title_fontsize)\n",
    "plt.subplots_adjust(top=0.9)\n",
    "plt.show()"
   ]
  },
  {
   "cell_type": "code",
   "execution_count": null,
   "metadata": {},
   "outputs": [],
   "source": [
    "import matplotlib.pyplot as plt\n",
    "\n",
    "# Create the violin plot\n",
    "sc.pl.violin(adata_1_pseudo, \n",
    "             keys='SOCS3', \n",
    "             groupby='timepoint', \n",
    "             order=['pre', 'on'], \n",
    "             size=0, \n",
    "             show=False)  # Set show to False to access the figure before it's displayed\n",
    "\n",
    "# Adjust the figure size\n",
    "plt.gcf().set_size_inches(6, 4)  # Set the figure size, e.g., 6x4 inches\n",
    "\n",
    "# Optionally adjust the fontsize globally\n",
    "plt.rcParams.update({'font.size': 16})  # Set the font size globally\n",
    "\n",
    "# Show the plot\n",
    "plt.show()"
   ]
  },
  {
   "cell_type": "code",
   "execution_count": null,
   "metadata": {},
   "outputs": [],
   "source": [
    "import matplotlib.pyplot as plt\n",
    "\n",
    "# Create the violin plot\n",
    "sc.pl.violin(adata_T, \n",
    "             keys='SOCS3', \n",
    "             groupby='timepoint', \n",
    "             order=['pre', 'on'], \n",
    "             size=0, \n",
    "             show=False)  # Set show to False to access the figure before it's displayed\n",
    "\n",
    "# Adjust the figure size\n",
    "plt.gcf().set_size_inches(6, 4)  # Set the figure size, e.g., 6x4 inches\n",
    "\n",
    "# Optionally adjust the fontsize globally\n",
    "plt.rcParams.update({'font.size': 16})  # Set the font size globally\n",
    "\n",
    "# Show the plot\n",
    "plt.show()"
   ]
  },
  {
   "cell_type": "code",
   "execution_count": null,
   "metadata": {},
   "outputs": [],
   "source": [
    "# make a violin plot of SLA expression in pre and on\n",
    "sc.pl.violin(adata_1_pseudo, keys='PRDM1', groupby='timepoint', order=['pre', 'on'], size = 0, fontsize=20)"
   ]
  },
  {
   "cell_type": "code",
   "execution_count": null,
   "metadata": {},
   "outputs": [],
   "source": [
    "from scipy.stats import mannwhitneyu\n",
    "gene = 'PRDM1'\n",
    "# Extract the data for the two groups\n",
    "pre_group = adata_T_pseudo[adata_T_pseudo.obs['timepoint'] == 'pre', gene].X.toarray().flatten()\n",
    "on_group = adata_T_pseudo[adata_T_pseudo.obs['timepoint'] == 'on', gene].X.toarray().flatten()\n",
    "\n",
    "# Calculate the p-value using the Mann-Whitney U test\n",
    "stat, p_value = mannwhitneyu(pre_group, on_group, method='asymptotic')\n",
    "\n",
    "p_value\n"
   ]
  },
  {
   "cell_type": "code",
   "execution_count": null,
   "metadata": {},
   "outputs": [],
   "source": [
    "from scipy.stats import mannwhitneyu\n",
    "gene = 'PRDM1'\n",
    "# Extract the data for the two groups\n",
    "pre_group = adata_T[adata_T.obs['timepoint'] == 'pre', gene].X.toarray().flatten()\n",
    "on_group = adata_T[adata_T.obs['timepoint'] == 'on', gene].X.toarray().flatten()\n",
    "\n",
    "# Calculate the p-value using the Mann-Whitney U test\n",
    "stat, p_value = mannwhitneyu(pre_group, on_group, method='asymptotic')\n",
    "\n",
    "p_value"
   ]
  },
  {
   "cell_type": "code",
   "execution_count": null,
   "metadata": {},
   "outputs": [],
   "source": [
    "sc.pl.violin(adata_T, keys='TSC22D3', groupby='timepoint', order=['pre', 'on'], size = 0)"
   ]
  },
  {
   "cell_type": "markdown",
   "metadata": {},
   "source": [
    "# Figure2 diff DEGs different response"
   ]
  },
  {
   "cell_type": "code",
   "execution_count": null,
   "metadata": {},
   "outputs": [],
   "source": [
    "adata_T = adata_T[adata_T[:,'PDCD1'].X > 0, :]\n",
    "adata_T_pre = adata_T[adata_T.obs['timepoint'] == 'pre', :]\n",
    "adata_T_on = adata_T[adata_T.obs['timepoint'] == 'on', :]"
   ]
  },
  {
   "cell_type": "code",
   "execution_count": null,
   "metadata": {},
   "outputs": [],
   "source": [
    "import matplotlib.colors as mcolors\n",
    "\n",
    "# create plot color from grey to blue\n",
    "colors = [\"lightgrey\", \"blue\"]\n",
    "cmap = mcolors.LinearSegmentedColormap.from_list(\"grey_to_blue\", colors)\n",
    "g1 = 'SOCS3'\n",
    "# Plot UMAP without title and axis labels\n",
    "ax = sc.pl.umap(adata_T, color=g1, cmap=cmap, size=12, show=False)\n",
    "ax.set_title('')  # Remove title\n",
    "ax.set_xlabel('')  # Remove x-axis label\n",
    "ax.set_ylabel('')  # Remove y-axis label\n",
    "ax.figure.show()\n",
    "\n",
    "ax = sc.pl.umap(adata_T_pre, color=g1, cmap=cmap, size=12, show=False)\n",
    "ax.set_title('')\n",
    "ax.set_xlabel('')\n",
    "ax.set_ylabel('')\n",
    "ax.figure.show()\n",
    "\n",
    "ax = sc.pl.umap(adata_T_on, color=g1, cmap=cmap, size=8, show=False)\n",
    "ax.set_title('')\n",
    "ax.set_xlabel('')\n",
    "ax.set_ylabel('')\n",
    "ax.figure.show()\n"
   ]
  },
  {
   "cell_type": "code",
   "execution_count": null,
   "metadata": {},
   "outputs": [],
   "source": [
    "adata_1_pseudo = scRNA2PseudoBulkAnnData(adata_T, sample_id_col='sample_id')"
   ]
  },
  {
   "cell_type": "code",
   "execution_count": null,
   "metadata": {},
   "outputs": [],
   "source": [
    "sc.pl.violin(adata_T, keys='SESN1', groupby='timepoint', order=['pre', 'on'], size = 0)"
   ]
  },
  {
   "cell_type": "code",
   "execution_count": null,
   "metadata": {},
   "outputs": [],
   "source": [
    "# make a violin plot of SLA expression in pre and on\n",
    "sc.pl.violin(adata_1_pseudo, keys='TSC22D3', groupby='timepoint', order=['pre', 'on'], size = 0)"
   ]
  }
 ],
 "metadata": {
  "kernelspec": {
   "display_name": "base",
   "language": "python",
   "name": "python3"
  },
  "language_info": {
   "codemirror_mode": {
    "name": "ipython",
    "version": 3
   },
   "file_extension": ".py",
   "mimetype": "text/x-python",
   "name": "python",
   "nbconvert_exporter": "python",
   "pygments_lexer": "ipython3",
   "version": "3.11.5"
  }
 },
 "nbformat": 4,
 "nbformat_minor": 2
}
