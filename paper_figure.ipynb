{
 "cells": [
  {
   "cell_type": "code",
   "execution_count": null,
   "metadata": {},
   "outputs": [],
   "source": [
    "import rpy2.robjects as robjects\n",
    "import seaborn as sns\n",
    "import statsmodels.api as sm\n",
    "import matplotlib.pyplot as plt\n",
    "import matplotlib.colors as mcolors\n",
    "import scanpy as sc\n",
    "import pandas as pd\n",
    "import numpy as np\n",
    "import os\n",
    "import sys\n",
    "sys.path.append('/home/qiuaodon/Desktop/PanCancer_scRNA_analysis/utils/')\n",
    "from scRNA_utils import *\n",
    "data_dir = '/home/qiuaodon/Desktop/project_data_new/'"
   ]
  },
  {
   "cell_type": "markdown",
   "metadata": {},
   "source": [
    "# load in data"
   ]
  },
  {
   "cell_type": "code",
   "execution_count": null,
   "metadata": {},
   "outputs": [],
   "source": [
    "# read in the adata h5ad file\n",
    "adata = sc.read(data_dir + 'whole_cohort1_processed.h5ad')"
   ]
  },
  {
   "cell_type": "code",
   "execution_count": null,
   "metadata": {},
   "outputs": [],
   "source": [
    "adata_pseudo = scRNA2PseudoBulkAnnData(adata)"
   ]
  },
  {
   "cell_type": "code",
   "execution_count": null,
   "metadata": {},
   "outputs": [],
   "source": [
    "adata_pseudo.obs['BC_type'].value_counts()"
   ]
  },
  {
   "cell_type": "code",
   "execution_count": null,
   "metadata": {},
   "outputs": [],
   "source": [
    "adata"
   ]
  },
  {
   "cell_type": "code",
   "execution_count": null,
   "metadata": {},
   "outputs": [],
   "source": [
    "# Create a figure and axes with a specific size\n",
    "fig, ax = plt.subplots(figsize=(5, 5))\n",
    "\n",
    "# Plot UMAP on the specified axes\n",
    "sc.pl.umap(adata, color='cell_type', palette='Set3', ax=ax)"
   ]
  },
  {
   "cell_type": "code",
   "execution_count": null,
   "metadata": {},
   "outputs": [],
   "source": [
    "adata_T.obs"
   ]
  },
  {
   "cell_type": "code",
   "execution_count": null,
   "metadata": {},
   "outputs": [],
   "source": [
    "sc.pl.umap(adata, color = 'expansion')\n",
    "sc.pl.umap(adata, color = 'timepoint')"
   ]
  },
  {
   "cell_type": "code",
   "execution_count": null,
   "metadata": {},
   "outputs": [],
   "source": [
    "# change the color to grey-to-blue\n",
    "colors = [\"grey\", \"blue\"]  # Start with grey and end with blue\n",
    "cmap = mcolors.LinearSegmentedColormap.from_list(\"grey_to_blue\", colors)\n",
    "\n",
    "sc.pl.umap(adata, color='CD274', color_map = cmap, vmax = 1.5)\n",
    "plt.show()"
   ]
  },
  {
   "cell_type": "code",
   "execution_count": null,
   "metadata": {},
   "outputs": [],
   "source": [
    "adata_T = sc.read(data_dir + '1863-counts_cells_cohort1_T_cells.h5ad')\n",
    "adata_B = sc.read(data_dir + '1863-counts_cells_cohort1_B_cells.h5ad')\n",
    "adata_M = sc.read(data_dir + '1863-counts_cells_cohort1_M_cells.h5ad')\n",
    "adata_Epi = sc.read(data_dir + '1863-counts_cells_cohort1_Epi_cells.h5ad')\n",
    "adata_Fibro = sc.read(data_dir + '1863-counts_cells_cohort1_Fibro_cells.h5ad')\n",
    "adata_Endo = sc.read(data_dir + '1863-counts_cells_cohort1_Endo_cells.h5ad')"
   ]
  },
  {
   "cell_type": "code",
   "execution_count": null,
   "metadata": {},
   "outputs": [],
   "source": [
    "sc.pl.umap(adata_T, color = 'ZFP36',color_map = cmap )"
   ]
  },
  {
   "cell_type": "code",
   "execution_count": null,
   "metadata": {},
   "outputs": [],
   "source": [
    "sc.pl.umap(adata_B, color = 'PDCD1',color_map = cmap )"
   ]
  },
  {
   "cell_type": "code",
   "execution_count": null,
   "metadata": {},
   "outputs": [],
   "source": [
    "sc.pl.umap(adata_M, color = 'cell_type', cmap = 'Set1')"
   ]
  },
  {
   "cell_type": "code",
   "execution_count": null,
   "metadata": {},
   "outputs": [],
   "source": [
    "pre_adata = adata[adata.obs['timepoint'] == 'pre']\n",
    "on_adata = adata[adata.obs['timepoint'] == 'on']\n"
   ]
  },
  {
   "cell_type": "markdown",
   "metadata": {},
   "source": [
    "## prepare for the boxplot"
   ]
  },
  {
   "cell_type": "code",
   "execution_count": null,
   "metadata": {},
   "outputs": [],
   "source": [
    "adata_E.obs['patient_id'].unique()"
   ]
  },
  {
   "cell_type": "code",
   "execution_count": null,
   "metadata": {},
   "outputs": [],
   "source": [
    "adata_E = adata[adata.obs['expansion'] == 'E']\n",
    "# remove patient_id == BIOKEY_5 because T cells in this patient decreased\n",
    "\n",
    "adata_E\n"
   ]
  },
  {
   "cell_type": "code",
   "execution_count": null,
   "metadata": {},
   "outputs": [],
   "source": [
    "adata_NE = adata[adata.obs['expansion'] == 'NE']\n",
    "adata_NE"
   ]
  },
  {
   "cell_type": "code",
   "execution_count": null,
   "metadata": {},
   "outputs": [],
   "source": [
    "adata_NE.obs['patient_id'].unique()"
   ]
  },
  {
   "cell_type": "code",
   "execution_count": null,
   "metadata": {},
   "outputs": [],
   "source": [
    "# check if BIOKEY_20 is in adata_NE\n",
    "'BIOKEY_20' in adata_NE.obs['patient_id'].unique()"
   ]
  },
  {
   "cell_type": "code",
   "execution_count": null,
   "metadata": {},
   "outputs": [],
   "source": [
    "# set a dataframe with cell type, timepoint, \n",
    "# plot_data = adata.obs.copy()\n",
    "plot_data = adata_E.obs.copy()\n",
    "# plot_data = adata_NE.obs.copy()\n",
    "# plot_data = adata_T.obs.copy()\n",
    "# plot_data = adata_B.obs.copy()\n",
    "# plot_data = adata_M.obs.copy()\n",
    "# Count the number of cells for each combination of 'timepoint' and 'cell_type'\n",
    "cell_counts = plot_data.groupby(['cell_type', 'sample_id']).size().reset_index(name='cell_count')\n",
    "cell_counts"
   ]
  },
  {
   "cell_type": "code",
   "execution_count": null,
   "metadata": {},
   "outputs": [],
   "source": [
    "# add timepoint column by the sample_id words after second '_'\n",
    "cell_counts['timepoint'] = cell_counts['sample_id'].apply(lambda x: x.split('_')[2])\n",
    "cell_counts"
   ]
  },
  {
   "cell_type": "code",
   "execution_count": null,
   "metadata": {},
   "outputs": [],
   "source": [
    "cell_counts = cell_counts.sort_values(by=['timepoint','cell_type', 'sample_id'], ascending=[False, True, True])\n"
   ]
  },
  {
   "cell_type": "code",
   "execution_count": null,
   "metadata": {},
   "outputs": [],
   "source": [
    "cell_counts"
   ]
  },
  {
   "cell_type": "code",
   "execution_count": null,
   "metadata": {},
   "outputs": [],
   "source": [
    "# pivot the table and each cell type is a column\n",
    "cell_counts_pivot = cell_counts.pivot(index=['sample_id','timepoint'], columns=['cell_type'], values='cell_count')\n",
    "cell_counts_pivot = cell_counts_pivot.fillna(0)\n",
    "cell_counts_pivot = cell_counts_pivot.sort_values(by=['timepoint', 'sample_id'],ascending=[False, True])\n",
    "cell_counts_pivot"
   ]
  },
  {
   "cell_type": "code",
   "execution_count": null,
   "metadata": {},
   "outputs": [],
   "source": [
    "# transposition\n",
    "cell_counts_pivot = cell_counts_pivot.T\n",
    "cell_counts_pivot"
   ]
  },
  {
   "cell_type": "code",
   "execution_count": null,
   "metadata": {},
   "outputs": [],
   "source": [
    "# replace the cell_count by percentage in each sample\n",
    "cell_counts_pivot = cell_counts_pivot.div(cell_counts_pivot.sum(axis=0), axis=1) * 100\n",
    "\n",
    "cell_counts_pivot\n"
   ]
  },
  {
   "cell_type": "code",
   "execution_count": null,
   "metadata": {},
   "outputs": [],
   "source": [
    "# export the table\n",
    "cell_counts_pivot.to_csv(data_dir + 'cell_counts_E_cells_for_boxplot.csv')\n",
    "\n",
    "# cell_counts_pivot.to_csv(data_dir + 'cell_counts_M_cells_for_boxplot.csv')"
   ]
  },
  {
   "cell_type": "code",
   "execution_count": null,
   "metadata": {},
   "outputs": [],
   "source": [
    "# Categorizing 'timepoint' to ensure proper ordering\n",
    "cell_counts['timepoint'] = pd.Categorical(cell_counts['timepoint'], ['Pre', 'On'])\n",
    "cell_counts = cell_counts.sort_values('timepoint')\n",
    "# put T cells first column\n",
    "cell_counts['cell_type'] = pd.Categorical(cell_counts['cell_type'], ['T cells',  'B cells', 'Myeloid', 'Fibroblast', 'Epithelial', 'Endothelial'])\n",
    "\n",
    "# Define custom colors for each timepoint\n",
    "palette = {'Pre': '#FFA500', 'On': '#4169E1'}   # Pre: yellow, On: blue\n",
    "\n",
    "# Create the boxplot with custom colors\n",
    "plt.figure(figsize=(4, 4))\n",
    "sns.boxplot(x='cell_type', y='cell_count', hue='timepoint', data=cell_counts, palette=palette)\n",
    "\n",
    "# Customizing the plot\n",
    "plt.xticks(rotation=45)\n",
    "plt.title('Number of Cells in Different Cell Types Over Timepoints')\n",
    "# remove x lable\n",
    "plt.xlabel('')\n",
    "plt.ylabel('Number of Cells')\n",
    "plt.tight_layout()\n",
    "plt.show()"
   ]
  },
  {
   "cell_type": "code",
   "execution_count": null,
   "metadata": {},
   "outputs": [],
   "source": [
    "from scipy.stats import ttest_ind\n",
    "from scipy.stats import ttest_rel\n",
    "significance_dict = {}\n",
    "for cell_type in cell_counts['cell_type'].unique():\n",
    "    pre = cell_counts[(cell_counts['cell_type'] == cell_type) & (cell_counts['timepoint'] == 'Pre')]['cell_count']\n",
    "    on = cell_counts[(cell_counts['cell_type'] == cell_type) & (cell_counts['timepoint'] == 'On')]['cell_count']\n",
    "    #t_stat, p_val = ttest_ind(pre, on, equal_var=False)\n",
    "    t_stat, p_val = ttest_rel(pre, on)\n",
    "    significance_dict[cell_type] = p_val\n",
    "\n",
    "# Create the boxplot\n",
    "plt.figure(figsize=(4, 4))\n",
    "# put the Pre first before On\n",
    "cell_counts['timepoint'] = pd.Categorical(cell_counts['timepoint'], ['Pre', 'On'])\n",
    "sns.boxplot(x='cell_type', y='cell_count', hue='timepoint', data=cell_counts)\n",
    "\n",
    "# Add significance annotations\n",
    "for i, cell_type in enumerate(cell_counts['cell_type'].unique()):\n",
    "    p_val = significance_dict[cell_type]\n",
    "    max_y = cell_counts[cell_counts['cell_type'] == cell_type]['cell_count'].max() + 10\n",
    "    if p_val < 0.05:\n",
    "        plt.hlines(y=3910, xmin=i-0.3, xmax=i+0.3, color='black', lw=1.5)\n",
    "        plt.text(i, max(cell_counts['cell_count']), \"*\" if p_val < 0.05 else \"ns\", ha='center')\n",
    "        \n",
    "\n",
    "# Customize the plot as necessary\n",
    "plt.xticks(rotation=45)\n",
    "plt.title('Cell Counts in Different Cell Types Over Timepoints')\n",
    "plt.xlabel('Cell Type')\n",
    "plt.ylabel('Cell Count')\n",
    "plt.tight_layout()\n",
    "plt.show()"
   ]
  },
  {
   "cell_type": "code",
   "execution_count": null,
   "metadata": {},
   "outputs": [],
   "source": [
    "significance_dict"
   ]
  },
  {
   "cell_type": "markdown",
   "metadata": {},
   "source": [
    "# label T cell subtypes"
   ]
  },
  {
   "cell_type": "code",
   "execution_count": null,
   "metadata": {},
   "outputs": [],
   "source": [
    "T_cell_markers = {\n",
    "    'CD4 '\t: ['CD4', 'IL7R'],\n",
    "    'CD8'\t: [ 'CD8A', 'CD8B'],\n",
    "    'Naïve'\t: ['TCF7', 'SELL', 'LEF1', 'CCR7'],\n",
    "    'Exhausted' : ['LAG3', 'TIGIT', 'PDCD1', 'HAVCR2', 'CTLA4'],\n",
    "    'Cytotoxic' : ['IL2', 'GZMA', 'GNLY', 'PRF1', 'GZMB', 'GZMK', 'IFNG', 'NKG7'],\n",
    "    'Treg' : ['IL2RA', 'FOXP3', 'IKZF2', 'IKZF4',  'TNFRSF18'],\n",
    "    'Gamma-delta' : ['TRGC1', 'TRGC2', 'TRDC'],\n",
    "    'Th17' : ['IL17A',  'CCR6', 'KLRB1'],  #'IL22',\n",
    "    'MAIT' : ['SLC4A10', 'KLRB1', 'IL7R', 'DPP4'],  \n",
    "    'ILC' :\t['KIT', 'IL1R1'],\n",
    "    'Th1' :\t['STAT4', 'IL12RB2', 'IFNG'],\n",
    "    'Th2' :\t['GATA3', 'STAT6', 'IL4'],\n",
    "    'Tfh'\t: ['MAF', 'CXCL13', 'CXCR5', 'PDCD1'],\n",
    "    'NK' :  ['XCL1', 'FCGR3A', 'KLRD1', 'KLRF1', 'NCAM1'],\n",
    "    'Proliferation' : ['MKI67', 'PCNA', 'STMN1']\n",
    "}"
   ]
  },
  {
   "cell_type": "code",
   "execution_count": null,
   "metadata": {},
   "outputs": [],
   "source": [
    "T_cell_markers = {\n",
    "    'CD4 EX'\t: ['CD4', 'CTLA4', 'PDCD1', 'CXCL13', 'CD200'],\n",
    "    'CD4 EM' : ['CD4', 'ANXA1', 'FOS', 'JUN','IL7R', 'CD40LG'],\n",
    "    'CD4 REG' : ['IL2RA', 'FOXP3', 'IKZF2', 'IKZF4',  'TNFRSF18'],\n",
    "    'CD8 EX' : [ 'CD8A', 'PDCD1', 'HAVCR2', 'CTLA4'],\n",
    "    'CD8 EM' : ['GZMK', 'EOMES', 'ITM2C'],\n",
    "    'Proliferation' : ['MKI67', 'PCNA', 'STMN1']\n",
    "\n",
    "}"
   ]
  },
  {
   "cell_type": "code",
   "execution_count": null,
   "metadata": {},
   "outputs": [],
   "source": [
    "sc.tl.dendrogram(adata_T, groupby='leiden')\n",
    "sc.pl.dotplot(adata_T, T_cell_markers, 'leiden', dendrogram=True)"
   ]
  },
  {
   "cell_type": "code",
   "execution_count": null,
   "metadata": {},
   "outputs": [],
   "source": [
    "adata_T.obs.drop(columns=\"cell_type\", inplace = True )\n",
    "labelClusterWithCellType(adata_T, T_cell_markers, cluster_column='leiden')\n"
   ]
  },
  {
   "cell_type": "code",
   "execution_count": null,
   "metadata": {},
   "outputs": [],
   "source": [
    "for cell_type, markers in T_cell_markers.items():\n",
    "    print (cell_type, \":\", markers)\n",
    "    sc.pl.umap(adata_T, color=markers)"
   ]
  },
  {
   "cell_type": "code",
   "execution_count": null,
   "metadata": {},
   "outputs": [],
   "source": [
    "sc.pl.umap(adata_T, color='cell_type', palette='Set3')"
   ]
  },
  {
   "cell_type": "code",
   "execution_count": null,
   "metadata": {},
   "outputs": [],
   "source": [
    "# assign the cluster leiden 5 and 6 to cell type CD8 EM\n",
    "adata_T.obs.loc[adata_T.obs['leiden'].isin(['5','6']), 'cell_type'] = 'CD8 EM'\n",
    "\n",
    "sc.pl.umap(adata_T, color='cell_type', palette='Set3')"
   ]
  },
  {
   "cell_type": "code",
   "execution_count": null,
   "metadata": {},
   "outputs": [],
   "source": [
    "sc.pl.umap(adata_T, color='CD3D' )\n",
    "# cluster 7 don't have CD3D expression meaning they are not T cells\n",
    "#remove cluster 7\n",
    "adata_T = adata_T[adata_T.obs['leiden'] != '7']\n"
   ]
  },
  {
   "cell_type": "code",
   "execution_count": null,
   "metadata": {},
   "outputs": [],
   "source": [
    "sc.pl.umap(adata_T, color=['CD4', 'CD8B','leiden','CCR7','CXCR3','CCR5', 'CCR8','CCR6'])"
   ]
  },
  {
   "cell_type": "code",
   "execution_count": null,
   "metadata": {},
   "outputs": [],
   "source": [
    "fig, ax = plt.subplots(figsize=(6, 5))\n",
    "sc.pl.umap(adata_T, color=['timepoint'], ax = ax)"
   ]
  },
  {
   "cell_type": "code",
   "execution_count": null,
   "metadata": {},
   "outputs": [],
   "source": [
    "# "
   ]
  },
  {
   "cell_type": "code",
   "execution_count": null,
   "metadata": {},
   "outputs": [],
   "source": [
    "fig, ax = plt.subplots(figsize=(6, 5))\n",
    "sc.pl.umap(adata_T, color=['PDCD1'],color_map= cmap, ax = ax, vmax =1)"
   ]
  },
  {
   "cell_type": "code",
   "execution_count": null,
   "metadata": {},
   "outputs": [],
   "source": [
    "fig, ax = plt.subplots(figsize=(6, 5))\n",
    "sc.pl.umap(adata_T, color=['cell_type'],palette = 'Set3', ax = ax)"
   ]
  },
  {
   "cell_type": "code",
   "execution_count": null,
   "metadata": {},
   "outputs": [],
   "source": [
    "from scipy.stats import ttest_ind\n",
    "# Create the boxplot\n",
    "plot_data = adata_E.obs.copy()\n",
    "cell_counts = plot_data.groupby(['cell_type', 'sample_id']).size().reset_index(name='cell_count')\n",
    "# put the Pre first before On\n",
    "cell_counts['timepoint'] = cell_counts['sample_id'].str.split('_').str[2]\n",
    "cell_counts['timepoint'] = pd.Categorical(cell_counts['timepoint'], ['Pre', 'On'])\n",
    "plt.figure(figsize=(4, 4))\n",
    "palette = {'Pre': '#FFA500', 'On': '#4169E1'}   # Pre: yellow, On: blue\n",
    "sns.boxplot(x='cell_type', y='cell_count', hue='timepoint',palette = palette,  data=cell_counts, showfliers=False)\n",
    "\n",
    "# Add significance annotations\n",
    "for i, cell_type in enumerate(cell_counts['cell_type'].unique()):\n",
    "    p_val = significance_dict[cell_type]\n",
    "    max_y = cell_counts[cell_counts['cell_type'] == cell_type]['cell_count'].max() + 10\n",
    "    if p_val < 0.05:\n",
    "        plt.hlines(y=3910, xmin=i-0.3, xmax=i+0.3, color='black', lw=1.5)\n",
    "        plt.text(i, max(cell_counts['cell_count']), \"*\" if p_val < 0.05 else \"ns\", ha='center')\n",
    "        \n",
    "# Customize the plot as necessary\n",
    "plt.xticks(rotation=45)\n",
    "plt.title('Cell Counts of patients with expansion')\n",
    "plt.xlabel('Cell Subtype')\n",
    "plt.ylabel('Cell Count')\n",
    "plt.tight_layout()\n",
    "plt.show()"
   ]
  },
  {
   "cell_type": "code",
   "execution_count": null,
   "metadata": {},
   "outputs": [],
   "source": [
    "significance_dict"
   ]
  },
  {
   "cell_type": "code",
   "execution_count": null,
   "metadata": {},
   "outputs": [],
   "source": [
    "# draw the boxplot for "
   ]
  },
  {
   "cell_type": "markdown",
   "metadata": {},
   "source": [
    "# B cells"
   ]
  },
  {
   "cell_type": "code",
   "execution_count": null,
   "metadata": {},
   "outputs": [],
   "source": [
    "fig, ax = plt.subplots(figsize=(6, 5))\n",
    "sc.pl.umap(adata_B, color=['timepoint'], ax = ax)\n",
    "sc.pl.umap(adata_B, color=['PDCD1'],color_map= cmap, ax = ax, vmax =1)"
   ]
  },
  {
   "cell_type": "code",
   "execution_count": null,
   "metadata": {},
   "outputs": [],
   "source": [
    "fig, ax = plt.subplots(figsize=(6, 5))\n",
    "sc.pl.umap(adata_B, color=['cell_type'],color_map= cmap, ax = ax, vmax =1, palette = 'Set3')"
   ]
  },
  {
   "cell_type": "code",
   "execution_count": null,
   "metadata": {},
   "outputs": [],
   "source": [
    "B_cell_markers ={\n",
    "    'Follicular B cell' : ['MS4A1', 'IGHD', 'FCER2'],\n",
    "    'GrB+ Regulatory B cell' : ['BSG', 'CD19', 'CD38'],\n",
    "    'Mature B cell' : ['DHX9', 'FCER2'],\n",
    "    'Memory B cell' : ['CD44', 'CD69'],\n",
    "    'Plasma cell' : ['CD38', 'CD27', 'SDC1', 'BCL6'],\n",
    "    'lgA+ Regulatory B cell' : ['CD19', 'IGHA1'],\n",
    "    'lgG+' : ['IGHG1'],\n",
    "    'IgM+' : ['IGHM'],\n",
    "    'Breg' : ['CD274', 'HAVCR1', 'IL10'],\n",
    "    'Activated B cell' : ['CD86'],\n",
    "    'Trafficking' : ['CXCR4', 'CXCR5'],\n",
    "}"
   ]
  },
  {
   "cell_type": "code",
   "execution_count": null,
   "metadata": {},
   "outputs": [],
   "source": [
    "sc.tl.dendrogram(adata_B, groupby='leiden')\n",
    "sc.pl.dotplot(adata_B, B_cell_markers, 'leiden', dendrogram=True)"
   ]
  },
  {
   "cell_type": "code",
   "execution_count": null,
   "metadata": {},
   "outputs": [],
   "source": [
    "adata_B.obs.drop(columns=\"cell_type\", inplace = True )\n",
    "labelClusterWithCellType(adata_B, B_cell_markers, cluster_column='leiden')\n",
    "sc.pl.umap(adata_B, color=['cell_type'], palette = 'Set3')\n",
    "sc.pl.umap(adata_B, color=['timepoint'])"
   ]
  },
  {
   "cell_type": "code",
   "execution_count": null,
   "metadata": {},
   "outputs": [],
   "source": [
    "adata_B.obs['cell_type'] = adata_B.obs['cell_type'].cat.add_categories(['Follicular B cell'])\n",
    "adata_B.obs.loc[adata_B.obs['leiden'] == '1', 'cell_type'] = 'Follicular B cell'"
   ]
  },
  {
   "cell_type": "code",
   "execution_count": null,
   "metadata": {},
   "outputs": [],
   "source": [
    "fig, ax = plt.subplots(figsize=(6, 5))\n",
    "sc.pl.umap(adata_M, color=['PDCD1'], color_map = cmap, ax= ax)"
   ]
  },
  {
   "cell_type": "code",
   "execution_count": null,
   "metadata": {},
   "outputs": [],
   "source": [
    "sc.pl.umap(adata_B, color=['IGHM', 'CD27', 'CD38', 'IGHG1'],color_map= cmap, vmax =1)"
   ]
  },
  {
   "cell_type": "code",
   "execution_count": null,
   "metadata": {},
   "outputs": [],
   "source": [
    "for cell_type, markers in B_cell_markers.items():\n",
    "    print (cell_type, \":\", markers)\n",
    "    sc.pl.umap(adata_B, color=markers)"
   ]
  },
  {
   "cell_type": "code",
   "execution_count": null,
   "metadata": {},
   "outputs": [],
   "source": [
    "from scipy.stats import ttest_ind\n",
    "significance_dict = {}\n",
    "for cell_type in cell_counts['cell_type'].unique():\n",
    "    pre = cell_counts[(cell_counts['cell_type'] == cell_type) & (cell_counts['timepoint'] == 'Pre')]['cell_count']\n",
    "    on = cell_counts[(cell_counts['cell_type'] == cell_type) & (cell_counts['timepoint'] == 'On')]['cell_count']\n",
    "    t_stat, p_val = ttest_ind(pre, on, equal_var=False)\n",
    "    significance_dict[cell_type] = p_val\n",
    "\n",
    "# Create the boxplot\n",
    "plt.figure(figsize=(4, 4))\n",
    "# put the Pre first before On\n",
    "cell_counts['timepoint'] = pd.Categorical(cell_counts['timepoint'], ['Pre', 'On'])\n",
    "sns.boxplot(x='cell_type', y='cell_count', hue='timepoint', data=cell_counts)\n",
    "\n",
    "# Add significance annotations\n",
    "for i, cell_type in enumerate(cell_counts['cell_type'].unique()):\n",
    "    p_val = significance_dict[cell_type]\n",
    "    if p_val < 0.05:\n",
    "        plt.text(i, max(cell_counts['cell_count']), \"*\" if p_val < 0.05 else \"ns\", ha='center')\n",
    "\n",
    "# Customize the plot as necessary\n",
    "plt.xticks(rotation=45)\n",
    "plt.title('Cell Counts in Different Cell Types Over Timepoints')\n",
    "plt.xlabel('Cell Type')\n",
    "plt.ylabel('Cell Count')\n",
    "plt.tight_layout()\n",
    "plt.show()"
   ]
  },
  {
   "cell_type": "markdown",
   "metadata": {},
   "source": [
    "# M cell"
   ]
  },
  {
   "cell_type": "code",
   "execution_count": null,
   "metadata": {},
   "outputs": [],
   "source": [
    "print(adata_M.obsm['X_pca'].shape)\n",
    "print(adata_M.varm['PCs'].shape)\n",
    "print(adata_M.uns['pca']['variance_ratio'].shape)\n",
    "print(adata_M.obs.columns)"
   ]
  },
  {
   "cell_type": "code",
   "execution_count": null,
   "metadata": {},
   "outputs": [],
   "source": [
    "M_cell_markers = {\n",
    "    # 'M1': ['IL1B', 'CD86', 'CD68', 'TLR2'],\n",
    "    # 'M2': ['MRC1', 'FOLR2', 'CD68', 'CD163'],\n",
    "    'Macrophage': ['CD68', 'S100A9', 'PLAUR', 'SPP1' ],# 'CD68','CD163', 'MRC1', 'CD163', 'CD274', 'MPEG1','SIGLEC1'\n",
    "    'Mast cell': ['TPSB2', 'TPSAB1', 'CPA3', 'KIT'],\n",
    "    # 'Neutrophil' : ['FCGR3A', 'CSF3R', 'MPO'],\n",
    "    'Dendritic' : [ 'CD80', 'CD83', 'ICAM1'],\n",
    "    'Monocyte' : ['CD14', 'FCGR3A', 'CSF1R'],\n",
    "    # 'Langerhans': ['CD207', 'CD1A', 'ITGAX']\n",
    "}"
   ]
  },
  {
   "cell_type": "code",
   "execution_count": null,
   "metadata": {},
   "outputs": [],
   "source": [
    "sc.pl.umap(adata_M, color = ['leiden','cell_type'], palette = 'Set3')"
   ]
  },
  {
   "cell_type": "code",
   "execution_count": null,
   "metadata": {},
   "outputs": [],
   "source": [
    "for cell_type, markers in M_cell_markers.items():\n",
    "    print (cell_type, \":\", markers)\n",
    "    sc.pl.umap(adata_M, color=markers)"
   ]
  },
  {
   "cell_type": "code",
   "execution_count": null,
   "metadata": {},
   "outputs": [],
   "source": [
    "sc.tl.dendrogram(adata_M, groupby='leiden')\n",
    "sc.pl.dotplot(adata_M, M_cell_markers, 'leiden', dendrogram=True)"
   ]
  },
  {
   "cell_type": "code",
   "execution_count": null,
   "metadata": {},
   "outputs": [],
   "source": [
    "adata_M.obs.drop(columns=\"cell_type\", inplace = True )\n",
    "labelClusterWithCellType(adata_M, M_cell_markers, cluster_column='leiden')"
   ]
  },
  {
   "cell_type": "code",
   "execution_count": null,
   "metadata": {},
   "outputs": [],
   "source": [
    "fig, ax = plt.subplots(figsize=(6, 5))\n",
    "sc.pl.umap(adata_M, color=['timepoint'], ax = ax)"
   ]
  },
  {
   "cell_type": "code",
   "execution_count": null,
   "metadata": {},
   "outputs": [],
   "source": [
    "fig, ax = plt.subplots(figsize=(6, 5))\n",
    "sc.pl.umap(adata_M, color=['cell_type'],palette='Set3' , ax = ax)"
   ]
  },
  {
   "cell_type": "code",
   "execution_count": null,
   "metadata": {},
   "outputs": [],
   "source": [
    "\n",
    "# group each type of cells together and calculate the mean expression of each marker then draw the heatmap for the markers with the cell_type\n",
    "sc.pl.heatmap(adata_M, M_cell_markers, groupby='cell_type', dendrogram=True)\n",
    "\n"
   ]
  },
  {
   "cell_type": "code",
   "execution_count": null,
   "metadata": {},
   "outputs": [],
   "source": [
    "# save the adata\n",
    "adata_M.write(data_dir + '1863-counts_cells_cohort1_M_cells.h5ad')"
   ]
  },
  {
   "cell_type": "markdown",
   "metadata": {},
   "source": [
    "# Epi\n"
   ]
  },
  {
   "cell_type": "code",
   "execution_count": null,
   "metadata": {},
   "outputs": [],
   "source": [
    "sc.pl.umap(adata_Epi, color = 'leiden')"
   ]
  }
 ],
 "metadata": {
  "kernelspec": {
   "display_name": "base",
   "language": "python",
   "name": "python3"
  },
  "language_info": {
   "codemirror_mode": {
    "name": "ipython",
    "version": 3
   },
   "file_extension": ".py",
   "mimetype": "text/x-python",
   "name": "python",
   "nbconvert_exporter": "python",
   "pygments_lexer": "ipython3",
   "version": "3.11.5"
  }
 },
 "nbformat": 4,
 "nbformat_minor": 2
}
