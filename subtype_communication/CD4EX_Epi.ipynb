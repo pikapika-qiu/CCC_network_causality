{
 "cells": [
  {
   "cell_type": "code",
   "execution_count": null,
   "metadata": {},
   "outputs": [],
   "source": [
    "import numpy as np\n",
    "import matplotlib.pyplot as plt\n",
    "import pandas as pd\n",
    "import scanpy as sc\n",
    "import scipy.io as sio\n",
    "import anndata as ad\n",
    "import seaborn as sns\n",
    "import os as os\n",
    "import sys as sys\n",
    "sys.path.append('/home/qiuaodon/Desktop/PanCancer_scRNA_analysis/utils/')\n",
    "from scRNA_utils import *\n",
    "import operator as op\n",
    "import matplotlib.colors as mcolors"
   ]
  },
  {
   "cell_type": "code",
   "execution_count": null,
   "metadata": {},
   "outputs": [],
   "source": [
    "data_dir_NHDP = \"/home/qiuaodon/Desktop/project_data_new/\"\n",
    "adata_T = sc.read(data_dir_NHDP + '1863-counts_cells_cohort1_T_cells.h5ad')"
   ]
  },
  {
   "cell_type": "code",
   "execution_count": null,
   "metadata": {},
   "outputs": [],
   "source": [
    "adata = sc.read(data_dir_NHDP + 'whole_cohort1_processed.h5ad')"
   ]
  },
  {
   "cell_type": "code",
   "execution_count": null,
   "metadata": {},
   "outputs": [],
   "source": [
    "sc.pl.umap(adata, color = ['cell_type'])"
   ]
  },
  {
   "cell_type": "code",
   "execution_count": null,
   "metadata": {},
   "outputs": [],
   "source": [
    "adata_M = adata[adata.obs['cell_type'] == 'Fibroblast', :]"
   ]
  },
  {
   "cell_type": "code",
   "execution_count": null,
   "metadata": {},
   "outputs": [],
   "source": [
    "adata_M"
   ]
  },
  {
   "cell_type": "code",
   "execution_count": null,
   "metadata": {},
   "outputs": [],
   "source": [
    "if 'CXCR2' in adata_M.var_names:\n",
    "    print('yes')"
   ]
  },
  {
   "cell_type": "code",
   "execution_count": null,
   "metadata": {},
   "outputs": [],
   "source": [
    "adata_T = adata_T.raw.to_adata()"
   ]
  },
  {
   "cell_type": "code",
   "execution_count": null,
   "metadata": {},
   "outputs": [],
   "source": [
    "adata_M = adata_M.raw.to_adata()"
   ]
  },
  {
   "cell_type": "code",
   "execution_count": null,
   "metadata": {},
   "outputs": [],
   "source": [
    "lrpair = pd.read_csv('/home/qiuaodon/Desktop/project_data_new/lr_network_unique.tsv', sep='\\t')\n",
    "# get the lr pairs including ligand(from) and receptor(to) from the lrpair file with database as 'kegg'\n",
    "lrpair_kegg = lrpair[lrpair['database'] == 'kegg']\n",
    "lrpair_kegg = lrpair_kegg[['from', 'to']]\n",
    "# change from as L and to as R\n",
    "lrpair_kegg.columns = ['L', 'R']\n",
    "lrpair_kegg"
   ]
  },
  {
   "cell_type": "markdown",
   "metadata": {},
   "source": [
    "## CD4 EX"
   ]
  },
  {
   "cell_type": "code",
   "execution_count": null,
   "metadata": {},
   "outputs": [],
   "source": [
    "adata_CD4EX = adata_T[adata_T.obs['leiden'] == '3', :]\n",
    "# adata_M = sc.read(data_dir_NHDP + '1863-counts_cells_cohort1_M_cells.h5ad')\n"
   ]
  },
  {
   "cell_type": "code",
   "execution_count": null,
   "metadata": {},
   "outputs": [],
   "source": [
    "sc.pl.umap(adata_M, color='leiden', legend_loc='on data')"
   ]
  },
  {
   "cell_type": "code",
   "execution_count": null,
   "metadata": {},
   "outputs": [],
   "source": [
    "\n",
    "adata_M_pseudo = scRNA2PseudoBulkAnnData(adata_M, sample_id_col='sample_id')\n",
    "adata_T_pseudo = scRNA2PseudoBulkAnnData(adata_CD4EX, sample_id_col='sample_id')"
   ]
  },
  {
   "cell_type": "code",
   "execution_count": null,
   "metadata": {},
   "outputs": [],
   "source": [
    "adata_M.raw = adata_M\n",
    "adata_CD4EX.raw = adata_CD4EX"
   ]
  },
  {
   "cell_type": "code",
   "execution_count": null,
   "metadata": {},
   "outputs": [],
   "source": [
    "DEG_1 = pd.read_csv(data_dir_NHDP + 'CD4EX_DEGs.csv')\n",
    "DEG_2 = paird_ttest(adata_M, condition_key = 'timepoint', sample_id_col = 'sample_id', patient_id_col = 'patient_id')\n",
    "DEG_2.to_csv(data_dir_NHDP + 'Fibro_DEGs.csv')\n",
    "DEG_2 = pd.read_csv(data_dir_NHDP + 'Fibro_DEGs.csv')"
   ]
  },
  {
   "cell_type": "code",
   "execution_count": null,
   "metadata": {},
   "outputs": [],
   "source": [
    "DEG_2"
   ]
  },
  {
   "cell_type": "markdown",
   "metadata": {},
   "source": [
    "### CD4 vs M"
   ]
  },
  {
   "cell_type": "code",
   "execution_count": null,
   "metadata": {},
   "outputs": [],
   "source": [
    "adata_M_pseudo = adata_M_pseudo[adata_M_pseudo.obs['sample_id'].isin(adata_T_pseudo.obs['sample_id'])]\n",
    "adata_T_pseudo = adata_T_pseudo[adata_T_pseudo.obs['sample_id'].isin(adata_M_pseudo.obs['sample_id'])]"
   ]
  },
  {
   "cell_type": "code",
   "execution_count": null,
   "metadata": {},
   "outputs": [],
   "source": [
    "DEG_2.columns"
   ]
  },
  {
   "cell_type": "code",
   "execution_count": null,
   "metadata": {},
   "outputs": [],
   "source": [
    "#name first column as gene\n",
    "DEG_1 = DEG_1.rename(columns = {'Unnamed: 0':'gene'})\n",
    "DEG_2 = DEG_2.rename(columns = {'Unnamed: 0':'gene'})\n",
    "# filter DEGs by pval < 0.01\n",
    "DEG_1 = DEG_1[DEG_1['pval'] < 0.01]\n",
    "DEG_2 = DEG_2[DEG_2['pval'] < 0.01]\n",
    "gene_T = DEG_1['gene'].tolist()\n",
    "gene_M = DEG_2['gene'].tolist()\n",
    "gene_T_matrix = adata_T_pseudo[:, gene_T].X\n",
    "gene_M_matrix = adata_M_pseudo[:, gene_M].X\n",
    "gene_T_df = pd.DataFrame(gene_T_matrix, columns=gene_T, index=adata_T_pseudo.obs['sample_id'])\n",
    "gene_M_df = pd.DataFrame(gene_M_matrix, columns=gene_M, index=adata_M_pseudo.obs['sample_id'])\n",
    "gene_T_df.columns = [i + '_T' for i in gene_T_df.columns]\n",
    "gene_M_df.columns = [i + '_M' for i in gene_M_df.columns]\n",
    "gene_df = gene_T_df\n",
    "gene_df = pd.merge(gene_df, gene_M_df, on='sample_id')"
   ]
  },
  {
   "cell_type": "code",
   "execution_count": null,
   "metadata": {},
   "outputs": [],
   "source": [
    "print(DEG_1)\n",
    "print(DEG_2)"
   ]
  },
  {
   "cell_type": "code",
   "execution_count": null,
   "metadata": {},
   "outputs": [],
   "source": [
    "gene_df.columns = gene_df.columns.str.replace('_x', '')\n",
    "gene_df"
   ]
  },
  {
   "cell_type": "code",
   "execution_count": null,
   "metadata": {},
   "outputs": [],
   "source": [
    "gene_df['treatment'] = gene_df.index.str.contains('On').astype(int)\n",
    "# get patient id from sample id remove the _On or _Pre\n",
    "gene_df['patient_id'] = gene_df.index.str.replace('_On', '').str.replace('_Pre', '')\n",
    "gene_df['treatment'].value_counts()"
   ]
  },
  {
   "cell_type": "code",
   "execution_count": null,
   "metadata": {},
   "outputs": [],
   "source": [
    "# remove the patient id with only one sample\n",
    "patient_counts = gene_df['patient_id'].value_counts()\n",
    "single_patient = patient_counts[patient_counts == 1].index.tolist()\n",
    "gene_df = gene_df[~gene_df['patient_id'].isin(single_patient)]\n",
    "gene_df['treatment'].value_counts()"
   ]
  },
  {
   "cell_type": "code",
   "execution_count": null,
   "metadata": {},
   "outputs": [],
   "source": [
    "adata_T_pseudo = adata_T_pseudo[adata_T_pseudo.obs['sample_id'].isin(gene_df.index)]\n",
    "adata_M_pseudo = adata_M_pseudo[adata_M_pseudo.obs['sample_id'].isin(gene_df.index)]\n",
    "adata_T_pseudo.obs['timepoint'].value_counts()"
   ]
  },
  {
   "cell_type": "code",
   "execution_count": null,
   "metadata": {},
   "outputs": [],
   "source": [
    "# export the gene_df to csv\n",
    "gene_df.to_csv(data_dir_NHDP + 'gene_df_CD4EX_Fibro.csv')"
   ]
  },
  {
   "cell_type": "code",
   "execution_count": null,
   "metadata": {},
   "outputs": [],
   "source": [
    "DEG_pairs = pd.read_excel('/home/qiuaodon/Desktop/project_data_new/IV_regression_results_CD4EXvsFibro.xlsx')\n",
    "# drop the p_value column and r_squared column\n",
    "DEG_pairs = DEG_pairs.drop(columns=['p_value', 'r_squared'])\n",
    "# set the first two columns as g1 and g2 in DEG_pairs\n",
    "DEG_pairs = DEG_pairs.rename(columns = {'gene_T':'g1', 'gene_cell':'g2'})"
   ]
  },
  {
   "cell_type": "code",
   "execution_count": null,
   "metadata": {},
   "outputs": [],
   "source": [
    "DEG_pairs"
   ]
  },
  {
   "cell_type": "code",
   "execution_count": null,
   "metadata": {},
   "outputs": [],
   "source": [
    "# calculate the correlation between in the DEG_pairs\n",
    "from scipy.stats import spearmanr \n",
    "DEG_pairs['g1vsg2_correlation'] = 0\n",
    "\n",
    "for index, row in DEG_pairs.iterrows():\n",
    "    g1 = row['g1']\n",
    "    g2 = row['g2']\n",
    "    g1 = g1.replace('_T', '')\n",
    "    g2 = g2.replace('_M', '')\n",
    "    # use the adata_T_pseudo and adata_M_pseudo to get the g1 and g2\n",
    "    if g1 not in adata_T_pseudo.var_names:\n",
    "        continue\n",
    "    g1_T = adata_T_pseudo[:, g1].X\n",
    "    g1_T = pd.DataFrame(g1_T, columns=[g1], index=adata_T_pseudo.obs['sample_id'])\n",
    "    g1_T = g1_T.dropna()\n",
    "    if g2 not in adata_M_pseudo.var_names:\n",
    "        continue\n",
    "    g2_M = adata_M_pseudo[:, g2].X\n",
    "    g2_M = pd.DataFrame(g2_M, columns=[g2], index=adata_M_pseudo.obs['sample_id'])\n",
    "    g2_M = g2_M.dropna()\n",
    "    # make a dataframe g1, g2 and L*R\n",
    "    corr = spearmanr(g1_T, g2_M)[0]\n",
    "    DEG_pairs.loc[index, 'g1vsg2_correlation'] = corr\n",
    "print(DEG_pairs)\n"
   ]
  },
  {
   "cell_type": "code",
   "execution_count": null,
   "metadata": {},
   "outputs": [],
   "source": [
    "DEG_pairs = DEG_pairs[DEG_pairs['g1vsg2_correlation'] > 0.4]\n",
    "# sort the DEG_pairs by g1vsg2_correlation\n",
    "DEG_pairs = DEG_pairs.sort_values(by='g1vsg2_correlation', ascending=False)\n",
    "DEG_pairs"
   ]
  },
  {
   "cell_type": "code",
   "execution_count": null,
   "metadata": {},
   "outputs": [],
   "source": [
    "for index, row in DEG_pairs.iterrows():\n",
    "    g1 = row['g1']\n",
    "    g2 = row['g2']"
   ]
  },
  {
   "cell_type": "code",
   "execution_count": null,
   "metadata": {},
   "outputs": [],
   "source": [
    "lrpair_kegg"
   ]
  },
  {
   "cell_type": "code",
   "execution_count": null,
   "metadata": {},
   "outputs": [],
   "source": [
    "from causallearn.utils.cit import CIT\n",
    "results = pd.DataFrame(columns=['g1', 'g2', 'L', 'R', 'pValue'])\n",
    "\n",
    "for index, row in DEG_pairs.iterrows():\n",
    "    g1 = row['g1']\n",
    "    g2 = row['g2']\n",
    "    if g2.endswith('_M'):\n",
    "        for L, R in lrpair_kegg.values:\n",
    "            # check if L and R can be found in the DEG expression data\n",
    "            if L in adata_T_pseudo.var_names and R  in adata_M_pseudo.var_names:\n",
    "                # get the L_T and R_B from pseudo_T and pseudo_M\n",
    "                L_T = adata_T_pseudo[:, L].X\n",
    "                L_T = pd.DataFrame(L_T, columns=[L], index=adata_T_pseudo.obs['sample_id'])\n",
    "                L_T = L_T.dropna()\n",
    "                R_M = adata_M_pseudo[:, R].X\n",
    "                R_M = pd.DataFrame(R_M, columns=[R], index=adata_M_pseudo.obs['sample_id'])\n",
    "                R_M = R_M.dropna()\n",
    "                # calculate the L*R\n",
    "                # Ensure the column names match\n",
    "                L_T.columns = [R+'_vs_'+L]\n",
    "                R_M.columns = L_T.columns\n",
    "\n",
    "                # perform the multiplication and change L_R to 1-dimensional\n",
    "                L_R = L_T.multiply(R_M, axis=0)\n",
    "                L_R = L_R.iloc[:,0]\n",
    "\n",
    "                # make a dataframe g1, g2 and L*R\n",
    "                if g1 not in gene_df.columns or g2 not in gene_df.columns:\n",
    "                    continue\n",
    "                \n",
    "                g1_T = gene_df[g1]\n",
    "                g2_M = gene_df[g2]\n",
    "                df = pd.DataFrame({g1: g1_T, g2: g2_M, 'L*R': L_R})\n",
    "                # remove the rows with NA\n",
    "                df = df.dropna()\n",
    "\n",
    "                # convert df to numpy array\n",
    "                df_numpy = df.to_numpy()\n",
    "\n",
    "                fisherz_obj = CIT(df_numpy, \"fisherz\")\n",
    "                pValue = fisherz_obj( 0, 1, [2] )\n",
    "                if pValue > 0.1:\n",
    "                     results = pd.concat([results, pd.DataFrame({'g1': [g1], 'g2': [g2], 'L': [L], 'R': [R], 'pValue': [pValue]})], ignore_index=True)\n",
    "                results = pd.concat([results, pd.DataFrame({'g1': [g1], 'g2': [g2], 'L': [L], 'R': [R], 'pValue': [pValue]})], ignore_index=True)\n",
    "                \n",
    "print(results)"
   ]
  },
  {
   "cell_type": "code",
   "execution_count": null,
   "metadata": {},
   "outputs": [],
   "source": [
    "adata_M_pseudo"
   ]
  },
  {
   "cell_type": "code",
   "execution_count": null,
   "metadata": {},
   "outputs": [],
   "source": [
    "adata"
   ]
  },
  {
   "cell_type": "code",
   "execution_count": null,
   "metadata": {},
   "outputs": [],
   "source": [
    "# remove the columns except g1, g2, L, R and pValue\n",
    "results = results[results['pValue']>0.1]"
   ]
  },
  {
   "cell_type": "code",
   "execution_count": null,
   "metadata": {},
   "outputs": [],
   "source": [
    "results"
   ]
  },
  {
   "cell_type": "code",
   "execution_count": null,
   "metadata": {},
   "outputs": [],
   "source": [
    "#calculate the correlation between g1 and g2\n",
    "from scipy.stats import spearmanr \n",
    "results['g1vsg2_correlation'] = 0\n",
    "for index, row in results.iterrows():\n",
    "    g1 = row['g1']\n",
    "    g2 = row['g2']\n",
    "    g1 = g1.replace('_T', '')\n",
    "    g2 = g2.replace('_M', '')\n",
    "    # use the adata_T_pseudo and adata_M_pseudo to get the g1 and g2\n",
    "    g1_T = adata_T_pseudo[:, g1].X\n",
    "    g1_T = pd.DataFrame(g1_T, columns=[g1], index=adata_T_pseudo.obs['sample_id'])\n",
    "    g1_T = g1_T.dropna()\n",
    "    g2_M = adata_M_pseudo[:, g2].X\n",
    "    g2_M = pd.DataFrame(g2_M, columns=[g2], index=adata_M_pseudo.obs['sample_id'])\n",
    "    g2_M = g2_M.dropna()\n",
    "    # make a dataframe g1, g2 and L*R\n",
    "    corr = spearmanr(g1_T, g2_M)[0]\n",
    "    results.loc[index, 'g1vsg2_correlation'] = corr\n",
    "print(results)"
   ]
  },
  {
   "cell_type": "code",
   "execution_count": null,
   "metadata": {},
   "outputs": [],
   "source": [
    "# claculate the correlation between g1 and L\n",
    "results['g1vsL_correlation'] = 0   \n",
    "for index, row in results.iterrows():\n",
    "    g1 = row['g1']\n",
    "    L = row['L']\n",
    "    g1 = g1.replace('_T', '')\n",
    "    # use the adata_T_pseudo and adata_M_pseudo to get the g1 and g2\n",
    "    g1_T = adata_T_pseudo[:, g1].X\n",
    "    g1_T = pd.DataFrame(g1_T, columns=[g1], index=adata_T_pseudo.obs['sample_id'])\n",
    "    g1_T = g1_T.dropna()\n",
    "    L_T = adata_T_pseudo[:, L].X\n",
    "    L_T = pd.DataFrame(L_T, columns=[L], index=adata_T_pseudo.obs['sample_id'])\n",
    "    L_T = L_T.dropna()\n",
    "    # make a dataframe g1, g2 and L*R\n",
    "    corr = spearmanr(g1_T, L_T)[0]\n",
    "    results.loc[index, 'g1vsL_correlation'] = corr\n",
    "\n",
    "# claculate the correlation between g2 and R\n",
    "results['g2vsR_correlation'] = 0\n",
    "for index, row in results.iterrows():\n",
    "    g2 = row['g2']\n",
    "    R = row['R']\n",
    "    g2 = g2.replace('_M', '')\n",
    "    # use the adata_T_pseudo and adata_M_pseudo to get the g1 and g2\n",
    "    g2_M = adata_M_pseudo[:, g2].X\n",
    "    g2_M = pd.DataFrame(g2_M, columns=[g2], index=adata_M_pseudo.obs['sample_id'])\n",
    "    g2_M = g2_M.dropna()\n",
    "    R_M = adata_M_pseudo[:, R].X\n",
    "    R_M = pd.DataFrame(R_M, columns=[R], index=adata_M_pseudo.obs['sample_id'])\n",
    "    R_M = R_M.dropna()\n",
    "    # make a dataframe g1, g2 and L*R\n",
    "    corr = spearmanr(g2_M, R_M)[0]\n",
    "    results.loc[index, 'g2vsR_correlation'] = corr"
   ]
  },
  {
   "cell_type": "code",
   "execution_count": null,
   "metadata": {},
   "outputs": [],
   "source": [
    "# calculate the correlation between g1 and L*R\n",
    "results['g1vsLR_correlation'] = 0\n",
    "for index, row in results.iterrows():\n",
    "    g1 = row['g1']\n",
    "    g2 = row['g2']\n",
    "    L = row['L']\n",
    "    R = row['R']\n",
    "    g1 = g1.replace('_T', '')\n",
    "    g2 = g2.replace('_M', '')\n",
    "    # use the adata_T_pseudo and adata_M_pseudo to get the g1 and g2\n",
    "    g1_T = adata_T_pseudo[:, g1].X\n",
    "    g1_T = pd.DataFrame(g1_T, columns=[g1], index=adata_T_pseudo.obs['sample_id'])\n",
    "    g1_T = g1_T.dropna()\n",
    "    g2_M = adata_M_pseudo[:, g2].X\n",
    "    g2_M = pd.DataFrame(g2_M, columns=[g2], index=adata_M_pseudo.obs['sample_id'])\n",
    "    g2_M = g2_M.dropna()\n",
    "    L_T = adata_T_pseudo[:, L].X\n",
    "    L_T = pd.DataFrame(L_T, columns=[L], index=adata_T_pseudo.obs['sample_id'])\n",
    "    L_T = L_T.dropna()\n",
    "    R_M = adata_M_pseudo[:, R].X\n",
    "    R_M = pd.DataFrame(R_M, columns=[R], index=adata_M_pseudo.obs['sample_id'])\n",
    "    R_M = R_M.dropna()\n",
    "    # calculate the L*R\n",
    "    # Ensure the column names match\n",
    "    L_T.columns = [R+'_vs_'+L]\n",
    "    R_M.columns = L_T.columns\n",
    "\n",
    "    # perform the multiplication and change L_R to 1-dimensional\n",
    "    L_R = L_T.multiply(R_M, axis=0)\n",
    "    L_R = L_R.iloc[:,0]\n",
    "    # make a dataframe g1, g2 and L*R\n",
    "    corr = spearmanr(g1_T, L_R)[0]\n",
    "    results.loc[index, 'g1vsLR_correlation'] = corr\n",
    "\n",
    "# calculate the correlation between g2 and L*R\n",
    "results['g2vsLR_correlation'] = 0\n",
    "for index, row in results.iterrows():\n",
    "    g1 = row['g1']\n",
    "    g2 = row['g2']\n",
    "    L = row['L']\n",
    "    R = row['R']\n",
    "    g1 = g1.replace('_T', '')\n",
    "    g2 = g2.replace('_M', '')\n",
    "    # use the adata_T_pseudo and adata_M_pseudo to get the g1 and g2\n",
    "    g1_T = adata_T_pseudo[:, g1].X\n",
    "    g1_T = pd.DataFrame(g1_T, columns=[g1], index=adata_T_pseudo.obs['sample_id'])\n",
    "    g1_T = g1_T.dropna()\n",
    "    g2_M = adata_M_pseudo[:, g2].X\n",
    "    g2_M = pd.DataFrame(g2_M, columns=[g2], index=adata_M_pseudo.obs['sample_id'])\n",
    "    g2_M = g2_M.dropna()\n",
    "    L_T = adata_T_pseudo[:, L].X\n",
    "    L_T = pd.DataFrame(L_T, columns=[L], index=adata_T_pseudo.obs['sample_id'])\n",
    "    L_T = L_T.dropna()\n",
    "    R_M = adata_M_pseudo[:, R].X\n",
    "    R_M = pd.DataFrame(R_M, columns=[R], index=adata_M_pseudo.obs['sample_id'])\n",
    "    R_M = R_M.dropna()\n",
    "    # calculate the L*R\n",
    "    # Ensure the column names match\n",
    "    L_T.columns = [R+'_vs_'+L]\n",
    "    R_M.columns = L_T.columns\n",
    "\n",
    "    # perform the multiplication and change L_R to 1-dimensional\n",
    "    L_R = L_T.multiply(R_M, axis=0)\n",
    "    L_R = L_R.iloc[:,0]\n",
    "    # make a dataframe g1, g2 and L*R\n",
    "    corr = spearmanr(g2_M, L_R)[0]\n",
    "    results.loc[index, 'g2vsLR_correlation'] = corr\n"
   ]
  },
  {
   "cell_type": "code",
   "execution_count": null,
   "metadata": {},
   "outputs": [],
   "source": [
    "results"
   ]
  },
  {
   "cell_type": "code",
   "execution_count": null,
   "metadata": {},
   "outputs": [],
   "source": [
    "from scipy.stats import spearmanr\n",
    "import statsmodels.api as sm\n",
    "import pandas as pd\n",
    "\n",
    "# Initialize the correlation column in results DataFrame\n",
    "results['g1_residualvsg2_residuals_correlation'] = 0\n",
    "\n",
    "for index, row in results.iterrows():\n",
    "    g1 = row['g1']\n",
    "    g2 = row['g2']\n",
    "    L = row['L']\n",
    "    R = row['R']\n",
    "    g1 = g1.replace('_T', '')\n",
    "    g2 = g2.replace('_M', '')\n",
    "\n",
    "    # Extract the expression data from adata_T_pseudo and adata_M_pseudo\n",
    "    g1_T = adata_T_pseudo[:, g1].X.toarray().flatten()\n",
    "    g2_M = adata_M_pseudo[:, g2].X.toarray().flatten()\n",
    "    L_T = adata_T_pseudo[:, L].X.toarray().flatten()\n",
    "    R_M = adata_M_pseudo[:, R].X.toarray().flatten()\n",
    "\n",
    "    # Ensure the column names match for L and R\n",
    "    L_R = L_T * R_M\n",
    "\n",
    "    # Create DataFrames with g1, g2, and L*R\n",
    "    df_g1 = pd.DataFrame({g1: g1_T, 'L*R': L_R})\n",
    "    df_g2 = pd.DataFrame({g2: g2_M, 'L*R': L_R})\n",
    "    df_g1 = df_g1.dropna()\n",
    "    df_g2 = df_g2.dropna()\n",
    "\n",
    "    # Perform the regression of g1 on L*R to get residuals\n",
    "    X_g1 = sm.add_constant(df_g1['L*R'])  # Add a constant term to the predictor\n",
    "    y_g1 = df_g1[g1]\n",
    "    model_g1 = sm.OLS(y_g1, X_g1).fit()\n",
    "    residuals_g1 = model_g1.resid\n",
    "\n",
    "    # Perform the regression of g2 on L*R to get residuals\n",
    "    X_g2 = sm.add_constant(df_g2['L*R'])  # Add a constant term to the predictor\n",
    "    y_g2 = df_g2[g2]\n",
    "    model_g2 = sm.OLS(y_g2, X_g2).fit()\n",
    "    residuals_g2 = model_g2.resid\n",
    "\n",
    "    # Calculate the correlation between the residuals of g1 and g2\n",
    "    corr = spearmanr(residuals_g1, residuals_g2)[0]\n",
    "\n",
    "    # Update the results DataFrame with the correlation\n",
    "    results.at[index, 'g1_residualvsg2_residuals_correlation'] = corr\n",
    "\n",
    "results\n"
   ]
  },
  {
   "cell_type": "code",
   "execution_count": null,
   "metadata": {},
   "outputs": [],
   "source": [
    "from scipy.stats import spearmanr\n",
    "import statsmodels.api as sm\n",
    "\n",
    "# Initialize the correlation column in results DataFrame\n",
    "results['g1vsresiduals_correlation'] = 0\n",
    "\n",
    "for index, row in results.iterrows():\n",
    "    g1 = row['g1']\n",
    "    g2 = row['g2']\n",
    "    L = row['L']\n",
    "    R = row['R']\n",
    "    g1 = g1.replace('_T', '')\n",
    "    g2 = g2.replace('_M', '')\n",
    "\n",
    "    # Extract the expression data from adata_T_pseudo and adata_M_pseudo\n",
    "    g1_T = adata_T_pseudo[:, g1].X.toarray().flatten()\n",
    "    g2_M = adata_M_pseudo[:, g2].X.toarray().flatten()\n",
    "    L_T = adata_T_pseudo[:, L].X.toarray().flatten()\n",
    "    R_M = adata_M_pseudo[:, R].X.toarray().flatten()\n",
    "\n",
    "    # Ensure the column names match for L and R\n",
    "    L_R = L_T * R_M\n",
    "\n",
    "    # Create a DataFrame with g1, g2, and L*R\n",
    "    df = pd.DataFrame({g1: g1_T, g2: g2_M, 'L*R': L_R})\n",
    "    df = df.dropna()\n",
    "\n",
    "    # Perform the regression of g2 on L*R to get residuals\n",
    "    X = sm.add_constant(df['L*R'])  # Add a constant term to the predictor\n",
    "    y = df[g2]\n",
    "    model = sm.OLS(y, X).fit()\n",
    "    residuals = model.resid\n",
    "\n",
    "    # Calculate the correlation between g1 and residuals\n",
    "    corr = spearmanr(df[g1], residuals)[0]\n",
    "\n",
    "    # Update the results DataFrame with the correlation\n",
    "    results.at[index, 'g1vsresiduals_correlation'] = corr\n",
    "\n",
    "results\n"
   ]
  },
  {
   "cell_type": "code",
   "execution_count": null,
   "metadata": {},
   "outputs": [],
   "source": [
    "results.to_excel('/home/qiuaodon/Desktop/project_data_new/CIT_results_CD4EXvsFirbo.xlsx')"
   ]
  },
  {
   "cell_type": "code",
   "execution_count": null,
   "metadata": {},
   "outputs": [],
   "source": [
    "# change all the names with _M to _Fibro\n",
    "results['g2'] = results['g2'].str.replace('_M', '_Fibro')\n"
   ]
  },
  {
   "cell_type": "code",
   "execution_count": null,
   "metadata": {},
   "outputs": [],
   "source": [
    "# read in results\n",
    "results = pd.read_excel('/home/qiuaodon/Desktop/project_data_new/CIT_results_CD4EXvsM.xlsx')"
   ]
  },
  {
   "cell_type": "markdown",
   "metadata": {},
   "source": [
    "#### draw heatmap"
   ]
  },
  {
   "cell_type": "code",
   "execution_count": null,
   "metadata": {},
   "outputs": [],
   "source": [
    "top_genes_M = [\n",
    "    'RNF144B',\n",
    "    'SLC1A3',\n",
    "    \n",
    "    'TNFAIP3',\n",
    "    'CH25H',\n",
    "    'FKBP5',\n",
    "    'CLN8',\n",
    "    'GRASP',\n",
    "    'SMIM3',\n",
    "    'DUSP6',\n",
    "    'HIST1H4H'\n",
    "]\n",
    "top_genes_T = [\n",
    "    'CH25H',\n",
    "    'TSC22D3',\n",
    "    'TNFAIP3',\n",
    "    'BIRC3',\n",
    "    'SPON2',\n",
    "    'ZFP36',\n",
    "    'SLA',\n",
    "    'ZFP36',\n",
    "    'TXNIP',\n",
    "    'IER2',\n",
    "    'KLF10'\n",
    "]"
   ]
  },
  {
   "cell_type": "code",
   "execution_count": null,
   "metadata": {},
   "outputs": [],
   "source": [
    "import seaborn as sns\n",
    "import scipy.stats as stats\n",
    "from scipy.stats import spearmanr \n",
    "# Remove the sample_id that are not in the adata_T_pseudo\n",
    "adata_M_pseudo = adata_M_pseudo[adata_M_pseudo.obs['sample_id'].isin(adata_T_pseudo.obs['sample_id'])]\n",
    "adata_T_pseudo = adata_T_pseudo[adata_T_pseudo.obs['sample_id'].isin(adata_M_pseudo.obs['sample_id'])]\n",
    "\n",
    "# Initialize an empty matrix to store the correlation values\n",
    "corr_matrix = np.zeros((len(top_genes_T), len(top_genes_M)))\n",
    "pval_matrix = np.zeros((len(top_genes_T), len(top_genes_M)))\n",
    "\n",
    "# Calculate the correlation between the top genes of T and M cells\n",
    "for i, gene_T in enumerate(top_genes_T):\n",
    "    for j, gene_M in enumerate(top_genes_M):\n",
    "        # remove the '_T' and '_M' from the gene names\n",
    "        gene_T = gene_T.replace('_T', '')\n",
    "        gene_M = gene_M.replace('_M', '')\n",
    "        # Get the expression data of the two genes and flatten them to 1D arrays\n",
    "        gene_T_expression = adata_T_pseudo[:, adata_T_pseudo.var_names == gene_T].X.flatten()\n",
    "        gene_M_expression = adata_M_pseudo[:, adata_M_pseudo.var_names == gene_M].X.flatten()\n",
    "        \n",
    "        # Calculate the correlation\n",
    "        corr, pval = spearmanr(gene_T_expression, gene_M_expression)\n",
    "        \n",
    "        # Store the correlation value in the matrix\n",
    "        corr_matrix[i, j] = corr\n",
    "        pval_matrix[i, j] = -np.log10(pval)\n",
    "\n",
    "\n",
    "# Plot the correlation matrix as a heatmap\n",
    "plt.figure(figsize=(10, 8))\n",
    "sns.heatmap(corr_matrix, annot=False, cmap='coolwarm', vmin=-1, vmax=1,\n",
    "            xticklabels=top_genes_M, yticklabels=top_genes_T)\n",
    "plt.title('Correlation between Highly Correlated Genes of CD4EX and M')\n",
    "plt.xlabel('M Genes')\n",
    "plt.ylabel('CD4EX Genes')\n",
    "plt.show()"
   ]
  },
  {
   "cell_type": "code",
   "execution_count": null,
   "metadata": {},
   "outputs": [],
   "source": [
    "\n",
    "# Plotting the heatmap with correlation values\n",
    "plt.figure(figsize=(12, 10))\n",
    "heatmap = sns.heatmap(corr_matrix, cmap='coolwarm', vmin=-1, vmax=1,\n",
    "                      xticklabels=top_genes_M, yticklabels=top_genes_T,\n",
    "                      annot=False)  # Turn off default annotation\n",
    "\n",
    "# Overlaying the correlation values and -log10 of p-values\n",
    "for i in range(corr_matrix.shape[0]):\n",
    "    for j in range(corr_matrix.shape[1]):\n",
    "        plt.text(j + 0.5, i + 0.5, f'{corr_matrix[i, j]:.2f}\\n({pval_matrix[i, j]:.2f})',\n",
    "                 horizontalalignment='center', verticalalignment='center', fontsize=11, color='black' if abs(corr_matrix[i, j]) > 0.5 else 'black')\n",
    "\n",
    "plt.title('Correlation between Top DEGs of CD4EX and M')\n",
    "plt.xlabel('M Genes')\n",
    "plt.ylabel('CD4EX Genes')\n",
    "plt.show()"
   ]
  },
  {
   "cell_type": "code",
   "execution_count": null,
   "metadata": {},
   "outputs": [],
   "source": [
    "colors = [\"grey\", \"blue\"]  # Start with grey and end with blue\n",
    "cmap = mcolors.LinearSegmentedColormap.from_list(\"grey_to_blue\", colors)\n"
   ]
  },
  {
   "cell_type": "code",
   "execution_count": null,
   "metadata": {},
   "outputs": [],
   "source": [
    "sc.pl.umap(adata_CD4EX, color = ['SPON2', 'SELL'], color_map = cmap)"
   ]
  },
  {
   "cell_type": "code",
   "execution_count": null,
   "metadata": {},
   "outputs": [],
   "source": [
    "sc.pl.umap(adata_M, color = ['FKBP5', 'MADCAM1'], color_map = cmap)"
   ]
  },
  {
   "cell_type": "code",
   "execution_count": null,
   "metadata": {},
   "outputs": [],
   "source": [
    "sc.pl.umap(adata_CD4EX, color = 'timepoint')\n",
    "sc.pl.umap(adata_M, color = 'timepoint')"
   ]
  },
  {
   "cell_type": "markdown",
   "metadata": {},
   "source": [
    "#### plot the scatter plots\n"
   ]
  },
  {
   "cell_type": "code",
   "execution_count": null,
   "metadata": {},
   "outputs": [],
   "source": [
    "import pandas as pd\n",
    "import seaborn as sns\n",
    "import matplotlib.pyplot as plt\n",
    "import statsmodels.api as sm\n",
    "from scipy.stats import spearmanr\n",
    "\n",
    "def plot_CIT_DEGcorr(g1, g2, L, R, DEG_exp, pseudo_1, pseudo_2):\n",
    "    # Define a custom palette\n",
    "    palette = {'pre': \"#E69F00\", 'on': \"#56B4E9\"}\n",
    "    #replace the treatment column 0 pre and 1 on\n",
    "    gene_df['treatment'] = gene_df['treatment'].replace({0: 'pre', 1: 'on'})\n",
    "    # Set font sizes\n",
    "    title_fontsize = 14\n",
    "    axis_fontsize = 14\n",
    "    legend_fontsize = 12\n",
    "\n",
    "    def adjust_plot_limits(ax, x_data, y_data):\n",
    "        x_min, x_max = x_data.min(), x_data.max()\n",
    "        y_min, y_max = y_data.min(), y_data.max()\n",
    "        x_padding = (x_max - x_min) * 0.1\n",
    "        y_padding = (y_max - y_min) * 0.1\n",
    "        ax.set_xlim(x_min - x_padding, x_max + x_padding)\n",
    "        ax.set_ylim(y_min - y_padding, y_max + y_padding)\n",
    "\n",
    "    # Plot the jointplot between DEG of g1 and g2\n",
    "    g1_exp = DEG_exp[g1]\n",
    "    g2_exp = DEG_exp[g2]\n",
    "    df1 = pd.DataFrame({g1: g1_exp, g2: g2_exp, 'treatment': DEG_exp['treatment']})\n",
    "    df1 = df1.dropna()\n",
    "    g = sns.jointplot(x=g1, y=g2, data=df1, hue='treatment', palette=palette, kind='scatter', marginal_kws=dict(fill=True))\n",
    "    sns.regplot(x=g1, y=g2, data=df1, scatter=False, ax=g.ax_joint, color='black')\n",
    "    adjust_plot_limits(g.ax_joint, df1[g1], df1[g2])\n",
    "    \n",
    "    g.ax_joint.tick_params(left=False, bottom=False)\n",
    "    g.ax_marg_x.tick_params(bottom=False)\n",
    "    g.ax_marg_y.tick_params(left=False)\n",
    "    cor = spearmanr(df1[g1], df1[g2])[0]\n",
    "    plt.suptitle(f'Correlation between {g1} and {g2} is {cor:.3f}', fontsize=title_fontsize)\n",
    "    plt.subplots_adjust(top=0.95)\n",
    "    plt.show()\n",
    "\n",
    "     # Plot the jointplot between DEG of g1 and g2 residue\n",
    "    L_values = pseudo_1[:, L].X.toarray().flatten()\n",
    "    R_values = pseudo_2[:, R].X.toarray().flatten()\n",
    "    L_R = L_values * R_values\n",
    "    X = sm.add_constant(L_R)\n",
    "\n",
    "    # Fit OLS model for g2\n",
    "    model_g2 = sm.OLS(g2_exp, X).fit()\n",
    "    residuals_g2 = model_g2.resid\n",
    "\n",
    "    # Fit OLS model for g1\n",
    "    model_g1 = sm.OLS(g1_exp, X).fit()\n",
    "    residuals_g1 = model_g1.resid\n",
    "\n",
    "    #   Create DataFrame for residuals\n",
    "    df_res = pd.DataFrame({\n",
    "        'G_1_residual': residuals_g1,\n",
    "        'G_2_residual': residuals_g2,\n",
    "        'treatment': DEG_exp['treatment']\n",
    "    })\n",
    "\n",
    "    # Plot the residuals\n",
    "    g = sns.jointplot(x='G_1_residual', y='G_2_residual', data=df_res, hue='treatment', palette=palette, kind='scatter', marginal_kws=dict(fill=True))\n",
    "    sns.regplot(x='G_1_residual', y='G_2_residual', data=df_res, scatter=False, ax=g.ax_joint, color='black')\n",
    "\n",
    "    # Adjust plot limits if needed\n",
    "    adjust_plot_limits(g.ax_joint, df_res['G_1_residual'], df_res['G_2_residual'])\n",
    "\n",
    "    # Customize plot appearance\n",
    "    g.ax_joint.tick_params(left=False, bottom=False)\n",
    "    g.ax_marg_x.tick_params(bottom=False)\n",
    "    g.ax_marg_y.tick_params(left=False)\n",
    "\n",
    "    # Calculate and display correlation\n",
    "    corr_res = spearmanr(df_res['G_1_residual'], df_res['G_2_residual'])[0]\n",
    "    plt.suptitle(f'Correlation between residuals of G_1 and G_2 is {corr_res:.3f}', fontsize=title_fontsize)\n",
    "    plt.subplots_adjust(top=0.95)\n",
    "    plt.show()\n",
    "\n",
    "\n",
    "    # Plot the jointplot between DEG of g1 and L\n",
    "    L_exp = pseudo_1[:, L].X.toarray().flatten()\n",
    "    L_exp = pd.DataFrame(L_exp, columns=[L], index=pseudo_1.obs['sample_id'])\n",
    "    df2 = pd.DataFrame({g1: g1_exp, L: L_exp.iloc[:, 0], 'treatment': DEG_exp['treatment']})\n",
    "    df2 = df2.dropna()\n",
    "    g = sns.jointplot(x=g1, y=L, data=df2, hue='treatment', palette=palette, kind='scatter', marginal_kws=dict(fill=True))\n",
    "    sns.regplot(x=g1, y=L, data=df2, scatter=False, ax=g.ax_joint, color='black')\n",
    "    adjust_plot_limits(g.ax_joint, df2[g1], df2[L])\n",
    "    g.ax_joint.tick_params(left=False, bottom=False)\n",
    "    g.ax_marg_x.tick_params(bottom=False)\n",
    "    g.ax_marg_y.tick_params(left=False)\n",
    "    corr2 = spearmanr(df2[g1], df2[L])[0]\n",
    "    plt.suptitle(f'Correlation between {g1} and {L} is {corr2:.3f}', fontsize=title_fontsize)\n",
    "    plt.subplots_adjust(top=0.95)\n",
    "    plt.show()\n",
    "\n",
    "    # Plot the jointplot between DEG of R and g2\n",
    "    R_exp = pseudo_2[:, R].X.toarray().flatten()\n",
    "    R_exp = pd.DataFrame(R_exp, columns=[R], index=pseudo_2.obs['sample_id'])\n",
    "    df4 = pd.DataFrame({R: R_exp.iloc[:, 0], g2: g2_exp, 'treatment': DEG_exp['treatment']})\n",
    "    df4 = df4.dropna()\n",
    "    g = sns.jointplot(x=R, y=g2, data=df4, hue='treatment', palette=palette, kind='scatter', marginal_kws=dict(fill=True))\n",
    "    sns.regplot(x=R, y=g2, data=df4, scatter=False, ax=g.ax_joint, color='black')\n",
    "    adjust_plot_limits(g.ax_joint, df4[R], df4[g2])\n",
    "    g.ax_joint.tick_params(left=False, bottom=False)\n",
    "    g.ax_marg_x.tick_params(bottom=False)\n",
    "    g.ax_marg_y.tick_params(left=False)\n",
    "    corr4 = spearmanr(df4[R], df4[g2])[0]\n",
    "    plt.suptitle(f'Correlation between {R} and {g2} is {corr4:.3f}', fontsize=title_fontsize)\n",
    "    plt.subplots_adjust(top=0.95)\n",
    "    plt.show()\n",
    "\n",
    "    # # Plot the jointplot between DEG of g1 and g2 residue\n",
    "    # L_values = pseudo_1[:, L].X.toarray().flatten()\n",
    "    # R_values = pseudo_2[:, R].X.toarray().flatten()\n",
    "    # L_R = L_values * R_values\n",
    "    # X = sm.add_constant(L_R)\n",
    "    # model = sm.OLS(g2_exp, X).fit()\n",
    "    # residue = model.resid\n",
    "    # df_res = pd.DataFrame({g1: g1_exp, 'residue': residue, 'treatment': DEG_exp['treatment']})\n",
    "    # g = sns.jointplot(x=g1, y='residue', data=df_res, hue='treatment', palette=palette, kind='scatter', marginal_kws=dict(fill=True))\n",
    "    # sns.regplot(x=g1, y='residue', data=df_res, scatter=False, ax=g.ax_joint, color='black')\n",
    "    # adjust_plot_limits(g.ax_joint, df_res[g1], df_res['residue'])\n",
    "    # g.ax_joint.tick_params(left=False, bottom=False)\n",
    "    # g.ax_marg_x.tick_params(bottom=False)\n",
    "    # g.ax_marg_y.tick_params(left=False)\n",
    "    # corr_res = spearmanr(df_res[g1], df_res['residue'])[0]\n",
    "    # plt.suptitle(f'Correlation between {g1} and residue of {g2} is {corr_res:.3f}', fontsize=title_fontsize)\n",
    "    # plt.subplots_adjust(top=0.95)\n",
    "    # plt.show()\n",
    "\n",
    "    # Plot the jointplot between g1 and L*R\n",
    "    df3 = pd.DataFrame({g1: g1_exp, L + '*' + R: L_R, 'treatment': DEG_exp['treatment']})\n",
    "    df3 = df3.dropna()\n",
    "     # remove the sample with largest number for L*R\n",
    "    # df3 = df3[df3[L + '*' + R] != df3[L + '*' + R].max()]\n",
    "    g = sns.jointplot(x=g1, y=L + '*' + R, data=df3, hue='treatment', palette=palette, kind='scatter', marginal_kws=dict(fill=True))\n",
    "    sns.regplot(x=g1, y=L + '*' + R, data=df3, scatter=False, ax=g.ax_joint, color='black')\n",
    "    adjust_plot_limits(g.ax_joint, df3[g1], df3[L + '*' + R])\n",
    "    g.ax_joint.tick_params(left=False, bottom=False)\n",
    "    g.ax_marg_x.tick_params(bottom=False)\n",
    "    g.ax_marg_y.tick_params(left=False)\n",
    "    corr3 = spearmanr(df3[g1], df3[L + '*' + R])[0]\n",
    "    plt.suptitle(f'Correlation between {g1} and {L}*{R} is {corr3:.3f}', fontsize=title_fontsize)\n",
    "    plt.subplots_adjust(top=0.95)\n",
    "    plt.show()\n",
    "\n",
    "    # Plot the jointplot between g2 and L*R\n",
    "    df5 = pd.DataFrame({g2: g2_exp, L + '*' + R: L_R, 'treatment': DEG_exp['treatment']})\n",
    "    df5 = df5.dropna()\n",
    "    # df5 = df5[df5[L + '*' + R] != df5[L + '*' + R].max()]\n",
    "    g = sns.jointplot(x=L + '*' + R, y=g2, data=df5, hue='treatment', palette=palette, kind='scatter', marginal_kws=dict(fill=True))\n",
    "    sns.regplot(x=L + '*' + R, y=g2, data=df5, scatter=False, ax=g.ax_joint, color='black')\n",
    "    adjust_plot_limits(g.ax_joint, df5[L + '*' + R], df5[g2])\n",
    "    # remove the sample with largest number for L*R\n",
    "    g.ax_joint.tick_params(left=False, bottom=False)\n",
    "    g.ax_marg_x.tick_params(bottom=False)\n",
    "    g.ax_marg_y.tick_params(left=False)\n",
    "    corr5 = spearmanr(df5[g2], df5[L + '*' + R])[0]\n",
    "    plt.suptitle(f'Correlation between {g2} and {L}*{R} is {corr5:.3f}', fontsize=title_fontsize)\n",
    "    plt.subplots_adjust(top=0.95)\n",
    "    plt.show()\n",
    "\n",
    "\n",
    "   \n",
    "\n"
   ]
  },
  {
   "cell_type": "code",
   "execution_count": null,
   "metadata": {},
   "outputs": [],
   "source": [
    "plot_CIT_DEGcorr('CH25H_T', 'SMIM3_M', 'MPZ', 'MPZ', gene_df, adata_T_pseudo, adata_M_pseudo)"
   ]
  }
 ],
 "metadata": {
  "kernelspec": {
   "display_name": "base",
   "language": "python",
   "name": "python3"
  },
  "language_info": {
   "codemirror_mode": {
    "name": "ipython",
    "version": 3
   },
   "file_extension": ".py",
   "mimetype": "text/x-python",
   "name": "python",
   "nbconvert_exporter": "python",
   "pygments_lexer": "ipython3",
   "version": "3.11.5"
  }
 },
 "nbformat": 4,
 "nbformat_minor": 2
}
