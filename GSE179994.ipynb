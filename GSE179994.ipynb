{
 "cells": [
  {
   "attachments": {},
   "cell_type": "markdown",
   "metadata": {},
   "source": [
    "# GSE179994 scRNA Data Preprocessing\n",
    "\n",
    "This dataset is from:\n",
    "\t\n",
    "Liu B, Hu X, Feng K, Gao R et al. Temporal single-cell tracing reveals clonal revival and expansion of precursor exhausted T cells during anti-PD-1 therapy in lung cancer. Nat Cancer 2022 Jan;3(1):108-121. PMID: 35121991\n"
   ]
  },
  {
   "cell_type": "code",
   "execution_count": null,
   "metadata": {},
   "outputs": [],
   "source": [
    "import numpy as np\n",
    "import matplotlib.pyplot as plt\n",
    "import pandas as pd\n",
    "import scanpy as sc\n",
    "import scipy.io as sio\n",
    "import anndata as ad\n",
    "import os as os\n",
    "import seaborn as sns\n",
    "import sys as sys\n",
    "sys.path.append('/home/xinghua/projects/PanCancer_scRNA_analysis/utils')\n",
    "from scRNA_utils import *\n"
   ]
  },
  {
   "attachments": {},
   "cell_type": "markdown",
   "metadata": {},
   "source": [
    "### Read in data matrix and combine with meta-data"
   ]
  },
  {
   "cell_type": "code",
   "execution_count": null,
   "metadata": {},
   "outputs": [],
   "source": [
    "### Read in data in H5AD format\n",
    "data_dir = \"/data/ICI_exprs/GSE179994/\"\n",
    "data_file =  data_dir + 'GSE179994_all.Tcell.rawCounts.h5ad'\n",
    "\n",
    "adata = sc.read_h5ad(data_file)\n",
    "\n",
    "print (\"Read in dataset with dimension: \" + str(adata.shape))"
   ]
  },
  {
   "cell_type": "code",
   "execution_count": null,
   "metadata": {},
   "outputs": [],
   "source": [
    "# read in the csv meta-data\n",
    "meta_file_pathname = data_dir + \"GSE179994_Tcell.metadata.tsv.gz\"\n",
    "meta = pd.read_csv(meta_file_pathname, sep=\"\\t\", header = 0, index_col = 0)"
   ]
  },
  {
   "cell_type": "code",
   "execution_count": null,
   "metadata": {},
   "outputs": [],
   "source": [
    "meta.columns"
   ]
  },
  {
   "cell_type": "code",
   "execution_count": null,
   "metadata": {},
   "outputs": [],
   "source": [
    "# rename 'sample' to 'sample_id'\n",
    "meta = meta.rename(columns = {'sample':'sample_id'})\n",
    "meta.loc[:,'sample_id'].unique()"
   ]
  },
  {
   "cell_type": "code",
   "execution_count": null,
   "metadata": {},
   "outputs": [],
   "source": [
    "adata.obs = meta\n",
    "\n",
    "# swap column name of patient to patient_id\n",
    "adata.obs = adata.obs.rename(columns = {'patient':'patient_id'})\n",
    "print(adata.obs['patient_id'].unique())\n",
    "print(\"Total number of patients: \" + str(len(adata.obs['patient_id'].unique())))"
   ]
  },
  {
   "cell_type": "code",
   "execution_count": null,
   "metadata": {},
   "outputs": [],
   "source": [
    "# extract treatment time point from sample by splitting with '.'\n",
    "timepoint = [x.split('.')[1] for x in adata.obs['sample_id']]\n",
    "adata.obs['timepoint'] = timepoint\n",
    "print(adata.obs['timepoint'].unique())\n",
    "# replace 'post' with 'on' for consistency\n",
    "adata.obs['timepoint'] = adata.obs['timepoint'].replace('post','on')\n",
    "# make 'timepoint' lowercase\n",
    "adata.obs['timepoint'] = adata.obs['timepoint'].str.lower()\n",
    "print(adata.obs['timepoint'].unique())"
   ]
  },
  {
   "attachments": {},
   "cell_type": "markdown",
   "metadata": {},
   "source": [
    "## Create a pseudo-bulk dataset before any other preprocessing"
   ]
  },
  {
   "cell_type": "code",
   "execution_count": null,
   "metadata": {},
   "outputs": [],
   "source": [
    "df_pseudo_bulk = pd.DataFrame(index = adata.obs['sample'].unique(), columns = adata.var.index)\n",
    "df_pseudo_bulk.shape"
   ]
  },
  {
   "cell_type": "code",
   "execution_count": null,
   "metadata": {},
   "outputs": [],
   "source": [
    "# group cells according to sample\n",
    "for sample in adata.obs['sample'].unique():\n",
    "    tmp = adata.X[adata.obs['sample'] == sample, :].sum(axis = 0)\n",
    "    tmp = tmp / sum(tmp) * 1000000\n",
    "    df_pseudo_bulk.loc[sample,:] = np.log2(tmp + 1)"
   ]
  },
  {
   "cell_type": "code",
   "execution_count": null,
   "metadata": {},
   "outputs": [],
   "source": [
    "adata_pseudo_bulk = ad.AnnData(df_pseudo_bulk, obs=pd.DataFrame(index = df_pseudo_bulk.index), var=pd.DataFrame(index = df_pseudo_bulk.columns))"
   ]
  },
  {
   "attachments": {},
   "cell_type": "markdown",
   "metadata": {},
   "source": [
    "## 1. Basic Filtering"
   ]
  },
  {
   "cell_type": "code",
   "execution_count": null,
   "metadata": {},
   "outputs": [],
   "source": [
    "sc.settings.verbosity = 3            # verbosity: errors (0), warnings (1), info (2), hints (3)\n",
    "sc.logging.print_header()\n",
    "sc.settings.set_figure_params(dpi=80, facecolor='white')"
   ]
  },
  {
   "attachments": {},
   "cell_type": "markdown",
   "metadata": {},
   "source": [
    "#### Removing cells expressing <500 || >5000 genes:"
   ]
  },
  {
   "cell_type": "code",
   "execution_count": null,
   "metadata": {},
   "outputs": [],
   "source": [
    "# removing cells expressing <500 || >5000 genes\n",
    "sc.pp.filter_cells(adata, min_genes=500)\n",
    "sc.pp.filter_cells(adata, max_genes=5000)"
   ]
  },
  {
   "cell_type": "code",
   "execution_count": null,
   "metadata": {},
   "outputs": [],
   "source": [
    "print ('Dimention of adata: ' + str(adata.shape))\n",
    "print ('columns for adata.obs: ' + str(adata.obs.columns))"
   ]
  },
  {
   "attachments": {},
   "cell_type": "markdown",
   "metadata": {},
   "source": [
    "#### Removing cells containing <400 || >25000 UMIs:"
   ]
  },
  {
   "cell_type": "code",
   "execution_count": null,
   "metadata": {},
   "outputs": [],
   "source": [
    "# removing cells containing <400 || >25000 UMIs\n",
    "sc.pp.filter_cells(adata, min_counts = 400)\n",
    "sc.pp.filter_cells(adata, max_counts = 25000)"
   ]
  },
  {
   "cell_type": "code",
   "execution_count": null,
   "metadata": {},
   "outputs": [],
   "source": [
    "print ('Dimention of adata: ' + str(adata.shape))\n",
    "print ('columns for adata.obs: ' + str(adata.obs.columns))"
   ]
  },
  {
   "attachments": {},
   "cell_type": "markdown",
   "metadata": {},
   "source": [
    "# Preprecess with respect to gene (var)\n",
    "#### Removing genes covered by <3 cells per sample\n"
   ]
  },
  {
   "cell_type": "code",
   "execution_count": null,
   "metadata": {},
   "outputs": [],
   "source": [
    "# removing genes covered by <3 cells\n",
    "sc.pp.filter_genes(adata, min_cells= 10)\n",
    "adata.var_names_make_unique()\n",
    "adata.shape"
   ]
  },
  {
   "attachments": {},
   "cell_type": "markdown",
   "metadata": {},
   "source": [
    "### Remove cells with high percentage of mitochondrial genes"
   ]
  },
  {
   "cell_type": "code",
   "execution_count": null,
   "metadata": {},
   "outputs": [],
   "source": [
    "# label genes as mt\n",
    "adata.var['mt'] = adata.var_names.str.startswith('MT-')  \n",
    "\n",
    "# annotate cells with the percent of genes assigned as mt\n",
    "sc.pp.calculate_qc_metrics(adata, qc_vars=['mt'], percent_top=None, log1p=False, inplace=True)\n",
    "\n",
    "# Here we keep cells with < 20% mito ratio\n",
    "adata = adata[adata.obs['pct_counts_mt'] < 20, :]\n",
    "adata.shape"
   ]
  },
  {
   "attachments": {},
   "cell_type": "markdown",
   "metadata": {},
   "source": [
    "Plot statistics regarding cells"
   ]
  },
  {
   "cell_type": "code",
   "execution_count": null,
   "metadata": {},
   "outputs": [],
   "source": [
    "sc.pl.violin(adata, ['n_genes_by_counts', 'total_counts', 'pct_counts_mt'],\n",
    "             jitter=0.0, multi_panel=True)"
   ]
  },
  {
   "attachments": {},
   "cell_type": "markdown",
   "metadata": {},
   "source": [
    "## 2. Integrating Samples"
   ]
  },
  {
   "attachments": {},
   "cell_type": "markdown",
   "metadata": {},
   "source": [
    "#### Normalization & Logarithmization:"
   ]
  },
  {
   "cell_type": "code",
   "execution_count": null,
   "metadata": {},
   "outputs": [],
   "source": [
    "# Log normalization scaled up to 10000\n",
    "print('Before normalization, the sum of first row of X: ' + str(adata.X[0,:].sum()))\n",
    "sc.pp.normalize_total(adata, target_sum=1e4)\n",
    "print('After normalization, the sum of first row of X: ' + str(adata.X[0,:].sum()))\n"
   ]
  },
  {
   "cell_type": "code",
   "execution_count": null,
   "metadata": {},
   "outputs": [],
   "source": [
    "print('Before log, the sum of first row of X: ' + str(adata.X[0,:].sum()))\n",
    "# Logarithmize adata\n",
    "sc.pp.log1p(adata, base=2)\n",
    "print('After log, the sum of first row of X: ' + str(adata.X[0,:].sum()))"
   ]
  },
  {
   "attachments": {},
   "cell_type": "markdown",
   "metadata": {},
   "source": [
    "### load cell cycle markers and score cells for cell cycle\n",
    "\n",
    "The question is whether this step is necessary for our study. We are trying to look for genes expression modules (GEMs).  Cell cycel is an important component of cellular signaling, thus removing its signal distorts the cellular states.  \n",
    "\n",
    "Afterall, it seems to introduce 'Inf' to data which prevent the following steps."
   ]
  },
  {
   "attachments": {},
   "cell_type": "markdown",
   "metadata": {},
   "source": [
    "## Save a pre-process version of the data"
   ]
  },
  {
   "cell_type": "code",
   "execution_count": null,
   "metadata": {},
   "outputs": [],
   "source": [
    "# write current adata to h5ad\n",
    "adata.write(data_dir + 'GSE179994_all.Tcell.rawCounts.h5ad_filtered.h5ad')"
   ]
  },
  {
   "cell_type": "code",
   "execution_count": null,
   "metadata": {},
   "outputs": [],
   "source": [
    "# read in 'GSE179994_all.Tcell.rawCounts.h5ad_filtered.h5ad'\n",
    "adata = sc.read_h5ad(data_dir + 'GSE179994_all.Tcell.rawCounts.h5ad_filtered.h5ad')"
   ]
  },
  {
   "attachments": {},
   "cell_type": "markdown",
   "metadata": {},
   "source": [
    "## Keep high variance genes "
   ]
  },
  {
   "cell_type": "code",
   "execution_count": null,
   "metadata": {},
   "outputs": [],
   "source": [
    "sc.pp.highly_variable_genes(adata,n_top_genes = 2000)\n",
    "#sc.pp.highly_variable_genes(adata, min_mean=0.0125, max_mean=3, min_disp=0.5, subset=True)\n",
    "sc.pl.highly_variable_genes(adata)"
   ]
  },
  {
   "attachments": {},
   "cell_type": "markdown",
   "metadata": {},
   "source": [
    "### Keep track of original adata and update adata.X to  high variance genes only"
   ]
  },
  {
   "cell_type": "code",
   "execution_count": null,
   "metadata": {},
   "outputs": [],
   "source": [
    "adata.raw = adata\n",
    "adata = adata[:, adata.var.highly_variable]\n",
    "print('adata dimensions of high variance genes: ' + str(adata.shape))"
   ]
  },
  {
   "attachments": {},
   "cell_type": "markdown",
   "metadata": {},
   "source": [
    "## 3. Unsupervised cell clustering & identification of major cell types"
   ]
  },
  {
   "cell_type": "code",
   "execution_count": null,
   "metadata": {},
   "outputs": [],
   "source": [
    "# perform PCA   \n",
    "sc.tl.pca(adata, svd_solver='arpack', n_comps=50)"
   ]
  },
  {
   "cell_type": "code",
   "execution_count": null,
   "metadata": {},
   "outputs": [],
   "source": [
    "print(adata.obsm['X_pca'].shape)\n",
    "print(adata.varm['PCs'].shape)\n",
    "print(adata.uns['pca']['variance_ratio'].shape)\n",
    "print(adata.obs.columns)"
   ]
  },
  {
   "cell_type": "code",
   "execution_count": null,
   "metadata": {},
   "outputs": [],
   "source": [
    "sc.pp.neighbors(adata, n_neighbors=80, n_pcs=50)"
   ]
  },
  {
   "cell_type": "code",
   "execution_count": null,
   "metadata": {},
   "outputs": [],
   "source": [
    "# Use the Leiden algorithm to find clusters\n",
    "sc.tl.leiden(adata, resolution=0.5)\n"
   ]
  },
  {
   "cell_type": "code",
   "execution_count": null,
   "metadata": {},
   "outputs": [],
   "source": [
    "# load/find cell cycle markers: T-test/T-cells\n",
    "sc.tl.rank_genes_groups(adata, 'leiden', method='t-test')\n",
    "sc.pl.rank_genes_groups(adata, n_genes=25, sharey=False)"
   ]
  },
  {
   "cell_type": "code",
   "execution_count": null,
   "metadata": {},
   "outputs": [],
   "source": [
    "adata.obs.columns"
   ]
  },
  {
   "attachments": {},
   "cell_type": "markdown",
   "metadata": {},
   "source": [
    "## 3. Unsupervised cell clustering & identification of major cell types"
   ]
  },
  {
   "cell_type": "code",
   "execution_count": null,
   "metadata": {},
   "outputs": [],
   "source": [
    "# perform UMAP\n",
    "sc.tl.umap(adata)\n",
    "sc.pl.umap(adata, color='leiden',legend_loc='on data')\n",
    "\n"
   ]
  },
  {
   "attachments": {},
   "cell_type": "markdown",
   "metadata": {},
   "source": [
    "# find the high rank genes as markers for each cluster"
   ]
  },
  {
   "cell_type": "code",
   "execution_count": null,
   "metadata": {},
   "outputs": [],
   "source": [
    "# find marker genes of each cluster\n",
    "sc.tl.rank_genes_groups(adata, 'leiden', method='wilcoxon')"
   ]
  },
  {
   "attachments": {},
   "cell_type": "markdown",
   "metadata": {},
   "source": [
    "sc.pl.umap(adata, color='clusters', legend_loc='on data')"
   ]
  },
  {
   "attachments": {},
   "cell_type": "markdown",
   "metadata": {},
   "source": [
    "### Label TNK subtypes"
   ]
  },
  {
   "cell_type": "code",
   "execution_count": null,
   "metadata": {},
   "outputs": [],
   "source": [
    "T_cell_makers = {\n",
    "    'CD4'\t: ['CD4', 'IL7R'],\n",
    "    'CD8'\t: [ 'CD8A', 'CD8B'],\n",
    "    'Naïve'\t: ['TCF7', 'SELL', 'LEF1', 'CCR7'],\n",
    "    'Exhausted' : ['LAG3', 'TIGIT', 'PDCD1', 'HAVCR2', 'CTLA4'],\n",
    "    'Cytotoxic' : ['IL2', 'GZMA', 'GNLY', 'PRF1', 'GZMB', 'GZMK', 'IFNG', 'NKG7'],\n",
    "    'Treg' : ['IL2RA', 'FOXP3', 'IKZF2', 'IKZF4',  'TNFRSF18'],\n",
    "    'Th17' : ['IL17A',  'CCR6', 'KLRB1'],  #'IL22',\n",
    "    'MAIT' : ['SLC4A10', 'KLRB1', 'IL7R', 'DPP4'],  \n",
    "    'ILC' :\t['KIT', 'IL1R1'],\n",
    "    'Th1' :\t['STAT4', 'IL12RB2', 'IFNG'],\n",
    "    'Th2' :\t['GATA3', 'STAT6', 'IL4'],\n",
    "    'Tfh'\t: ['MAF', 'CXCL13', 'CXCR5', 'PDCD1'],\n",
    "    'NK' :  ['XCL1', 'FCGR3A', 'KLRD1', 'KLRF1', 'NCAM1'],\n",
    "    'Proliferation' : ['MKI67', 'PCNA', 'STMN1']\n",
    "}"
   ]
  },
  {
   "cell_type": "code",
   "execution_count": null,
   "metadata": {},
   "outputs": [],
   "source": [
    "# check if the markers are in the var names\n",
    "for cell_type, markers in T_cell_makers.items():\n",
    "    print (cell_type, \":\", markers)\n",
    "    print (\"number of match in var: \", str(sum(adata.raw.var_names.isin(markers))))"
   ]
  },
  {
   "attachments": {},
   "cell_type": "markdown",
   "metadata": {},
   "source": [
    "### Plot"
   ]
  },
  {
   "cell_type": "code",
   "execution_count": null,
   "metadata": {},
   "outputs": [],
   "source": [
    "sc.tl.dendrogram(adata, groupby='leiden')\n",
    "sc.pl.dotplot(adata, T_cell_makers, 'leiden', dendrogram=True)"
   ]
  },
  {
   "cell_type": "code",
   "execution_count": null,
   "metadata": {},
   "outputs": [],
   "source": [
    "for cell_type, markers in T_cell_makers.items():\n",
    "    print(cell_type, \":\", \"markers\")\n",
    "    sc.pl.umap(adata, color=markers)"
   ]
  },
  {
   "cell_type": "code",
   "execution_count": null,
   "metadata": {},
   "outputs": [],
   "source": [
    "adata.obs.columns"
   ]
  },
  {
   "cell_type": "code",
   "execution_count": null,
   "metadata": {},
   "outputs": [],
   "source": [
    "#adata.obs.drop(columns=\"cell_type\", inplace = True )\n",
    "labelClusterWithCellType(adata, T_cell_makers, cluster_column='leiden')\n",
    "sc.pl.umap(adata, color='cell_type')"
   ]
  },
  {
   "attachments": {},
   "cell_type": "markdown",
   "metadata": {},
   "source": [
    "Plot PD-1 and potential target genes"
   ]
  },
  {
   "cell_type": "code",
   "execution_count": null,
   "metadata": {},
   "outputs": [],
   "source": [
    "sc.pl.umap(adata, color= ['PDCD1', 'CXCL13', 'HAVCR2','CTLA4'])"
   ]
  },
  {
   "attachments": {},
   "cell_type": "markdown",
   "metadata": {},
   "source": [
    "The enriched genes for each cluster"
   ]
  },
  {
   "attachments": {},
   "cell_type": "markdown",
   "metadata": {},
   "source": [
    "### Compare the distribution of Pre and On treatment"
   ]
  },
  {
   "cell_type": "code",
   "execution_count": null,
   "metadata": {},
   "outputs": [],
   "source": [
    "adata.obs.columns"
   ]
  },
  {
   "cell_type": "code",
   "execution_count": null,
   "metadata": {},
   "outputs": [],
   "source": [
    "print(adata.obs['timepoint'].value_counts())"
   ]
  },
  {
   "cell_type": "code",
   "execution_count": null,
   "metadata": {},
   "outputs": [],
   "source": [
    "# plot cells based on treatment\n",
    "sc.pl.umap(adata, color=['cell_type', 'timepoint'])\n",
    "sc.pl.umap(adata, color= ['CXCL13', 'PDCD1', 'TIGIT', 'HAVCR2'])"
   ]
  },
  {
   "cell_type": "code",
   "execution_count": null,
   "metadata": {},
   "outputs": [],
   "source": [
    "adata.write(data_dir + '1863-counts_cells_cohort1_T_cells.h5ad')"
   ]
  },
  {
   "cell_type": "code",
   "execution_count": null,
   "metadata": {},
   "outputs": [],
   "source": [
    "sc.pl.umap(adata, color= ['CD8A', 'PDCD1', 'HAVCR2'])"
   ]
  },
  {
   "attachments": {},
   "cell_type": "markdown",
   "metadata": {},
   "source": [
    "Compare PD-1 and CXCL13 in pre and post"
   ]
  },
  {
   "cell_type": "code",
   "execution_count": null,
   "metadata": {},
   "outputs": [],
   "source": [
    "# extract cells wtih PDCD1 > 0.5\n",
    "adata_PDCD1 = adata[adata.raw[:, 'PDCD1'].X > 0.5, :].copy()"
   ]
  },
  {
   "cell_type": "code",
   "execution_count": null,
   "metadata": {},
   "outputs": [],
   "source": [
    "# collect counts of cells in pre and post treatment groups\n",
    "adata_PDCD1.obs['timepoint'].value_counts()"
   ]
  },
  {
   "cell_type": "code",
   "execution_count": null,
   "metadata": {},
   "outputs": [],
   "source": [
    "# plot violin plot with values > 1\n",
    "sc.pl.violin(adata_PDCD1, ['CXCL13', 'PDCD1', 'TIGIT', 'HAVCR2'], split=True, groupby='timepoint', ylim=(1, 7), jitter=0.0, multi_panel=True)"
   ]
  },
  {
   "cell_type": "code",
   "execution_count": null,
   "metadata": {},
   "outputs": [],
   "source": [
    "adata.obs['timepoint'].unique()\n"
   ]
  },
  {
   "cell_type": "code",
   "execution_count": null,
   "metadata": {},
   "outputs": [],
   "source": [
    "cxcl13_pre = np.array(adata.raw.X[adata.obs['timepoint'] == 'pre', adata.raw.var_names == 'CXCL13'])\n",
    "pdcd1_pre = np.array(adata.raw.X[adata.obs['timepoint'] == 'pre', adata.raw.var_names == 'PDCD1'])\n",
    "plt.scatter( pdcd1_pre, cxcl13_pre, c='blue', label='pre', s = 1)"
   ]
  },
  {
   "cell_type": "code",
   "execution_count": null,
   "metadata": {},
   "outputs": [],
   "source": [
    "# extract expression values of genes of interest and convert to numpy array\n",
    "cxcl13_post = np.array(adata.raw.X[adata.obs['timepoint'] == 'post', adata.raw.var_names == 'CXCL13'])\n",
    "pdcd1_post = np.array(adata.raw.X[adata.obs['timepoint'] == 'post', adata.raw.var_names == 'PDCD1'])\n",
    "\n",
    "\n",
    "# print(cxcl13_pre)\n",
    "# print(pdcd1_pre)\n",
    "plt.scatter(pdcd1_post, cxcl13_post, color='blue', label='Pre', s = 1)\n",
    "# plot scatter between PDCD1 and CXCL13\n",
    "#plt.scatter(pdcd1_pre, cxcl13_pre, color='blue', label='Pre')\n"
   ]
  },
  {
   "attachments": {},
   "cell_type": "markdown",
   "metadata": {},
   "source": [
    "### Plot use the cluster id assigned by authors"
   ]
  },
  {
   "cell_type": "code",
   "execution_count": null,
   "metadata": {},
   "outputs": [],
   "source": [
    "sc.pl.umap(adata, color= [ 'cluster'])"
   ]
  },
  {
   "attachments": {},
   "cell_type": "markdown",
   "metadata": {},
   "source": [
    "### Extract pseudo-bulk and plot"
   ]
  },
  {
   "cell_type": "code",
   "execution_count": null,
   "metadata": {},
   "outputs": [],
   "source": [
    "# extract expression values of genes of interest and convert to numpy array\n",
    "cxcl13_post = adata_pseudo_bulk.X[adata.obs['timepoint'] == 'post', adata_pseudo_bulk.var_names == 'CXCL13']\n",
    "pdcd1_post = np.array(adata_pseudo_bulk.X[adata.obs['timepoint'] == 'post', adata_pseudo_bulk.var_names == 'PDCD1'])\n",
    "plt.scatter( pdcd1_post, cxcl13_post, c='blue', label='pre', s = 1)"
   ]
  },
  {
   "cell_type": "code",
   "execution_count": null,
   "metadata": {},
   "outputs": [],
   "source": [
    "# Group cells by sample\n"
   ]
  }
 ],
 "metadata": {
  "kernelspec": {
   "display_name": "base",
   "language": "python",
   "name": "python3"
  },
  "language_info": {
   "codemirror_mode": {
    "name": "ipython",
    "version": 3
   },
   "file_extension": ".py",
   "mimetype": "text/x-python",
   "name": "python",
   "nbconvert_exporter": "python",
   "pygments_lexer": "ipython3",
   "version": "3.10.9"
  },
  "vscode": {
   "interpreter": {
    "hash": "6099bf950c4e2d0da650f89b132257c4802c810b0835ed278af9d4dcc1b49a4c"
   }
  }
 },
 "nbformat": 4,
 "nbformat_minor": 2
}
